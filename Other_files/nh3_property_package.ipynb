{
 "cells": [
  {
   "cell_type": "code",
   "execution_count": null,
   "id": "649b159e",
   "metadata": {},
   "outputs": [],
   "source": [
    "# Import Python libraries\n",
    "import logging\n",
    "\n",
    "# Import Pyomo units\n",
    "from pyomo.environ import units as pyunits\n",
    "\n",
    "# Import IDAES cores\n",
    "from idaes.core import LiquidPhase, VaporPhase, Component\n",
    "\n",
    "from idaes.models.properties.modular_properties.state_definitions import FTPx\n",
    "from idaes.models.properties.modular_properties.eos.ceos import Cubic, CubicType\n",
    "from idaes.models.properties.modular_properties.phase_equil import (\n",
    "    CubicComplementarityVLE,\n",
    ")\n",
    "from idaes.models.properties.modular_properties.phase_equil.bubble_dew import (\n",
    "    LogBubbleDew,\n",
    ")\n",
    "from idaes.models.properties.modular_properties.phase_equil.forms import log_fugacity\n",
    "from idaes.models.properties.modular_properties.pure import RPP4\n",
    "\n"
   ]
  },
  {
   "cell_type": "code",
   "execution_count": null,
   "id": "41edd969",
   "metadata": {},
   "outputs": [],
   "source": [
    "help(RPP4\n",
    "     )"
   ]
  },
  {
   "cell_type": "code",
   "execution_count": null,
   "id": "a9539f73",
   "metadata": {},
   "outputs": [],
   "source": [
    "print(RPP4)\n",
    "print(type(RPP4))\n"
   ]
  },
  {
   "cell_type": "code",
   "execution_count": null,
   "id": "196c5ec1",
   "metadata": {},
   "outputs": [],
   "source": [
    "import inspect\n",
    "from idaes.models.properties.modular_properties.pure import RPP4\n",
    "\n",
    "print(inspect.getsource(RPP4))\n"
   ]
  },
  {
   "cell_type": "code",
   "execution_count": null,
   "id": "cf804122",
   "metadata": {},
   "outputs": [],
   "source": [
    "\n",
    "# Set up logger\n",
    "_log = logging.getLogger(__name__)"
   ]
  },
  {
   "cell_type": "code",
   "execution_count": null,
   "id": "b2b5c4e2",
   "metadata": {},
   "outputs": [],
   "source": [
    "def get_nh3_property_package():\n",
    "    # Configuration for ammonia property package\n",
    "    configuration = {\n",
    "        \"components\": {\n",
    "            \"nh3\": {\n",
    "                \"type\": Component,  # Define ammonia as a component\n",
    "                \"elemental_composition\": {\"H\": 3, \"N\": 1},\n",
    "                \"enth_mol_ig_comp\": RPP4,  # Ideal gas enthalpy function (RPP4 is a polynomial function)\n",
    "                \"entr_mol_ig_comp\": RPP4,  # Ideal gas entropy function (RPP4 is a polynomial function)\n",
    "                \"pressure_sat_comp\": RPP4,  # Saturation pressure function for ammonia\n",
    "                \"phase_equilibrium_form\": {(\"Vap\", \"Liq\"): log_fugacity},  # Defines the phase equilibrium equation for vapor and liquid phases\n",
    "                \"parameter_data\": {\n",
    "                    \"mw\": (17.0305e-3, pyunits.kg / pyunits.mol), #molecular weight data taken from NIST\n",
    "                    \"pressure_crit\": (113.57e5, pyunits.Pa), #critical pressure data from engineering toolbox\n",
    "                    \"temperature_crit\": (405.56, pyunits.K), #critical temperature data from engineering toolbox\n",
    "                    \"omega\": 0.253, # Acentric factor of ammonia (a measure of non-ideal behavior)\n",
    "                    \"cp_mol_ig_comp_coeff\": { #check these data and if it is based on the shomate equation # Coefficients for ideal gas heat capacity calculation using a polynomial function\n",
    "                        \"A\": (19,99563, pyunits.J / pyunits.mol / pyunits.K),  # Cp° = A + B*t + C*t2 + D*t3 + E/t2\n",
    "                        \"B\": (49.77119, pyunits.J / pyunits.mol / pyunits.K**2),  # Gas Phase Heat Capacity (Shomate Equation)\n",
    "                        \"C\": (-15.37599, pyunits.J / pyunits.mol / pyunits.K**3),  \n",
    "                        \"D\": (1.921168, pyunits.J / pyunits.mol / pyunits.K**4),  \n",
    "                    },\n",
    "                    \"enth_mol_form_vap_comp_ref\": (45.9e3, pyunits.J / pyunits.mol), # Enthalpy of formation of ammonia vapor (J/mol)\n",
    "                    \"entr_mol_form_vap_comp_ref\": (-200, pyunits.J / pyunits.mol / pyunits.K), # Entropy of formation of ammonia vapor (J/mol·K)\n",
    "                    \"pressure_sat_comp_coeff\": { # Antoine coefficients for calculating the saturation pressure of ammonia\n",
    "                        \"A\": (7.36048, None),  \n",
    "                        \"B\": (926.13, None),    # data from Physical and Chemical Equilibrium for Chemical Engineers, Second Edition. Noel de Nevers.\n",
    "                        \"C\": (240.17, None),\n",
    "                    },\n",
    "                },\n",
    "            },\n",
    "        },\n",
    "        \"phases\": {\n",
    "            \"Vap\": {\n",
    "                \"type\": VaporPhase,\n",
    "                \"equation_of_state\": Cubic,\n",
    "                \"equation_of_state_options\": {\"type\": CubicType.PR},\n",
    "            },\n",
    "        },\n",
    "        \"base_units\": {\n",
    "            \"time\": pyunits.s,\n",
    "            \"length\": pyunits.m,\n",
    "            \"mass\": pyunits.kg,\n",
    "            \"amount\": pyunits.mol,\n",
    "            \"temperature\": pyunits.K,\n",
    "        },\n",
    "        \"state_definition\": FTPx, # Defines the state definition (temperature, pressure, and flow are the primary states)\n",
    "        \"state_bounds\": {\n",
    "            \"flow_mol\": (0, 100, 1000, pyunits.mol / pyunits.s),\n",
    "            \"temperature\": (273.15, 300, 500, pyunits.K),\n",
    "            \"pressure\": (5e4, 1e5, 1e6, pyunits.Pa),\n",
    "        },\n",
    "        \"pressure_ref\": (101325, pyunits.Pa),\n",
    "        \"temperature_ref\": (298.15, pyunits.K),\n",
    "        \"phases_in_equilibrium\": [(\"Vap\", \"Liq\")],\n",
    "        \"phase_equilibrium_state\": {(\"Vap\", \"Liq\"): CubicComplementarityVLE},\n",
    "        \"bubble_dew_method\": LogBubbleDew, #LogBubbleDew method is typically used when the substance does not exhibit ideal behavior, which is often the case for non-ideal fluids like ammonia.\n",
    "        \"parameter_data\": { # Coefficients for the Peng Robinson equation of state\n",
    "            \"PR_kappa\": {\n",
    "                (\"nh3\", \"nh3\"): 0.000,\n",
    "            }\n",
    "        },\n",
    "    }\n",
    "    return configuration"
   ]
  }
 ],
 "metadata": {
  "kernelspec": {
   "display_name": "my-idaes-env",
   "language": "python",
   "name": "python3"
  },
  "language_info": {
   "codemirror_mode": {
    "name": "ipython",
    "version": 3
   },
   "file_extension": ".py",
   "mimetype": "text/x-python",
   "name": "python",
   "nbconvert_exporter": "python",
   "pygments_lexer": "ipython3",
   "version": "3.10.16"
  }
 },
 "nbformat": 4,
 "nbformat_minor": 5
}

{
 "cells": [
  {
   "cell_type": "code",
   "execution_count": 9,
   "metadata": {},
   "outputs": [
    {
     "name": "stdout",
     "output_type": "stream",
     "text": [
      "2025-03-17 23:08:05 [WARNING] idaes.core.base.flowsheet_model: fs is a top level flowsheet, but dynamic flag set to useDefault. Dynamic flag set to False by default\n"
     ]
    }
   ],
   "source": [
    "# Importiamo le librerie necessarie\n",
    "from idaes.core import FlowsheetBlock\n",
    "from pyomo.environ import ConcreteModel, SolverFactory, Var, Constraint, Param, NonNegativeReals\n",
    "from pyomo.environ import Objective, minimize  # Importiamo anche minimize per l'obiettivo\n",
    "\n",
    "# Creiamo il modello IDAES\n",
    "model = ConcreteModel()\n",
    "\n",
    "# Creiamo un flusso di processo (flowsheet) nel modello senza il parametro default\n",
    "model.fs = FlowsheetBlock()\n",
    "\n",
    "# Definiamo i parametri del sistema (esempio di capacità termica e flusso di massa)\n",
    "model.fs.heat_capacity = Param(initialize=4.18)  # capacità termica in kJ/(kg*K)\n",
    "model.fs.mass_flow_rate = Param(initialize=1.0)   # portata di massa in kg/s\n",
    "\n",
    "# Definiamo variabili per la temperatura di ingresso e uscita\n",
    "model.fs.inlet_temperature = Var(within=NonNegativeReals, initialize=300)  # temperatura ingresso (K)\n",
    "model.fs.outlet_temperature = Var(within=NonNegativeReals, initialize=350)  # temperatura uscita (K)\n",
    "\n",
    "# Equazione di bilancio energetico per lo scambiatore di calore\n",
    "def energy_balance_eqn(model):\n",
    "    return (model.fs.heat_capacity * model.fs.mass_flow_rate *\n",
    "            (model.fs.outlet_temperature - model.fs.inlet_temperature)) == 0\n"
   ]
  },
  {
   "cell_type": "code",
   "execution_count": 11,
   "metadata": {},
   "outputs": [
    {
     "name": "stdout",
     "output_type": "stream",
     "text": [
      "Ipopt 3.13.2: \n",
      "\n",
      "******************************************************************************\n",
      "This program contains Ipopt, a library for large-scale nonlinear optimization.\n",
      " Ipopt is released as open source code under the Eclipse Public License (EPL).\n",
      "         For more information visit http://projects.coin-or.org/Ipopt\n",
      "\n",
      "This version of Ipopt was compiled from source code available at\n",
      "    https://github.com/IDAES/Ipopt as part of the Institute for the Design of\n",
      "    Advanced Energy Systems Process Systems Engineering Framework (IDAES PSE\n",
      "    Framework) Copyright (c) 2018-2019. See https://github.com/IDAES/idaes-pse.\n",
      "\n",
      "This version of Ipopt was compiled using HSL, a collection of Fortran codes\n",
      "    for large-scale scientific computation.  All technical papers, sales and\n",
      "    publicity material resulting from use of the HSL codes within IPOPT must\n",
      "    contain the following acknowledgement:\n",
      "        HSL, a collection of Fortran codes for large-scale scientific\n",
      "        computation. See http://www.hsl.rl.ac.uk.\n",
      "******************************************************************************\n",
      "\n",
      "This is Ipopt version 3.13.2, running with linear solver ma27.\n",
      "\n",
      "Number of nonzeros in equality constraint Jacobian...:        2\n",
      "Number of nonzeros in inequality constraint Jacobian.:        0\n",
      "Number of nonzeros in Lagrangian Hessian.............:        0\n",
      "\n",
      "Total number of variables............................:        2\n",
      "                     variables with only lower bounds:        2\n",
      "                variables with lower and upper bounds:        0\n",
      "                     variables with only upper bounds:        0\n",
      "Total number of equality constraints.................:        1\n",
      "Total number of inequality constraints...............:        0\n",
      "        inequality constraints with only lower bounds:        0\n",
      "   inequality constraints with lower and upper bounds:        0\n",
      "        inequality constraints with only upper bounds:        0\n",
      "\n",
      "iter    objective    inf_pr   inf_du lg(mu)  ||d||  lg(rg) alpha_du alpha_pr  ls\n",
      "   0  2.0900000e+02 2.09e+02 1.00e+00  -1.0 0.00e+00    -  0.00e+00 0.00e+00   0\n",
      "   1  0.0000000e+00 0.00e+00 8.69e-02  -1.0 2.68e+01    -  9.19e-01 1.00e+00f  1\n",
      "   2  0.0000000e+00 0.00e+00 1.78e-03  -1.0 1.23e+00    -  9.88e-01 1.00e+00f  1\n",
      "   3  0.0000000e+00 0.00e+00 5.16e-05  -1.7 2.10e+01    -  9.67e-01 1.00e+00f  1\n",
      "   4  0.0000000e+00 0.00e+00 2.34e-07  -3.8 4.73e+00    -  9.95e-01 1.00e+00f  1\n",
      "   5  0.0000000e+00 0.00e+00 5.00e-09  -5.7 1.20e+01    -  9.84e-01 1.00e+00f  1\n",
      "   6  0.0000000e+00 0.00e+00 6.89e-12  -8.6 9.87e-01    -  9.99e-01 1.00e+00f  1\n",
      "\n",
      "Number of Iterations....: 6\n",
      "\n",
      "                                   (scaled)                 (unscaled)\n",
      "Objective...............:   0.0000000000000000e+00    0.0000000000000000e+00\n",
      "Dual infeasibility......:   6.8940535674800685e-12    6.8940535674800685e-12\n",
      "Constraint violation....:   0.0000000000000000e+00    0.0000000000000000e+00\n",
      "Complementarity.........:   2.5090534410180362e-09    2.5090534410180362e-09\n",
      "Overall NLP error.......:   2.5090534410180362e-09    2.5090534410180362e-09\n",
      "\n",
      "\n",
      "Number of objective function evaluations             = 7\n",
      "Number of objective gradient evaluations             = 7\n",
      "Number of equality constraint evaluations            = 7\n",
      "Number of inequality constraint evaluations          = 0\n",
      "Number of equality constraint Jacobian evaluations   = 7\n",
      "Number of inequality constraint Jacobian evaluations = 0\n",
      "Number of Lagrangian Hessian evaluations             = 6\n",
      "Total CPU secs in IPOPT (w/o function evaluations)   =      0.000\n",
      "Total CPU secs in NLP function evaluations           =      0.001\n",
      "\n",
      "EXIT: Optimal Solution Found.\n",
      "Temperatura di ingresso: 363.08709382382034\n",
      "Temperatura di uscita: 363.08709382382034\n"
     ]
    }
   ],
   "source": [
    "\n",
    "model.energy_balance = Constraint(rule=energy_balance_eqn)\n",
    "\n",
    "# Definiamo un obiettivo per minimizzare il consumo energetico\n",
    "model.obj = Objective(expr=model.fs.heat_capacity * model.fs.mass_flow_rate *\n",
    "                      (model.fs.outlet_temperature - model.fs.inlet_temperature), sense=minimize)\n",
    "\n",
    "# Risolviamo il modello\n",
    "solver = SolverFactory('ipopt')  # Puoi usare 'glpk' o 'ipopt' come solver\n",
    "solver.solve(model, tee=True)\n",
    "\n",
    "# Visualizziamo i risultati\n",
    "print(\"Temperatura di ingresso:\", model.fs.inlet_temperature())\n",
    "print(\"Temperatura di uscita:\", model.fs.outlet_temperature())\n"
   ]
  },
  {
   "cell_type": "code",
   "execution_count": null,
   "metadata": {},
   "outputs": [],
   "source": []
  }
 ],
 "metadata": {
  "kernelspec": {
   "display_name": "my-idaes-env",
   "language": "python",
   "name": "python3"
  },
  "language_info": {
   "codemirror_mode": {
    "name": "ipython",
    "version": 3
   },
   "file_extension": ".py",
   "mimetype": "text/x-python",
   "name": "python",
   "nbconvert_exporter": "python",
   "pygments_lexer": "ipython3",
   "version": "3.10.16"
  }
 },
 "nbformat": 4,
 "nbformat_minor": 2
}

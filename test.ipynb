{
 "cells": [
  {
   "cell_type": "code",
   "execution_count": null,
   "metadata": {},
   "outputs": [],
   "source": [
    "# Importiamo le librerie necessarie\n",
    "from idaes.core import FlowsheetBlock\n",
    "from pyomo.environ import ConcreteModel, SolverFactory, Var, Constraint, Param, NonNegativeReals\n",
    "from pyomo.environ import Objective, minimize  # Importiamo anche minimize per l'obiettivo\n"
   ]
  },
  {
   "cell_type": "code",
   "execution_count": null,
   "metadata": {},
   "outputs": [],
   "source": [
    "\n",
    "# Creiamo il modello IDAES\n",
    "model = ConcreteModel()\n",
    "\n",
    "# Creiamo un flusso di processo (flowsheet) nel modello senza il parametro default\n",
    "model.fs = FlowsheetBlock()\n",
    "\n",
    "# Definiamo i parametri del sistema (esempio di capacità termica e flusso di massa)\n",
    "model.fs.heat_capacity = Param(initialize=4.18)  # capacità termica in kJ/(kg*K)\n",
    "model.fs.mass_flow_rate = Param(initialize=1.0)   # portata di massa in kg/s\n",
    "\n",
    "# Definiamo variabili per la temperatura di ingresso e uscita\n",
    "model.fs.inlet_temperature = Var(within=NonNegativeReals, initialize=300)  # temperatura ingresso (K)\n",
    "model.fs.outlet_temperature = Var(within=NonNegativeReals, initialize=350)  # temperatura uscita (K)\n",
    "\n",
    "# Equazione di bilancio energetico per lo scambiatore di calore\n",
    "def energy_balance_eqn(model):\n",
    "    return (model.fs.heat_capacity * model.fs.mass_flow_rate *\n",
    "            (model.fs.outlet_temperature - model.fs.inlet_temperature)) == 0\n"
   ]
  },
  {
   "cell_type": "code",
   "execution_count": null,
   "metadata": {},
   "outputs": [],
   "source": [
    "\n",
    "model.energy_balance = Constraint(rule=energy_balance_eqn)\n",
    "\n",
    "# Definiamo un obiettivo per minimizzare il consumo energetico\n",
    "model.obj = Objective(expr=model.fs.heat_capacity * model.fs.mass_flow_rate *\n",
    "                      (model.fs.outlet_temperature - model.fs.inlet_temperature), sense=minimize)\n",
    "\n",
    "# Risolviamo il modello\n",
    "solver = SolverFactory('ipopt')  # Puoi usare 'glpk' o 'ipopt' come solver\n",
    "solver.solve(model, tee=True)\n",
    "\n",
    "# Visualizziamo i risultati\n",
    "print(\"Temperatura di ingresso:\", model.fs.inlet_temperature())\n",
    "print(\"Temperatura di uscita:\", model.fs.outlet_temperature())\n"
   ]
  },
  {
   "cell_type": "code",
   "execution_count": null,
   "metadata": {},
   "outputs": [],
   "source": []
  }
 ],
 "metadata": {
  "kernelspec": {
   "display_name": "my-idaes-env",
   "language": "python",
   "name": "python3"
  },
  "language_info": {
   "codemirror_mode": {
    "name": "ipython",
    "version": 3
   },
   "file_extension": ".py",
   "mimetype": "text/x-python",
   "name": "python",
   "nbconvert_exporter": "python",
   "pygments_lexer": "ipython3",
   "version": "3.10.16"
  }
 },
 "nbformat": 4,
 "nbformat_minor": 2
}

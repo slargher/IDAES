{
 "cells": [
  {
   "cell_type": "code",
   "execution_count": 1,
   "metadata": {},
   "outputs": [
    {
     "name": "stdout",
     "output_type": "stream",
     "text": [
      "Requirement already satisfied: idaes-pse in c:\\users\\sara\\miniforge3\\envs\\my-idaes-env\\lib\\site-packages (2.8.0)\n",
      "Requirement already satisfied: pyomo>=6.9.1 in c:\\users\\sara\\miniforge3\\envs\\my-idaes-env\\lib\\site-packages (from idaes-pse) (6.9.1)\n",
      "Requirement already satisfied: pint>=0.24.1 in c:\\users\\sara\\miniforge3\\envs\\my-idaes-env\\lib\\site-packages (from idaes-pse) (0.24.4)\n",
      "Requirement already satisfied: networkx in c:\\users\\sara\\miniforge3\\envs\\my-idaes-env\\lib\\site-packages (from idaes-pse) (3.4.2)\n",
      "Requirement already satisfied: numpy<3,>=1 in c:\\users\\sara\\miniforge3\\envs\\my-idaes-env\\lib\\site-packages (from idaes-pse) (2.2.3)\n",
      "Requirement already satisfied: pandas!=2.1.0,<3 in c:\\users\\sara\\miniforge3\\envs\\my-idaes-env\\lib\\site-packages (from idaes-pse) (2.2.3)\n",
      "Requirement already satisfied: scipy in c:\\users\\sara\\miniforge3\\envs\\my-idaes-env\\lib\\site-packages (from idaes-pse) (1.15.2)\n",
      "Requirement already satisfied: sympy in c:\\users\\sara\\miniforge3\\envs\\my-idaes-env\\lib\\site-packages (from idaes-pse) (1.13.3)\n",
      "Requirement already satisfied: matplotlib in c:\\users\\sara\\miniforge3\\envs\\my-idaes-env\\lib\\site-packages (from idaes-pse) (3.10.1)\n",
      "Requirement already satisfied: click>=8 in c:\\users\\sara\\miniforge3\\envs\\my-idaes-env\\lib\\site-packages (from idaes-pse) (8.1.8)\n",
      "Requirement already satisfied: colorama in c:\\users\\sara\\miniforge3\\envs\\my-idaes-env\\lib\\site-packages (from click>=8->idaes-pse) (0.4.6)\n",
      "Requirement already satisfied: python-dateutil>=2.8.2 in c:\\users\\sara\\miniforge3\\envs\\my-idaes-env\\lib\\site-packages (from pandas!=2.1.0,<3->idaes-pse) (2.9.0.post0)\n",
      "Requirement already satisfied: pytz>=2020.1 in c:\\users\\sara\\miniforge3\\envs\\my-idaes-env\\lib\\site-packages (from pandas!=2.1.0,<3->idaes-pse) (2024.1)\n",
      "Requirement already satisfied: tzdata>=2022.7 in c:\\users\\sara\\miniforge3\\envs\\my-idaes-env\\lib\\site-packages (from pandas!=2.1.0,<3->idaes-pse) (2025.1)\n",
      "Requirement already satisfied: platformdirs>=2.1.0 in c:\\users\\sara\\miniforge3\\envs\\my-idaes-env\\lib\\site-packages (from pint>=0.24.1->idaes-pse) (4.3.6)\n",
      "Requirement already satisfied: typing_extensions>=4.0.0 in c:\\users\\sara\\miniforge3\\envs\\my-idaes-env\\lib\\site-packages (from pint>=0.24.1->idaes-pse) (4.12.2)\n",
      "Requirement already satisfied: flexcache>=0.3 in c:\\users\\sara\\miniforge3\\envs\\my-idaes-env\\lib\\site-packages (from pint>=0.24.1->idaes-pse) (0.3)\n",
      "Requirement already satisfied: flexparser>=0.4 in c:\\users\\sara\\miniforge3\\envs\\my-idaes-env\\lib\\site-packages (from pint>=0.24.1->idaes-pse) (0.4)\n",
      "Requirement already satisfied: ply in c:\\users\\sara\\miniforge3\\envs\\my-idaes-env\\lib\\site-packages (from pyomo>=6.9.1->idaes-pse) (3.11)\n",
      "Requirement already satisfied: contourpy>=1.0.1 in c:\\users\\sara\\miniforge3\\envs\\my-idaes-env\\lib\\site-packages (from matplotlib->idaes-pse) (1.3.1)\n",
      "Requirement already satisfied: cycler>=0.10 in c:\\users\\sara\\miniforge3\\envs\\my-idaes-env\\lib\\site-packages (from matplotlib->idaes-pse) (0.12.1)\n",
      "Requirement already satisfied: fonttools>=4.22.0 in c:\\users\\sara\\miniforge3\\envs\\my-idaes-env\\lib\\site-packages (from matplotlib->idaes-pse) (4.56.0)\n",
      "Requirement already satisfied: kiwisolver>=1.3.1 in c:\\users\\sara\\miniforge3\\envs\\my-idaes-env\\lib\\site-packages (from matplotlib->idaes-pse) (1.4.7)\n",
      "Requirement already satisfied: packaging>=20.0 in c:\\users\\sara\\miniforge3\\envs\\my-idaes-env\\lib\\site-packages (from matplotlib->idaes-pse) (24.2)\n",
      "Requirement already satisfied: pillow>=8 in c:\\users\\sara\\miniforge3\\envs\\my-idaes-env\\lib\\site-packages (from matplotlib->idaes-pse) (11.1.0)\n",
      "Requirement already satisfied: pyparsing>=2.3.1 in c:\\users\\sara\\miniforge3\\envs\\my-idaes-env\\lib\\site-packages (from matplotlib->idaes-pse) (3.2.1)\n",
      "Requirement already satisfied: mpmath<1.4,>=1.1.0 in c:\\users\\sara\\miniforge3\\envs\\my-idaes-env\\lib\\site-packages (from sympy->idaes-pse) (1.3.0)\n",
      "Requirement already satisfied: six>=1.5 in c:\\users\\sara\\miniforge3\\envs\\my-idaes-env\\lib\\site-packages (from python-dateutil>=2.8.2->pandas!=2.1.0,<3->idaes-pse) (1.17.0)\n",
      "Getting files...\n"
     ]
    },
    {
     "name": "stderr",
     "output_type": "stream",
     "text": [
      "Traceback (most recent call last):\n",
      "  File \"C:\\Users\\Sara\\miniforge3\\envs\\my-idaes-env\\Scripts\\idaes-script.py\", line 9, in <module>\n",
      "    sys.exit(command_base())\n",
      "  File \"C:\\Users\\Sara\\miniforge3\\envs\\my-idaes-env\\lib\\site-packages\\click\\core.py\", line 1161, in __call__\n",
      "    return self.main(*args, **kwargs)\n",
      "  File \"C:\\Users\\Sara\\miniforge3\\envs\\my-idaes-env\\lib\\site-packages\\click\\core.py\", line 1082, in main\n",
      "    rv = self.invoke(ctx)\n",
      "  File \"C:\\Users\\Sara\\miniforge3\\envs\\my-idaes-env\\lib\\site-packages\\click\\core.py\", line 1697, in invoke\n",
      "    return _process_result(sub_ctx.command.invoke(sub_ctx))\n",
      "  File \"C:\\Users\\Sara\\miniforge3\\envs\\my-idaes-env\\lib\\site-packages\\click\\core.py\", line 1443, in invoke\n",
      "    return ctx.invoke(self.callback, **ctx.params)\n",
      "  File \"C:\\Users\\Sara\\miniforge3\\envs\\my-idaes-env\\lib\\site-packages\\click\\core.py\", line 788, in invoke\n",
      "    return __callback(*args, **kwargs)\n",
      "  File \"C:\\Users\\Sara\\miniforge3\\envs\\my-idaes-env\\lib\\site-packages\\idaes\\commands\\extensions.py\", line 191, in get_extensions\n",
      "    d = idaes.commands.util.download_bin.download_binaries(\n",
      "  File \"C:\\Users\\Sara\\miniforge3\\envs\\my-idaes-env\\lib\\site-packages\\idaes\\commands\\util\\download_bin.py\", line 410, in download_binaries\n",
      "    f.extractall(to_path)\n",
      "  File \"C:\\Users\\Sara\\miniforge3\\envs\\my-idaes-env\\lib\\tarfile.py\", line 2293, in extractall\n",
      "    self._extract_one(tarinfo, path, set_attrs=not tarinfo.isdir(),\n",
      "  File \"C:\\Users\\Sara\\miniforge3\\envs\\my-idaes-env\\lib\\tarfile.py\", line 2360, in _extract_one\n",
      "    self._handle_fatal_error(e)\n",
      "  File \"C:\\Users\\Sara\\miniforge3\\envs\\my-idaes-env\\lib\\tarfile.py\", line 2356, in _extract_one\n",
      "    self._extract_member(tarinfo, os.path.join(path, tarinfo.name),\n",
      "  File \"C:\\Users\\Sara\\miniforge3\\envs\\my-idaes-env\\lib\\tarfile.py\", line 2439, in _extract_member\n",
      "    self.makefile(tarinfo, targetpath)\n",
      "  File \"C:\\Users\\Sara\\miniforge3\\envs\\my-idaes-env\\lib\\tarfile.py\", line 2484, in makefile\n",
      "    with bltn_open(targetpath, \"wb\") as target:\n",
      "PermissionError: [Errno 13] Permission denied: 'C:\\\\Users\\\\Sara\\\\AppData\\\\Local\\\\idaes\\\\bin\\\\libwinpthread-1.dll'\n"
     ]
    }
   ],
   "source": [
    "!pip install idaes-pse\n",
    "!idaes get-extensions\n"
   ]
  },
  {
   "cell_type": "code",
   "execution_count": 2,
   "metadata": {},
   "outputs": [],
   "source": [
    "import pyomo.environ as pyo\n",
    "from idaes.core import FlowsheetBlock\n",
    "from idaes.core.util.model_statistics import degrees_of_freedom\n",
    "from idaes.core.solvers import get_solver\n",
    "from pyomo.environ import Var, units as pyunits, ConcreteModel, Constraint\n",
    "from idaes.core import declare_process_block_class, UnitModelBlockData\n"
   ]
  },
  {
   "cell_type": "code",
   "execution_count": 9,
   "metadata": {},
   "outputs": [
    {
     "name": "stdout",
     "output_type": "stream",
     "text": [
      "Degrees of Freedom: 1\n",
      "Ipopt 3.13.2: nlp_scaling_method=gradient-based\n",
      "tol=1e-06\n",
      "max_iter=200\n",
      "\n",
      "\n",
      "******************************************************************************\n",
      "This program contains Ipopt, a library for large-scale nonlinear optimization.\n",
      " Ipopt is released as open source code under the Eclipse Public License (EPL).\n",
      "         For more information visit http://projects.coin-or.org/Ipopt\n",
      "\n",
      "This version of Ipopt was compiled from source code available at\n",
      "    https://github.com/IDAES/Ipopt as part of the Institute for the Design of\n",
      "    Advanced Energy Systems Process Systems Engineering Framework (IDAES PSE\n",
      "    Framework) Copyright (c) 2018-2019. See https://github.com/IDAES/idaes-pse.\n",
      "\n",
      "This version of Ipopt was compiled using HSL, a collection of Fortran codes\n",
      "    for large-scale scientific computation.  All technical papers, sales and\n",
      "    publicity material resulting from use of the HSL codes within IPOPT must\n",
      "    contain the following acknowledgement:\n",
      "        HSL, a collection of Fortran codes for large-scale scientific\n",
      "        computation. See http://www.hsl.rl.ac.uk.\n",
      "******************************************************************************\n",
      "\n",
      "This is Ipopt version 3.13.2, running with linear solver ma27.\n",
      "\n",
      "Number of nonzeros in equality constraint Jacobian...:        4\n",
      "Number of nonzeros in inequality constraint Jacobian.:        0\n",
      "Number of nonzeros in Lagrangian Hessian.............:        0\n",
      "\n",
      "Total number of variables............................:        3\n",
      "                     variables with only lower bounds:        0\n",
      "                variables with lower and upper bounds:        1\n",
      "                     variables with only upper bounds:        0\n",
      "Total number of equality constraints.................:        2\n",
      "Total number of inequality constraints...............:        0\n",
      "        inequality constraints with only lower bounds:        0\n",
      "   inequality constraints with lower and upper bounds:        0\n",
      "        inequality constraints with only upper bounds:        0\n",
      "\n",
      "iter    objective    inf_pr   inf_du lg(mu)  ||d||  lg(rg) alpha_du alpha_pr  ls\n",
      "   0  0.0000000e+00 1.50e-01 0.00e+00  -1.0 0.00e+00    -  0.00e+00 0.00e+00   0\n",
      "   1  0.0000000e+00 0.00e+00 0.00e+00  -1.7 1.74e-01    -  1.00e+00 1.00e+00h  1\n",
      "   2  0.0000000e+00 2.22e-16 0.00e+00  -2.5 8.15e-02    -  1.00e+00 1.00e+00f  1\n",
      "   3  0.0000000e+00 0.00e+00 0.00e+00  -3.8 2.63e-02    -  1.00e+00 1.00e+00f  1\n",
      "   4  0.0000000e+00 0.00e+00 0.00e+00  -5.7 5.74e-03    -  1.00e+00 1.00e+00f  1\n",
      "   5  0.0000000e+00 0.00e+00 0.00e+00  -7.0 2.28e-02    -  1.00e+00 1.00e+00f  1\n",
      "\n",
      "Number of Iterations....: 5\n",
      "\n",
      "                                   (scaled)                 (unscaled)\n",
      "Objective...............:   0.0000000000000000e+00    0.0000000000000000e+00\n",
      "Dual infeasibility......:   0.0000000000000000e+00    0.0000000000000000e+00\n",
      "Constraint violation....:   0.0000000000000000e+00    0.0000000000000000e+00\n",
      "Complementarity.........:   1.4420696790654474e-07    1.4420696790654474e-07\n",
      "Overall NLP error.......:   1.4420696790654474e-07    1.4420696790654474e-07\n",
      "\n",
      "\n",
      "Number of objective function evaluations             = 6\n",
      "Number of objective gradient evaluations             = 6\n",
      "Number of equality constraint evaluations            = 6\n",
      "Number of inequality constraint evaluations          = 0\n",
      "Number of equality constraint Jacobian evaluations   = 6\n",
      "Number of inequality constraint Jacobian evaluations = 0\n",
      "Number of Lagrangian Hessian evaluations             = 5\n",
      "Total CPU secs in IPOPT (w/o function evaluations)   =      0.003\n",
      "Total CPU secs in NLP function evaluations           =      0.000\n",
      "\n",
      "EXIT: Optimal Solution Found.\n",
      "Hydrogen Produced: 1.19 mol/s\n",
      "Nitrogen Produced: 0.40 mol/s\n"
     ]
    }
   ],
   "source": [
    "from pyomo.environ import ConcreteModel\n",
    "from idaes.core import FlowsheetBlock\n",
    "from idaes.core.util.model_statistics import degrees_of_freedom\n",
    "from idaes.core.solvers import get_solver\n",
    "\n",
    "# Create a new model instance\n",
    "m = ConcreteModel()\n",
    "m.fs = FlowsheetBlock(dynamic=False)\n",
    "\n",
    "# Add the ammonia cracker unit to the flowsheet\n",
    "m.fs.cracker = AmmoniaCracker()\n",
    "\n",
    "# Fix the input values for the unit\n",
    "m.fs.cracker.flow_ammonia.fix(1.0)  # 1 mol/s feed of ammonia\n",
    "m.fs.cracker.temperature.fix(800)   # Reactor temperature (800 K)\n",
    "m.fs.cracker.pressure.fix(101325)   # Reactor pressure (1 atm)\n",
    "\n",
    "# Check if the model is well-posed (Degrees of Freedom = 0)\n",
    "print(\"Degrees of Freedom:\", degrees_of_freedom(m))\n",
    "\n",
    "# Solve the model\n",
    "solver = get_solver()\n",
    "solver.solve(m, tee=True)\n",
    "\n",
    "# Display results\n",
    "print(f\"Hydrogen Produced: {m.fs.cracker.flow_hydrogen.value:.2f} mol/s\")\n",
    "print(f\"Nitrogen Produced: {m.fs.cracker.flow_nitrogen.value:.2f} mol/s\")\n"
   ]
  },
  {
   "cell_type": "code",
   "execution_count": 4,
   "metadata": {},
   "outputs": [
    {
     "data": {
      "text/plain": [
       "['VisualizeResult',\n",
       " '__builtins__',\n",
       " '__cached__',\n",
       " '__doc__',\n",
       " '__file__',\n",
       " '__loader__',\n",
       " '__name__',\n",
       " '__package__',\n",
       " '__path__',\n",
       " '__spec__',\n",
       " 'errors',\n",
       " 'flowsheet',\n",
       " 'fsvis',\n",
       " 'icons',\n",
       " 'model_server',\n",
       " 'models',\n",
       " 'persist',\n",
       " 'validate_flowsheet',\n",
       " 'visualize']"
      ]
     },
     "execution_count": 4,
     "metadata": {},
     "output_type": "execute_result"
    }
   ],
   "source": [
    "import idaes_ui.fv\n",
    "dir(idaes_ui.fv)"
   ]
  },
  {
   "cell_type": "code",
   "execution_count": 5,
   "metadata": {},
   "outputs": [],
   "source": [
    "from idaes_ui.fv import visualize "
   ]
  },
  {
   "cell_type": "code",
   "execution_count": 13,
   "metadata": {},
   "outputs": [
    {
     "name": "stdout",
     "output_type": "stream",
     "text": [
      "2025-03-26 10:46:09 [INFO] idaes.idaes_ui.fv.fsvis: Using HTTP server on localhost, port 65433\n",
      "2025-03-26 10:46:09 [INFO] idaes.idaes_ui.fv.fsvis: Loading saved flowsheet from 'flowsheet.json'\n",
      "2025-03-26 10:46:09 [INFO] idaes.idaes_ui.fv.fsvis: Saving flowsheet to default file 'flowsheet.json' in current directory (c:\\Users\\Sara\\Desktop\\IDAES)\n",
      "2025-03-26 10:46:09 [WARNING] idaes.idaes_ui.fv.flowsheet: Flowsheet has no Arcs or unit Blocks\n",
      "2025-03-26 10:46:09 [INFO] idaes.idaes_ui.fv.fsvis: Flowsheet visualization at: http://localhost:65433/app?id=flowsheet\n"
     ]
    },
    {
     "data": {
      "text/plain": [
       "VisualizeResult(store=<idaes_ui.fv.persist.FileDataStore object at 0x000001838FAE6D70>, port=65433, server=<idaes_ui.fv.model_server.FlowsheetServer object at 0x0000018390287C40>)"
      ]
     },
     "execution_count": 13,
     "metadata": {},
     "output_type": "execute_result"
    }
   ],
   "source": [
    "# Visualize the ammonia cracker unit\n",
    "visualize(m.fs.cracker)\n"
   ]
  },
  {
   "cell_type": "code",
   "execution_count": 14,
   "metadata": {},
   "outputs": [
    {
     "name": "stdout",
     "output_type": "stream",
     "text": [
      "Ipopt 3.13.2: nlp_scaling_method=gradient-based\n",
      "tol=1e-06\n",
      "max_iter=200\n",
      "\n",
      "\n",
      "******************************************************************************\n",
      "This program contains Ipopt, a library for large-scale nonlinear optimization.\n",
      " Ipopt is released as open source code under the Eclipse Public License (EPL).\n",
      "         For more information visit http://projects.coin-or.org/Ipopt\n",
      "\n",
      "This version of Ipopt was compiled from source code available at\n",
      "    https://github.com/IDAES/Ipopt as part of the Institute for the Design of\n",
      "    Advanced Energy Systems Process Systems Engineering Framework (IDAES PSE\n",
      "    Framework) Copyright (c) 2018-2019. See https://github.com/IDAES/idaes-pse.\n",
      "\n",
      "This version of Ipopt was compiled using HSL, a collection of Fortran codes\n",
      "    for large-scale scientific computation.  All technical papers, sales and\n",
      "    publicity material resulting from use of the HSL codes within IPOPT must\n",
      "    contain the following acknowledgement:\n",
      "        HSL, a collection of Fortran codes for large-scale scientific\n",
      "        computation. See http://www.hsl.rl.ac.uk.\n",
      "******************************************************************************\n",
      "\n",
      "This is Ipopt version 3.13.2, running with linear solver ma27.\n",
      "\n",
      "Number of nonzeros in equality constraint Jacobian...:        4\n",
      "Number of nonzeros in inequality constraint Jacobian.:        0\n",
      "Number of nonzeros in Lagrangian Hessian.............:        0\n",
      "\n",
      "Total number of variables............................:        3\n",
      "                     variables with only lower bounds:        0\n",
      "                variables with lower and upper bounds:        1\n",
      "                     variables with only upper bounds:        0\n",
      "Total number of equality constraints.................:        2\n",
      "Total number of inequality constraints...............:        0\n",
      "        inequality constraints with only lower bounds:        0\n",
      "   inequality constraints with lower and upper bounds:        0\n",
      "        inequality constraints with only upper bounds:        0\n",
      "\n",
      "iter    objective    inf_pr   inf_du lg(mu)  ||d||  lg(rg) alpha_du alpha_pr  ls\n",
      "   0  0.0000000e+00 1.50e-01 0.00e+00  -1.0 0.00e+00    -  0.00e+00 0.00e+00   0\n",
      "   1  0.0000000e+00 0.00e+00 0.00e+00  -1.7 1.74e-01    -  1.00e+00 1.00e+00h  1\n",
      "   2  0.0000000e+00 2.22e-16 0.00e+00  -2.5 8.15e-02    -  1.00e+00 1.00e+00f  1\n",
      "   3  0.0000000e+00 0.00e+00 0.00e+00  -3.8 2.63e-02    -  1.00e+00 1.00e+00f  1\n",
      "   4  0.0000000e+00 0.00e+00 0.00e+00  -5.7 5.74e-03    -  1.00e+00 1.00e+00f  1\n",
      "   5  0.0000000e+00 0.00e+00 0.00e+00  -7.0 2.28e-02    -  1.00e+00 1.00e+00f  1\n",
      "\n",
      "Number of Iterations....: 5\n",
      "\n",
      "                                   (scaled)                 (unscaled)\n",
      "Objective...............:   0.0000000000000000e+00    0.0000000000000000e+00\n",
      "Dual infeasibility......:   0.0000000000000000e+00    0.0000000000000000e+00\n",
      "Constraint violation....:   0.0000000000000000e+00    0.0000000000000000e+00\n",
      "Complementarity.........:   1.4420696790654474e-07    1.4420696790654474e-07\n",
      "Overall NLP error.......:   1.4420696790654474e-07    1.4420696790654474e-07\n",
      "\n",
      "\n",
      "Number of objective function evaluations             = 6\n",
      "Number of objective gradient evaluations             = 6\n",
      "Number of equality constraint evaluations            = 6\n",
      "Number of inequality constraint evaluations          = 0\n",
      "Number of equality constraint Jacobian evaluations   = 6\n",
      "Number of inequality constraint Jacobian evaluations = 0\n",
      "Number of Lagrangian Hessian evaluations             = 5\n",
      "Total CPU secs in IPOPT (w/o function evaluations)   =      0.003\n",
      "Total CPU secs in NLP function evaluations           =      0.000\n",
      "\n",
      "EXIT: Optimal Solution Found.\n",
      "Model solved successfully!\n",
      "2025-03-26 10:57:27 [INFO] idaes.idaes_ui.fv.fsvis: Using HTTP server on localhost, port 65433\n",
      "2025-03-26 10:57:27 [INFO] idaes.idaes_ui.fv.fsvis: Loading saved flowsheet from 'flowsheet.json'\n",
      "2025-03-26 10:57:27 [INFO] idaes.idaes_ui.fv.fsvis: Saving flowsheet to default file 'flowsheet.json' in current directory (c:\\Users\\Sara\\Desktop\\IDAES)\n",
      "2025-03-26 10:57:27 [WARNING] idaes.idaes_ui.fv.flowsheet: Flowsheet has no Arcs or unit Blocks\n",
      "2025-03-26 10:57:27 [INFO] idaes.idaes_ui.fv.fsvis: Flowsheet visualization at: http://localhost:65433/app?id=flowsheet\n"
     ]
    },
    {
     "data": {
      "text/plain": [
       "VisualizeResult(store=<idaes_ui.fv.persist.FileDataStore object at 0x000001838F782A10>, port=65433, server=<idaes_ui.fv.model_server.FlowsheetServer object at 0x0000018390287C40>)"
      ]
     },
     "execution_count": 14,
     "metadata": {},
     "output_type": "execute_result"
    }
   ],
   "source": [
    "# Check if the model has been solved successfully\n",
    "results = solver.solve(m, tee=True)\n",
    "if results.solver.termination_condition == pyo.TerminationCondition.optimal:\n",
    "    print(\"Model solved successfully!\")\n",
    "else:\n",
    "    print(\"Model did not solve successfully.\")\n",
    "\n",
    "# Visualize the ammonia cracker unit\n",
    "visualize(m.fs.cracker)"
   ]
  },
  {
   "cell_type": "code",
   "execution_count": 15,
   "metadata": {},
   "outputs": [
    {
     "name": "stdout",
     "output_type": "stream",
     "text": [
      "Degrees of freedom: 1\n"
     ]
    }
   ],
   "source": [
    "from idaes.core.util.model_statistics import degrees_of_freedom\n",
    "\n",
    "# Check the degrees of freedom\n",
    "print(f\"Degrees of freedom: {degrees_of_freedom(m)}\")\n"
   ]
  },
  {
   "cell_type": "code",
   "execution_count": 16,
   "metadata": {},
   "outputs": [],
   "source": [
    "m.fs.cracker.conversion.fix(0.9)  # Fix conversion to a value (e.g., 90% conversion)\n"
   ]
  },
  {
   "cell_type": "code",
   "execution_count": 17,
   "metadata": {},
   "outputs": [
    {
     "name": "stdout",
     "output_type": "stream",
     "text": [
      "Degrees of freedom: 0\n"
     ]
    }
   ],
   "source": [
    "print(f\"Degrees of freedom: {degrees_of_freedom(m)}\")"
   ]
  },
  {
   "cell_type": "code",
   "execution_count": 18,
   "metadata": {},
   "outputs": [
    {
     "name": "stdout",
     "output_type": "stream",
     "text": [
      "Ipopt 3.13.2: nlp_scaling_method=gradient-based\n",
      "tol=1e-06\n",
      "max_iter=200\n",
      "\n",
      "\n",
      "******************************************************************************\n",
      "This program contains Ipopt, a library for large-scale nonlinear optimization.\n",
      " Ipopt is released as open source code under the Eclipse Public License (EPL).\n",
      "         For more information visit http://projects.coin-or.org/Ipopt\n",
      "\n",
      "This version of Ipopt was compiled from source code available at\n",
      "    https://github.com/IDAES/Ipopt as part of the Institute for the Design of\n",
      "    Advanced Energy Systems Process Systems Engineering Framework (IDAES PSE\n",
      "    Framework) Copyright (c) 2018-2019. See https://github.com/IDAES/idaes-pse.\n",
      "\n",
      "This version of Ipopt was compiled using HSL, a collection of Fortran codes\n",
      "    for large-scale scientific computation.  All technical papers, sales and\n",
      "    publicity material resulting from use of the HSL codes within IPOPT must\n",
      "    contain the following acknowledgement:\n",
      "        HSL, a collection of Fortran codes for large-scale scientific\n",
      "        computation. See http://www.hsl.rl.ac.uk.\n",
      "******************************************************************************\n",
      "\n",
      "This is Ipopt version 3.13.2, running with linear solver ma27.\n",
      "\n",
      "Number of nonzeros in equality constraint Jacobian...:        2\n",
      "Number of nonzeros in inequality constraint Jacobian.:        0\n",
      "Number of nonzeros in Lagrangian Hessian.............:        0\n",
      "\n",
      "Total number of variables............................:        2\n",
      "                     variables with only lower bounds:        0\n",
      "                variables with lower and upper bounds:        0\n",
      "                     variables with only upper bounds:        0\n",
      "Total number of equality constraints.................:        2\n",
      "Total number of inequality constraints...............:        0\n",
      "        inequality constraints with only lower bounds:        0\n",
      "   inequality constraints with lower and upper bounds:        0\n",
      "        inequality constraints with only upper bounds:        0\n",
      "\n",
      "iter    objective    inf_pr   inf_du lg(mu)  ||d||  lg(rg) alpha_du alpha_pr  ls\n",
      "   0  0.0000000e+00 1.60e-01 0.00e+00  -1.0 0.00e+00    -  0.00e+00 0.00e+00   0\n",
      "   1  0.0000000e+00 0.00e+00 0.00e+00  -2.5 1.60e-01    -  1.00e+00 1.00e+00h  1\n",
      "\n",
      "Number of Iterations....: 1\n",
      "\n",
      "                                   (scaled)                 (unscaled)\n",
      "Objective...............:   0.0000000000000000e+00    0.0000000000000000e+00\n",
      "Dual infeasibility......:   0.0000000000000000e+00    0.0000000000000000e+00\n",
      "Constraint violation....:   0.0000000000000000e+00    0.0000000000000000e+00\n",
      "Complementarity.........:   0.0000000000000000e+00    0.0000000000000000e+00\n",
      "Overall NLP error.......:   0.0000000000000000e+00    0.0000000000000000e+00\n",
      "\n",
      "\n",
      "Number of objective function evaluations             = 2\n",
      "Number of objective gradient evaluations             = 2\n",
      "Number of equality constraint evaluations            = 2\n",
      "Number of inequality constraint evaluations          = 0\n",
      "Number of equality constraint Jacobian evaluations   = 2\n",
      "Number of inequality constraint Jacobian evaluations = 0\n",
      "Number of Lagrangian Hessian evaluations             = 1\n",
      "Total CPU secs in IPOPT (w/o function evaluations)   =      0.000\n",
      "Total CPU secs in NLP function evaluations           =      0.000\n",
      "\n",
      "EXIT: Optimal Solution Found.\n"
     ]
    },
    {
     "data": {
      "text/plain": [
       "{'Problem': [{'Lower bound': -inf, 'Upper bound': inf, 'Number of objectives': 1, 'Number of constraints': 2, 'Number of variables': 2, 'Sense': 'unknown'}], 'Solver': [{'Status': 'ok', 'Message': 'Ipopt 3.13.2\\\\x3a Optimal Solution Found', 'Termination condition': 'optimal', 'Id': 0, 'Error rc': 0, 'Time': 0.0363316535949707}], 'Solution': [OrderedDict([('number of solutions', 0), ('number of solutions displayed', 0)])]}"
      ]
     },
     "execution_count": 18,
     "metadata": {},
     "output_type": "execute_result"
    }
   ],
   "source": [
    "from idaes.core.solvers import get_solver\n",
    "solver = get_solver()\n",
    "solver.solve(m, tee=True)\n"
   ]
  },
  {
   "cell_type": "code",
   "execution_count": 19,
   "metadata": {},
   "outputs": [
    {
     "name": "stdout",
     "output_type": "stream",
     "text": [
      "Degrees of freedom: 0\n"
     ]
    }
   ],
   "source": [
    "from idaes.core.util.model_statistics import degrees_of_freedom\n",
    "print(f\"Degrees of freedom: {degrees_of_freedom(m)}\")"
   ]
  },
  {
   "cell_type": "code",
   "execution_count": 20,
   "metadata": {},
   "outputs": [
    {
     "name": "stdout",
     "output_type": "stream",
     "text": [
      "2025-03-26 10:59:30 [INFO] idaes.idaes_ui.fv.fsvis: Using HTTP server on localhost, port 65433\n",
      "2025-03-26 10:59:30 [INFO] idaes.idaes_ui.fv.fsvis: Loading saved flowsheet from 'flowsheet.json'\n",
      "2025-03-26 10:59:30 [INFO] idaes.idaes_ui.fv.fsvis: Saving flowsheet to default file 'flowsheet.json' in current directory (c:\\Users\\Sara\\Desktop\\IDAES)\n",
      "2025-03-26 10:59:30 [WARNING] idaes.idaes_ui.fv.flowsheet: Flowsheet has no Arcs or unit Blocks\n",
      "2025-03-26 10:59:30 [INFO] idaes.idaes_ui.fv.fsvis: Flowsheet visualization at: http://localhost:65433/app?id=flowsheet\n"
     ]
    },
    {
     "data": {
      "text/plain": [
       "VisualizeResult(store=<idaes_ui.fv.persist.FileDataStore object at 0x000001838F65F100>, port=65433, server=<idaes_ui.fv.model_server.FlowsheetServer object at 0x0000018390287C40>)"
      ]
     },
     "execution_count": 20,
     "metadata": {},
     "output_type": "execute_result"
    }
   ],
   "source": [
    "visualize(m.fs.cracker)\n"
   ]
  },
  {
   "cell_type": "code",
   "execution_count": 21,
   "metadata": {},
   "outputs": [
    {
     "name": "stdout",
     "output_type": "stream",
     "text": [
      "fs.cracker\n"
     ]
    }
   ],
   "source": [
    "print(m.fs.cracker)\n"
   ]
  },
  {
   "cell_type": "code",
   "execution_count": 28,
   "metadata": {},
   "outputs": [],
   "source": [
    "# Ensure that the class is properly built\n",
    "@declare_process_block_class(\"AmmoniaCracker\")\n",
    "class AmmoniaCrackerData(UnitModelBlockData):\n",
    "    def build(self):\n",
    "        super().build()  # Call the superclass build method to initialize the unit model\n",
    "\n",
    "        # Now, add all the variables and constraints in this block\n",
    "        self.flow_ammonia = Var(initialize=1.0, units=pyunits.mol/pyunits.s, doc=\"Ammonia feed flow rate\")\n",
    "        self.temperature = Var(initialize=800, units=pyunits.K, doc=\"Reactor temperature\")\n",
    "        self.pressure = Var(initialize=101325, units=pyunits.Pa, doc=\"Reactor pressure\")\n",
    "        self.conversion = Var(initialize=0.9, bounds=(0, 1), doc=\"Fraction of ammonia converted\")\n",
    "        self.flow_hydrogen = Var(initialize=1.5, units=pyunits.mol/pyunits.s, doc=\"Hydrogen produced\")\n",
    "        self.flow_nitrogen = Var(initialize=0.5, units=pyunits.mol/pyunits.s, doc=\"Nitrogen produced\")\n",
    "\n",
    "        # Define constraints for the unit model\n",
    "        @self.Constraint(doc=\"Ammonia conversion constraint\")\n",
    "        def reaction_balance(b):\n",
    "            return b.flow_hydrogen == 1.5 * b.flow_ammonia * b.conversion\n",
    "\n",
    "        @self.Constraint(doc=\"Nitrogen balance constraint\")\n",
    "        def nitrogen_balance(b):\n",
    "            return b.flow_nitrogen == 0.5 * b.flow_ammonia * b.conversion\n"
   ]
  },
  {
   "cell_type": "code",
   "execution_count": 29,
   "metadata": {},
   "outputs": [
    {
     "name": "stdout",
     "output_type": "stream",
     "text": [
      "fs.cracker\n"
     ]
    }
   ],
   "source": [
    "# Initialize the model and flowsheet\n",
    "m = pyo.ConcreteModel()\n",
    "m.fs = FlowsheetBlock(dynamic=False)\n",
    "\n",
    "# Add the unit model to the flowsheet\n",
    "m.fs.cracker = AmmoniaCracker()\n",
    "\n",
    "# Check if the unit model is part of the flowsheet\n",
    "print(m.fs.cracker)\n"
   ]
  },
  {
   "cell_type": "code",
   "execution_count": 30,
   "metadata": {},
   "outputs": [
    {
     "name": "stdout",
     "output_type": "stream",
     "text": [
      "WARNING: Implicitly replacing the Component attribute flow_ammonia\n",
      "(type=<class 'pyomo.core.base.var.ScalarVar'>) on block fs.cracker with a new\n",
      "Component (type=<class 'pyomo.core.base.var.AbstractScalarVar'>). This is\n",
      "usually indicative of a modelling error. To avoid this warning, use\n",
      "block.del_component() and block.add_component().\n",
      "WARNING: Implicitly replacing the Component attribute temperature (type=<class\n",
      "'pyomo.core.base.var.ScalarVar'>) on block fs.cracker with a new Component\n",
      "(type=<class 'pyomo.core.base.var.AbstractScalarVar'>). This is usually\n",
      "indicative of a modelling error. To avoid this warning, use\n",
      "block.del_component() and block.add_component().\n",
      "WARNING: Implicitly replacing the Component attribute pressure (type=<class\n",
      "'pyomo.core.base.var.ScalarVar'>) on block fs.cracker with a new Component\n",
      "(type=<class 'pyomo.core.base.var.AbstractScalarVar'>). This is usually\n",
      "indicative of a modelling error. To avoid this warning, use\n",
      "block.del_component() and block.add_component().\n",
      "WARNING: Implicitly replacing the Component attribute conversion (type=<class\n",
      "'pyomo.core.base.var.ScalarVar'>) on block fs.cracker with a new Component\n",
      "(type=<class 'pyomo.core.base.var.AbstractScalarVar'>). This is usually\n",
      "indicative of a modelling error. To avoid this warning, use\n",
      "block.del_component() and block.add_component().\n",
      "WARNING: Implicitly replacing the Component attribute flow_hydrogen\n",
      "(type=<class 'pyomo.core.base.var.ScalarVar'>) on block fs.cracker with a new\n",
      "Component (type=<class 'pyomo.core.base.var.AbstractScalarVar'>). This is\n",
      "usually indicative of a modelling error. To avoid this warning, use\n",
      "block.del_component() and block.add_component().\n",
      "WARNING: Implicitly replacing the Component attribute flow_nitrogen\n",
      "(type=<class 'pyomo.core.base.var.ScalarVar'>) on block fs.cracker with a new\n",
      "Component (type=<class 'pyomo.core.base.var.AbstractScalarVar'>). This is\n",
      "usually indicative of a modelling error. To avoid this warning, use\n",
      "block.del_component() and block.add_component().\n",
      "WARNING: Implicitly replacing the Component attribute reaction_balance\n",
      "(type=<class 'pyomo.core.base.constraint.ScalarConstraint'>) on block\n",
      "fs.cracker with a new Component (type=<class\n",
      "'pyomo.core.base.constraint.AbstractScalarConstraint'>). This is usually\n",
      "indicative of a modelling error. To avoid this warning, use\n",
      "block.del_component() and block.add_component().\n",
      "WARNING: Implicitly replacing the Component attribute nitrogen_balance\n",
      "(type=<class 'pyomo.core.base.constraint.ScalarConstraint'>) on block\n",
      "fs.cracker with a new Component (type=<class\n",
      "'pyomo.core.base.constraint.AbstractScalarConstraint'>). This is usually\n",
      "indicative of a modelling error. To avoid this warning, use\n",
      "block.del_component() and block.add_component().\n",
      "fs.cracker\n"
     ]
    }
   ],
   "source": [
    "# Force the unit model to build by accessing its attributes or methods\n",
    "m.fs.cracker.build()\n",
    "\n",
    "# Now print the unit model to ensure it's correctly built\n",
    "print(m.fs.cracker)\n"
   ]
  }
 ],
 "metadata": {
  "kernelspec": {
   "display_name": "my-idaes-env",
   "language": "python",
   "name": "python3"
  },
  "language_info": {
   "codemirror_mode": {
    "name": "ipython",
    "version": 3
   },
   "file_extension": ".py",
   "mimetype": "text/x-python",
   "name": "python",
   "nbconvert_exporter": "python",
   "pygments_lexer": "ipython3",
   "version": "3.10.16"
  }
 },
 "nbformat": 4,
 "nbformat_minor": 2
}

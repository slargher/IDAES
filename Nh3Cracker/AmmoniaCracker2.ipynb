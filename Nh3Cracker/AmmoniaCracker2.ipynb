{
 "cells": [
  {
   "cell_type": "code",
   "execution_count": 12,
   "metadata": {},
   "outputs": [],
   "source": [
    "import pyomo.environ as pyo\n",
    "from idaes.core import FlowsheetBlock, declare_process_block_class, UnitModelBlockData\n",
    "from idaes.core.solvers import get_solver\n",
    "from idaes_ui.fv import visualize\n",
    "from pyomo.environ import Var, Constraint, units as pyunits\n",
    "\n"
   ]
  },
  {
   "cell_type": "code",
   "execution_count": 13,
   "metadata": {},
   "outputs": [],
   "source": [
    "# Declare the unit model block class for AmmoniaCracker\n",
    "@declare_process_block_class(\"AmmoniaCracker\")\n",
    "class AmmoniaCrackerData(UnitModelBlockData):\n",
    "    def build(self):\n",
    "        super().build()  # Call the parent build method to initialize the unit model\n",
    "        \n",
    "        # Define variables for the AmmoniaCracker unit\n",
    "        self.flow_ammonia = Var(initialize=1.0, units=pyunits.mol/pyunits.s, doc=\"Ammonia feed flow rate\")\n",
    "        self.temperature = Var(initialize=800, units=pyunits.K, doc=\"Reactor temperature\")\n",
    "        self.pressure = Var(initialize=101325, units=pyunits.Pa, doc=\"Reactor pressure\")\n",
    "        self.conversion = Var(initialize=0.9, bounds=(0, 1), doc=\"Fraction of ammonia converted\")\n",
    "        self.flow_hydrogen = Var(initialize=1.5, units=pyunits.mol/pyunits.s, doc=\"Hydrogen produced\")\n",
    "        self.flow_nitrogen = Var(initialize=0.5, units=pyunits.mol/pyunits.s, doc=\"Nitrogen produced\")\n",
    "\n",
    "        # Define constraints for the AmmoniaCracker\n",
    "        @self.Constraint(doc=\"Ammonia conversion constraint\")\n",
    "        def reaction_balance(b):\n",
    "            return b.flow_hydrogen == 1.5 * b.flow_ammonia * b.conversion\n",
    "\n",
    "        @self.Constraint(doc=\"Nitrogen balance constraint\")\n",
    "        def nitrogen_balance(b):\n",
    "            return b.flow_nitrogen == 0.5 * b.flow_ammonia * b.conversion\n"
   ]
  },
  {
   "cell_type": "code",
   "execution_count": 14,
   "metadata": {},
   "outputs": [],
   "source": [
    "# Create the ConcreteModel\n",
    "m = pyo.ConcreteModel()\n",
    "\n",
    "# Initialize the flowsheet\n",
    "m.fs = FlowsheetBlock(dynamic=False)\n",
    "\n",
    "# Add the unit model (AmmoniaCracker) to the flowsheet\n",
    "m.fs.cracker = AmmoniaCracker()\n"
   ]
  },
  {
   "cell_type": "code",
   "execution_count": 19,
   "metadata": {},
   "outputs": [],
   "source": [
    "\n",
    "# Define dummy flow variables to simulate input/output (for visualization)\n",
    "m.fs.inlet_flow = Var(initialize=1.0, units=pyunits.mol/pyunits.s, doc=\"Dummy inlet flow\")\n",
    "m.fs.outlet_flow = Var(initialize=1.0, units=pyunits.mol/pyunits.s, doc=\"Dummy outlet flow\")"
   ]
  },
  {
   "cell_type": "code",
   "execution_count": 20,
   "metadata": {},
   "outputs": [],
   "source": [
    "# Fix the input values (these are known or specified values)\n",
    "m.fs.cracker.flow_ammonia.fix(1.0)   # Ammonia flow rate (mol/s)\n",
    "m.fs.cracker.temperature.fix(800)    # Reactor temperature (K)\n",
    "m.fs.cracker.pressure.fix(101325)    # Reactor pressure (Pa)\n",
    "m.fs.cracker.conversion.fix(0.9)     # Ammonia conversion (90%)\n"
   ]
  },
  {
   "cell_type": "code",
   "execution_count": 22,
   "metadata": {},
   "outputs": [
    {
     "ename": "RuntimeError",
     "evalue": "Re-assigning the component 'inlet_flow' from block 'fs' to\nblock 'fs.cracker' as 'inlet_flow'.\n\nThis behavior is not supported by Pyomo; components must have a\nsingle owning block (or model), and a component may not appear\nmultiple times in a block.  If you want to re-name or move this\ncomponent, use the block del_component() and add_component() methods.\n",
     "output_type": "error",
     "traceback": [
      "\u001b[1;31m---------------------------------------------------------------------------\u001b[0m",
      "\u001b[1;31mRuntimeError\u001b[0m                              Traceback (most recent call last)",
      "Cell \u001b[1;32mIn[22], line 1\u001b[0m\n\u001b[1;32m----> 1\u001b[0m \u001b[43mm\u001b[49m\u001b[38;5;241;43m.\u001b[39;49m\u001b[43mfs\u001b[49m\u001b[38;5;241;43m.\u001b[39;49m\u001b[43mcracker\u001b[49m\u001b[38;5;241;43m.\u001b[39;49m\u001b[43minlet_flow\u001b[49m \u001b[38;5;241m=\u001b[39m m\u001b[38;5;241m.\u001b[39mfs\u001b[38;5;241m.\u001b[39minlet_flow\n\u001b[0;32m      2\u001b[0m m\u001b[38;5;241m.\u001b[39mfs\u001b[38;5;241m.\u001b[39mcracker\u001b[38;5;241m.\u001b[39moutlet_flow \u001b[38;5;241m=\u001b[39m m\u001b[38;5;241m.\u001b[39mfs\u001b[38;5;241m.\u001b[39moutlet_flow\n",
      "File \u001b[1;32mc:\\Users\\Sara\\miniforge3\\envs\\my-idaes-env\\lib\\site-packages\\pyomo\\core\\base\\block.py:571\u001b[0m, in \u001b[0;36mBlockData.__setattr__\u001b[1;34m(self, name, val)\u001b[0m\n\u001b[0;32m    566\u001b[0m \u001b[38;5;28;01mif\u001b[39;00m name \u001b[38;5;129;01mnot\u001b[39;00m \u001b[38;5;129;01min\u001b[39;00m \u001b[38;5;28mself\u001b[39m\u001b[38;5;241m.\u001b[39m\u001b[38;5;18m__dict__\u001b[39m:\n\u001b[0;32m    567\u001b[0m     \u001b[38;5;28;01mif\u001b[39;00m \u001b[38;5;28misinstance\u001b[39m(val, Component):\n\u001b[0;32m    568\u001b[0m         \u001b[38;5;66;03m#\u001b[39;00m\n\u001b[0;32m    569\u001b[0m         \u001b[38;5;66;03m# Pyomo components are added with the add_component method.\u001b[39;00m\n\u001b[0;32m    570\u001b[0m         \u001b[38;5;66;03m#\u001b[39;00m\n\u001b[1;32m--> 571\u001b[0m         \u001b[38;5;28;43mself\u001b[39;49m\u001b[38;5;241;43m.\u001b[39;49m\u001b[43madd_component\u001b[49m\u001b[43m(\u001b[49m\u001b[43mname\u001b[49m\u001b[43m,\u001b[49m\u001b[43m \u001b[49m\u001b[43mval\u001b[49m\u001b[43m)\u001b[49m\n\u001b[0;32m    572\u001b[0m     \u001b[38;5;28;01melse\u001b[39;00m:\n\u001b[0;32m    573\u001b[0m         \u001b[38;5;66;03m#\u001b[39;00m\n\u001b[0;32m    574\u001b[0m         \u001b[38;5;66;03m# Other Python objects are added with the standard __setattr__\u001b[39;00m\n\u001b[0;32m    575\u001b[0m         \u001b[38;5;66;03m# method.\u001b[39;00m\n\u001b[0;32m    576\u001b[0m         \u001b[38;5;66;03m#\u001b[39;00m\n\u001b[0;32m    577\u001b[0m         \u001b[38;5;28msuper\u001b[39m(BlockData, \u001b[38;5;28mself\u001b[39m)\u001b[38;5;241m.\u001b[39m\u001b[38;5;21m__setattr__\u001b[39m(name, val)\n",
      "File \u001b[1;32mc:\\Users\\Sara\\miniforge3\\envs\\my-idaes-env\\lib\\site-packages\\pyomo\\core\\base\\block.py:982\u001b[0m, in \u001b[0;36mBlockData.add_component\u001b[1;34m(self, name, val)\u001b[0m\n\u001b[0;32m    972\u001b[0m             \u001b[38;5;28;01melse\u001b[39;00m:\n\u001b[0;32m    973\u001b[0m                 msg \u001b[38;5;241m=\u001b[39m \u001b[38;5;124m\"\"\"\u001b[39m\n\u001b[0;32m    974\u001b[0m \u001b[38;5;124mRe-assigning the component \u001b[39m\u001b[38;5;124m'\u001b[39m\u001b[38;5;132;01m%s\u001b[39;00m\u001b[38;5;124m'\u001b[39m\u001b[38;5;124m from block \u001b[39m\u001b[38;5;124m'\u001b[39m\u001b[38;5;132;01m%s\u001b[39;00m\u001b[38;5;124m'\u001b[39m\u001b[38;5;124m to\u001b[39m\n\u001b[0;32m    975\u001b[0m \u001b[38;5;124mblock \u001b[39m\u001b[38;5;124m'\u001b[39m\u001b[38;5;132;01m%s\u001b[39;00m\u001b[38;5;124m'\u001b[39m\u001b[38;5;124m as \u001b[39m\u001b[38;5;124m'\u001b[39m\u001b[38;5;132;01m%s\u001b[39;00m\u001b[38;5;124m'\u001b[39m\u001b[38;5;124m.\u001b[39m\u001b[38;5;124m\"\"\"\u001b[39m \u001b[38;5;241m%\u001b[39m (\n\u001b[1;32m   (...)\u001b[0m\n\u001b[0;32m    979\u001b[0m                     name,\n\u001b[0;32m    980\u001b[0m                 )\n\u001b[1;32m--> 982\u001b[0m             \u001b[38;5;28;01mraise\u001b[39;00m \u001b[38;5;167;01mRuntimeError\u001b[39;00m(\n\u001b[0;32m    983\u001b[0m \u001b[38;5;250m                \u001b[39m\u001b[38;5;124;03m\"\"\"%s\u001b[39;00m\n\u001b[0;32m    984\u001b[0m \n\u001b[0;32m    985\u001b[0m \u001b[38;5;124;03mThis behavior is not supported by Pyomo; components must have a\u001b[39;00m\n\u001b[0;32m    986\u001b[0m \u001b[38;5;124;03msingle owning block (or model), and a component may not appear\u001b[39;00m\n\u001b[0;32m    987\u001b[0m \u001b[38;5;124;03mmultiple times in a block.  If you want to re-name or move this\u001b[39;00m\n\u001b[0;32m    988\u001b[0m \u001b[38;5;124;03mcomponent, use the block del_component() and add_component() methods.\u001b[39;00m\n\u001b[0;32m    989\u001b[0m \u001b[38;5;124;03m\"\"\"\u001b[39;00m\n\u001b[0;32m    990\u001b[0m                 \u001b[38;5;241m%\u001b[39m (msg\u001b[38;5;241m.\u001b[39mstrip(),)\n\u001b[0;32m    991\u001b[0m             )\n\u001b[0;32m    992\u001b[0m         \u001b[38;5;66;03m#\u001b[39;00m\n\u001b[0;32m    993\u001b[0m         \u001b[38;5;66;03m# If the new component is a Block, then there is the chance that\u001b[39;00m\n\u001b[0;32m    994\u001b[0m         \u001b[38;5;66;03m# it is the model(), and assigning it would create a circular\u001b[39;00m\n\u001b[1;32m   (...)\u001b[0m\n\u001b[0;32m    997\u001b[0m         \u001b[38;5;66;03m# the block hierarchy\u001b[39;00m\n\u001b[0;32m    998\u001b[0m         \u001b[38;5;66;03m#\u001b[39;00m\n\u001b[0;32m    999\u001b[0m         \u001b[38;5;28;01mif\u001b[39;00m \u001b[38;5;28misinstance\u001b[39m(val, Block) \u001b[38;5;129;01mand\u001b[39;00m val \u001b[38;5;129;01mis\u001b[39;00m \u001b[38;5;28mself\u001b[39m\u001b[38;5;241m.\u001b[39mmodel():\n",
      "\u001b[1;31mRuntimeError\u001b[0m: Re-assigning the component 'inlet_flow' from block 'fs' to\nblock 'fs.cracker' as 'inlet_flow'.\n\nThis behavior is not supported by Pyomo; components must have a\nsingle owning block (or model), and a component may not appear\nmultiple times in a block.  If you want to re-name or move this\ncomponent, use the block del_component() and add_component() methods.\n"
     ]
    }
   ],
   "source": [
    "m.fs.cracker.inlet_flow = m.fs.inlet_flow\n",
    "m.fs.cracker.outlet_flow = m.fs.outlet_flow"
   ]
  },
  {
   "cell_type": "code",
   "execution_count": 17,
   "metadata": {},
   "outputs": [
    {
     "name": "stdout",
     "output_type": "stream",
     "text": [
      "Ipopt 3.13.2: nlp_scaling_method=gradient-based\n",
      "tol=1e-06\n",
      "max_iter=200\n",
      "\n",
      "\n",
      "******************************************************************************\n",
      "This program contains Ipopt, a library for large-scale nonlinear optimization.\n",
      " Ipopt is released as open source code under the Eclipse Public License (EPL).\n",
      "         For more information visit http://projects.coin-or.org/Ipopt\n",
      "\n",
      "This version of Ipopt was compiled from source code available at\n",
      "    https://github.com/IDAES/Ipopt as part of the Institute for the Design of\n",
      "    Advanced Energy Systems Process Systems Engineering Framework (IDAES PSE\n",
      "    Framework) Copyright (c) 2018-2019. See https://github.com/IDAES/idaes-pse.\n",
      "\n",
      "This version of Ipopt was compiled using HSL, a collection of Fortran codes\n",
      "    for large-scale scientific computation.  All technical papers, sales and\n",
      "    publicity material resulting from use of the HSL codes within IPOPT must\n",
      "    contain the following acknowledgement:\n",
      "        HSL, a collection of Fortran codes for large-scale scientific\n",
      "        computation. See http://www.hsl.rl.ac.uk.\n",
      "******************************************************************************\n",
      "\n",
      "This is Ipopt version 3.13.2, running with linear solver ma27.\n",
      "\n",
      "Number of nonzeros in equality constraint Jacobian...:        2\n",
      "Number of nonzeros in inequality constraint Jacobian.:        0\n",
      "Number of nonzeros in Lagrangian Hessian.............:        0\n",
      "\n",
      "Total number of variables............................:        2\n",
      "                     variables with only lower bounds:        0\n",
      "                variables with lower and upper bounds:        0\n",
      "                     variables with only upper bounds:        0\n",
      "Total number of equality constraints.................:        2\n",
      "Total number of inequality constraints...............:        0\n",
      "        inequality constraints with only lower bounds:        0\n",
      "   inequality constraints with lower and upper bounds:        0\n",
      "        inequality constraints with only upper bounds:        0\n",
      "\n",
      "iter    objective    inf_pr   inf_du lg(mu)  ||d||  lg(rg) alpha_du alpha_pr  ls\n",
      "   0  0.0000000e+00 1.50e-01 0.00e+00  -1.0 0.00e+00    -  0.00e+00 0.00e+00   0\n",
      "   1  0.0000000e+00 0.00e+00 0.00e+00  -2.5 1.50e-01    -  1.00e+00 1.00e+00h  1\n",
      "\n",
      "Number of Iterations....: 1\n",
      "\n",
      "                                   (scaled)                 (unscaled)\n",
      "Objective...............:   0.0000000000000000e+00    0.0000000000000000e+00\n",
      "Dual infeasibility......:   0.0000000000000000e+00    0.0000000000000000e+00\n",
      "Constraint violation....:   0.0000000000000000e+00    0.0000000000000000e+00\n",
      "Complementarity.........:   0.0000000000000000e+00    0.0000000000000000e+00\n",
      "Overall NLP error.......:   0.0000000000000000e+00    0.0000000000000000e+00\n",
      "\n",
      "\n",
      "Number of objective function evaluations             = 2\n",
      "Number of objective gradient evaluations             = 2\n",
      "Number of equality constraint evaluations            = 2\n",
      "Number of inequality constraint evaluations          = 0\n",
      "Number of equality constraint Jacobian evaluations   = 2\n",
      "Number of inequality constraint Jacobian evaluations = 0\n",
      "Number of Lagrangian Hessian evaluations             = 1\n",
      "Total CPU secs in IPOPT (w/o function evaluations)   =      0.001\n",
      "Total CPU secs in NLP function evaluations           =      0.000\n",
      "\n",
      "EXIT: Optimal Solution Found.\n"
     ]
    },
    {
     "data": {
      "text/plain": [
       "{'Problem': [{'Lower bound': -inf, 'Upper bound': inf, 'Number of objectives': 1, 'Number of constraints': 2, 'Number of variables': 2, 'Sense': 'unknown'}], 'Solver': [{'Status': 'ok', 'Message': 'Ipopt 3.13.2\\\\x3a Optimal Solution Found', 'Termination condition': 'optimal', 'Id': 0, 'Error rc': 0, 'Time': 0.08252096176147461}], 'Solution': [OrderedDict([('number of solutions', 0), ('number of solutions displayed', 0)])]}"
      ]
     },
     "execution_count": 17,
     "metadata": {},
     "output_type": "execute_result"
    }
   ],
   "source": [
    "# Use the solver from IDAES\n",
    "solver = get_solver()\n",
    "\n",
    "# Solve the model and print the results\n",
    "solver.solve(m, tee=True)\n"
   ]
  },
  {
   "cell_type": "code",
   "execution_count": 18,
   "metadata": {},
   "outputs": [
    {
     "name": "stdout",
     "output_type": "stream",
     "text": [
      "2025-03-26 11:12:57 [INFO] idaes.idaes_ui.fv.fsvis: Using HTTP server on localhost, port 49826\n",
      "2025-03-26 11:12:57 [INFO] idaes.idaes_ui.fv.fsvis: Loading saved flowsheet from 'flowsheet.json'\n",
      "2025-03-26 11:12:57 [INFO] idaes.idaes_ui.fv.fsvis: Saving flowsheet to default file 'flowsheet.json' in current directory (c:\\Users\\Sara\\Desktop\\IDAES)\n",
      "2025-03-26 11:12:57 [WARNING] idaes.idaes_ui.fv.flowsheet: Flowsheet has no Arcs or unit Blocks\n",
      "2025-03-26 11:12:57 [INFO] idaes.idaes_ui.fv.fsvis: Flowsheet visualization at: http://localhost:49826/app?id=flowsheet\n"
     ]
    },
    {
     "data": {
      "text/plain": [
       "VisualizeResult(store=<idaes_ui.fv.persist.FileDataStore object at 0x00000282FB5985B0>, port=49826, server=<idaes_ui.fv.model_server.FlowsheetServer object at 0x00000282FA0023B0>)"
      ]
     },
     "execution_count": 18,
     "metadata": {},
     "output_type": "execute_result"
    }
   ],
   "source": [
    "# Visualize the AmmoniaCracker unit model\n",
    "visualize(m.fs.cracker)\n"
   ]
  }
 ],
 "metadata": {
  "kernelspec": {
   "display_name": "my-idaes-env",
   "language": "python",
   "name": "python3"
  },
  "language_info": {
   "codemirror_mode": {
    "name": "ipython",
    "version": 3
   },
   "file_extension": ".py",
   "mimetype": "text/x-python",
   "name": "python",
   "nbconvert_exporter": "python",
   "pygments_lexer": "ipython3",
   "version": "3.10.16"
  }
 },
 "nbformat": 4,
 "nbformat_minor": 2
}

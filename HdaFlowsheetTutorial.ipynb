{
 "cells": [
  {
   "cell_type": "code",
   "execution_count": 1,
   "metadata": {},
   "outputs": [],
   "source": [
    "from pyomo.environ import (Constraint,\n",
    "                           Var,\n",
    "                           ConcreteModel,\n",
    "                           Expression,\n",
    "                           Objective,\n",
    "                           SolverFactory,\n",
    "                           TransformationFactory,\n",
    "                           value)\n",
    "from pyomo.network import Arc, SequentialDecomposition"
   ]
  },
  {
   "cell_type": "code",
   "execution_count": 2,
   "metadata": {},
   "outputs": [],
   "source": [
    "\n",
    "\n",
    "from idaes.core import FlowsheetBlock\n",
    "\n"
   ]
  },
  {
   "cell_type": "code",
   "execution_count": 3,
   "metadata": {},
   "outputs": [],
   "source": [
    "\n",
    "\n",
    "from idaes.models.unit_models import (PressureChanger,\n",
    "                                      Mixer,\n",
    "                                      Separator as Splitter,\n",
    "                                      Heater,\n",
    "                                      StoichiometricReactor,\n",
    "                                      Flash)\n",
    "\n"
   ]
  },
  {
   "cell_type": "code",
   "execution_count": 4,
   "metadata": {},
   "outputs": [],
   "source": [
    "from idaes.models.unit_models.pressure_changer import ThermodynamicAssumption\n",
    "from idaes.core.util.model_statistics import degrees_of_freedom\n",
    "\n",
    "# Import idaes logger to set output levels\n",
    "import idaes.logger as idaeslog"
   ]
  },
  {
   "cell_type": "code",
   "execution_count": 9,
   "metadata": {},
   "outputs": [],
   "source": [
    "import hda_ideal_VLE as thermo_props\n",
    "import hda_reaction as reaction_props\n"
   ]
  },
  {
   "cell_type": "code",
   "execution_count": 10,
   "metadata": {},
   "outputs": [],
   "source": [
    "\n",
    "\n",
    "m = ConcreteModel()\n",
    "m.fs = FlowsheetBlock(dynamic=False)\n",
    "\n"
   ]
  },
  {
   "cell_type": "code",
   "execution_count": 11,
   "metadata": {},
   "outputs": [
    {
     "name": "stdout",
     "output_type": "stream",
     "text": [
      "2025-03-25 15:39:23 [WARNING] idaes.core.base.property_meta: DEPRECATED: The property name fug_vap_comp in property metadata is not\n",
      "a recognized standard property name defined in this PropertySet.\n",
      "Please refer to IDAES standard names in the IDAES documentation. You\n",
      "can use the define_custom_properties() rather than the\n",
      "add_properties() method to define metadata for this property. You can\n",
      "also use a different property set by calling the define_property_set()\n",
      "method.  (deprecated in 2.0.0, will be removed in (or after) 3.0.0)\n",
      "(called from c:\\Users\\Sara\\Desktop\\IDAES\\hda_ideal_VLE.py:378)\n",
      "2025-03-25 15:39:23 [WARNING] idaes.core.base.property_meta: DEPRECATED: The property name fug_liq_comp in property metadata is not\n",
      "a recognized standard property name defined in this PropertySet.\n",
      "Please refer to IDAES standard names in the IDAES documentation. You\n",
      "can use the define_custom_properties() rather than the\n",
      "add_properties() method to define metadata for this property. You can\n",
      "also use a different property set by calling the define_property_set()\n",
      "method.  (deprecated in 2.0.0, will be removed in (or after) 3.0.0)\n",
      "(called from c:\\Users\\Sara\\Desktop\\IDAES\\hda_ideal_VLE.py:378)\n",
      "WARNING: Params with units must be mutable.  Converting Param\n",
      "'fs.thermo_params.pressure_crit' to mutable.\n",
      "WARNING: Params with units must be mutable.  Converting Param\n",
      "'fs.thermo_params.temperature_crit' to mutable.\n",
      "WARNING: Params with units must be mutable.  Converting Param\n",
      "'fs.thermo_params.mw_comp' to mutable.\n",
      "WARNING: Params with units must be mutable.  Converting Param\n",
      "'fs.thermo_params.dens_liq_param_1' to mutable.\n",
      "WARNING: Params with units must be mutable.  Converting Param\n",
      "'fs.thermo_params.dens_liq_param_2' to mutable.\n",
      "WARNING: Params with units must be mutable.  Converting Param\n",
      "'fs.thermo_params.dens_liq_param_3' to mutable.\n",
      "WARNING: Params with units must be mutable.  Converting Param\n",
      "'fs.thermo_params.dens_liq_param_4' to mutable.\n",
      "WARNING: Params with units must be mutable.  Converting Param\n",
      "'fs.thermo_params.temperature_boil' to mutable.\n",
      "WARNING: Params with units must be mutable.  Converting Param\n",
      "'fs.thermo_params.cp_ig_1' to mutable.\n",
      "WARNING: Params with units must be mutable.  Converting Param\n",
      "'fs.thermo_params.cp_ig_2' to mutable.\n",
      "WARNING: Params with units must be mutable.  Converting Param\n",
      "'fs.thermo_params.cp_ig_3' to mutable.\n",
      "WARNING: Params with units must be mutable.  Converting Param\n",
      "'fs.thermo_params.cp_ig_4' to mutable.\n",
      "WARNING: Params with units must be mutable.  Converting Param\n",
      "'fs.thermo_params.cp_ig_5' to mutable.\n",
      "WARNING: Params with units must be mutable.  Converting Param\n",
      "'fs.thermo_params.pressure_sat_coeff_A' to mutable.\n",
      "WARNING: Params with units must be mutable.  Converting Param\n",
      "'fs.thermo_params.pressure_sat_coeff_B' to mutable.\n",
      "WARNING: Params with units must be mutable.  Converting Param\n",
      "'fs.thermo_params.pressure_sat_coeff_C' to mutable.\n",
      "WARNING: Params with units must be mutable.  Converting Param\n",
      "'fs.thermo_params.dh_vap' to mutable.\n"
     ]
    }
   ],
   "source": [
    "m.fs.thermo_params = thermo_props.HDAParameterBlock()\n",
    "m.fs.reaction_params = reaction_props.HDAReactionParameterBlock(\n",
    "        property_package=m.fs.thermo_params)\n"
   ]
  },
  {
   "cell_type": "code",
   "execution_count": 12,
   "metadata": {},
   "outputs": [],
   "source": [
    "\n",
    "\n",
    "m.fs.M101 = Mixer(property_package=m.fs.thermo_params,\n",
    "                  inlet_list=[\"toluene_feed\", \"hydrogen_feed\", \"vapor_recycle\"])\n",
    "\n",
    "m.fs.H101 = Heater(property_package=m.fs.thermo_params,\n",
    "                   has_pressure_change=False,\n",
    "                   has_phase_equilibrium=True)\n",
    "\n"
   ]
  },
  {
   "cell_type": "code",
   "execution_count": 14,
   "metadata": {},
   "outputs": [],
   "source": [
    "m.fs.R101 = StoichiometricReactor(property_package=m.fs.thermo_params,\n",
    "                                    reaction_package=m.fs.reaction_params,\n",
    "                                    has_heat_of_reaction=True,\n",
    "                                    has_heat_transfer=True,\n",
    "                                    has_pressure_change=False)\n"
   ]
  },
  {
   "cell_type": "code",
   "execution_count": 15,
   "metadata": {},
   "outputs": [],
   "source": [
    "m.fs.F101 = Flash(property_package=m.fs.thermo_params,\n",
    "                  has_heat_transfer=True,\n",
    "                  has_pressure_change=True)"
   ]
  },
  {
   "cell_type": "code",
   "execution_count": 16,
   "metadata": {},
   "outputs": [],
   "source": [
    "\n",
    "\n",
    "m.fs.S101 = Splitter(property_package=m.fs.thermo_params,\n",
    "                     ideal_separation=False,\n",
    "                     outlet_list=[\"purge\", \"recycle\"])\n",
    "    \n",
    "\n",
    "m.fs.C101 = PressureChanger(\n",
    "            property_package=m.fs.thermo_params,\n",
    "            compressor=True,\n",
    "            thermodynamic_assumption=ThermodynamicAssumption.isothermal)\n",
    "    \n",
    "m.fs.F102 = Flash(property_package=m.fs.thermo_params,\n",
    "                  has_heat_transfer=True,\n",
    "                  has_pressure_change=True)\n",
    "\n"
   ]
  },
  {
   "cell_type": "code",
   "execution_count": 17,
   "metadata": {},
   "outputs": [],
   "source": [
    "m.fs.s03 = Arc(source=m.fs.M101.outlet, destination=m.fs.H101.inlet)"
   ]
  },
  {
   "cell_type": "code",
   "execution_count": 18,
   "metadata": {},
   "outputs": [],
   "source": [
    "#Todo: Connect the H101 outlet to R101 inlet\n",
    "m.fs.s04 = Arc(source=m.fs.H101.outlet, destination=m.fs.R101.inlet)"
   ]
  },
  {
   "cell_type": "code",
   "execution_count": 19,
   "metadata": {},
   "outputs": [],
   "source": [
    "\n",
    "\n",
    "m.fs.s05 = Arc(source=m.fs.R101.outlet, destination=m.fs.F101.inlet)\n",
    "m.fs.s06 = Arc(source=m.fs.F101.vap_outlet, destination=m.fs.S101.inlet)\n",
    "m.fs.s08 = Arc(source=m.fs.S101.recycle, destination=m.fs.C101.inlet)\n",
    "m.fs.s09 = Arc(source=m.fs.C101.outlet,\n",
    "               destination=m.fs.M101.vapor_recycle)\n",
    "m.fs.s10 = Arc(source=m.fs.F101.liq_outlet, destination=m.fs.F102.inlet)\n",
    "\n"
   ]
  },
  {
   "cell_type": "code",
   "execution_count": 20,
   "metadata": {},
   "outputs": [],
   "source": [
    "TransformationFactory(\"network.expand_arcs\").apply_to(m)"
   ]
  },
  {
   "cell_type": "code",
   "execution_count": 30,
   "metadata": {},
   "outputs": [],
   "source": [
    "import idaes_ui\n"
   ]
  },
  {
   "cell_type": "code",
   "execution_count": 38,
   "metadata": {},
   "outputs": [
    {
     "data": {
      "text/plain": [
       "['__builtins__',\n",
       " '__cached__',\n",
       " '__doc__',\n",
       " '__file__',\n",
       " '__loader__',\n",
       " '__name__',\n",
       " '__package__',\n",
       " '__path__',\n",
       " '__spec__',\n",
       " 'fv']"
      ]
     },
     "execution_count": 38,
     "metadata": {},
     "output_type": "execute_result"
    }
   ],
   "source": [
    "import idaes_ui\n",
    "dir(idaes_ui)  # This will list all the available attributes and functions in the idaes_ui package\n"
   ]
  },
  {
   "cell_type": "code",
   "execution_count": 39,
   "metadata": {},
   "outputs": [
    {
     "data": {
      "text/plain": [
       "['VisualizeResult',\n",
       " '__builtins__',\n",
       " '__cached__',\n",
       " '__doc__',\n",
       " '__file__',\n",
       " '__loader__',\n",
       " '__name__',\n",
       " '__package__',\n",
       " '__path__',\n",
       " '__spec__',\n",
       " 'errors',\n",
       " 'flowsheet',\n",
       " 'fsvis',\n",
       " 'icons',\n",
       " 'model_server',\n",
       " 'models',\n",
       " 'persist',\n",
       " 'validate_flowsheet',\n",
       " 'visualize']"
      ]
     },
     "execution_count": 39,
     "metadata": {},
     "output_type": "execute_result"
    }
   ],
   "source": [
    "import idaes_ui.fv\n",
    "dir(idaes_ui.fv)\n"
   ]
  },
  {
   "cell_type": "code",
   "execution_count": null,
   "metadata": {},
   "outputs": [],
   "source": [
    "from idaes_ui.fv import visualize  \n",
    "\n"
   ]
  },
  {
   "cell_type": "code",
   "execution_count": 42,
   "metadata": {},
   "outputs": [
    {
     "name": "stdout",
     "output_type": "stream",
     "text": [
      "2025-03-25 16:15:13 [INFO] idaes.idaes_ui.fv.fsvis: Started visualization server\n",
      "2025-03-25 16:15:13 [INFO] idaes.idaes_ui.fv.fsvis: Saving flowsheet to default file 'My Process Flowsheet.json' in current directory (c:\\Users\\Sara\\Desktop\\IDAES)\n",
      "2025-03-25 16:15:13 [WARNING] idaes.idaes_ui.fv.flowsheet: Cannot extract state block from Port: name=liq_outlet. Please add Feed & Product blocks with Arcs to show inlet and outlet stream values in the Stream Table\n",
      "2025-03-25 16:15:13 [WARNING] idaes.idaes_ui.fv.flowsheet: Cannot extract state block from Port: name=vap_outlet. Please add Feed & Product blocks with Arcs to show inlet and outlet stream values in the Stream Table\n",
      "2025-03-25 16:15:13 [WARNING] idaes.idaes_ui.fv.flowsheet: Port is neither a feed nor a product: name=purge feed-expr=re.compile('^in_|^feed_|^inlet_|^in$|^feed$|^inlet$|_in$|_feed$|_inlet$', re.IGNORECASE) product-expr=re.compile('^out_|^prod_|^outlet_|^out$|^prod$|^outlet$|_out$|_prod$|_outlet$', re.IGNORECASE)\n",
      "2025-03-25 16:15:13 [WARNING] idaes.idaes_ui.fv.fsvis: Flowsheet name changed: old='My Process Flowsheet' new='My-Process-Flowsheet'\n",
      "Flowsheet name changed to 'My-Process-Flowsheet'\n",
      "2025-03-25 16:15:14 [INFO] idaes.idaes_ui.fv.fsvis: Flowsheet visualization at: http://localhost:62537/app?id=My-Process-Flowsheet\n"
     ]
    },
    {
     "data": {
      "text/plain": [
       "VisualizeResult(store=<idaes_ui.fv.persist.FileDataStore object at 0x0000018D310B8BE0>, port=62537, server=<idaes_ui.fv.model_server.FlowsheetServer object at 0x0000018D310BA1A0>)"
      ]
     },
     "execution_count": 42,
     "metadata": {},
     "output_type": "execute_result"
    },
    {
     "name": "stdout",
     "output_type": "stream",
     "text": [
      "2025-03-25 16:15:15 [WARNING] idaes.idaes_ui.fv.flowsheet: Cannot extract state block from Port: name=liq_outlet. Please add Feed & Product blocks with Arcs to show inlet and outlet stream values in the Stream Table\n",
      "2025-03-25 16:15:15 [WARNING] idaes.idaes_ui.fv.flowsheet: Cannot extract state block from Port: name=vap_outlet. Please add Feed & Product blocks with Arcs to show inlet and outlet stream values in the Stream Table\n",
      "2025-03-25 16:15:15 [WARNING] idaes.idaes_ui.fv.flowsheet: Port is neither a feed nor a product: name=purge feed-expr=re.compile('^in_|^feed_|^inlet_|^in$|^feed$|^inlet$|_in$|_feed$|_inlet$', re.IGNORECASE) product-expr=re.compile('^out_|^prod_|^outlet_|^out$|^prod$|^outlet$|_out$|_prod$|_outlet$', re.IGNORECASE)\n"
     ]
    }
   ],
   "source": [
    "visualize(m.fs, \"My Process Flowsheet\")"
   ]
  }
 ],
 "metadata": {
  "kernelspec": {
   "display_name": "my-idaes-env",
   "language": "python",
   "name": "python3"
  },
  "language_info": {
   "codemirror_mode": {
    "name": "ipython",
    "version": 3
   },
   "file_extension": ".py",
   "mimetype": "text/x-python",
   "name": "python",
   "nbconvert_exporter": "python",
   "pygments_lexer": "ipython3",
   "version": "3.10.16"
  }
 },
 "nbformat": 4,
 "nbformat_minor": 2
}

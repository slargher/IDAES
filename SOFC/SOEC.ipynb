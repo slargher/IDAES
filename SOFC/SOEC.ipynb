{
 "cells": [
  {
   "cell_type": "code",
   "execution_count": null,
   "id": "4b331fbb",
   "metadata": {},
   "outputs": [],
   "source": [
    "import pyomo.environ as pyo\n",
    "import idaes\n",
    "from idaes.core import FlowsheetBlock\n",
    "from idaes.models.properties.modular_properties.base.generic_property import (\n",
    "    GenericParameterBlock)\n",
    "import idaes.core.util.scaling as iscale\n",
    "from idaes.models_extra.power_generation.properties.natural_gas_PR import get_prop\n",
    "from idaes.models_extra.power_generation.unit_models.soec_design import SoecDesign, EosType\n",
    "import pytest\n"
   ]
  },
  {
   "cell_type": "code",
   "execution_count": null,
   "id": "d6c61fd5",
   "metadata": {},
   "outputs": [],
   "source": [
    "\n",
    "def soec_example_flowsheet(eos=EosType.PR):\n",
    "    m = pyo.ConcreteModel()\n",
    "    m.fs = FlowsheetBlock(dynamic=False)\n",
    "\n",
    "    sweep_comp = {\n",
    "        \"O2\":0.2074,\n",
    "        \"H2O\":0.0099,\n",
    "        \"CO2\":0.0003,\n",
    "        \"N2\":0.7732,\n",
    "        \"Ar\":0.0092,\n",
    "    }\n",
    "\n",
    "    feed_comp = {\n",
    "        \"H2\": 0.01,\n",
    "        \"H2O\": 0.99,\n",
    "    }\n",
    "\n",
    "    m.fs.o2_side_prop_params = GenericParameterBlock(\n",
    "        **get_prop(sweep_comp, {\"Vap\"}, eos=eos),\n",
    "        doc=\"Air property parameters\",\n",
    "    )\n",
    "    m.fs.h2_side_prop_params = GenericParameterBlock(\n",
    "        **get_prop(feed_comp, {\"Vap\"}, eos=eos),\n",
    "        doc=\"Flue gas property parameters\",\n",
    "    )\n",
    "    m.fs.soec = SoecDesign(\n",
    "        oxygen_side_property_package=m.fs.o2_side_prop_params,\n",
    "        hydrogen_side_property_package=m.fs.h2_side_prop_params,\n",
    "        reaction_eos=eos\n",
    "    )\n",
    "\n",
    "    m.fs.soec.hydrogen_side_inlet.temperature.fix(1023)\n",
    "    m.fs.soec.hydrogen_side_inlet.pressure.fix(20e5)\n",
    "    m.fs.soec.hydrogen_side_inlet.flow_mol.fix(2)\n",
    "    for (t, i), c in m.fs.soec.hydrogen_side_inlet.mole_frac_comp.items():\n",
    "        c.fix(feed_comp[i])\n",
    "    m.fs.soec.oxygen_side_inlet.temperature.fix(1023)\n",
    "    m.fs.soec.oxygen_side_inlet.pressure.fix(20e5)\n",
    "    m.fs.soec.oxygen_side_inlet.flow_mol.fix(2)\n",
    "    for (t, i), c in m.fs.soec.oxygen_side_inlet.mole_frac_comp.items():\n",
    "        c.fix(sweep_comp[i])\n",
    "    m.fs.soec.hydrogen_side_outlet_temperature.fix(1023)\n",
    "    m.fs.soec.oxygen_side_outlet_temperature.fix(1023)\n",
    "    m.fs.soec.water_utilization.fix(0.7)\n",
    "    iscale.calculate_scaling_factors(m)\n",
    "    m.fs.soec.initialize(optarg={\"max_iter\":30})\n",
    "    return m\n",
    "\n",
    "# create a flowsheet with the SOEC model\n",
    "model = soec_example_flowsheet()"
   ]
  },
  {
   "cell_type": "code",
   "execution_count": null,
   "id": "2548002c",
   "metadata": {},
   "outputs": [],
   "source": [
    "import idaes_ui\n",
    "import idaes_ui.fv\n",
    "dir(idaes_ui.fv)\n",
    "from idaes_ui.fv import visualize "
   ]
  },
  {
   "cell_type": "code",
   "execution_count": null,
   "id": "e631bdaa",
   "metadata": {},
   "outputs": [],
   "source": [
    "# Visualize the model\n",
    "visualize(model.fs, \"SOEC\")"
   ]
  }
 ],
 "metadata": {
  "kernelspec": {
   "display_name": "my-idaes-env",
   "language": "python",
   "name": "python3"
  },
  "language_info": {
   "codemirror_mode": {
    "name": "ipython",
    "version": 3
   },
   "file_extension": ".py",
   "mimetype": "text/x-python",
   "name": "python",
   "nbconvert_exporter": "python",
   "pygments_lexer": "ipython3",
   "version": "3.10.16"
  }
 },
 "nbformat": 4,
 "nbformat_minor": 5
}

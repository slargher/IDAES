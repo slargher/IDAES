{
 "cells": [
  {
   "cell_type": "code",
   "execution_count": 1,
   "metadata": {},
   "outputs": [],
   "source": [
    "import pyomo.environ as pe # Pyomo environment\n",
    "from idaes.core import FlowsheetBlock, StateBlock\n",
    "from idaes.models.unit_models import HeatExchanger\n",
    "from idaes.models.unit_models.heat_exchanger import HX0DInitializer\n",
    "from idaes.models.unit_models.heat_exchanger import delta_temperature_amtd_callback\n",
    "from idaes.models.properties import iapws95"
   ]
  },
  {
   "cell_type": "code",
   "execution_count": 2,
   "metadata": {},
   "outputs": [],
   "source": [
    "# Create an empty flowsheet and steam property parameter block.\n",
    "model = pe.ConcreteModel()\n",
    "model.fs = FlowsheetBlock(dynamic=False)\n",
    "model.fs.properties = iapws95.Iapws95ParameterBlock()"
   ]
  },
  {
   "cell_type": "code",
   "execution_count": 3,
   "metadata": {},
   "outputs": [],
   "source": [
    "# Add a hx model to the flowsheet.\n",
    "model.fs.heat_exchanger = HeatExchanger(\n",
    "    delta_temperature_callback=delta_temperature_amtd_callback,\n",
    "    hot_side_name=\"shell\",\n",
    "    cold_side_name=\"tube\",\n",
    "    shell={\"property_package\": model.fs.properties},\n",
    "    tube={\"property_package\": model.fs.properties}\n",
    ")"
   ]
  },
  {
   "cell_type": "code",
   "execution_count": 4,
   "metadata": {},
   "outputs": [
    {
     "name": "stdout",
     "output_type": "stream",
     "text": [
      "4.508128193938703\n"
     ]
    }
   ],
   "source": [
    "# Load the area variable that was stored in HE_AreaCalculation.ipynb\n",
    "%store -r A\n",
    "\n",
    "# Now you can use the area variable\n",
    "print(A)"
   ]
  },
  {
   "cell_type": "code",
   "execution_count": 5,
   "metadata": {},
   "outputs": [],
   "source": [
    "model.fs.heat_exchanger.area.fix(A)\n",
    "model.fs.heat_exchanger.overall_heat_transfer_coefficient[0].fix(100)\n",
    "model.fs.heat_exchanger.shell_inlet.flow_mol.fix(100)\n",
    "model.fs.heat_exchanger.shell_inlet.pressure.fix(101325)\n",
    "model.fs.heat_exchanger.shell_inlet.enth_mol.fix(4000)\n",
    "model.fs.heat_exchanger.tube_inlet.flow_mol.fix(100)\n",
    "model.fs.heat_exchanger.tube_inlet.pressure.fix(101325)\n",
    "model.fs.heat_exchanger.tube_inlet.enth_mol.fix(3000)"
   ]
  },
  {
   "cell_type": "markdown",
   "metadata": {},
   "source": [
    "Initialize the model"
   ]
  },
  {
   "cell_type": "code",
   "execution_count": 6,
   "metadata": {},
   "outputs": [
    {
     "name": "stdout",
     "output_type": "stream",
     "text": [
      "2025-05-12 15:53:58 [INFO] idaes.init.fs.heat_exchanger: Initialization Completed, optimal - <undefined>\n"
     ]
    },
    {
     "data": {
      "text/plain": [
       "<InitializationStatus.Ok: 1>"
      ]
     },
     "execution_count": 6,
     "metadata": {},
     "output_type": "execute_result"
    }
   ],
   "source": [
    "\n",
    "# Initialize the model\n",
    "initializer = HX0DInitializer()\n",
    "initializer.initialize(model.fs.heat_exchanger)"
   ]
  },
  {
   "cell_type": "code",
   "execution_count": 7,
   "metadata": {},
   "outputs": [
    {
     "name": "stdout",
     "output_type": "stream",
     "text": [
      "Degrees of Freedom: 0\n"
     ]
    }
   ],
   "source": [
    "from idaes.core.util.model_statistics import degrees_of_freedom\n",
    "print(\"Degrees of Freedom:\", degrees_of_freedom(model))\n"
   ]
  },
  {
   "cell_type": "markdown",
   "metadata": {},
   "source": [
    "Solve the model"
   ]
  },
  {
   "cell_type": "code",
   "execution_count": 8,
   "metadata": {},
   "outputs": [
    {
     "name": "stdout",
     "output_type": "stream",
     "text": [
      "Ipopt 3.13.2: \n",
      "\n",
      "******************************************************************************\n",
      "This program contains Ipopt, a library for large-scale nonlinear optimization.\n",
      " Ipopt is released as open source code under the Eclipse Public License (EPL).\n",
      "         For more information visit http://projects.coin-or.org/Ipopt\n",
      "\n",
      "This version of Ipopt was compiled from source code available at\n",
      "    https://github.com/IDAES/Ipopt as part of the Institute for the Design of\n",
      "    Advanced Energy Systems Process Systems Engineering Framework (IDAES PSE\n",
      "    Framework) Copyright (c) 2018-2019. See https://github.com/IDAES/idaes-pse.\n",
      "\n",
      "This version of Ipopt was compiled using HSL, a collection of Fortran codes\n",
      "    for large-scale scientific computation.  All technical papers, sales and\n",
      "    publicity material resulting from use of the HSL codes within IPOPT must\n",
      "    contain the following acknowledgement:\n",
      "        HSL, a collection of Fortran codes for large-scale scientific\n",
      "        computation. See http://www.hsl.rl.ac.uk.\n",
      "******************************************************************************\n",
      "\n",
      "This is Ipopt version 3.13.2, running with linear solver ma27.\n",
      "\n",
      "Number of nonzeros in equality constraint Jacobian...:       21\n",
      "Number of nonzeros in inequality constraint Jacobian.:        0\n",
      "Number of nonzeros in Lagrangian Hessian.............:       10\n",
      "\n",
      "Total number of variables............................:       10\n",
      "                     variables with only lower bounds:        0\n",
      "                variables with lower and upper bounds:        4\n",
      "                     variables with only upper bounds:        0\n",
      "Total number of equality constraints.................:       10\n",
      "Total number of inequality constraints...............:        0\n",
      "        inequality constraints with only lower bounds:        0\n",
      "   inequality constraints with lower and upper bounds:        0\n",
      "        inequality constraints with only upper bounds:        0\n",
      "\n",
      "iter    objective    inf_pr   inf_du lg(mu)  ||d||  lg(rg) alpha_du alpha_pr  ls\n",
      "   0  0.0000000e+00 9.09e-13 0.00e+00  -1.0 0.00e+00    -  0.00e+00 0.00e+00   0\n",
      "\n",
      "Number of Iterations....: 0\n",
      "\n",
      "                                   (scaled)                 (unscaled)\n",
      "Objective...............:   0.0000000000000000e+00    0.0000000000000000e+00\n",
      "Dual infeasibility......:   0.0000000000000000e+00    0.0000000000000000e+00\n",
      "Constraint violation....:   5.6843418860808015e-13    9.0949470177292824e-13\n",
      "Complementarity.........:   0.0000000000000000e+00    0.0000000000000000e+00\n",
      "Overall NLP error.......:   5.6843418860808015e-13    9.0949470177292824e-13\n",
      "\n",
      "\n",
      "Number of objective function evaluations             = 1\n",
      "Number of objective gradient evaluations             = 1\n",
      "Number of equality constraint evaluations            = 1\n",
      "Number of inequality constraint evaluations          = 0\n",
      "Number of equality constraint Jacobian evaluations   = 1\n",
      "Number of inequality constraint Jacobian evaluations = 0\n",
      "Number of Lagrangian Hessian evaluations             = 0\n",
      "Total CPU secs in IPOPT (w/o function evaluations)   =      0.028\n",
      "Total CPU secs in NLP function evaluations           =      0.000\n",
      "\n",
      "EXIT: Optimal Solution Found.\n"
     ]
    }
   ],
   "source": [
    "solver = pe.SolverFactory(\"ipopt\")\n",
    "results = solver.solve(model, tee=True)\n"
   ]
  },
  {
   "cell_type": "code",
   "execution_count": 9,
   "metadata": {},
   "outputs": [
    {
     "name": "stdout",
     "output_type": "stream",
     "text": [
      "Heat Exchanger Area: 4.508128193938703 m²\n"
     ]
    }
   ],
   "source": [
    "area_value = model.fs.heat_exchanger.area()\n",
    "\n",
    "# Print out the area of the heat exchanger\n",
    "print(f\"Heat Exchanger Area: {area_value} m²\")"
   ]
  },
  {
   "cell_type": "code",
   "execution_count": 10,
   "metadata": {},
   "outputs": [],
   "source": [
    "import idaes_ui"
   ]
  },
  {
   "cell_type": "code",
   "execution_count": 11,
   "metadata": {},
   "outputs": [
    {
     "data": {
      "text/plain": [
       "['VisualizeResult',\n",
       " '__builtins__',\n",
       " '__cached__',\n",
       " '__doc__',\n",
       " '__file__',\n",
       " '__loader__',\n",
       " '__name__',\n",
       " '__package__',\n",
       " '__path__',\n",
       " '__spec__',\n",
       " 'errors',\n",
       " 'flowsheet',\n",
       " 'fsvis',\n",
       " 'icons',\n",
       " 'model_server',\n",
       " 'models',\n",
       " 'persist',\n",
       " 'validate_flowsheet',\n",
       " 'visualize']"
      ]
     },
     "execution_count": 11,
     "metadata": {},
     "output_type": "execute_result"
    }
   ],
   "source": [
    "import idaes_ui.fv\n",
    "dir(idaes_ui.fv)"
   ]
  },
  {
   "cell_type": "code",
   "execution_count": 12,
   "metadata": {},
   "outputs": [],
   "source": [
    "from idaes_ui.fv import visualize "
   ]
  },
  {
   "cell_type": "code",
   "execution_count": 13,
   "metadata": {},
   "outputs": [
    {
     "name": "stdout",
     "output_type": "stream",
     "text": [
      "2025-05-12 15:54:12 [INFO] idaes.idaes_ui.fv.fsvis: Started visualization server\n",
      "2025-05-12 15:54:12 [INFO] idaes.idaes_ui.fv.fsvis: Loading saved flowsheet from 'HeatExchanger.json'\n",
      "2025-05-12 15:54:12 [INFO] idaes.idaes_ui.fv.fsvis: Saving flowsheet to default file 'HeatExchanger.json' in current directory (c:\\Users\\Sara\\Desktop\\IDAES\\HE)\n",
      "2025-05-12 15:54:12 [INFO] idaes.idaes_ui.fv.fsvis: Flowsheet visualization at: http://localhost:58346/app?id=HeatExchanger\n"
     ]
    },
    {
     "data": {
      "text/plain": [
       "VisualizeResult(store=<idaes_ui.fv.persist.FileDataStore object at 0x000001CD6A64CFD0>, port=58346, server=<idaes_ui.fv.model_server.FlowsheetServer object at 0x000001CD6A64D2A0>)"
      ]
     },
     "execution_count": 13,
     "metadata": {},
     "output_type": "execute_result"
    }
   ],
   "source": [
    "visualize(model.fs, \"HeatExchanger\")"
   ]
  }
 ],
 "metadata": {
  "kernelspec": {
   "display_name": "my-idaes-env",
   "language": "python",
   "name": "python3"
  },
  "language_info": {
   "codemirror_mode": {
    "name": "ipython",
    "version": 3
   },
   "file_extension": ".py",
   "mimetype": "text/x-python",
   "name": "python",
   "nbconvert_exporter": "python",
   "pygments_lexer": "ipython3",
   "version": "3.10.16"
  }
 },
 "nbformat": 4,
 "nbformat_minor": 2
}

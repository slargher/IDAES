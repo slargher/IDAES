{
 "cells": [
  {
   "cell_type": "code",
   "execution_count": 72,
   "metadata": {},
   "outputs": [],
   "source": [
    "import pyomo.environ as pe  # Pyomo environment\n",
    "from idaes.core import FlowsheetBlock, StateBlock\n",
    "from idaes.models.unit_models import HeatExchanger\n",
    "from idaes.models.unit_models.heat_exchanger import HX0DInitializer\n",
    "from idaes.models.unit_models.heat_exchanger import delta_temperature_amtd_callback\n",
    "from idaes.models.properties import iapws95\n",
    "import numpy as np\n",
    "\n"
   ]
  },
  {
   "cell_type": "code",
   "execution_count": 46,
   "metadata": {},
   "outputs": [],
   "source": [
    "# Create an empty flowsheet and steam property parameter block.\n",
    "model = pe.ConcreteModel()\n",
    "model.fs = FlowsheetBlock(dynamic=False)\n",
    "model.fs.properties = iapws95.Iapws95ParameterBlock()"
   ]
  },
  {
   "cell_type": "code",
   "execution_count": 47,
   "metadata": {},
   "outputs": [],
   "source": [
    "# Add a hx model to the flowsheet.\n",
    "model.fs.heat_exchanger = HeatExchanger(\n",
    "    delta_temperature_callback=delta_temperature_amtd_callback,\n",
    "    hot_side_name=\"shell\",\n",
    "    cold_side_name=\"tube\",\n",
    "    shell={\"property_package\": model.fs.properties},\n",
    "    tube={\"property_package\": model.fs.properties}\n",
    ")"
   ]
  },
  {
   "cell_type": "markdown",
   "metadata": {},
   "source": [
    "temperatures taken from Cinti\n",
    ",2020"
   ]
  },
  {
   "cell_type": "code",
   "execution_count": 48,
   "metadata": {},
   "outputs": [],
   "source": [
    "# Provided data in Celsius, convert to Kelvin\n",
    "T_hot_inlet_C = 662.30\n",
    "T_hot_outlet_C = 192.60\n",
    "T_cold_inlet_C = 20.00\n",
    "T_cold_outlet_C = 496.94\n",
    "\n",
    "\n",
    "T_hot_inlet = T_hot_inlet_C + 273.15  # Convert to Kelvin\n",
    "T_hot_outlet = T_hot_outlet_C + 273.15  # Convert to Kelvin\n",
    "T_cold_inlet = T_cold_inlet_C + 273.15  # Convert to Kelvin\n",
    "T_cold_outlet = T_cold_outlet_C + 273.15  # Convert to Kelvin\n"
   ]
  },
  {
   "cell_type": "markdown",
   "metadata": {},
   "source": [
    "Check these!"
   ]
  },
  {
   "cell_type": "code",
   "execution_count": 49,
   "metadata": {},
   "outputs": [],
   "source": [
    "\n",
    "# Assume constant Cp for gases (ideal gas assumption)\n",
    "Cp_hot = 1.039  # Specific heat of nitrogen (N2) in kJ/kg·K\n",
    "Cp_cold = 1.005  # Specific heat of air at constant pressure in kJ/kg·K\n"
   ]
  },
  {
   "cell_type": "markdown",
   "metadata": {},
   "source": [
    "Understand where we use this ref temperature"
   ]
  },
  {
   "cell_type": "code",
   "execution_count": 6,
   "metadata": {},
   "outputs": [],
   "source": [
    "\n",
    "# Reference temperature (for simplicity, assume 0°C = 273.15 K)\n",
    "T_ref = 273.15"
   ]
  },
  {
   "cell_type": "code",
   "execution_count": 50,
   "metadata": {},
   "outputs": [],
   "source": [
    "# Calculate enthalpy using Cp (simplified)\n",
    "def calc_enthalpy(Cp, T):\n",
    "    return Cp * (T - T_ref)"
   ]
  },
  {
   "cell_type": "code",
   "execution_count": 51,
   "metadata": {},
   "outputs": [],
   "source": [
    "# Calculate enthalpy for the hot and cold streams\n",
    "h_hot_inlet = calc_enthalpy(Cp_hot, T_hot_inlet)  # Inlet enthalpy for the hot stream (N2/steam)\n",
    "h_hot_outlet = calc_enthalpy(Cp_hot, T_hot_outlet)\n",
    "h_cold_inlet = calc_enthalpy(Cp_cold, T_cold_inlet)  # Inlet enthalpy for the cold stream (air)\n",
    "h_cold_outlet = calc_enthalpy(Cp_cold, T_cold_outlet)\n",
    "\n"
   ]
  },
  {
   "cell_type": "code",
   "execution_count": 52,
   "metadata": {},
   "outputs": [
    {
     "name": "stdout",
     "output_type": "stream",
     "text": [
      "Hot stream inlet enthalpy (h_hot_inlet): 688.13 kJ/kg\n",
      "Hot stream outlet enthalpy (h_hot_outlet): 200.11 kJ/kg\n",
      "Cold stream inlet enthalpy (h_cold_inlet): 20.10 kJ/kg\n",
      "Cold stream outlet enthalpy (h_cold_outlet): 499.42 kJ/kg\n"
     ]
    }
   ],
   "source": [
    "# Print the enthalpy values\n",
    "print(f\"Hot stream inlet enthalpy (h_hot_inlet): {h_hot_inlet:.2f} kJ/kg\")\n",
    "print(f\"Hot stream outlet enthalpy (h_hot_outlet): {h_hot_outlet:.2f} kJ/kg\")\n",
    "print(f\"Cold stream inlet enthalpy (h_cold_inlet): {h_cold_inlet:.2f} kJ/kg\")\n",
    "print(f\"Cold stream outlet enthalpy (h_cold_outlet): {h_cold_outlet:.2f} kJ/kg\")"
   ]
  },
  {
   "cell_type": "code",
   "execution_count": 53,
   "metadata": {
    "vscode": {
     "languageId": "xml"
    }
   },
   "outputs": [
    {
     "name": "stdout",
     "output_type": "stream",
     "text": [
      "Stored 'h_cold_inlet' (float)\n",
      "Stored 'h_cold_outlet' (float)\n",
      "Stored 'h_hot_inlet' (float)\n",
      "Stored 'h_hot_outlet' (float)\n"
     ]
    }
   ],
   "source": [
    "%store h_cold_inlet\n",
    "%store h_cold_outlet\n",
    "%store h_hot_inlet\n",
    "%store h_hot_outlet\n"
   ]
  },
  {
   "cell_type": "markdown",
   "metadata": {},
   "source": [
    "Look into molar flow rates"
   ]
  },
  {
   "cell_type": "code",
   "execution_count": 54,
   "metadata": {},
   "outputs": [],
   "source": [
    "# Flow rate (Assuming constant flow rate of 100 mol/s)\n",
    "flow_mol_hot = 10  # mol/s\n",
    "flow_mol_cold = 10  # mol/s"
   ]
  },
  {
   "cell_type": "code",
   "execution_count": 55,
   "metadata": {},
   "outputs": [],
   "source": [
    "# Convert molar flow to mass flow (assuming ideal gas behavior)\n",
    "M_hot = 28.0134  # Molar mass of N2 (kg/kmol)\n",
    "M_cold = 28.97  # Molar mass of air (kg/kmol)"
   ]
  },
  {
   "cell_type": "code",
   "execution_count": 56,
   "metadata": {},
   "outputs": [],
   "source": [
    "mass_flow_hot = flow_mol_hot * M_hot / 1000  # Convert to kg/s\n",
    "mass_flow_cold = flow_mol_cold * M_cold / 1000  # Convert to kg/s"
   ]
  },
  {
   "cell_type": "code",
   "execution_count": 57,
   "metadata": {},
   "outputs": [
    {
     "name": "stdout",
     "output_type": "stream",
     "text": [
      "Mass flow rate of hot stream: 0.2801 kg/s\n",
      "Mass flow rate of cold stream: 0.2897 kg/s\n"
     ]
    }
   ],
   "source": [
    "# Print the mass flow rates for hot and cold streams\n",
    "print(f\"Mass flow rate of hot stream: {mass_flow_hot:.4f} kg/s\")\n",
    "print(f\"Mass flow rate of cold stream: {mass_flow_cold:.4f} kg/s\")"
   ]
  },
  {
   "cell_type": "code",
   "execution_count": 58,
   "metadata": {},
   "outputs": [],
   "source": [
    "# Compute heat duty (Q)\n",
    "Q_hot = mass_flow_hot * Cp_hot * (T_hot_inlet - T_hot_outlet)  # kJ/s = kW\n",
    "Q_cold = mass_flow_cold * Cp_cold * (T_cold_outlet - T_cold_inlet)  # kJ/s = kW"
   ]
  },
  {
   "cell_type": "code",
   "execution_count": 59,
   "metadata": {},
   "outputs": [
    {
     "name": "stdout",
     "output_type": "stream",
     "text": [
      "Q_hot: 136.71 kW\n",
      "Q_cold: 138.86 kW\n"
     ]
    }
   ],
   "source": [
    "# Print Q_hot and Q_cold values\n",
    "print(f\"Q_hot: {Q_hot:.2f} kW\")\n",
    "print(f\"Q_cold: {Q_cold:.2f} kW\")"
   ]
  },
  {
   "cell_type": "code",
   "execution_count": 60,
   "metadata": {},
   "outputs": [],
   "source": [
    "# Ensure heat balance is satisfied\n",
    "Q = min(Q_hot, Q_cold) * 1000  # Convert kW to W"
   ]
  },
  {
   "cell_type": "code",
   "execution_count": 61,
   "metadata": {},
   "outputs": [
    {
     "name": "stdout",
     "output_type": "stream",
     "text": [
      "Computed Q: 136.71 kW\n"
     ]
    }
   ],
   "source": [
    "# Print the computed Q value\n",
    "print(f\"Computed Q: {Q/1000:.2f} kW\")"
   ]
  },
  {
   "cell_type": "code",
   "execution_count": 62,
   "metadata": {},
   "outputs": [
    {
     "name": "stdout",
     "output_type": "stream",
     "text": [
      "Computed LMTD: 168.95 K\n"
     ]
    }
   ],
   "source": [
    "# Compute LMTD\n",
    "delta_T1 = T_hot_inlet - T_cold_outlet\n",
    "delta_T2 = T_hot_outlet - T_cold_inlet\n",
    "LMTD = (delta_T1 - delta_T2) / np.log(delta_T1 / delta_T2)\n",
    "# Print the computed LMTD\n",
    "print(f\"Computed LMTD: {LMTD:.2f} K\")"
   ]
  },
  {
   "cell_type": "code",
   "execution_count": null,
   "metadata": {},
   "outputs": [],
   "source": [
    "# Fixed overall heat transfer coefficient from Cinti et al 2020\n",
    "U = 30  # W/m²·K (30 kg/K/s³ = 30 W/m²·K)"
   ]
  },
  {
   "cell_type": "code",
   "execution_count": 64,
   "metadata": {},
   "outputs": [],
   "source": [
    "# Ensure all necessary variables are fixed before initialization\n",
    "model.fs.heat_exchanger.shell_inlet.flow_mol.fix(flow_mol_hot)  # Fix hot stream flow rate\n",
    "model.fs.heat_exchanger.tube_inlet.flow_mol.fix(flow_mol_cold)  # Fix cold stream flow rate\n",
    "model.fs.heat_exchanger.shell_inlet.enth_mol.fix(h_hot_inlet)  # Fix hot stream inlet enthalpy\n",
    "model.fs.heat_exchanger.tube_inlet.enth_mol.fix(h_cold_inlet)  # Fix cold stream inlet enthalpy\n",
    "\n",
    "model.fs.heat_exchanger.overall_heat_transfer_coefficient[0].fix(30)\n",
    "model.fs.heat_exchanger.shell_inlet.pressure.fix(101325)\n",
    "model.fs.heat_exchanger.tube_inlet.pressure.fix(101325)\n"
   ]
  },
  {
   "cell_type": "markdown",
   "metadata": {},
   "source": [
    "#model.fs.heat_exchanger.area.fix()  # m²"
   ]
  },
  {
   "cell_type": "code",
   "execution_count": 39,
   "metadata": {},
   "outputs": [
    {
     "name": "stdout",
     "output_type": "stream",
     "text": [
      "2025-04-10 09:36:19 [INFO] idaes.init.fs.heat_exchanger: Initialization Completed, optimal - <undefined>\n"
     ]
    },
    {
     "data": {
      "text/plain": [
       "<InitializationStatus.Ok: 1>"
      ]
     },
     "execution_count": 39,
     "metadata": {},
     "output_type": "execute_result"
    }
   ],
   "source": [
    "# Initialize the model\n",
    "initializer = HX0DInitializer()\n",
    "initializer.initialize(model.fs.heat_exchanger)"
   ]
  },
  {
   "cell_type": "code",
   "execution_count": 65,
   "metadata": {},
   "outputs": [
    {
     "name": "stdout",
     "output_type": "stream",
     "text": [
      "Degrees of Freedom: 1\n"
     ]
    }
   ],
   "source": [
    "from idaes.core.util.model_statistics import degrees_of_freedom\n",
    "print(\"Degrees of Freedom:\", degrees_of_freedom(model))"
   ]
  },
  {
   "cell_type": "code",
   "execution_count": 66,
   "metadata": {},
   "outputs": [],
   "source": [
    "\n",
    "# Ensure the solver is correctly initialized and used\n",
    "solver = pe.SolverFactory(\"ipopt\")  # Ensure SolverFactory is correctly initialized\n"
   ]
  },
  {
   "cell_type": "code",
   "execution_count": 67,
   "metadata": {},
   "outputs": [
    {
     "name": "stdout",
     "output_type": "stream",
     "text": [
      "Ipopt 3.13.2: \n",
      "\n",
      "******************************************************************************\n",
      "This program contains Ipopt, a library for large-scale nonlinear optimization.\n",
      " Ipopt is released as open source code under the Eclipse Public License (EPL).\n",
      "         For more information visit http://projects.coin-or.org/Ipopt\n",
      "\n",
      "This version of Ipopt was compiled from source code available at\n",
      "    https://github.com/IDAES/Ipopt as part of the Institute for the Design of\n",
      "    Advanced Energy Systems Process Systems Engineering Framework (IDAES PSE\n",
      "    Framework) Copyright (c) 2018-2019. See https://github.com/IDAES/idaes-pse.\n",
      "\n",
      "This version of Ipopt was compiled using HSL, a collection of Fortran codes\n",
      "    for large-scale scientific computation.  All technical papers, sales and\n",
      "    publicity material resulting from use of the HSL codes within IPOPT must\n",
      "    contain the following acknowledgement:\n",
      "        HSL, a collection of Fortran codes for large-scale scientific\n",
      "        computation. See http://www.hsl.rl.ac.uk.\n",
      "******************************************************************************\n",
      "\n",
      "This is Ipopt version 3.13.2, running with linear solver ma27.\n",
      "\n",
      "Number of nonzeros in equality constraint Jacobian...:       22\n",
      "Number of nonzeros in inequality constraint Jacobian.:        0\n",
      "Number of nonzeros in Lagrangian Hessian.............:       12\n",
      "\n",
      "Total number of variables............................:       11\n",
      "                     variables with only lower bounds:        1\n",
      "                variables with lower and upper bounds:        4\n",
      "                     variables with only upper bounds:        0\n",
      "Total number of equality constraints.................:       10\n",
      "Total number of inequality constraints...............:        0\n",
      "        inequality constraints with only lower bounds:        0\n",
      "   inequality constraints with lower and upper bounds:        0\n",
      "        inequality constraints with only upper bounds:        0\n",
      "\n",
      "iter    objective    inf_pr   inf_du lg(mu)  ||d||  lg(rg) alpha_du alpha_pr  ls\n",
      "   0  0.0000000e+00 1.09e+07 3.06e-01  -1.0 0.00e+00    -  0.00e+00 0.00e+00   0\n",
      "   1  0.0000000e+00 7.25e+04 1.25e+09  -1.0 1.09e+07    -  2.80e-06 9.99e-01f  1\n",
      "   2  0.0000000e+00 1.18e+05 1.24e+09  -1.0 9.00e+03    -  4.90e-01 9.18e-01h  1\n",
      "   3  0.0000000e+00 1.03e+05 1.09e+09  -1.0 1.28e+03  -4.0 9.87e-01 1.25e-01h  1\n",
      "   4  0.0000000e+00 1.19e+04 1.15e+07  -1.0 2.30e+03    -  1.15e-01 1.00e+00h  1\n",
      "   5  0.0000000e+00 2.54e+04 7.51e+01  -1.0 1.13e+03  -4.5 4.17e-01 1.00e+00h  1\n",
      "   6  0.0000000e+00 1.28e+03 1.72e+00  -1.0 3.44e+02  -4.1 9.90e-01 1.00e+00h  1\n",
      "   7  0.0000000e+00 8.62e+00 1.48e-01  -1.0 1.60e+01  -4.5 9.90e-01 1.00e+00h  1\n",
      "   8  0.0000000e+00 1.53e+03 1.33e-01  -1.0 9.87e+02    -  9.90e-01 1.00e+00h  1\n",
      "   9  0.0000000e+00 7.42e+04 4.49e+00  -1.0 1.20e+04    -  2.69e-01 1.00e+00h  1\n",
      "iter    objective    inf_pr   inf_du lg(mu)  ||d||  lg(rg) alpha_du alpha_pr  ls\n",
      "  10  0.0000000e+00 4.14e+01 1.67e-02  -1.0 1.24e+02  -5.0 1.00e+00 1.00e+00h  1\n",
      "  11  0.0000000e+00 8.34e+01 9.59e-02  -1.7 1.63e+03    -  1.00e+00 1.00e+00h  1\n",
      "  12  0.0000000e+00 1.51e+05 3.45e+00  -1.7 8.02e+04    -  2.58e-01 1.00e+00h  1\n",
      "  13  0.0000000e+00 1.71e+00 5.57e-04  -1.7 3.95e+01  -5.5 1.00e+00 1.00e+00h  1\n",
      "  14  0.0000000e+00 4.66e-04 1.06e-05  -3.8 1.60e+01    -  1.00e+00 1.00e+00h  1\n",
      "  15  0.0000000e+00 5.75e-04 8.23e-08  -5.7 2.84e+01    -  1.00e+00 1.00e+00h  1\n",
      "  16  0.0000000e+00 6.87e-06 1.05e-10  -8.6 3.11e+00    -  1.00e+00 1.00e+00h  1\n",
      "  17  0.0000000e+00 3.72e+00 2.51e-14  -8.6 2.29e+03    -  1.00e+00 1.00e+00h  1\n",
      "  18  0.0000000e+00 1.71e-05 2.51e-14  -8.6 4.53e-01    -  1.00e+00 1.00e+00h  1\n",
      "  19  0.0000000e+00 3.30e-12 2.51e-14  -8.6 2.41e-07    -  1.00e+00 1.00e+00h  1\n",
      "\n",
      "Number of Iterations....: 19\n",
      "\n",
      "                                   (scaled)                 (unscaled)\n",
      "Objective...............:   0.0000000000000000e+00    0.0000000000000000e+00\n",
      "Dual infeasibility......:   2.5059035596800619e-14    2.5059035596800619e-14\n",
      "Constraint violation....:   3.2969182939268649e-12    3.2969182939268649e-12\n",
      "Complementarity.........:   2.5059035596800622e-09    2.5059035596800622e-09\n",
      "Overall NLP error.......:   2.5059035596800622e-09    2.5059035596800622e-09\n",
      "\n",
      "\n",
      "Number of objective function evaluations             = 20\n",
      "Number of objective gradient evaluations             = 20\n",
      "Number of equality constraint evaluations            = 20\n",
      "Number of inequality constraint evaluations          = 0\n",
      "Number of equality constraint Jacobian evaluations   = 20\n",
      "Number of inequality constraint Jacobian evaluations = 0\n",
      "Number of Lagrangian Hessian evaluations             = 19\n",
      "Total CPU secs in IPOPT (w/o function evaluations)   =      0.016\n",
      "Total CPU secs in NLP function evaluations           =      0.368\n",
      "\n",
      "EXIT: Optimal Solution Found.\n"
     ]
    }
   ],
   "source": [
    "\n",
    "results = solver.solve(model, tee=True)"
   ]
  },
  {
   "cell_type": "code",
   "execution_count": 75,
   "metadata": {},
   "outputs": [
    {
     "name": "stdout",
     "output_type": "stream",
     "text": [
      "Block fs.heat_exchanger\n",
      "\n",
      "  Variables:\n",
      "    overall_heat_transfer_coefficient : Overall heat transfer coefficient\n",
      "        Size=1, Index=fs._time, Units=kg/K/s**3\n",
      "        Key : Lower : Value : Upper : Fixed : Stale : Domain\n",
      "        0.0 :     0 :    30 :  None :  True :  True : PositiveReals\n",
      "    area : Heat exchange area\n",
      "        Size=1, Index=None, Units=m**2\n",
      "        Key  : Lower : Value             : Upper : Fixed : Stale : Domain\n",
      "        None :     0 : 99185.13829987208 :  None : False : False : PositiveReals\n",
      "    delta_temperature_in : Temperature difference at the hot inlet end\n",
      "        Size=1, Index=fs._time, Units=K\n",
      "        Key : Lower : Value                : Upper : Fixed : Stale : Domain\n",
      "        0.0 :  None : 0.002250316109490042 :  None : False : False :  Reals\n",
      "    delta_temperature_out : Temperature difference at the hot outlet end\n",
      "        Size=1, Index=fs._time, Units=K\n",
      "        Key : Lower : Value                : Upper : Fixed : Stale : Domain\n",
      "        0.0 :  None : 0.002238659931955717 :  None : False : False :  Reals\n",
      "    heat_duty : Size=1, Index=fs._time, ReferenceTo=fs.heat_exchanger.cold_side.heat\n",
      "        Key : Lower : Value             : Upper : Fixed : Stale : Domain\n",
      "        0.0 :  None : 6678.595642434149 :  None : False : False :  Reals\n",
      "    _flow_mol_hot_side_inlet_ref : Size=1, Index=fs._time, ReferenceTo=fs.heat_exchanger.hot_side.properties_in[...].component('flow_mol')\n",
      "        Key : Lower : Value : Upper : Fixed : Stale : Domain\n",
      "        0.0 :  None :    10 :  None :  True :  True :  Reals\n",
      "    _enth_mol_hot_side_inlet_ref : Size=1, Index=fs._time, ReferenceTo=fs.heat_exchanger.hot_side.properties_in[...].component('enth_mol')\n",
      "        Key : Lower                : Value    : Upper             : Fixed : Stale : Domain\n",
      "        0.0 : 0.011021386146668411 : 688.1297 : 80765.34157807354 :  True :  True :  Reals\n",
      "    _pressure_hot_side_inlet_ref : Size=1, Index=fs._time, ReferenceTo=fs.heat_exchanger.hot_side.properties_in[...].component('pressure')\n",
      "        Key : Lower                  : Value  : Upper        : Fixed : Stale : Domain\n",
      "        0.0 : 1.0000000000000002e-06 : 101325 : 1100000000.0 :  True :  True : PositiveReals\n",
      "    _flow_mol_cold_side_inlet_ref : Size=1, Index=fs._time, ReferenceTo=fs.heat_exchanger.cold_side.properties_in[...].component('flow_mol')\n",
      "        Key : Lower : Value : Upper : Fixed : Stale : Domain\n",
      "        0.0 :  None :    10 :  None :  True :  True :  Reals\n",
      "    _enth_mol_cold_side_inlet_ref : Size=1, Index=fs._time, ReferenceTo=fs.heat_exchanger.cold_side.properties_in[...].component('enth_mol')\n",
      "        Key : Lower                : Value              : Upper             : Fixed : Stale : Domain\n",
      "        0.0 : 0.011021386146668411 : 20.099999999999998 : 80765.34157807354 :  True :  True :  Reals\n",
      "    _pressure_cold_side_inlet_ref : Size=1, Index=fs._time, ReferenceTo=fs.heat_exchanger.cold_side.properties_in[...].component('pressure')\n",
      "        Key : Lower                  : Value  : Upper        : Fixed : Stale : Domain\n",
      "        0.0 : 1.0000000000000002e-06 : 101325 : 1100000000.0 :  True :  True : PositiveReals\n",
      "    _flow_mol_hot_side_outlet_ref : Size=1, Index=fs._time, ReferenceTo=fs.heat_exchanger.hot_side.properties_out[...].component('flow_mol')\n",
      "        Key : Lower : Value : Upper : Fixed : Stale : Domain\n",
      "        0.0 :  None :  10.0 :  None : False : False :  Reals\n",
      "    _enth_mol_hot_side_outlet_ref : Size=1, Index=fs._time, ReferenceTo=fs.heat_exchanger.hot_side.properties_out[...].component('enth_mol')\n",
      "        Key : Lower                : Value              : Upper             : Fixed : Stale : Domain\n",
      "        0.0 : 0.011021386146668411 : 20.270135756585027 : 80765.34157807354 : False : False :  Reals\n",
      "    _pressure_hot_side_outlet_ref : Size=1, Index=fs._time, ReferenceTo=fs.heat_exchanger.hot_side.properties_out[...].component('pressure')\n",
      "        Key : Lower                  : Value    : Upper        : Fixed : Stale : Domain\n",
      "        0.0 : 1.0000000000000002e-06 : 101325.0 : 1100000000.0 : False : False : PositiveReals\n",
      "    _flow_mol_cold_side_outlet_ref : Size=1, Index=fs._time, ReferenceTo=fs.heat_exchanger.cold_side.properties_out[...].component('flow_mol')\n",
      "        Key : Lower : Value : Upper : Fixed : Stale : Domain\n",
      "        0.0 :  None :  10.0 :  None : False : False :  Reals\n",
      "    _enth_mol_cold_side_outlet_ref : Size=1, Index=fs._time, ReferenceTo=fs.heat_exchanger.cold_side.properties_out[...].component('enth_mol')\n",
      "        Key : Lower                : Value             : Upper             : Fixed : Stale : Domain\n",
      "        0.0 : 0.011021386146668411 : 687.9595642434149 : 80765.34157807354 : False : False :  Reals\n",
      "    _pressure_cold_side_outlet_ref : Size=1, Index=fs._time, ReferenceTo=fs.heat_exchanger.cold_side.properties_out[...].component('pressure')\n",
      "        Key : Lower                  : Value    : Upper        : Fixed : Stale : Domain\n",
      "        0.0 : 1.0000000000000002e-06 : 101325.0 : 1100000000.0 : False : False : PositiveReals\n",
      "\n",
      "  Objectives:\n",
      "    None\n",
      "\n",
      "  Constraints:\n",
      "    delta_temperature_in_equation : Size=1\n",
      "        Key : Lower : Body                  : Upper\n",
      "        0.0 :   0.0 : 3.859396743161048e-12 :   0.0\n",
      "    delta_temperature_out_equation : Size=1\n",
      "        Key : Lower : Body                  : Upper\n",
      "        0.0 :   0.0 : 4.100947879892569e-12 :   0.0\n",
      "    unit_heat_balance : Size=1\n",
      "        Key : Lower : Body : Upper\n",
      "        0.0 :   0.0 :  0.0 :   0.0\n",
      "    heat_transfer_equation : Size=1\n",
      "        Key : Lower : Body                   : Upper\n",
      "        0.0 :   0.0 : 1.8189894035458565e-12 :   0.0\n",
      "\n",
      "  Blocks:\n",
      "    Block fs.heat_exchanger.hot_side\n",
      "    \n",
      "      Variables:\n",
      "        heat : Heat transferred into control volume\n",
      "            Size=1, Index=fs._time, Units=kg*m**2/s**3\n",
      "            Key : Lower : Value              : Upper : Fixed : Stale : Domain\n",
      "            0.0 :  None : -6678.595642434149 :  None : False : False :  Reals\n",
      "    \n",
      "      Objectives:\n",
      "        None\n",
      "    \n",
      "      Constraints:\n",
      "        material_balances : Size=1\n",
      "            Key          : Lower : Body : Upper\n",
      "            (0.0, 'H2O') :   0.0 :  0.0 :   0.0\n",
      "        enthalpy_balances : Size=1\n",
      "            Key : Lower : Body : Upper\n",
      "            0.0 :   0.0 :  0.0 :   0.0\n",
      "        pressure_balance : Size=1\n",
      "            Key : Lower : Body : Upper\n",
      "            0.0 :   0.0 :  0.0 :   0.0\n",
      "    \n",
      "      Blocks:\n",
      "        Block fs.heat_exchanger.hot_side.properties_in[0.0]\n",
      "        \n",
      "          Variables:\n",
      "            flow_mol : Total mole flow\n",
      "                Size=1, Index=None, Units=mol/s\n",
      "                Key  : Lower : Value : Upper : Fixed : Stale : Domain\n",
      "                None :  None :    10 :  None :  True :  True :  Reals\n",
      "            pressure : Pressure\n",
      "                Size=1, Index=None, Units=Pa\n",
      "                Key  : Lower                  : Value  : Upper        : Fixed : Stale : Domain\n",
      "                None : 1.0000000000000002e-06 : 101325 : 1100000000.0 :  True :  True : PositiveReals\n",
      "            enth_mol : Total molar enthalpy\n",
      "                Size=1, Index=None, Units=J/mol\n",
      "                Key  : Lower                : Value    : Upper             : Fixed : Stale : Domain\n",
      "                None : 0.011021386146668411 : 688.1297 : 80765.34157807354 :  True :  True :  Reals\n",
      "        \n",
      "          Objectives:\n",
      "            None\n",
      "        \n",
      "          Constraints:\n",
      "            None\n",
      "        Block fs.heat_exchanger.hot_side.properties_out[0.0]\n",
      "        \n",
      "          Variables:\n",
      "            flow_mol : Total mole flow\n",
      "                Size=1, Index=None, Units=mol/s\n",
      "                Key  : Lower : Value : Upper : Fixed : Stale : Domain\n",
      "                None :  None :  10.0 :  None : False : False :  Reals\n",
      "            pressure : Pressure\n",
      "                Size=1, Index=None, Units=Pa\n",
      "                Key  : Lower                  : Value    : Upper        : Fixed : Stale : Domain\n",
      "                None : 1.0000000000000002e-06 : 101325.0 : 1100000000.0 : False : False : PositiveReals\n",
      "            enth_mol : Total molar enthalpy\n",
      "                Size=1, Index=None, Units=J/mol\n",
      "                Key  : Lower                : Value              : Upper             : Fixed : Stale : Domain\n",
      "                None : 0.011021386146668411 : 20.270135756585027 : 80765.34157807354 : False : False :  Reals\n",
      "        \n",
      "          Objectives:\n",
      "            None\n",
      "        \n",
      "          Constraints:\n",
      "            None\n",
      "    Block fs.heat_exchanger.cold_side\n",
      "    \n",
      "      Variables:\n",
      "        heat : Heat transferred into control volume\n",
      "            Size=1, Index=fs._time, Units=kg*m**2/s**3\n",
      "            Key : Lower : Value             : Upper : Fixed : Stale : Domain\n",
      "            0.0 :  None : 6678.595642434149 :  None : False : False :  Reals\n",
      "    \n",
      "      Objectives:\n",
      "        None\n",
      "    \n",
      "      Constraints:\n",
      "        material_balances : Size=1\n",
      "            Key          : Lower : Body : Upper\n",
      "            (0.0, 'H2O') :   0.0 :  0.0 :   0.0\n",
      "        enthalpy_balances : Size=1\n",
      "            Key : Lower : Body : Upper\n",
      "            0.0 :   0.0 :  0.0 :   0.0\n",
      "        pressure_balance : Size=1\n",
      "            Key : Lower : Body : Upper\n",
      "            0.0 :   0.0 :  0.0 :   0.0\n",
      "    \n",
      "      Blocks:\n",
      "        Block fs.heat_exchanger.cold_side.properties_in[0.0]\n",
      "        \n",
      "          Variables:\n",
      "            flow_mol : Total mole flow\n",
      "                Size=1, Index=None, Units=mol/s\n",
      "                Key  : Lower : Value : Upper : Fixed : Stale : Domain\n",
      "                None :  None :    10 :  None :  True :  True :  Reals\n",
      "            pressure : Pressure\n",
      "                Size=1, Index=None, Units=Pa\n",
      "                Key  : Lower                  : Value  : Upper        : Fixed : Stale : Domain\n",
      "                None : 1.0000000000000002e-06 : 101325 : 1100000000.0 :  True :  True : PositiveReals\n",
      "            enth_mol : Total molar enthalpy\n",
      "                Size=1, Index=None, Units=J/mol\n",
      "                Key  : Lower                : Value              : Upper             : Fixed : Stale : Domain\n",
      "                None : 0.011021386146668411 : 20.099999999999998 : 80765.34157807354 :  True :  True :  Reals\n",
      "        \n",
      "          Objectives:\n",
      "            None\n",
      "        \n",
      "          Constraints:\n",
      "            None\n",
      "        Block fs.heat_exchanger.cold_side.properties_out[0.0]\n",
      "        \n",
      "          Variables:\n",
      "            flow_mol : Total mole flow\n",
      "                Size=1, Index=None, Units=mol/s\n",
      "                Key  : Lower : Value : Upper : Fixed : Stale : Domain\n",
      "                None :  None :  10.0 :  None : False : False :  Reals\n",
      "            pressure : Pressure\n",
      "                Size=1, Index=None, Units=Pa\n",
      "                Key  : Lower                  : Value    : Upper        : Fixed : Stale : Domain\n",
      "                None : 1.0000000000000002e-06 : 101325.0 : 1100000000.0 : False : False : PositiveReals\n",
      "            enth_mol : Total molar enthalpy\n",
      "                Size=1, Index=None, Units=J/mol\n",
      "                Key  : Lower                : Value             : Upper             : Fixed : Stale : Domain\n",
      "                None : 0.011021386146668411 : 687.9595642434149 : 80765.34157807354 : False : False :  Reals\n",
      "        \n",
      "          Objectives:\n",
      "            None\n",
      "        \n",
      "          Constraints:\n",
      "            None\n"
     ]
    }
   ],
   "source": [
    "model.fs.heat_exchanger.display()\n"
   ]
  },
  {
   "cell_type": "code",
   "execution_count": 68,
   "metadata": {},
   "outputs": [],
   "source": [
    "A_calculated = model.fs.heat_exchanger.area"
   ]
  },
  {
   "cell_type": "code",
   "execution_count": 69,
   "metadata": {},
   "outputs": [
    {
     "name": "stdout",
     "output_type": "stream",
     "text": [
      "Calculated Heat Exchanger Area: 99185.13829987208 m²\n"
     ]
    }
   ],
   "source": [
    "# Print the calculated heat exchanger area\n",
    "print(f\"Calculated Heat Exchanger Area: {A_calculated.value} m²\")"
   ]
  },
  {
   "cell_type": "code",
   "execution_count": 70,
   "metadata": {},
   "outputs": [],
   "source": [
    "\n",
    "# Compute heat exchanger area\n",
    "A = Q / (U * LMTD)"
   ]
  },
  {
   "cell_type": "code",
   "execution_count": 71,
   "metadata": {},
   "outputs": [
    {
     "name": "stdout",
     "output_type": "stream",
     "text": [
      "Computed Heat Exchanger Area: 26.97 m²\n"
     ]
    }
   ],
   "source": [
    "print(f\"Computed Heat Exchanger Area: {A:.2f} m²\")"
   ]
  },
  {
   "cell_type": "code",
   "execution_count": 31,
   "metadata": {},
   "outputs": [
    {
     "name": "stdout",
     "output_type": "stream",
     "text": [
      "Stored 'A' (float64)\n"
     ]
    }
   ],
   "source": [
    "%store A"
   ]
  },
  {
   "cell_type": "markdown",
   "metadata": {},
   "source": [
    "UP UNTIL HERE JUST CALCULATION, FROM HERE DOWN INFO TO VISUALIZE THE FLOWSHEET WITH UI"
   ]
  },
  {
   "cell_type": "code",
   "execution_count": 32,
   "metadata": {},
   "outputs": [
    {
     "name": "stdout",
     "output_type": "stream",
     "text": [
      "WARNING: Implicitly replacing the Component attribute heat_duty (type=<class\n",
      "'pyomo.core.base.param.ScalarParam'>) on block fs with a new Component\n",
      "(type=<class 'pyomo.core.base.param.ScalarParam'>). This is usually indicative\n",
      "of a modelling error. To avoid this warning, use block.del_component() and\n",
      "block.add_component().\n",
      "WARNING: Implicitly replacing the Component attribute LMTD (type=<class\n",
      "'pyomo.core.base.param.ScalarParam'>) on block fs with a new Component\n",
      "(type=<class 'pyomo.core.base.param.ScalarParam'>). This is usually indicative\n",
      "of a modelling error. To avoid this warning, use block.del_component() and\n",
      "block.add_component().\n",
      "WARNING: Implicitly replacing the Component attribute area_calculated\n",
      "(type=<class 'pyomo.core.base.param.ScalarParam'>) on block fs with a new\n",
      "Component (type=<class 'pyomo.core.base.param.ScalarParam'>). This is usually\n",
      "indicative of a modelling error. To avoid this warning, use\n",
      "block.del_component() and block.add_component().\n"
     ]
    }
   ],
   "source": [
    "# **Store these values as variables for visualization**\n",
    "model.fs.heat_duty = pe.Param(initialize=Q, doc=\"Heat Duty (W)\")  # Heat Duty\n",
    "model.fs.LMTD = pe.Param(initialize=LMTD, doc=\"Log Mean Temperature Difference (K)\")  # LMTD\n",
    "model.fs.area_calculated = pe.Param(initialize=A, doc=\"Calculated Heat Exchanger Area (m²)\")"
   ]
  },
  {
   "cell_type": "code",
   "execution_count": 35,
   "metadata": {},
   "outputs": [],
   "source": [
    "import idaes_ui\n",
    "import idaes_ui.fv\n",
    "dir(idaes_ui.fv)\n",
    "from idaes_ui.fv import visualize \n",
    "\n"
   ]
  },
  {
   "cell_type": "code",
   "execution_count": 36,
   "metadata": {},
   "outputs": [
    {
     "name": "stdout",
     "output_type": "stream",
     "text": [
      "2025-04-10 09:35:32 [INFO] idaes.idaes_ui.fv.fsvis: Started visualization server\n",
      "2025-04-10 09:35:32 [INFO] idaes.idaes_ui.fv.fsvis: Saving flowsheet to default file 'HeatExchangerAreaCalculation.json' in current directory (c:\\Users\\Sara\\Desktop\\IDAES)\n",
      "2025-04-10 09:35:33 [INFO] idaes.idaes_ui.fv.fsvis: Flowsheet visualization at: http://localhost:51026/app?id=HeatExchangerAreaCalculation\n"
     ]
    },
    {
     "data": {
      "text/plain": [
       "VisualizeResult(store=<idaes_ui.fv.persist.FileDataStore object at 0x0000020574E557E0>, port=51026, server=<idaes_ui.fv.model_server.FlowsheetServer object at 0x0000020573E6E380>)"
      ]
     },
     "execution_count": 36,
     "metadata": {},
     "output_type": "execute_result"
    }
   ],
   "source": [
    "\n",
    "# Visualize the model\n",
    "visualize(model.fs, \"HeatExchangerAreaCalculation\")"
   ]
  },
  {
   "cell_type": "code",
   "execution_count": 37,
   "metadata": {},
   "outputs": [
    {
     "name": "stdout",
     "output_type": "stream",
     "text": [
      "Heat Duty (Q): 136.71 kW\n",
      "LMTD: 168.95 K\n",
      "Calculated Heat Exchanger Area: 26.97 m²\n"
     ]
    }
   ],
   "source": [
    "# Print results\n",
    "print(f\"Heat Duty (Q): {Q / 1000:.2f} kW\")\n",
    "print(f\"LMTD: {LMTD:.2f} K\")\n",
    "print(f\"Calculated Heat Exchanger Area: {A:.2f} m²\")"
   ]
  }
 ],
 "metadata": {
  "kernelspec": {
   "display_name": "my-idaes-env",
   "language": "python",
   "name": "python3"
  },
  "language_info": {
   "codemirror_mode": {
    "name": "ipython",
    "version": 3
   },
   "file_extension": ".py",
   "mimetype": "text/x-python",
   "name": "python",
   "nbconvert_exporter": "python",
   "pygments_lexer": "ipython3",
   "version": "3.10.16"
  }
 },
 "nbformat": 4,
 "nbformat_minor": 2
}

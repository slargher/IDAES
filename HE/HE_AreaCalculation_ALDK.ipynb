{
 "cells": [
  {
   "cell_type": "code",
   "execution_count": 1,
   "metadata": {},
   "outputs": [],
   "source": [
    "import pyomo.environ as pe  # Pyomo environment\n",
    "from idaes.core import FlowsheetBlock\n",
    "from idaes.models.unit_models import HeatExchanger\n",
    "from idaes.models.unit_models.heat_exchanger import HX0DInitializer\n",
    "from idaes.models.unit_models.heat_exchanger import delta_temperature_amtd_callback\n",
    "from idaes.models.properties import iapws95\n",
    "import numpy as np\n"
   ]
  },
  {
   "cell_type": "code",
   "execution_count": 2,
   "metadata": {},
   "outputs": [],
   "source": [
    "# Create an empty flowsheet and steam property parameter block.\n",
    "model = pe.ConcreteModel()\n",
    "model.fs = FlowsheetBlock(dynamic=False)\n",
    "model.fs.params = iapws95.Iapws95ParameterBlock()"
   ]
  },
  {
   "cell_type": "markdown",
   "metadata": {},
   "source": [
    "temperatures taken from AMON SharePoint AlfaLaval"
   ]
  },
  {
   "cell_type": "code",
   "execution_count": 3,
   "metadata": {},
   "outputs": [],
   "source": [
    "# Provided data in Celsius, convert to Kelvin\n",
    "#corrected values\n",
    "T_hot_inlet_C = 691\n",
    "T_hot_outlet_C = 98.248537\n",
    "T_cold_inlet_C = 43.875864 \n",
    "T_cold_outlet_C = 628.74162\n",
    "\n",
    "\n",
    "T_hot_inlet = T_hot_inlet_C + 273.15  # Convert to Kelvin\n",
    "T_hot_outlet = T_hot_outlet_C + 273.15  # Convert to Kelvin\n",
    "T_cold_inlet = T_cold_inlet_C + 273.15  # Convert to Kelvin\n",
    "T_cold_outlet = T_cold_outlet_C + 273.15  # Convert to Kelvin\n"
   ]
  },
  {
   "cell_type": "code",
   "execution_count": 4,
   "metadata": {},
   "outputs": [],
   "source": [
    "\n",
    "# Assume constant Cp for gases (ideal gas assumption)\n",
    "Cp_hot = 1.039  # Specific heat of nitrogen (N2) in kJ/kg·K\n",
    "Cp_cold = 1.005  # Specific heat of air at constant pressure in kJ/kg·K\n"
   ]
  },
  {
   "cell_type": "code",
   "execution_count": 5,
   "metadata": {},
   "outputs": [],
   "source": [
    "\n",
    "# Reference temperature (0°C = 273.15 K)\n",
    "T_ref = 273.15"
   ]
  },
  {
   "cell_type": "code",
   "execution_count": 6,
   "metadata": {},
   "outputs": [],
   "source": [
    "# Calculate enthalpy using Cp (simplified)\n",
    "def calc_enthalpy(Cp, T):\n",
    "    return Cp * (T - T_ref)"
   ]
  },
  {
   "cell_type": "code",
   "execution_count": 7,
   "metadata": {},
   "outputs": [],
   "source": [
    "# Calculate enthalpy for the hot and cold streams\n",
    "h_hot_inlet = calc_enthalpy(Cp_hot, T_hot_inlet)  # Inlet enthalpy for the hot stream (N2/steam)\n",
    "h_hot_outlet = calc_enthalpy(Cp_hot, T_hot_outlet)\n",
    "h_cold_inlet = calc_enthalpy(Cp_cold, T_cold_inlet)  # Inlet enthalpy for the cold stream (air)\n",
    "h_cold_outlet = calc_enthalpy(Cp_cold, T_cold_outlet)\n",
    "\n"
   ]
  },
  {
   "cell_type": "code",
   "execution_count": 8,
   "metadata": {
    "vscode": {
     "languageId": "xml"
    }
   },
   "outputs": [
    {
     "name": "stdout",
     "output_type": "stream",
     "text": [
      "Stored 'h_cold_inlet' (float)\n",
      "Stored 'h_cold_outlet' (float)\n",
      "Stored 'h_hot_inlet' (float)\n",
      "Stored 'h_hot_outlet' (float)\n"
     ]
    }
   ],
   "source": [
    "%store h_cold_inlet\n",
    "%store h_cold_outlet\n",
    "%store h_hot_inlet\n",
    "%store h_hot_outlet\n"
   ]
  },
  {
   "cell_type": "markdown",
   "metadata": {},
   "source": [
    "Look into molar flow rates"
   ]
  },
  {
   "cell_type": "code",
   "execution_count": 9,
   "metadata": {},
   "outputs": [],
   "source": [
    "# Flow rates taken from AMON SharePoint AlfaLaval excel 8kW 100%\n",
    "flow_mol_hot = 0.45644096  # N2 mol/s\n",
    "flow_mol_cold = 0.46741802  # Air mol/s"
   ]
  },
  {
   "cell_type": "code",
   "execution_count": 10,
   "metadata": {},
   "outputs": [],
   "source": [
    "# Convert molar flow to mass flow (assuming ideal gas behavior)\n",
    "M_hot = 28.0134  # Molar mass of N2 (kg/kmol)\n",
    "M_cold = 28.97  # Molar mass of air (kg/kmol)"
   ]
  },
  {
   "cell_type": "code",
   "execution_count": 11,
   "metadata": {},
   "outputs": [],
   "source": [
    "mass_flow_hot = flow_mol_hot * M_hot / 1000  # Convert to kg/s\n",
    "mass_flow_cold = flow_mol_cold * M_cold / 1000  # Convert to kg/s"
   ]
  },
  {
   "cell_type": "code",
   "execution_count": 12,
   "metadata": {},
   "outputs": [
    {
     "name": "stdout",
     "output_type": "stream",
     "text": [
      "Mass flow rate of hot stream: 0.0128 kg/s\n",
      "Mass flow rate of cold stream: 0.0135 kg/s\n"
     ]
    }
   ],
   "source": [
    "# Print the mass flow rates for hot and cold streams\n",
    "print(f\"Mass flow rate of hot stream: {mass_flow_hot:.4f} kg/s\")\n",
    "print(f\"Mass flow rate of cold stream: {mass_flow_cold:.4f} kg/s\")"
   ]
  },
  {
   "cell_type": "code",
   "execution_count": 13,
   "metadata": {},
   "outputs": [],
   "source": [
    "# Compute heat duty (Q)\n",
    "Q_hot = mass_flow_hot * Cp_hot * (T_hot_inlet - T_hot_outlet)  # kJ/s = kW\n",
    "Q_cold = mass_flow_cold * Cp_cold * (T_cold_outlet - T_cold_inlet)  # kJ/s = kW"
   ]
  },
  {
   "cell_type": "code",
   "execution_count": 14,
   "metadata": {},
   "outputs": [
    {
     "name": "stdout",
     "output_type": "stream",
     "text": [
      "Q_hot: 7.87 kW\n",
      "Q_cold: 7.96 kW\n",
      "(Q_hot + Q_cold)/2: 7.92 kW\n"
     ]
    }
   ],
   "source": [
    "# Calculate Q_avg as the average of Q_hot and Q_cold\n",
    "Q_avg = (Q_hot + Q_cold) / 2\n",
    "\n",
    "# Print Q_hot, Q_cold, and Q_avg values\n",
    "print(f\"Q_hot: {Q_hot:.2f} kW\")\n",
    "print(f\"Q_cold: {Q_cold:.2f} kW\")\n",
    "print(f\"(Q_hot + Q_cold)/2: {Q_avg:.2f} kW\")"
   ]
  },
  {
   "cell_type": "code",
   "execution_count": 15,
   "metadata": {},
   "outputs": [],
   "source": [
    "# Ensure heat balance is satisfied\n",
    "Q = min(Q_hot, Q_cold) * 1000  # Convert kW to W"
   ]
  },
  {
   "cell_type": "code",
   "execution_count": 16,
   "metadata": {},
   "outputs": [
    {
     "name": "stdout",
     "output_type": "stream",
     "text": [
      "Computed Q: 7.87 kW\n"
     ]
    }
   ],
   "source": [
    "# Print the computed Q value\n",
    "print(f\"Computed Q: {Q/1000:.2f} kW\")"
   ]
  },
  {
   "cell_type": "code",
   "execution_count": 17,
   "metadata": {},
   "outputs": [
    {
     "name": "stdout",
     "output_type": "stream",
     "text": [
      "delta_T1: 62.26 K\n",
      "delta_T2: 54.37 K\n",
      "Computed LMTD: 58.23 K\n"
     ]
    }
   ],
   "source": [
    "# Compute LMTD\n",
    "delta_T1 = T_hot_inlet - T_cold_outlet\n",
    "delta_T2 = T_hot_outlet - T_cold_inlet\n",
    "LMTD = (delta_T1 - delta_T2) / np.log(delta_T1 / delta_T2)\n",
    "# Print the computed LMTD\n",
    "print(f\"delta_T1: {delta_T1:.2f} K\")\n",
    "print(f\"delta_T2: {delta_T2:.2f} K\")\n",
    "print(f\"Computed LMTD: {LMTD:.2f} K\")"
   ]
  },
  {
   "cell_type": "code",
   "execution_count": 18,
   "metadata": {},
   "outputs": [],
   "source": [
    "# Fixed overall heat transfer coefficient from Cinti et al 2020\n",
    "U = 30  # W/m²·K"
   ]
  },
  {
   "cell_type": "code",
   "execution_count": 19,
   "metadata": {},
   "outputs": [],
   "source": [
    "\n",
    "# Compute heat exchanger area\n",
    "A = Q / (U * LMTD)"
   ]
  },
  {
   "cell_type": "code",
   "execution_count": 20,
   "metadata": {},
   "outputs": [
    {
     "name": "stdout",
     "output_type": "stream",
     "text": [
      "Computed Heat Exchanger Area: 4.51 m²\n"
     ]
    }
   ],
   "source": [
    "print(f\"Computed Heat Exchanger Area: {A:.2f} m²\")"
   ]
  },
  {
   "cell_type": "code",
   "execution_count": 21,
   "metadata": {},
   "outputs": [
    {
     "name": "stdout",
     "output_type": "stream",
     "text": [
      "Stored 'A' (float64)\n"
     ]
    }
   ],
   "source": [
    "%store A"
   ]
  },
  {
   "cell_type": "markdown",
   "metadata": {},
   "source": [
    "UP UNTIL HERE JUST CALCULATION, FROM HERE DOWN INFO TO VISUALIZE THE FLOWSHEET WITH UI"
   ]
  },
  {
   "cell_type": "code",
   "execution_count": 22,
   "metadata": {},
   "outputs": [],
   "source": [
    "# **Store these values as variables for visualization**\n",
    "model.fs.heat_duty = pe.Param(initialize=Q, doc=\"Heat Duty (W)\")  # Heat Duty\n",
    "model.fs.LMTD = pe.Param(initialize=LMTD, doc=\"Log Mean Temperature Difference (K)\")  # LMTD\n",
    "model.fs.area_calculated = pe.Param(initialize=A, doc=\"Calculated Heat Exchanger Area (m²)\")"
   ]
  },
  {
   "cell_type": "code",
   "execution_count": 23,
   "metadata": {},
   "outputs": [],
   "source": [
    "# Create the Heat Exchanger model\n",
    "model.fs.heat_exchanger = HeatExchanger(\n",
    "    delta_temperature_callback=delta_temperature_amtd_callback,\n",
    "    hot_side_name=\"shell\",\n",
    "    cold_side_name=\"tube\",\n",
    "    shell={\"property_package\": model.fs.params},\n",
    "    tube={\"property_package\": model.fs.params}\n",
    ")"
   ]
  },
  {
   "cell_type": "code",
   "execution_count": 24,
   "metadata": {},
   "outputs": [],
   "source": [
    "model.fs.heat_exchanger.area = A  # Set the calculated area to the heat exchanger model"
   ]
  },
  {
   "cell_type": "code",
   "execution_count": 25,
   "metadata": {},
   "outputs": [],
   "source": [
    "# Fixing inlet flow and pressure values (assuming standard conditions)\n",
    "model.fs.heat_exchanger.shell_inlet.flow_mol.fix(0.45644096)  # Hot stream flow rate (mol/s)\n",
    "model.fs.heat_exchanger.shell_inlet.pressure.fix(104294.91)  \n",
    "model.fs.heat_exchanger.tube_inlet.flow_mol.fix(0.46741802)  # Cold stream flow rate (mol/s)\n",
    "model.fs.heat_exchanger.tube_inlet.pressure.fix(110546.61)  "
   ]
  },
  {
   "cell_type": "code",
   "execution_count": 26,
   "metadata": {},
   "outputs": [],
   "source": [
    "# Fixing enthalpies for the heat exchanger\n",
    "model.fs.heat_exchanger.shell_inlet.enth_mol[0].set_value(h_hot_inlet)  # Hot stream inlet enthalpy\n",
    "model.fs.heat_exchanger.shell_outlet.enth_mol[0].set_value(h_hot_outlet)  # Hot stream outlet enthalpy\n",
    "model.fs.heat_exchanger.tube_inlet.enth_mol[0].set_value(h_cold_inlet)  # Cold stream inlet enthalpy\n",
    "model.fs.heat_exchanger.tube_outlet.enth_mol[0].set_value(h_cold_outlet)  # Cold stream outlet enthalpy"
   ]
  },
  {
   "cell_type": "code",
   "execution_count": 27,
   "metadata": {},
   "outputs": [],
   "source": [
    "\n",
    "# Fix inlet enthalpies for the heat exchanger\n",
    "model.fs.heat_exchanger.shell_inlet.enth_mol.fix(h_hot_inlet)  # Hot stream inlet enthalpy\n",
    "model.fs.heat_exchanger.tube_inlet.enth_mol.fix(h_cold_inlet)  # Cold stream inlet enthalpy\n"
   ]
  },
  {
   "cell_type": "code",
   "execution_count": 28,
   "metadata": {},
   "outputs": [],
   "source": [
    "\n",
    "# Ensure all necessary variables are fixed before initialization\n",
    "model.fs.heat_exchanger.shell_inlet.flow_mol.fix(flow_mol_hot)  # Fix hot stream flow rate\n",
    "model.fs.heat_exchanger.tube_inlet.flow_mol.fix(flow_mol_cold)  # Fix cold stream flow rate\n",
    "model.fs.heat_exchanger.shell_inlet.enth_mol.fix(h_hot_inlet)  # Fix hot stream inlet enthalpy\n",
    "model.fs.heat_exchanger.tube_inlet.enth_mol.fix(h_cold_inlet)  # Fix cold stream inlet enthalpy\n"
   ]
  },
  {
   "cell_type": "code",
   "execution_count": 29,
   "metadata": {},
   "outputs": [],
   "source": [
    "\n",
    "# Fix outlet enthalpies for the heat exchanger\n",
    "model.fs.heat_exchanger.shell_outlet.enth_mol[0].fix(h_hot_outlet)  # Hot stream outlet enthalpy\n",
    "model.fs.heat_exchanger.tube_outlet.enth_mol[0].fix(h_cold_outlet)  # Cold stream outlet enthalpy\n",
    "\n",
    "# Ensure all necessary variables are fixed before initialization\n",
    "model.fs.heat_exchanger.shell_inlet.flow_mol[0].fix(flow_mol_hot)  # Fix hot stream flow rate\n",
    "model.fs.heat_exchanger.tube_inlet.flow_mol[0].fix(flow_mol_cold)  # Fix cold stream flow rate\n",
    "model.fs.heat_exchanger.shell_inlet.enth_mol[0].fix(h_hot_inlet)  # Fix hot stream inlet enthalpy\n",
    "model.fs.heat_exchanger.tube_inlet.enth_mol[0].fix(h_cold_inlet)  # Fix cold stream inlet enthalpy\n",
    "\n",
    "# Ensure outlet enthalpies are fixed before initialization\n",
    "model.fs.heat_exchanger.shell_outlet.enth_mol[0].fix(h_hot_outlet)  # Fix hot stream outlet enthalpy\n",
    "model.fs.heat_exchanger.tube_outlet.enth_mol[0].fix(h_cold_outlet)  # Fix cold stream outlet enthalpy\n"
   ]
  },
  {
   "cell_type": "code",
   "execution_count": 34,
   "metadata": {},
   "outputs": [
    {
     "ename": "KeyError",
     "evalue": "None",
     "output_type": "error",
     "traceback": [
      "\u001b[1;31m---------------------------------------------------------------------------\u001b[0m",
      "\u001b[1;31mKeyError\u001b[0m                                  Traceback (most recent call last)",
      "Cell \u001b[1;32mIn[34], line 13\u001b[0m\n\u001b[0;32m     11\u001b[0m \u001b[38;5;66;03m# Initialize the model\u001b[39;00m\n\u001b[0;32m     12\u001b[0m initializer \u001b[38;5;241m=\u001b[39m HX0DInitializer()\n\u001b[1;32m---> 13\u001b[0m \u001b[43minitializer\u001b[49m\u001b[38;5;241;43m.\u001b[39;49m\u001b[43minitialize\u001b[49m\u001b[43m(\u001b[49m\u001b[43mmodel\u001b[49m\u001b[38;5;241;43m.\u001b[39;49m\u001b[43mfs\u001b[49m\u001b[38;5;241;43m.\u001b[39;49m\u001b[43mheat_exchanger\u001b[49m\u001b[43m)\u001b[49m\n",
      "File \u001b[1;32mc:\\Users\\Sara\\miniforge3\\envs\\my-idaes-env\\lib\\site-packages\\idaes\\core\\initialization\\initializer_base.py:192\u001b[0m, in \u001b[0;36mInitializerBase.initialize\u001b[1;34m(self, model, initial_guesses, json_file, output_level, exclude_unused_vars)\u001b[0m\n\u001b[0;32m    187\u001b[0m \u001b[38;5;66;03m# 5. try: Call specified initialization routine\u001b[39;00m\n\u001b[0;32m    188\u001b[0m \u001b[38;5;28;01mtry\u001b[39;00m:\n\u001b[0;32m    189\u001b[0m     \u001b[38;5;66;03m# Base method does not have a return (NotImplementedError),\u001b[39;00m\n\u001b[0;32m    190\u001b[0m     \u001b[38;5;66;03m# but we expect this to be overloaded, disable pylint warning\u001b[39;00m\n\u001b[0;32m    191\u001b[0m     \u001b[38;5;66;03m# pylint: disable=E1111\u001b[39;00m\n\u001b[1;32m--> 192\u001b[0m     results \u001b[38;5;241m=\u001b[39m \u001b[38;5;28;43mself\u001b[39;49m\u001b[38;5;241;43m.\u001b[39;49m\u001b[43minitialization_routine\u001b[49m\u001b[43m(\u001b[49m\u001b[43mmodel\u001b[49m\u001b[43m)\u001b[49m\n\u001b[0;32m    193\u001b[0m \u001b[38;5;66;03m# 6. finally: Restore model state\u001b[39;00m\n\u001b[0;32m    194\u001b[0m \u001b[38;5;28;01mfinally\u001b[39;00m:\n\u001b[0;32m    195\u001b[0m     \u001b[38;5;28mself\u001b[39m\u001b[38;5;241m.\u001b[39mrestore_model_state(model)\n",
      "File \u001b[1;32mc:\\Users\\Sara\\miniforge3\\envs\\my-idaes-env\\lib\\site-packages\\idaes\\models\\unit_models\\heat_exchanger.py:102\u001b[0m, in \u001b[0;36mHX0DInitializer.initialization_routine\u001b[1;34m(self, model, plugin_initializer_args, copy_inlet_state, duty)\u001b[0m\n\u001b[0;32m     75\u001b[0m \u001b[38;5;28;01mdef\u001b[39;00m\u001b[38;5;250m \u001b[39m\u001b[38;5;21minitialization_routine\u001b[39m(\n\u001b[0;32m     76\u001b[0m     \u001b[38;5;28mself\u001b[39m,\n\u001b[0;32m     77\u001b[0m     model: Block,\n\u001b[1;32m   (...)\u001b[0m\n\u001b[0;32m     80\u001b[0m     duty\u001b[38;5;241m=\u001b[39m\u001b[38;5;241m1000\u001b[39m \u001b[38;5;241m*\u001b[39m pyunits\u001b[38;5;241m.\u001b[39mW,\n\u001b[0;32m     81\u001b[0m ):\n\u001b[0;32m     82\u001b[0m \u001b[38;5;250m    \u001b[39m\u001b[38;5;124;03m\"\"\"\u001b[39;00m\n\u001b[0;32m     83\u001b[0m \u001b[38;5;124;03m    Common initialization routine for 0D Heat Exchangers.\u001b[39;00m\n\u001b[0;32m     84\u001b[0m \n\u001b[1;32m   (...)\u001b[0m\n\u001b[0;32m    100\u001b[0m \u001b[38;5;124;03m        Pyomo solver results object\u001b[39;00m\n\u001b[0;32m    101\u001b[0m \u001b[38;5;124;03m    \"\"\"\u001b[39;00m\n\u001b[1;32m--> 102\u001b[0m     \u001b[38;5;28;01mreturn\u001b[39;00m \u001b[38;5;28;43msuper\u001b[39;49m\u001b[43m(\u001b[49m\u001b[43mSingleControlVolumeUnitInitializer\u001b[49m\u001b[43m,\u001b[49m\u001b[43m \u001b[49m\u001b[38;5;28;43mself\u001b[39;49m\u001b[43m)\u001b[49m\u001b[38;5;241;43m.\u001b[39;49m\u001b[43minitialization_routine\u001b[49m\u001b[43m(\u001b[49m\n\u001b[0;32m    103\u001b[0m \u001b[43m        \u001b[49m\u001b[43mmodel\u001b[49m\u001b[38;5;241;43m=\u001b[39;49m\u001b[43mmodel\u001b[49m\u001b[43m,\u001b[49m\n\u001b[0;32m    104\u001b[0m \u001b[43m        \u001b[49m\u001b[43mplugin_initializer_args\u001b[49m\u001b[38;5;241;43m=\u001b[39;49m\u001b[43mplugin_initializer_args\u001b[49m\u001b[43m,\u001b[49m\n\u001b[0;32m    105\u001b[0m \u001b[43m        \u001b[49m\u001b[43mcopy_inlet_state\u001b[49m\u001b[38;5;241;43m=\u001b[39;49m\u001b[43mcopy_inlet_state\u001b[49m\u001b[43m,\u001b[49m\n\u001b[0;32m    106\u001b[0m \u001b[43m        \u001b[49m\u001b[43mduty\u001b[49m\u001b[38;5;241;43m=\u001b[39;49m\u001b[43mduty\u001b[49m\u001b[43m,\u001b[49m\n\u001b[0;32m    107\u001b[0m \u001b[43m    \u001b[49m\u001b[43m)\u001b[49m\n",
      "File \u001b[1;32mc:\\Users\\Sara\\miniforge3\\envs\\my-idaes-env\\lib\\site-packages\\idaes\\core\\initialization\\initializer_base.py:683\u001b[0m, in \u001b[0;36mModularInitializerBase.initialization_routine\u001b[1;34m(self, model, plugin_initializer_args, **kwargs)\u001b[0m\n\u001b[0;32m    680\u001b[0m _log\u001b[38;5;241m.\u001b[39minfo_high(\u001b[38;5;124m\"\u001b[39m\u001b[38;5;124mStep 1: preparation complete.\u001b[39m\u001b[38;5;124m\"\u001b[39m)\n\u001b[0;32m    682\u001b[0m \u001b[38;5;66;03m# Initialize model and sub-models\u001b[39;00m\n\u001b[1;32m--> 683\u001b[0m results \u001b[38;5;241m=\u001b[39m \u001b[38;5;28mself\u001b[39m\u001b[38;5;241m.\u001b[39minitialize_submodels(\n\u001b[0;32m    684\u001b[0m     model, plugin_initializer_args, sub_initializers, \u001b[38;5;241m*\u001b[39m\u001b[38;5;241m*\u001b[39mkwargs\n\u001b[0;32m    685\u001b[0m )\n\u001b[0;32m    686\u001b[0m _log\u001b[38;5;241m.\u001b[39minfo_high(\u001b[38;5;124m\"\u001b[39m\u001b[38;5;124mStep 2: sub-model initialization complete.\u001b[39m\u001b[38;5;124m\"\u001b[39m)\n\u001b[0;32m    688\u001b[0m \u001b[38;5;66;03m# Solve full model including plug-ins\u001b[39;00m\n",
      "File \u001b[1;32mc:\\Users\\Sara\\miniforge3\\envs\\my-idaes-env\\lib\\site-packages\\idaes\\core\\initialization\\initializer_base.py:752\u001b[0m, in \u001b[0;36mModularInitializerBase.initialize_submodels\u001b[1;34m(self, model, plugin_initializer_args, sub_initializers, **kwargs)\u001b[0m\n\u001b[0;32m    750\u001b[0m \u001b[38;5;28;01mfor\u001b[39;00m sm \u001b[38;5;129;01min\u001b[39;00m model\u001b[38;5;241m.\u001b[39minitialization_order:\n\u001b[0;32m    751\u001b[0m     \u001b[38;5;28;01mif\u001b[39;00m sm \u001b[38;5;129;01mis\u001b[39;00m model:\n\u001b[1;32m--> 752\u001b[0m         results \u001b[38;5;241m=\u001b[39m \u001b[38;5;28mself\u001b[39m\u001b[38;5;241m.\u001b[39minitialize_main_model(model, \u001b[38;5;241m*\u001b[39m\u001b[38;5;241m*\u001b[39mkwargs)\n\u001b[0;32m    753\u001b[0m     \u001b[38;5;28;01melse\u001b[39;00m:\n\u001b[0;32m    754\u001b[0m         sub_initializers[sm]\u001b[38;5;241m.\u001b[39mplugin_initialize(\n\u001b[0;32m    755\u001b[0m             sm, \u001b[38;5;241m*\u001b[39m\u001b[38;5;241m*\u001b[39mplugin_initializer_args[sm]\n\u001b[0;32m    756\u001b[0m         )\n",
      "File \u001b[1;32mc:\\Users\\Sara\\miniforge3\\envs\\my-idaes-env\\lib\\site-packages\\idaes\\models\\unit_models\\heat_exchanger.py:164\u001b[0m, in \u001b[0;36mHX0DInitializer.initialize_main_model\u001b[1;34m(self, model, copy_inlet_state, duty)\u001b[0m\n\u001b[0;32m    161\u001b[0m         model\u001b[38;5;241m.\u001b[39mhot_side\u001b[38;5;241m.\u001b[39mheat[i]\u001b[38;5;241m.\u001b[39mset_value(model\u001b[38;5;241m.\u001b[39mcold_side\u001b[38;5;241m.\u001b[39mheat[i])\n\u001b[0;32m    163\u001b[0m \u001b[38;5;28;01mwith\u001b[39;00m idaeslog\u001b[38;5;241m.\u001b[39msolver_log(solve_log, idaeslog\u001b[38;5;241m.\u001b[39mDEBUG) \u001b[38;5;28;01mas\u001b[39;00m slc:\n\u001b[1;32m--> 164\u001b[0m     res \u001b[38;5;241m=\u001b[39m \u001b[43msolver\u001b[49m\u001b[38;5;241;43m.\u001b[39;49m\u001b[43msolve\u001b[49m\u001b[43m(\u001b[49m\u001b[43mmodel\u001b[49m\u001b[43m,\u001b[49m\u001b[43m \u001b[49m\u001b[43mtee\u001b[49m\u001b[38;5;241;43m=\u001b[39;49m\u001b[43mslc\u001b[49m\u001b[38;5;241;43m.\u001b[39;49m\u001b[43mtee\u001b[49m\u001b[43m)\u001b[49m\n\u001b[0;32m    165\u001b[0m init_log\u001b[38;5;241m.\u001b[39minfo_high(\u001b[38;5;124m\"\u001b[39m\u001b[38;5;124mInitialization Step 2 \u001b[39m\u001b[38;5;132;01m{}\u001b[39;00m\u001b[38;5;124m.\u001b[39m\u001b[38;5;124m\"\u001b[39m\u001b[38;5;241m.\u001b[39mformat(idaeslog\u001b[38;5;241m.\u001b[39mcondition(res)))\n\u001b[0;32m    166\u001b[0m \u001b[38;5;28;01mif\u001b[39;00m \u001b[38;5;129;01mnot\u001b[39;00m cs_fixed:\n",
      "File \u001b[1;32mc:\\Users\\Sara\\miniforge3\\envs\\my-idaes-env\\lib\\site-packages\\pyomo\\contrib\\solver\\base.py:598\u001b[0m, in \u001b[0;36mLegacySolverWrapper.solve\u001b[1;34m(self, model, tee, load_solutions, logfile, solnfile, timelimit, report_timing, solver_io, suffixes, options, keepfiles, symbolic_solver_labels, raise_exception_on_nonoptimal_result, solver_options, writer_config)\u001b[0m\n\u001b[0;32m    595\u001b[0m filtered_args \u001b[38;5;241m=\u001b[39m {k: loc[k] \u001b[38;5;28;01mfor\u001b[39;00m k \u001b[38;5;129;01min\u001b[39;00m map_args \u001b[38;5;28;01mif\u001b[39;00m loc\u001b[38;5;241m.\u001b[39mget(k, \u001b[38;5;28;01mNone\u001b[39;00m) \u001b[38;5;129;01mis\u001b[39;00m \u001b[38;5;129;01mnot\u001b[39;00m \u001b[38;5;28;01mNone\u001b[39;00m}\n\u001b[0;32m    596\u001b[0m \u001b[38;5;28mself\u001b[39m\u001b[38;5;241m.\u001b[39m_map_config(\u001b[38;5;241m*\u001b[39m\u001b[38;5;241m*\u001b[39mfiltered_args)\n\u001b[1;32m--> 598\u001b[0m results: Results \u001b[38;5;241m=\u001b[39m \u001b[38;5;28;43msuper\u001b[39;49m\u001b[43m(\u001b[49m\u001b[43m)\u001b[49m\u001b[38;5;241;43m.\u001b[39;49m\u001b[43msolve\u001b[49m\u001b[43m(\u001b[49m\u001b[43mmodel\u001b[49m\u001b[43m)\u001b[49m\n\u001b[0;32m    599\u001b[0m legacy_results, legacy_soln \u001b[38;5;241m=\u001b[39m \u001b[38;5;28mself\u001b[39m\u001b[38;5;241m.\u001b[39m_map_results(model, results)\n\u001b[0;32m    600\u001b[0m legacy_results \u001b[38;5;241m=\u001b[39m \u001b[38;5;28mself\u001b[39m\u001b[38;5;241m.\u001b[39m_solution_handler(\n\u001b[0;32m    601\u001b[0m     load_solutions, model, results, legacy_results, legacy_soln\n\u001b[0;32m    602\u001b[0m )\n",
      "File \u001b[1;32mc:\\Users\\Sara\\miniforge3\\envs\\my-idaes-env\\lib\\site-packages\\pyomo\\contrib\\solver\\ipopt.py:335\u001b[0m, in \u001b[0;36mIpopt.solve\u001b[1;34m(self, model, **kwds)\u001b[0m\n\u001b[0;32m    333\u001b[0m \u001b[38;5;28mself\u001b[39m\u001b[38;5;241m.\u001b[39m_writer\u001b[38;5;241m.\u001b[39mconfig\u001b[38;5;241m.\u001b[39mset_value(config\u001b[38;5;241m.\u001b[39mwriter_config)\n\u001b[0;32m    334\u001b[0m \u001b[38;5;28;01mtry\u001b[39;00m:\n\u001b[1;32m--> 335\u001b[0m     nl_info \u001b[38;5;241m=\u001b[39m \u001b[38;5;28;43mself\u001b[39;49m\u001b[38;5;241;43m.\u001b[39;49m\u001b[43m_writer\u001b[49m\u001b[38;5;241;43m.\u001b[39;49m\u001b[43mwrite\u001b[49m\u001b[43m(\u001b[49m\n\u001b[0;32m    336\u001b[0m \u001b[43m        \u001b[49m\u001b[43mmodel\u001b[49m\u001b[43m,\u001b[49m\n\u001b[0;32m    337\u001b[0m \u001b[43m        \u001b[49m\u001b[43mnl_file\u001b[49m\u001b[43m,\u001b[49m\n\u001b[0;32m    338\u001b[0m \u001b[43m        \u001b[49m\u001b[43mrow_file\u001b[49m\u001b[43m,\u001b[49m\n\u001b[0;32m    339\u001b[0m \u001b[43m        \u001b[49m\u001b[43mcol_file\u001b[49m\u001b[43m,\u001b[49m\n\u001b[0;32m    340\u001b[0m \u001b[43m        \u001b[49m\u001b[43msymbolic_solver_labels\u001b[49m\u001b[38;5;241;43m=\u001b[39;49m\u001b[43mconfig\u001b[49m\u001b[38;5;241;43m.\u001b[39;49m\u001b[43msymbolic_solver_labels\u001b[49m\u001b[43m,\u001b[49m\n\u001b[0;32m    341\u001b[0m \u001b[43m    \u001b[49m\u001b[43m)\u001b[49m\n\u001b[0;32m    342\u001b[0m     proven_infeasible \u001b[38;5;241m=\u001b[39m \u001b[38;5;28;01mFalse\u001b[39;00m\n\u001b[0;32m    343\u001b[0m \u001b[38;5;28;01mexcept\u001b[39;00m InfeasibleConstraintException:\n",
      "File \u001b[1;32mc:\\Users\\Sara\\miniforge3\\envs\\my-idaes-env\\lib\\site-packages\\pyomo\\repn\\plugins\\nl_writer.py:373\u001b[0m, in \u001b[0;36mNLWriter.write\u001b[1;34m(self, model, ostream, rowstream, colstream, **options)\u001b[0m\n\u001b[0;32m    369\u001b[0m \u001b[38;5;66;03m# Pause the GC, as the walker that generates the compiled NL\u001b[39;00m\n\u001b[0;32m    370\u001b[0m \u001b[38;5;66;03m# representation generates (and disposes of) a large number of\u001b[39;00m\n\u001b[0;32m    371\u001b[0m \u001b[38;5;66;03m# small objects.\u001b[39;00m\n\u001b[0;32m    372\u001b[0m \u001b[38;5;28;01mwith\u001b[39;00m _NLWriter_impl(ostream, rowstream, colstream, config) \u001b[38;5;28;01mas\u001b[39;00m impl:\n\u001b[1;32m--> 373\u001b[0m     \u001b[38;5;28;01mreturn\u001b[39;00m \u001b[43mimpl\u001b[49m\u001b[38;5;241;43m.\u001b[39;49m\u001b[43mwrite\u001b[49m\u001b[43m(\u001b[49m\u001b[43mmodel\u001b[49m\u001b[43m)\u001b[49m\n",
      "File \u001b[1;32mc:\\Users\\Sara\\miniforge3\\envs\\my-idaes-env\\lib\\site-packages\\pyomo\\repn\\plugins\\nl_writer.py:726\u001b[0m, in \u001b[0;36m_NLWriter_impl.write\u001b[1;34m(self, model)\u001b[0m\n\u001b[0;32m    723\u001b[0m var_bounds \u001b[38;5;241m=\u001b[39m {_id: v\u001b[38;5;241m.\u001b[39mbounds \u001b[38;5;28;01mfor\u001b[39;00m _id, v \u001b[38;5;129;01min\u001b[39;00m var_map\u001b[38;5;241m.\u001b[39mitems()}\n\u001b[0;32m    724\u001b[0m var_values \u001b[38;5;241m=\u001b[39m {_id: v\u001b[38;5;241m.\u001b[39mvalue \u001b[38;5;28;01mfor\u001b[39;00m _id, v \u001b[38;5;129;01min\u001b[39;00m var_map\u001b[38;5;241m.\u001b[39mitems()}\n\u001b[1;32m--> 726\u001b[0m eliminated_cons, eliminated_vars \u001b[38;5;241m=\u001b[39m \u001b[38;5;28;43mself\u001b[39;49m\u001b[38;5;241;43m.\u001b[39;49m\u001b[43m_linear_presolve\u001b[49m\u001b[43m(\u001b[49m\n\u001b[0;32m    727\u001b[0m \u001b[43m    \u001b[49m\u001b[43mcomp_by_linear_var\u001b[49m\u001b[43m,\u001b[49m\u001b[43m \u001b[49m\u001b[43mlcon_by_linear_nnz\u001b[49m\u001b[43m,\u001b[49m\u001b[43m \u001b[49m\u001b[43mvar_bounds\u001b[49m\u001b[43m,\u001b[49m\u001b[43m \u001b[49m\u001b[43mvar_values\u001b[49m\n\u001b[0;32m    728\u001b[0m \u001b[43m\u001b[49m\u001b[43m)\u001b[49m\n\u001b[0;32m    729\u001b[0m \u001b[38;5;28;01mdel\u001b[39;00m comp_by_linear_var\n\u001b[0;32m    730\u001b[0m \u001b[38;5;28;01mdel\u001b[39;00m lcon_by_linear_nnz\n",
      "File \u001b[1;32mc:\\Users\\Sara\\miniforge3\\envs\\my-idaes-env\\lib\\site-packages\\pyomo\\repn\\plugins\\nl_writer.py:1885\u001b[0m, in \u001b[0;36m_NLWriter_impl._linear_presolve\u001b[1;34m(self, comp_by_linear_var, lcon_by_linear_nnz, var_bounds, var_values)\u001b[0m\n\u001b[0;32m   1880\u001b[0m \u001b[38;5;28;01mif\u001b[39;00m \u001b[38;5;129;01mnot\u001b[39;00m nnz:\n\u001b[0;32m   1881\u001b[0m     \u001b[38;5;28;01mif\u001b[39;00m \u001b[38;5;28mabs\u001b[39m(expr_info\u001b[38;5;241m.\u001b[39mconst) \u001b[38;5;241m>\u001b[39m TOL:\n\u001b[0;32m   1882\u001b[0m         \u001b[38;5;66;03m# constraint is trivially infeasible\u001b[39;00m\n\u001b[0;32m   1883\u001b[0m         \u001b[38;5;28;01mraise\u001b[39;00m InfeasibleConstraintException(\n\u001b[0;32m   1884\u001b[0m             \u001b[38;5;124m\"\u001b[39m\u001b[38;5;124mmodel contains a trivially infeasible constraint \u001b[39m\u001b[38;5;124m\"\u001b[39m\n\u001b[1;32m-> 1885\u001b[0m             \u001b[38;5;124mf\u001b[39m\u001b[38;5;124m\"\u001b[39m\u001b[38;5;132;01m{\u001b[39;00mexpr_info\u001b[38;5;241m.\u001b[39mconst\u001b[38;5;132;01m}\u001b[39;00m\u001b[38;5;124m == \u001b[39m\u001b[38;5;132;01m{\u001b[39;00mcoef\u001b[38;5;132;01m}\u001b[39;00m\u001b[38;5;124m*\u001b[39m\u001b[38;5;132;01m{\u001b[39;00m\u001b[43mvar_map\u001b[49m\u001b[43m[\u001b[49m\u001b[43mx\u001b[49m\u001b[43m]\u001b[49m\u001b[38;5;132;01m}\u001b[39;00m\u001b[38;5;124m\"\u001b[39m\n\u001b[0;32m   1886\u001b[0m         )\n\u001b[0;32m   1887\u001b[0m     \u001b[38;5;66;03m# constraint is trivially feasible\u001b[39;00m\n\u001b[0;32m   1888\u001b[0m     eliminated_cons\u001b[38;5;241m.\u001b[39madd(con_id)\n",
      "\u001b[1;31mKeyError\u001b[0m: None"
     ]
    }
   ],
   "source": [
    "\n",
    "# Ensure all necessary variables are fixed before initialization\n",
    "model.fs.heat_exchanger.shell_inlet.flow_mol[0].fix(flow_mol_hot)  # Fix hot stream flow rate\n",
    "model.fs.heat_exchanger.tube_inlet.flow_mol[0].fix(flow_mol_cold)  # Fix cold stream flow rate\n",
    "model.fs.heat_exchanger.shell_inlet.enth_mol[0].fix(h_hot_inlet)  # Fix hot stream inlet enthalpy\n",
    "model.fs.heat_exchanger.tube_inlet.enth_mol[0].fix(h_cold_inlet)  # Fix cold stream inlet enthalpy\n",
    "\n",
    "# Fix outlet enthalpies for initialization\n",
    "model.fs.heat_exchanger.shell_outlet.enth_mol[0].fix(h_hot_outlet)  # Fix hot stream outlet enthalpy\n",
    "model.fs.heat_exchanger.tube_outlet.enth_mol[0].fix(h_cold_outlet)  # Fix cold stream outlet enthalpy\n",
    "\n",
    "# Initialize the model\n",
    "initializer = HX0DInitializer()\n",
    "initializer.initialize(model.fs.heat_exchanger)"
   ]
  },
  {
   "cell_type": "code",
   "execution_count": 31,
   "metadata": {},
   "outputs": [],
   "source": [
    "import idaes_ui\n",
    "import idaes_ui.fv\n",
    "dir(idaes_ui.fv)\n",
    "from idaes_ui.fv import visualize \n",
    "\n"
   ]
  },
  {
   "cell_type": "code",
   "execution_count": 32,
   "metadata": {},
   "outputs": [
    {
     "name": "stdout",
     "output_type": "stream",
     "text": [
      "2025-04-16 16:03:55 [INFO] idaes.idaes_ui.fv.fsvis: Started visualization server\n",
      "2025-04-16 16:03:55 [INFO] idaes.idaes_ui.fv.fsvis: Loading saved flowsheet from 'HeatExchangerAreaCalculation.json'\n",
      "2025-04-16 16:03:55 [INFO] idaes.idaes_ui.fv.fsvis: Saving flowsheet to default file 'HeatExchangerAreaCalculation.json' in current directory (c:\\Users\\Sara\\Desktop\\IDAES)\n",
      "2025-04-16 16:03:55 [INFO] idaes.idaes_ui.fv.fsvis: Flowsheet visualization at: http://localhost:53759/app?id=HeatExchangerAreaCalculation\n"
     ]
    },
    {
     "data": {
      "text/plain": [
       "VisualizeResult(store=<idaes_ui.fv.persist.FileDataStore object at 0x0000020629667130>, port=53759, server=<idaes_ui.fv.model_server.FlowsheetServer object at 0x00000206296664A0>)"
      ]
     },
     "execution_count": 32,
     "metadata": {},
     "output_type": "execute_result"
    }
   ],
   "source": [
    "\n",
    "# Visualize the model\n",
    "visualize(model.fs, \"HeatExchangerAreaCalculation\")"
   ]
  },
  {
   "cell_type": "code",
   "execution_count": 35,
   "metadata": {},
   "outputs": [
    {
     "name": "stdout",
     "output_type": "stream",
     "text": [
      "Heat Duty (Q): 4.63 kW\n",
      "LMTD: 58.23 K\n",
      "Calculated Heat Exchanger Area: 2.65 m²\n"
     ]
    }
   ],
   "source": [
    "# Print results\n",
    "print(f\"Heat Duty (Q): {Q / 1000:.2f} kW\")\n",
    "print(f\"LMTD: {LMTD:.2f} K\")\n",
    "print(f\"Calculated Heat Exchanger Area: {A:.2f} m²\")"
   ]
  }
 ],
 "metadata": {
  "kernelspec": {
   "display_name": "my-idaes-env",
   "language": "python",
   "name": "python3"
  },
  "language_info": {
   "codemirror_mode": {
    "name": "ipython",
    "version": 3
   },
   "file_extension": ".py",
   "mimetype": "text/x-python",
   "name": "python",
   "nbconvert_exporter": "python",
   "pygments_lexer": "ipython3",
   "version": "3.10.16"
  }
 },
 "nbformat": 4,
 "nbformat_minor": 2
}

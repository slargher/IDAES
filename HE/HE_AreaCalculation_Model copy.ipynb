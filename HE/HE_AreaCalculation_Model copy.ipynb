{
 "cells": [
  {
   "cell_type": "code",
   "execution_count": 512,
   "metadata": {},
   "outputs": [],
   "source": [
    "import pyomo.environ as pe  # Pyomo environment\n",
    "from idaes.core import FlowsheetBlock, StateBlock, UnitModelBlock\n",
    "from idaes.models.unit_models import HeatExchanger\n",
    "from idaes.models.unit_models.heat_exchanger import HX0DInitializer\n",
    "from idaes.models.unit_models.heat_exchanger import delta_temperature_amtd_callback\n",
    "from idaes.models.properties import iapws95\n",
    "import numpy as np"
   ]
  },
  {
   "cell_type": "code",
   "execution_count": 513,
   "metadata": {},
   "outputs": [],
   "source": [
    "# Create an empty flowsheet and steam property parameter block.\n",
    "model = pe.ConcreteModel()\n",
    "model.fs = FlowsheetBlock(dynamic=False)\n",
    "model.fs.properties = iapws95.Iapws95ParameterBlock()"
   ]
  },
  {
   "cell_type": "code",
   "execution_count": 514,
   "metadata": {},
   "outputs": [],
   "source": [
    "# Add a hx model to the flowsheet.\n",
    "model.fs.heat_exchanger = HeatExchanger(\n",
    "    delta_temperature_callback=delta_temperature_amtd_callback,\n",
    "    hot_side_name=\"shell\",\n",
    "    cold_side_name=\"tube\",\n",
    "    shell={\"property_package\": model.fs.properties},\n",
    "    tube={\"property_package\": model.fs.properties}\n",
    ")"
   ]
  },
  {
   "cell_type": "markdown",
   "metadata": {},
   "source": [
    "temperatures taken from Cinti\n",
    ",2020"
   ]
  },
  {
   "cell_type": "code",
   "execution_count": 515,
   "metadata": {},
   "outputs": [],
   "source": [
    "# Provided data in Celsius, convert to Kelvin\n",
    "T_hot_inlet_C = 662.30\n",
    "T_hot_outlet_C = 192.60\n",
    "T_cold_inlet_C = 20.00\n",
    "T_cold_outlet_C = 496.94\n",
    "\n",
    "\n",
    "T_hot_inlet = T_hot_inlet_C + 273.15  # Convert to Kelvin\n",
    "T_hot_outlet = T_hot_outlet_C + 273.15  # Convert to Kelvin\n",
    "T_cold_inlet = T_cold_inlet_C + 273.15  # Convert to Kelvin\n",
    "T_cold_outlet = T_cold_outlet_C + 273.15  # Convert to Kelvin\n"
   ]
  },
  {
   "cell_type": "code",
   "execution_count": 516,
   "metadata": {},
   "outputs": [
    {
     "name": "stdout",
     "output_type": "stream",
     "text": [
      "T_hot_inlet: 935.45 K\n",
      "T_hot_outlet: 465.75 K\n",
      "T_cold_inlet: 293.15 K\n",
      "T_cold_outlet: 770.09 K\n"
     ]
    }
   ],
   "source": [
    "print(f\"T_hot_inlet: {T_hot_inlet:.2f} K\")\n",
    "print(f\"T_hot_outlet: {T_hot_outlet:.2f} K\")\n",
    "print(f\"T_cold_inlet: {T_cold_inlet:.2f} K\")\n",
    "print(f\"T_cold_outlet: {T_cold_outlet:.2f} K\")"
   ]
  },
  {
   "cell_type": "code",
   "execution_count": 492,
   "metadata": {},
   "outputs": [
    {
     "name": "stdout",
     "output_type": "stream",
     "text": [
      "Delta T_in (Temperature difference at hot inlet): 642.3 K\n",
      "Delta T_out (Temperature difference at hot outlet): -304.3399999999999 K\n"
     ]
    }
   ],
   "source": [
    "# Calculate delta_T_in and delta_T_out\n",
    "delta_T_in = T_hot_inlet - T_cold_inlet\n",
    "delta_T_out = T_hot_outlet - T_cold_outlet\n",
    "\n",
    "# Print the results\n",
    "print(\"Delta T_in (Temperature difference at hot inlet):\", delta_T_in, \"K\")\n",
    "print(\"Delta T_out (Temperature difference at hot outlet):\", delta_T_out, \"K\")"
   ]
  },
  {
   "cell_type": "markdown",
   "metadata": {},
   "source": [
    "Check these!"
   ]
  },
  {
   "cell_type": "code",
   "execution_count": 493,
   "metadata": {},
   "outputs": [],
   "source": [
    "\n",
    "# Assume constant Cp for gases (ideal gas assumption)\n",
    "Cp_hot = 1.039  # Specific heat of nitrogen (N2) in kJ/kg·K\n",
    "Cp_cold = 1.005  # Specific heat of air at constant pressure in kJ/kg·K\n"
   ]
  },
  {
   "cell_type": "markdown",
   "metadata": {},
   "source": [
    "Understand where we use this ref temperature"
   ]
  },
  {
   "cell_type": "code",
   "execution_count": 494,
   "metadata": {},
   "outputs": [],
   "source": [
    "\n",
    "# Reference temperature (for simplicity, assume 0°C = 273.15 K)\n",
    "T_ref = 273.15"
   ]
  },
  {
   "cell_type": "code",
   "execution_count": 495,
   "metadata": {},
   "outputs": [],
   "source": [
    "# Calculate enthalpy using Cp (simplified)\n",
    "def calc_enthalpy(Cp, T):\n",
    "    return Cp * (T - T_ref)"
   ]
  },
  {
   "cell_type": "code",
   "execution_count": 496,
   "metadata": {},
   "outputs": [],
   "source": [
    "# Calculate enthalpy for the hot and cold streams\n",
    "h_hot_inlet = calc_enthalpy(Cp_hot, T_hot_inlet)  # Inlet enthalpy for the hot stream (N2/steam)\n",
    "h_hot_outlet = calc_enthalpy(Cp_hot, T_hot_outlet)\n",
    "h_cold_inlet = calc_enthalpy(Cp_cold, T_cold_inlet)  # Inlet enthalpy for the cold stream (air)\n",
    "h_cold_outlet = calc_enthalpy(Cp_cold, T_cold_outlet)"
   ]
  },
  {
   "cell_type": "code",
   "execution_count": 497,
   "metadata": {},
   "outputs": [
    {
     "name": "stdout",
     "output_type": "stream",
     "text": [
      "Hot stream inlet enthalpy (h_hot_inlet): 688.13 kJ/kg\n",
      "Hot stream outlet enthalpy (h_hot_outlet): 200.11 kJ/kg\n",
      "Cold stream inlet enthalpy (h_cold_inlet): 20.10 kJ/kg\n",
      "Cold stream outlet enthalpy (h_cold_outlet): 499.42 kJ/kg\n"
     ]
    }
   ],
   "source": [
    "# Print the enthalpy values\n",
    "print(f\"Hot stream inlet enthalpy (h_hot_inlet): {h_hot_inlet:.2f} kJ/kg\")\n",
    "print(f\"Hot stream outlet enthalpy (h_hot_outlet): {h_hot_outlet:.2f} kJ/kg\")\n",
    "print(f\"Cold stream inlet enthalpy (h_cold_inlet): {h_cold_inlet:.2f} kJ/kg\")\n",
    "print(f\"Cold stream outlet enthalpy (h_cold_outlet): {h_cold_outlet:.2f} kJ/kg\")"
   ]
  },
  {
   "cell_type": "code",
   "execution_count": 498,
   "metadata": {
    "vscode": {
     "languageId": "xml"
    }
   },
   "outputs": [
    {
     "name": "stdout",
     "output_type": "stream",
     "text": [
      "Stored 'h_cold_inlet' (float)\n",
      "Stored 'h_cold_outlet' (float)\n",
      "Stored 'h_hot_inlet' (float)\n",
      "Stored 'h_hot_outlet' (float)\n"
     ]
    }
   ],
   "source": [
    "%store h_cold_inlet\n",
    "%store h_cold_outlet\n",
    "%store h_hot_inlet\n",
    "%store h_hot_outlet\n"
   ]
  },
  {
   "cell_type": "markdown",
   "metadata": {},
   "source": [
    "Look into molar flow rates"
   ]
  },
  {
   "cell_type": "code",
   "execution_count": 499,
   "metadata": {},
   "outputs": [],
   "source": [
    "# Flow rate (Assuming constant flow rate of 100 mol/s)\n",
    "flow_mol_hot = 10  # mol/s\n",
    "flow_mol_cold = 10  # mol/s"
   ]
  },
  {
   "cell_type": "code",
   "execution_count": 500,
   "metadata": {},
   "outputs": [],
   "source": [
    "# Convert molar flow to mass flow (assuming ideal gas behavior)\n",
    "M_hot = 28.0134  # Molar mass of N2 (kg/kmol)\n",
    "M_cold = 28.97  # Molar mass of air (kg/kmol)"
   ]
  },
  {
   "cell_type": "code",
   "execution_count": 501,
   "metadata": {},
   "outputs": [],
   "source": [
    "mass_flow_hot = flow_mol_hot * M_hot / 1000  # Convert to kg/s\n",
    "mass_flow_cold = flow_mol_cold * M_cold / 1000  # Convert to kg/s"
   ]
  },
  {
   "cell_type": "code",
   "execution_count": 502,
   "metadata": {},
   "outputs": [
    {
     "name": "stdout",
     "output_type": "stream",
     "text": [
      "Mass flow rate of hot stream: 0.2801 kg/s\n",
      "Mass flow rate of cold stream: 0.2897 kg/s\n"
     ]
    }
   ],
   "source": [
    "# Print the mass flow rates for hot and cold streams\n",
    "print(f\"Mass flow rate of hot stream: {mass_flow_hot:.4f} kg/s\")\n",
    "print(f\"Mass flow rate of cold stream: {mass_flow_cold:.4f} kg/s\")"
   ]
  },
  {
   "cell_type": "code",
   "execution_count": 503,
   "metadata": {},
   "outputs": [],
   "source": [
    "# Compute heat duty (Q)\n",
    "Q_hot = mass_flow_hot * Cp_hot * (T_hot_inlet - T_hot_outlet)  # kJ/s = kW\n",
    "Q_cold = mass_flow_cold * Cp_cold * (T_cold_outlet - T_cold_inlet)  # kJ/s = kW"
   ]
  },
  {
   "cell_type": "code",
   "execution_count": 504,
   "metadata": {},
   "outputs": [
    {
     "name": "stdout",
     "output_type": "stream",
     "text": [
      "Q_hot: 136.71 kW\n",
      "Q_cold: 138.86 kW\n"
     ]
    }
   ],
   "source": [
    "# Print Q_hot and Q_cold values\n",
    "print(f\"Q_hot: {Q_hot:.2f} kW\")\n",
    "print(f\"Q_cold: {Q_cold:.2f} kW\")"
   ]
  },
  {
   "cell_type": "code",
   "execution_count": 505,
   "metadata": {},
   "outputs": [],
   "source": [
    "# Ensure heat balance is satisfied\n",
    "Q = min(Q_hot, Q_cold) * 1000  # Convert kW to W"
   ]
  },
  {
   "cell_type": "code",
   "execution_count": 506,
   "metadata": {},
   "outputs": [
    {
     "name": "stdout",
     "output_type": "stream",
     "text": [
      "Computed Q: 136.71 kW\n"
     ]
    }
   ],
   "source": [
    "# Print the computed Q value\n",
    "print(f\"Computed Q: {Q/1000:.2f} kW\")"
   ]
  },
  {
   "cell_type": "code",
   "execution_count": 507,
   "metadata": {},
   "outputs": [
    {
     "name": "stdout",
     "output_type": "stream",
     "text": [
      "Computed LMTD: 168.95 K\n"
     ]
    }
   ],
   "source": [
    "# Compute LMTD\n",
    "delta_T1 = T_hot_inlet - T_cold_outlet\n",
    "delta_T2 = T_hot_outlet - T_cold_inlet\n",
    "LMTD = (delta_T1 - delta_T2) / np.log(delta_T1 / delta_T2)\n",
    "# Print the computed LMTD\n",
    "print(f\"Computed LMTD: {LMTD:.2f} K\")"
   ]
  },
  {
   "cell_type": "code",
   "execution_count": 508,
   "metadata": {},
   "outputs": [],
   "source": [
    "# Fixed overall heat transfer coefficient from Cinti et al 2020\n",
    "U = 30  # W/m²·K (30 kg/K/s³ = 30 W/m²·K)"
   ]
  },
  {
   "cell_type": "code",
   "execution_count": null,
   "metadata": {},
   "outputs": [],
   "source": [
    "# Ensure all necessary variables are fixed before initialization\n",
    "model.fs.heat_exchanger.shell_inlet.flow_mol.fix(flow_mol_hot)  # Fix hot stream flow rate\n",
    "model.fs.heat_exchanger.tube_inlet.flow_mol.fix(flow_mol_cold)  # Fix cold stream flow rate\n",
    "\n",
    "model.fs.heat_exchanger.shell_inlet.enth_mol.fix(h_hot_inlet)  # Fix hot stream inlet enthalpy\n",
    "model.fs.heat_exchanger.tube_inlet.enth_mol.fix(h_cold_inlet)  # Fix cold stream inlet enthalpy\n",
    "\n",
    "model.fs.heat_exchanger.overall_heat_transfer_coefficient[0].fix(30)\n",
    "model.fs.heat_exchanger.shell_inlet.pressure.fix(101325)\n",
    "#model.fs.heat_exchanger.tube_inlet.pressure.fix(101325)\n",
    "#model.fs.heat_exchanger.area.fix()\n",
    "model.fs.heat_exchanger.delta_temperature_in.fix(delta_T1)  # Fix delta_T_in\n",
    "model.fs.heat_exchanger.delta_temperature_out.fix(delta_T2)  # Fix delta_T_out"
   ]
  },
  {
   "cell_type": "code",
   "execution_count": 510,
   "metadata": {},
   "outputs": [
    {
     "name": "stdout",
     "output_type": "stream",
     "text": [
      "Model unknown\n",
      "\n",
      "  Variables:\n",
      "    None\n",
      "\n",
      "  Objectives:\n",
      "    None\n",
      "\n",
      "  Constraints:\n",
      "    None\n",
      "\n",
      "  Blocks:\n",
      "    Block fs\n",
      "    \n",
      "      Variables:\n",
      "        None\n",
      "    \n",
      "      Objectives:\n",
      "        None\n",
      "    \n",
      "      Constraints:\n",
      "        None\n",
      "    \n",
      "      Blocks:\n",
      "        Block fs.properties\n",
      "        \n",
      "          Variables:\n",
      "            None\n",
      "        \n",
      "          Objectives:\n",
      "            None\n",
      "        \n",
      "          Constraints:\n",
      "            None\n",
      "        \n",
      "          Blocks:\n",
      "            Block fs.properties.H2O\n",
      "            \n",
      "              Variables:\n",
      "                None\n",
      "            \n",
      "              Objectives:\n",
      "                None\n",
      "            \n",
      "              Constraints:\n",
      "                None\n",
      "            Block fs.properties.Mix\n",
      "            \n",
      "              Variables:\n",
      "                None\n",
      "            \n",
      "              Objectives:\n",
      "                None\n",
      "            \n",
      "              Constraints:\n",
      "                None\n",
      "        Block fs.heat_exchanger\n",
      "        \n",
      "          Variables:\n",
      "            overall_heat_transfer_coefficient : Overall heat transfer coefficient\n",
      "                Size=1, Index=fs._time, Units=kg/K/s**3\n",
      "                Key : Lower : Value : Upper : Fixed : Stale : Domain\n",
      "                0.0 :     0 :    30 :  None :  True : False : PositiveReals\n",
      "            area : Heat exchange area\n",
      "                Size=1, Index=None, Units=m**2\n",
      "                Key  : Lower : Value  : Upper : Fixed : Stale : Domain\n",
      "                None :     0 : 1000.0 :  None : False :  True : PositiveReals\n",
      "            delta_temperature_in : Temperature difference at the hot inlet end\n",
      "                Size=1, Index=fs._time, Units=K\n",
      "                Key : Lower : Value : Upper : Fixed : Stale : Domain\n",
      "                0.0 :  None : 642.3 :  None :  True : False :  Reals\n",
      "            delta_temperature_out : Temperature difference at the hot outlet end\n",
      "                Size=1, Index=fs._time, Units=K\n",
      "                Key : Lower : Value              : Upper : Fixed : Stale : Domain\n",
      "                0.0 :  None : -304.3399999999999 :  None :  True : False :  Reals\n",
      "            heat_duty : Size=1, Index=fs._time, ReferenceTo=fs.heat_exchanger.cold_side.heat\n",
      "                Key : Lower : Value : Upper : Fixed : Stale : Domain\n",
      "                0.0 :  None :   0.0 :  None : False :  True :  Reals\n",
      "            _flow_mol_hot_side_inlet_ref : Size=1, Index=fs._time, ReferenceTo=fs.heat_exchanger.hot_side.properties_in[...].component('flow_mol')\n",
      "                Key : Lower : Value : Upper : Fixed : Stale : Domain\n",
      "                0.0 :  None :    10 :  None :  True : False :  Reals\n",
      "            _enth_mol_hot_side_inlet_ref : Size=1, Index=fs._time, ReferenceTo=fs.heat_exchanger.hot_side.properties_in[...].component('enth_mol')\n",
      "                Key : Lower                : Value    : Upper             : Fixed : Stale : Domain\n",
      "                0.0 : 0.011021386146668411 : 688.1297 : 80765.34157807354 :  True : False :  Reals\n",
      "            _pressure_hot_side_inlet_ref : Size=1, Index=fs._time, ReferenceTo=fs.heat_exchanger.hot_side.properties_in[...].component('pressure')\n",
      "                Key : Lower                  : Value  : Upper        : Fixed : Stale : Domain\n",
      "                0.0 : 1.0000000000000002e-06 : 101325 : 1100000000.0 :  True : False : PositiveReals\n",
      "            _flow_mol_cold_side_inlet_ref : Size=1, Index=fs._time, ReferenceTo=fs.heat_exchanger.cold_side.properties_in[...].component('flow_mol')\n",
      "                Key : Lower : Value : Upper : Fixed : Stale : Domain\n",
      "                0.0 :  None :    10 :  None :  True : False :  Reals\n",
      "            _enth_mol_cold_side_inlet_ref : Size=1, Index=fs._time, ReferenceTo=fs.heat_exchanger.cold_side.properties_in[...].component('enth_mol')\n",
      "                Key : Lower                : Value              : Upper             : Fixed : Stale : Domain\n",
      "                0.0 : 0.011021386146668411 : 20.099999999999998 : 80765.34157807354 :  True : False :  Reals\n",
      "            _pressure_cold_side_inlet_ref : Size=1, Index=fs._time, ReferenceTo=fs.heat_exchanger.cold_side.properties_in[...].component('pressure')\n",
      "                Key : Lower                  : Value              : Upper        : Fixed : Stale : Domain\n",
      "                0.0 : 1.0000000000000002e-06 : 11032305.827500999 : 1100000000.0 : False :  True : PositiveReals\n",
      "            _flow_mol_hot_side_outlet_ref : Size=1, Index=fs._time, ReferenceTo=fs.heat_exchanger.hot_side.properties_out[...].component('flow_mol')\n",
      "                Key : Lower : Value : Upper : Fixed : Stale : Domain\n",
      "                0.0 :  None :     1 :  None : False :  True :  Reals\n",
      "            _enth_mol_hot_side_outlet_ref : Size=1, Index=fs._time, ReferenceTo=fs.heat_exchanger.hot_side.properties_out[...].component('enth_mol')\n",
      "                Key : Lower                : Value                : Upper             : Fixed : Stale : Domain\n",
      "                0.0 : 0.011021386146668411 : 0.011021386146668411 : 80765.34157807354 : False :  True :  Reals\n",
      "            _pressure_hot_side_outlet_ref : Size=1, Index=fs._time, ReferenceTo=fs.heat_exchanger.hot_side.properties_out[...].component('pressure')\n",
      "                Key : Lower                  : Value              : Upper        : Fixed : Stale : Domain\n",
      "                0.0 : 1.0000000000000002e-06 : 11032305.827500999 : 1100000000.0 : False :  True : PositiveReals\n",
      "            _flow_mol_cold_side_outlet_ref : Size=1, Index=fs._time, ReferenceTo=fs.heat_exchanger.cold_side.properties_out[...].component('flow_mol')\n",
      "                Key : Lower : Value : Upper : Fixed : Stale : Domain\n",
      "                0.0 :  None :     1 :  None : False :  True :  Reals\n",
      "            _enth_mol_cold_side_outlet_ref : Size=1, Index=fs._time, ReferenceTo=fs.heat_exchanger.cold_side.properties_out[...].component('enth_mol')\n",
      "                Key : Lower                : Value                : Upper             : Fixed : Stale : Domain\n",
      "                0.0 : 0.011021386146668411 : 0.011021386146668411 : 80765.34157807354 : False :  True :  Reals\n",
      "            _pressure_cold_side_outlet_ref : Size=1, Index=fs._time, ReferenceTo=fs.heat_exchanger.cold_side.properties_out[...].component('pressure')\n",
      "                Key : Lower                  : Value              : Upper        : Fixed : Stale : Domain\n",
      "                0.0 : 1.0000000000000002e-06 : 11032305.827500999 : 1100000000.0 : False :  True : PositiveReals\n",
      "        \n",
      "          Objectives:\n",
      "            None\n",
      "        \n",
      "          Constraints:\n",
      "            delta_temperature_in_equation : Size=1\n",
      "                Key : Lower : Body              : Upper\n",
      "                0.0 :   0.0 : 630.5723936849631 :   0.0\n",
      "            delta_temperature_out_equation : Size=1\n",
      "                Key : Lower : Body               : Upper\n",
      "                0.0 :   0.0 : -304.0728021562759 :   0.0\n",
      "            unit_heat_balance : Size=1\n",
      "                Key : Lower : Body : Upper\n",
      "                0.0 :   0.0 :  0.0 :   0.0\n",
      "            heat_transfer_equation : Size=1\n",
      "                Key : Lower : Body               : Upper\n",
      "                0.0 :   0.0 : -5069400.000000001 :   0.0\n",
      "        \n",
      "          Blocks:\n",
      "            Block fs.heat_exchanger.hot_side\n",
      "            \n",
      "              Variables:\n",
      "                heat : Heat transferred into control volume\n",
      "                    Size=1, Index=fs._time, Units=kg*m**2/s**3\n",
      "                    Key : Lower : Value : Upper : Fixed : Stale : Domain\n",
      "                    0.0 :  None :   0.0 :  None : False :  True :  Reals\n",
      "            \n",
      "              Objectives:\n",
      "                None\n",
      "            \n",
      "              Constraints:\n",
      "                material_balances : Size=1\n",
      "                    Key          : Lower : Body : Upper\n",
      "                    (0.0, 'H2O') :   0.0 :    9 :   0.0\n",
      "                enthalpy_balances : Size=1\n",
      "                    Key : Lower : Body              : Upper\n",
      "                    0.0 :   0.0 : 6881.285978613853 :   0.0\n",
      "                pressure_balance : Size=1\n",
      "                    Key : Lower : Body                : Upper\n",
      "                    0.0 :   0.0 : -10930980.827500999 :   0.0\n",
      "            \n",
      "              Blocks:\n",
      "                Block fs.heat_exchanger.hot_side.properties_in[0.0]\n",
      "                \n",
      "                  Variables:\n",
      "                    flow_mol : Total mole flow\n",
      "                        Size=1, Index=None, Units=mol/s\n",
      "                        Key  : Lower : Value : Upper : Fixed : Stale : Domain\n",
      "                        None :  None :    10 :  None :  True : False :  Reals\n",
      "                    pressure : Pressure\n",
      "                        Size=1, Index=None, Units=Pa\n",
      "                        Key  : Lower                  : Value  : Upper        : Fixed : Stale : Domain\n",
      "                        None : 1.0000000000000002e-06 : 101325 : 1100000000.0 :  True : False : PositiveReals\n",
      "                    enth_mol : Total molar enthalpy\n",
      "                        Size=1, Index=None, Units=J/mol\n",
      "                        Key  : Lower                : Value    : Upper             : Fixed : Stale : Domain\n",
      "                        None : 0.011021386146668411 : 688.1297 : 80765.34157807354 :  True : False :  Reals\n",
      "                \n",
      "                  Objectives:\n",
      "                    None\n",
      "                \n",
      "                  Constraints:\n",
      "                    None\n",
      "                Block fs.heat_exchanger.hot_side.properties_out[0.0]\n",
      "                \n",
      "                  Variables:\n",
      "                    flow_mol : Total mole flow\n",
      "                        Size=1, Index=None, Units=mol/s\n",
      "                        Key  : Lower : Value : Upper : Fixed : Stale : Domain\n",
      "                        None :  None :     1 :  None : False :  True :  Reals\n",
      "                    pressure : Pressure\n",
      "                        Size=1, Index=None, Units=Pa\n",
      "                        Key  : Lower                  : Value              : Upper        : Fixed : Stale : Domain\n",
      "                        None : 1.0000000000000002e-06 : 11032305.827500999 : 1100000000.0 : False :  True : PositiveReals\n",
      "                    enth_mol : Total molar enthalpy\n",
      "                        Size=1, Index=None, Units=J/mol\n",
      "                        Key  : Lower                : Value                : Upper             : Fixed : Stale : Domain\n",
      "                        None : 0.011021386146668411 : 0.011021386146668411 : 80765.34157807354 : False :  True :  Reals\n",
      "                \n",
      "                  Objectives:\n",
      "                    None\n",
      "                \n",
      "                  Constraints:\n",
      "                    None\n",
      "            Block fs.heat_exchanger.cold_side\n",
      "            \n",
      "              Variables:\n",
      "                heat : Heat transferred into control volume\n",
      "                    Size=1, Index=fs._time, Units=kg*m**2/s**3\n",
      "                    Key : Lower : Value : Upper : Fixed : Stale : Domain\n",
      "                    0.0 :  None :   0.0 :  None : False :  True :  Reals\n",
      "            \n",
      "              Objectives:\n",
      "                None\n",
      "            \n",
      "              Constraints:\n",
      "                material_balances : Size=1\n",
      "                    Key          : Lower : Body : Upper\n",
      "                    (0.0, 'H2O') :   0.0 :    9 :   0.0\n",
      "                enthalpy_balances : Size=1\n",
      "                    Key : Lower : Body              : Upper\n",
      "                    0.0 :   0.0 : 200.9889786138533 :   0.0\n",
      "                pressure_balance : Size=1\n",
      "                    Key : Lower : Body : Upper\n",
      "                    0.0 :   0.0 :  0.0 :   0.0\n",
      "            \n",
      "              Blocks:\n",
      "                Block fs.heat_exchanger.cold_side.properties_in[0.0]\n",
      "                \n",
      "                  Variables:\n",
      "                    flow_mol : Total mole flow\n",
      "                        Size=1, Index=None, Units=mol/s\n",
      "                        Key  : Lower : Value : Upper : Fixed : Stale : Domain\n",
      "                        None :  None :    10 :  None :  True : False :  Reals\n",
      "                    pressure : Pressure\n",
      "                        Size=1, Index=None, Units=Pa\n",
      "                        Key  : Lower                  : Value              : Upper        : Fixed : Stale : Domain\n",
      "                        None : 1.0000000000000002e-06 : 11032305.827500999 : 1100000000.0 : False :  True : PositiveReals\n",
      "                    enth_mol : Total molar enthalpy\n",
      "                        Size=1, Index=None, Units=J/mol\n",
      "                        Key  : Lower                : Value              : Upper             : Fixed : Stale : Domain\n",
      "                        None : 0.011021386146668411 : 20.099999999999998 : 80765.34157807354 :  True : False :  Reals\n",
      "                \n",
      "                  Objectives:\n",
      "                    None\n",
      "                \n",
      "                  Constraints:\n",
      "                    None\n",
      "                Block fs.heat_exchanger.cold_side.properties_out[0.0]\n",
      "                \n",
      "                  Variables:\n",
      "                    flow_mol : Total mole flow\n",
      "                        Size=1, Index=None, Units=mol/s\n",
      "                        Key  : Lower : Value : Upper : Fixed : Stale : Domain\n",
      "                        None :  None :     1 :  None : False :  True :  Reals\n",
      "                    pressure : Pressure\n",
      "                        Size=1, Index=None, Units=Pa\n",
      "                        Key  : Lower                  : Value              : Upper        : Fixed : Stale : Domain\n",
      "                        None : 1.0000000000000002e-06 : 11032305.827500999 : 1100000000.0 : False :  True : PositiveReals\n",
      "                    enth_mol : Total molar enthalpy\n",
      "                        Size=1, Index=None, Units=J/mol\n",
      "                        Key  : Lower                : Value                : Upper             : Fixed : Stale : Domain\n",
      "                        None : 0.011021386146668411 : 0.011021386146668411 : 80765.34157807354 : False :  True :  Reals\n",
      "                \n",
      "                  Objectives:\n",
      "                    None\n",
      "                \n",
      "                  Constraints:\n",
      "                    None\n"
     ]
    }
   ],
   "source": [
    "model.display()\n"
   ]
  },
  {
   "cell_type": "code",
   "execution_count": 511,
   "metadata": {},
   "outputs": [
    {
     "ename": "InitializationError",
     "evalue": "Degrees of freedom for fs.heat_exchanger were not equal to zero during initialization (DoF = -1).",
     "output_type": "error",
     "traceback": [
      "\u001b[1;31m---------------------------------------------------------------------------\u001b[0m",
      "\u001b[1;31mInitializationError\u001b[0m                       Traceback (most recent call last)",
      "Cell \u001b[1;32mIn[511], line 3\u001b[0m\n\u001b[0;32m      1\u001b[0m \u001b[38;5;66;03m# Initialize the model\u001b[39;00m\n\u001b[0;32m      2\u001b[0m initializer \u001b[38;5;241m=\u001b[39m HX0DInitializer()\n\u001b[1;32m----> 3\u001b[0m \u001b[43minitializer\u001b[49m\u001b[38;5;241;43m.\u001b[39;49m\u001b[43minitialize\u001b[49m\u001b[43m(\u001b[49m\u001b[43mmodel\u001b[49m\u001b[38;5;241;43m.\u001b[39;49m\u001b[43mfs\u001b[49m\u001b[38;5;241;43m.\u001b[39;49m\u001b[43mheat_exchanger\u001b[49m\u001b[43m)\u001b[49m\n",
      "File \u001b[1;32mc:\\Users\\Sara\\miniforge3\\envs\\my-idaes-env\\lib\\site-packages\\idaes\\core\\initialization\\initializer_base.py:185\u001b[0m, in \u001b[0;36mInitializerBase.initialize\u001b[1;34m(self, model, initial_guesses, json_file, output_level, exclude_unused_vars)\u001b[0m\n\u001b[0;32m    182\u001b[0m \u001b[38;5;28mself\u001b[39m\u001b[38;5;241m.\u001b[39mfix_initialization_states(model)\n\u001b[0;32m    184\u001b[0m \u001b[38;5;66;03m# 4. Prechecks\u001b[39;00m\n\u001b[1;32m--> 185\u001b[0m \u001b[38;5;28;43mself\u001b[39;49m\u001b[38;5;241;43m.\u001b[39;49m\u001b[43mprecheck\u001b[49m\u001b[43m(\u001b[49m\u001b[43mmodel\u001b[49m\u001b[43m)\u001b[49m\n\u001b[0;32m    187\u001b[0m \u001b[38;5;66;03m# 5. try: Call specified initialization routine\u001b[39;00m\n\u001b[0;32m    188\u001b[0m \u001b[38;5;28;01mtry\u001b[39;00m:\n\u001b[0;32m    189\u001b[0m     \u001b[38;5;66;03m# Base method does not have a return (NotImplementedError),\u001b[39;00m\n\u001b[0;32m    190\u001b[0m     \u001b[38;5;66;03m# but we expect this to be overloaded, disable pylint warning\u001b[39;00m\n\u001b[0;32m    191\u001b[0m     \u001b[38;5;66;03m# pylint: disable=E1111\u001b[39;00m\n",
      "File \u001b[1;32mc:\\Users\\Sara\\miniforge3\\envs\\my-idaes-env\\lib\\site-packages\\idaes\\core\\initialization\\initializer_base.py:302\u001b[0m, in \u001b[0;36mInitializerBase.precheck\u001b[1;34m(self, model)\u001b[0m\n\u001b[0;32m    300\u001b[0m \u001b[38;5;28;01mif\u001b[39;00m \u001b[38;5;129;01mnot\u001b[39;00m dof \u001b[38;5;241m==\u001b[39m \u001b[38;5;241m0\u001b[39m:\n\u001b[0;32m    301\u001b[0m     \u001b[38;5;28mself\u001b[39m\u001b[38;5;241m.\u001b[39m_update_summary(model, \u001b[38;5;124m\"\u001b[39m\u001b[38;5;124mstatus\u001b[39m\u001b[38;5;124m\"\u001b[39m, InitializationStatus\u001b[38;5;241m.\u001b[39mDoF)\n\u001b[1;32m--> 302\u001b[0m     \u001b[38;5;28;01mraise\u001b[39;00m InitializationError(\n\u001b[0;32m    303\u001b[0m         \u001b[38;5;124mf\u001b[39m\u001b[38;5;124m\"\u001b[39m\u001b[38;5;124mDegrees of freedom for \u001b[39m\u001b[38;5;132;01m{\u001b[39;00mmodel\u001b[38;5;241m.\u001b[39mname\u001b[38;5;132;01m}\u001b[39;00m\u001b[38;5;124m were not equal to zero during \u001b[39m\u001b[38;5;124m\"\u001b[39m\n\u001b[0;32m    304\u001b[0m         \u001b[38;5;124mf\u001b[39m\u001b[38;5;124m\"\u001b[39m\u001b[38;5;124minitialization (DoF = \u001b[39m\u001b[38;5;132;01m{\u001b[39;00mdegrees_of_freedom(model)\u001b[38;5;132;01m}\u001b[39;00m\u001b[38;5;124m).\u001b[39m\u001b[38;5;124m\"\u001b[39m\n\u001b[0;32m    305\u001b[0m     )\n",
      "\u001b[1;31mInitializationError\u001b[0m: Degrees of freedom for fs.heat_exchanger were not equal to zero during initialization (DoF = -1)."
     ]
    }
   ],
   "source": [
    "# Initialize the model\n",
    "initializer = HX0DInitializer()\n",
    "initializer.initialize(model.fs.heat_exchanger)"
   ]
  },
  {
   "cell_type": "code",
   "execution_count": null,
   "metadata": {},
   "outputs": [
    {
     "name": "stdout",
     "output_type": "stream",
     "text": [
      "Degrees of Freedom: 0\n"
     ]
    }
   ],
   "source": [
    "from idaes.core.util.model_statistics import degrees_of_freedom\n",
    "print(\"Degrees of Freedom:\", degrees_of_freedom(model))"
   ]
  },
  {
   "cell_type": "code",
   "execution_count": null,
   "metadata": {},
   "outputs": [],
   "source": [
    "\n",
    "# Ensure the solver is correctly initialized and used\n",
    "solver = pe.SolverFactory(\"ipopt\")  # Ensure SolverFactory is correctly initialized\n"
   ]
  },
  {
   "cell_type": "code",
   "execution_count": null,
   "metadata": {},
   "outputs": [
    {
     "name": "stdout",
     "output_type": "stream",
     "text": [
      "Ipopt 3.13.2: \n",
      "\n",
      "******************************************************************************\n",
      "This program contains Ipopt, a library for large-scale nonlinear optimization.\n",
      " Ipopt is released as open source code under the Eclipse Public License (EPL).\n",
      "         For more information visit http://projects.coin-or.org/Ipopt\n",
      "\n",
      "This version of Ipopt was compiled from source code available at\n",
      "    https://github.com/IDAES/Ipopt as part of the Institute for the Design of\n",
      "    Advanced Energy Systems Process Systems Engineering Framework (IDAES PSE\n",
      "    Framework) Copyright (c) 2018-2019. See https://github.com/IDAES/idaes-pse.\n",
      "\n",
      "This version of Ipopt was compiled using HSL, a collection of Fortran codes\n",
      "    for large-scale scientific computation.  All technical papers, sales and\n",
      "    publicity material resulting from use of the HSL codes within IPOPT must\n",
      "    contain the following acknowledgement:\n",
      "        HSL, a collection of Fortran codes for large-scale scientific\n",
      "        computation. See http://www.hsl.rl.ac.uk.\n",
      "******************************************************************************\n",
      "\n",
      "This is Ipopt version 3.13.2, running with linear solver ma27.\n",
      "\n",
      "Number of nonzeros in equality constraint Jacobian...:       20\n",
      "Number of nonzeros in inequality constraint Jacobian.:        0\n",
      "Number of nonzeros in Lagrangian Hessian.............:       11\n",
      "\n",
      "Total number of variables............................:       10\n",
      "                     variables with only lower bounds:        1\n",
      "                variables with lower and upper bounds:        4\n",
      "                     variables with only upper bounds:        0\n",
      "Total number of equality constraints.................:       10\n",
      "Total number of inequality constraints...............:        0\n",
      "        inequality constraints with only lower bounds:        0\n",
      "   inequality constraints with lower and upper bounds:        0\n",
      "        inequality constraints with only upper bounds:        0\n",
      "\n",
      "iter    objective    inf_pr   inf_du lg(mu)  ||d||  lg(rg) alpha_du alpha_pr  ls\n",
      "   0  0.0000000e+00 1.09e+07 1.00e+00  -1.0 0.00e+00    -  0.00e+00 0.00e+00   0\n",
      "   1r 0.0000000e+00 1.09e+07 9.99e+02   7.0 0.00e+00    -  0.00e+00 1.04e-07R  2\n",
      "   2r 0.0000000e+00 1.09e+07 7.73e+07   7.0 3.69e+06    -  7.34e-02 4.81e-04f  8\n",
      "   3r 0.0000000e+00 1.01e+07 1.50e+06   4.2 3.34e+06    -  9.87e-01 2.49e-01f  1\n",
      "   4r 0.0000000e+00 6.09e+06 1.54e+05   4.2 8.22e+07    -  8.97e-01 4.87e-02f  1\n",
      "   5r 0.0000000e+00 7.60e+04 3.23e+04   4.2 7.38e+07    -  9.70e-01 8.18e-02f  1\n",
      "   6r 0.0000000e+00 7.31e+04 3.08e+04   4.2 1.35e+06    -  1.00e+00 4.48e-02f  1\n",
      "   7r 0.0000000e+00 2.70e+04 1.15e+04   4.2 9.85e+03    -  9.71e-01 7.30e-01f  1\n",
      "   8r 0.0000000e+00 3.53e+03 7.14e+03   3.5 2.25e+03    -  9.91e-01 8.80e-01f  1\n",
      "   9r 0.0000000e+00 3.24e+03 2.49e+04   3.5 4.98e+02   0.0 7.42e-01 8.83e-02f  1\n",
      "iter    objective    inf_pr   inf_du lg(mu)  ||d||  lg(rg) alpha_du alpha_pr  ls\n",
      "  10r 0.0000000e+00 2.45e+03 3.86e+03   2.8 2.10e+03    -  6.31e-01 2.82e-01f  1\n",
      "  11r 0.0000000e+00 8.55e+02 5.00e+02   2.8 1.69e+03    -  4.02e-01 7.93e-01f  1\n",
      "  12r 0.0000000e+00 7.05e+02 1.35e+03   2.1 3.63e+02    -  9.99e-01 2.10e-01f  1\n",
      "  13r 0.0000000e+00 6.33e+02 6.83e+02   2.1 3.14e+02    -  5.87e-01 9.06e-01f  1\n",
      "  14r 0.0000000e+00 6.33e+02 2.44e+03   1.4 1.47e+02    -  1.20e-02 4.36e-01f  1\n",
      "  15r 0.0000000e+00 6.34e+02 4.96e+03   0.7 2.64e+02    -  6.24e-01 4.80e-01f  1\n",
      "  16r 0.0000000e+00 6.34e+02 4.02e+02   0.7 2.21e+02    -  9.23e-01 9.72e-01f  1\n",
      "  17r 0.0000000e+00 6.34e+02 3.77e+02   0.7 2.86e+01    -  1.00e+00 2.36e-01f  1\n",
      "  18r 0.0000000e+00 6.34e+02 4.67e+00   0.7 1.63e+01    -  1.00e+00 1.00e+00h  1\n",
      "  19r 0.0000000e+00 6.34e+02 1.33e-02   0.7 9.63e-01    -  1.00e+00 1.00e+00h  1\n",
      "iter    objective    inf_pr   inf_du lg(mu)  ||d||  lg(rg) alpha_du alpha_pr  ls\n",
      "  20r 0.0000000e+00 6.34e+02 3.15e+02  -1.3 1.80e+00    -  9.98e-01 9.94e-01f  1\n",
      "  21r 0.0000000e+00 8.10e+02 6.21e+02  -1.3 1.02e+03    -  1.91e-01 8.99e-01f  1\n",
      "  22r 0.0000000e+00 6.35e+02 3.42e+02  -1.3 4.01e+02    -  1.00e+00 6.60e-01f  1\n",
      "  23r 0.0000000e+00 6.34e+02 2.62e+01  -1.3 1.06e+02    -  1.00e+00 1.00e+00h  1\n",
      "  24r 0.0000000e+00 6.34e+02 5.32e-02  -1.3 7.37e+00    -  1.00e+00 1.00e+00h  1\n",
      "  25r 0.0000000e+00 6.34e+02 3.59e+01  -2.0 7.12e-02    -  1.00e+00 1.00e+00f  1\n",
      "  26r 0.0000000e+00 6.35e+02 4.09e+01  -2.0 3.65e+02    -  1.00e+00 1.00e+00f  1\n",
      "  27r 0.0000000e+00 6.35e+02 1.79e+00  -2.0 6.16e+01    -  1.00e+00 1.00e+00h  1\n",
      "  28r 0.0000000e+00 6.35e+02 9.12e-04  -2.0 3.10e+00    -  1.00e+00 1.00e+00f  1\n",
      "  29r 0.0000000e+00 6.35e+02 3.54e+01  -4.6 1.43e-02    -  1.00e+00 1.00e+00f  1\n",
      "iter    objective    inf_pr   inf_du lg(mu)  ||d||  lg(rg) alpha_du alpha_pr  ls\n",
      "  30r 0.0000000e+00 6.35e+02 3.00e+01  -4.6 6.68e+01  -0.5 1.00e+00 1.00e+00f  1\n",
      "  31r 0.0000000e+00 6.35e+02 4.03e+01  -4.6 1.10e+02  -1.0 1.00e+00 8.72e-01f  1\n",
      "  32r 0.0000000e+00 6.35e+02 4.03e+01  -4.6 1.53e+02  -1.4 1.00e+00 2.36e-05f  1\n",
      "  33r 0.0000000e+00 6.33e+02 1.53e+02  -4.6 9.89e+03    -  1.11e-03 1.09e-01f  1\n",
      "  34r 0.0000000e+00 6.33e+02 1.73e+02  -4.6 1.75e+02  -1.9 1.00e+00 9.49e-07h  1\n",
      "  35r 0.0000000e+00 6.33e+02 9.47e+03  -4.6 3.00e+01    -  1.00e+00 9.65e-04h  1\n",
      "  36r 0.0000000e+00 6.33e+02 2.69e+01  -4.6 2.11e+01    -  1.00e+00 1.00e+00h  1\n",
      "  37r 0.0000000e+00 6.33e+02 2.47e-10  -4.6 1.63e-05    -  1.00e+00 1.00e+00h  1\n",
      "  38r 0.0000000e+00 6.33e+02 3.18e+00  -6.9 2.41e-05    -  1.00e+00 1.00e+00f  1\n",
      "  39r 0.0000000e+00 6.33e+02 2.75e-09  -6.9 4.29e-08    -  1.00e+00 1.00e+00h  1\n",
      "iter    objective    inf_pr   inf_du lg(mu)  ||d||  lg(rg) alpha_du alpha_pr  ls\n",
      "  40r 0.0000000e+00 6.33e+02 2.20e-01  -9.0 7.68e-08    -  1.00e+00 1.00e+00h  1\n",
      "\n",
      "Number of Iterations....: 40\n",
      "\n",
      "                                   (scaled)                 (unscaled)\n",
      "Objective...............:   0.0000000000000000e+00    0.0000000000000000e+00\n",
      "Dual infeasibility......:   2.0747257585227295e-02    2.0747257585227295e-02\n",
      "Constraint violation....:   6.3348467101616029e+02    6.3348467101616029e+02\n",
      "Complementarity.........:   9.0909090909090920e-10    9.0909090909090920e-10\n",
      "Overall NLP error.......:   6.3348467101616029e+02    6.3348467101616029e+02\n",
      "\n",
      "\n",
      "Number of objective function evaluations             = 53\n",
      "Number of objective gradient evaluations             = 3\n",
      "Number of equality constraint evaluations            = 53\n",
      "Number of inequality constraint evaluations          = 0\n",
      "Number of equality constraint Jacobian evaluations   = 43\n",
      "Number of inequality constraint Jacobian evaluations = 0\n",
      "Number of Lagrangian Hessian evaluations             = 41\n",
      "Total CPU secs in IPOPT (w/o function evaluations)   =      0.053\n",
      "Total CPU secs in NLP function evaluations           =      2.064\n",
      "\n",
      "EXIT: Converged to a point of local infeasibility. Problem may be infeasible.\n",
      "WARNING: Loading a SolverResults object with a warning status into\n",
      "model.name=\"unknown\";\n",
      "    - termination condition: infeasible\n",
      "    - message from solver: Ipopt 3.13.2\\x3a Converged to a locally infeasible\n",
      "      point. Problem may be infeasible.\n"
     ]
    }
   ],
   "source": [
    "\n",
    "results = solver.solve(model, tee=True)"
   ]
  },
  {
   "cell_type": "code",
   "execution_count": null,
   "metadata": {},
   "outputs": [
    {
     "name": "stdout",
     "output_type": "stream",
     "text": [
      "Block fs.heat_exchanger\n",
      "\n",
      "  Variables:\n",
      "    overall_heat_transfer_coefficient : Overall heat transfer coefficient\n",
      "        Size=1, Index=fs._time, Units=kg/K/s**3\n",
      "        Key : Lower : Value : Upper : Fixed : Stale : Domain\n",
      "        0.0 :     0 :    30 :  None :  True :  True : PositiveReals\n",
      "    area : Heat exchange area\n",
      "        Size=1, Index=None, Units=m**2\n",
      "        Key  : Lower : Value : Upper : Fixed : Stale : Domain\n",
      "        None :     0 :   0.0 :  None : False : False : PositiveReals\n",
      "    delta_temperature_in : Temperature difference at the hot inlet end\n",
      "        Size=1, Index=fs._time, Units=K\n",
      "        Key : Lower : Value : Upper : Fixed : Stale : Domain\n",
      "        0.0 :  None : 642.3 :  None :  True :  True :  Reals\n",
      "    delta_temperature_out : Temperature difference at the hot outlet end\n",
      "        Size=1, Index=fs._time, Units=K\n",
      "        Key : Lower : Value             : Upper : Fixed : Stale : Domain\n",
      "        0.0 :  None : 8.815328984506381 :  None : False : False :  Reals\n",
      "    heat_duty : Size=1, Index=fs._time, ReferenceTo=fs.heat_exchanger.cold_side.heat\n",
      "        Key : Lower : Value                  : Upper : Fixed : Stale : Domain\n",
      "        0.0 :  None : -9.766666347052012e-05 :  None : False : False :  Reals\n",
      "    _flow_mol_hot_side_inlet_ref : Size=1, Index=fs._time, ReferenceTo=fs.heat_exchanger.hot_side.properties_in[...].component('flow_mol')\n",
      "        Key : Lower : Value : Upper : Fixed : Stale : Domain\n",
      "        0.0 :  None :    10 :  None :  True :  True :  Reals\n",
      "    _enth_mol_hot_side_inlet_ref : Size=1, Index=fs._time, ReferenceTo=fs.heat_exchanger.hot_side.properties_in[...].component('enth_mol')\n",
      "        Key : Lower                : Value    : Upper             : Fixed : Stale : Domain\n",
      "        0.0 : 0.011021386146668411 : 688.1297 : 80765.34157807354 :  True :  True :  Reals\n",
      "    _pressure_hot_side_inlet_ref : Size=1, Index=fs._time, ReferenceTo=fs.heat_exchanger.hot_side.properties_in[...].component('pressure')\n",
      "        Key : Lower                  : Value  : Upper        : Fixed : Stale : Domain\n",
      "        0.0 : 1.0000000000000002e-06 : 101325 : 1100000000.0 :  True :  True : PositiveReals\n",
      "    _flow_mol_cold_side_inlet_ref : Size=1, Index=fs._time, ReferenceTo=fs.heat_exchanger.cold_side.properties_in[...].component('flow_mol')\n",
      "        Key : Lower : Value : Upper : Fixed : Stale : Domain\n",
      "        0.0 :  None :    10 :  None :  True :  True :  Reals\n",
      "    _enth_mol_cold_side_inlet_ref : Size=1, Index=fs._time, ReferenceTo=fs.heat_exchanger.cold_side.properties_in[...].component('enth_mol')\n",
      "        Key : Lower                : Value              : Upper             : Fixed : Stale : Domain\n",
      "        0.0 : 0.011021386146668411 : 20.099999999999998 : 80765.34157807354 :  True :  True :  Reals\n",
      "    _pressure_cold_side_inlet_ref : Size=1, Index=fs._time, ReferenceTo=fs.heat_exchanger.cold_side.properties_in[...].component('pressure')\n",
      "        Key : Lower                  : Value  : Upper        : Fixed : Stale : Domain\n",
      "        0.0 : 1.0000000000000002e-06 : 101325 : 1100000000.0 :  True :  True : PositiveReals\n",
      "    _flow_mol_hot_side_outlet_ref : Size=1, Index=fs._time, ReferenceTo=fs.heat_exchanger.hot_side.properties_out[...].component('flow_mol')\n",
      "        Key : Lower : Value              : Upper : Fixed : Stale : Domain\n",
      "        0.0 :  None : 10.000000000000002 :  None : False : False :  Reals\n",
      "    _enth_mol_hot_side_outlet_ref : Size=1, Index=fs._time, ReferenceTo=fs.heat_exchanger.hot_side.properties_out[...].component('enth_mol')\n",
      "        Key : Lower                : Value             : Upper             : Fixed : Stale : Domain\n",
      "        0.0 : 0.011021386146668411 : 688.1297097666661 : 80765.34157807354 : False : False :  Reals\n",
      "    _pressure_hot_side_outlet_ref : Size=1, Index=fs._time, ReferenceTo=fs.heat_exchanger.hot_side.properties_out[...].component('pressure')\n",
      "        Key : Lower                  : Value    : Upper        : Fixed : Stale : Domain\n",
      "        0.0 : 1.0000000000000002e-06 : 101325.0 : 1100000000.0 : False : False : PositiveReals\n",
      "    _flow_mol_cold_side_outlet_ref : Size=1, Index=fs._time, ReferenceTo=fs.heat_exchanger.cold_side.properties_out[...].component('flow_mol')\n",
      "        Key : Lower : Value              : Upper : Fixed : Stale : Domain\n",
      "        0.0 :  None : 10.000000000000048 :  None : False : False :  Reals\n",
      "    _enth_mol_cold_side_outlet_ref : Size=1, Index=fs._time, ReferenceTo=fs.heat_exchanger.cold_side.properties_out[...].component('enth_mol')\n",
      "        Key : Lower                : Value              : Upper             : Fixed : Stale : Domain\n",
      "        0.0 : 0.011021386146668411 : 20.099990233333553 : 80765.34157807354 : False : False :  Reals\n",
      "    _pressure_cold_side_outlet_ref : Size=1, Index=fs._time, ReferenceTo=fs.heat_exchanger.cold_side.properties_out[...].component('pressure')\n",
      "        Key : Lower                  : Value    : Upper        : Fixed : Stale : Domain\n",
      "        0.0 : 1.0000000000000002e-06 : 101325.0 : 1100000000.0 : False : False : PositiveReals\n",
      "\n",
      "  Objectives:\n",
      "    None\n",
      "\n",
      "  Constraints:\n",
      "    delta_temperature_in_equation : Size=1\n",
      "        Key : Lower : Body              : Upper\n",
      "        0.0 :   0.0 : 633.4846710161603 :   0.0\n",
      "    delta_temperature_out_equation : Size=1\n",
      "        Key : Lower : Body                  : Upper\n",
      "        0.0 :   0.0 : 2.673417043297377e-12 :   0.0\n",
      "    unit_heat_balance : Size=1\n",
      "        Key : Lower : Body                   : Upper\n",
      "        0.0 :   0.0 : -3.821812658011403e-18 :   0.0\n",
      "    heat_transfer_equation : Size=1\n",
      "        Key : Lower : Body                   : Upper\n",
      "        0.0 :   0.0 : -9.766666347052012e-05 :   0.0\n",
      "\n",
      "  Blocks:\n",
      "    Block fs.heat_exchanger.hot_side\n",
      "    \n",
      "      Variables:\n",
      "        heat : Heat transferred into control volume\n",
      "            Size=1, Index=fs._time, Units=kg*m**2/s**3\n",
      "            Key : Lower : Value                : Upper : Fixed : Stale : Domain\n",
      "            0.0 :  None : 9.76666634705163e-05 :  None : False : False :  Reals\n",
      "    \n",
      "      Objectives:\n",
      "        None\n",
      "    \n",
      "      Constraints:\n",
      "        material_balances : Size=1\n",
      "            Key          : Lower : Body                    : Upper\n",
      "            (0.0, 'H2O') :   0.0 : -1.7763568394002505e-15 :   0.0\n",
      "        enthalpy_balances : Size=1\n",
      "            Key : Lower : Body                   : Upper\n",
      "            0.0 :   0.0 : 1.0294735848298195e-12 :   0.0\n",
      "        pressure_balance : Size=1\n",
      "            Key : Lower : Body : Upper\n",
      "            0.0 :   0.0 :  0.0 :   0.0\n",
      "    \n",
      "      Blocks:\n",
      "        Block fs.heat_exchanger.hot_side.properties_in[0.0]\n",
      "        \n",
      "          Variables:\n",
      "            flow_mol : Total mole flow\n",
      "                Size=1, Index=None, Units=mol/s\n",
      "                Key  : Lower : Value : Upper : Fixed : Stale : Domain\n",
      "                None :  None :    10 :  None :  True :  True :  Reals\n",
      "            pressure : Pressure\n",
      "                Size=1, Index=None, Units=Pa\n",
      "                Key  : Lower                  : Value  : Upper        : Fixed : Stale : Domain\n",
      "                None : 1.0000000000000002e-06 : 101325 : 1100000000.0 :  True :  True : PositiveReals\n",
      "            enth_mol : Total molar enthalpy\n",
      "                Size=1, Index=None, Units=J/mol\n",
      "                Key  : Lower                : Value    : Upper             : Fixed : Stale : Domain\n",
      "                None : 0.011021386146668411 : 688.1297 : 80765.34157807354 :  True :  True :  Reals\n",
      "        \n",
      "          Objectives:\n",
      "            None\n",
      "        \n",
      "          Constraints:\n",
      "            None\n",
      "        Block fs.heat_exchanger.hot_side.properties_out[0.0]\n",
      "        \n",
      "          Variables:\n",
      "            flow_mol : Total mole flow\n",
      "                Size=1, Index=None, Units=mol/s\n",
      "                Key  : Lower : Value              : Upper : Fixed : Stale : Domain\n",
      "                None :  None : 10.000000000000002 :  None : False : False :  Reals\n",
      "            pressure : Pressure\n",
      "                Size=1, Index=None, Units=Pa\n",
      "                Key  : Lower                  : Value    : Upper        : Fixed : Stale : Domain\n",
      "                None : 1.0000000000000002e-06 : 101325.0 : 1100000000.0 : False : False : PositiveReals\n",
      "            enth_mol : Total molar enthalpy\n",
      "                Size=1, Index=None, Units=J/mol\n",
      "                Key  : Lower                : Value             : Upper             : Fixed : Stale : Domain\n",
      "                None : 0.011021386146668411 : 688.1297097666661 : 80765.34157807354 : False : False :  Reals\n",
      "        \n",
      "          Objectives:\n",
      "            None\n",
      "        \n",
      "          Constraints:\n",
      "            None\n",
      "    Block fs.heat_exchanger.cold_side\n",
      "    \n",
      "      Variables:\n",
      "        heat : Heat transferred into control volume\n",
      "            Size=1, Index=fs._time, Units=kg*m**2/s**3\n",
      "            Key : Lower : Value                  : Upper : Fixed : Stale : Domain\n",
      "            0.0 :  None : -9.766666347052012e-05 :  None : False : False :  Reals\n",
      "    \n",
      "      Objectives:\n",
      "        None\n",
      "    \n",
      "      Constraints:\n",
      "        material_balances : Size=1\n",
      "            Key          : Lower : Body                   : Upper\n",
      "            (0.0, 'H2O') :   0.0 : -4.796163466380676e-14 :   0.0\n",
      "        enthalpy_balances : Size=1\n",
      "            Key : Lower : Body                   : Upper\n",
      "            0.0 :   0.0 : -6.295867147933232e-15 :   0.0\n",
      "        pressure_balance : Size=1\n",
      "            Key : Lower : Body : Upper\n",
      "            0.0 :   0.0 :  0.0 :   0.0\n",
      "    \n",
      "      Blocks:\n",
      "        Block fs.heat_exchanger.cold_side.properties_in[0.0]\n",
      "        \n",
      "          Variables:\n",
      "            flow_mol : Total mole flow\n",
      "                Size=1, Index=None, Units=mol/s\n",
      "                Key  : Lower : Value : Upper : Fixed : Stale : Domain\n",
      "                None :  None :    10 :  None :  True :  True :  Reals\n",
      "            pressure : Pressure\n",
      "                Size=1, Index=None, Units=Pa\n",
      "                Key  : Lower                  : Value  : Upper        : Fixed : Stale : Domain\n",
      "                None : 1.0000000000000002e-06 : 101325 : 1100000000.0 :  True :  True : PositiveReals\n",
      "            enth_mol : Total molar enthalpy\n",
      "                Size=1, Index=None, Units=J/mol\n",
      "                Key  : Lower                : Value              : Upper             : Fixed : Stale : Domain\n",
      "                None : 0.011021386146668411 : 20.099999999999998 : 80765.34157807354 :  True :  True :  Reals\n",
      "        \n",
      "          Objectives:\n",
      "            None\n",
      "        \n",
      "          Constraints:\n",
      "            None\n",
      "        Block fs.heat_exchanger.cold_side.properties_out[0.0]\n",
      "        \n",
      "          Variables:\n",
      "            flow_mol : Total mole flow\n",
      "                Size=1, Index=None, Units=mol/s\n",
      "                Key  : Lower : Value              : Upper : Fixed : Stale : Domain\n",
      "                None :  None : 10.000000000000048 :  None : False : False :  Reals\n",
      "            pressure : Pressure\n",
      "                Size=1, Index=None, Units=Pa\n",
      "                Key  : Lower                  : Value    : Upper        : Fixed : Stale : Domain\n",
      "                None : 1.0000000000000002e-06 : 101325.0 : 1100000000.0 : False : False : PositiveReals\n",
      "            enth_mol : Total molar enthalpy\n",
      "                Size=1, Index=None, Units=J/mol\n",
      "                Key  : Lower                : Value              : Upper             : Fixed : Stale : Domain\n",
      "                None : 0.011021386146668411 : 20.099990233333553 : 80765.34157807354 : False : False :  Reals\n",
      "        \n",
      "          Objectives:\n",
      "            None\n",
      "        \n",
      "          Constraints:\n",
      "            None\n"
     ]
    }
   ],
   "source": [
    "model.fs.heat_exchanger.display()\n"
   ]
  },
  {
   "cell_type": "code",
   "execution_count": null,
   "metadata": {},
   "outputs": [],
   "source": [
    "A_calculated = model.fs.heat_exchanger.area"
   ]
  },
  {
   "cell_type": "code",
   "execution_count": null,
   "metadata": {},
   "outputs": [
    {
     "name": "stdout",
     "output_type": "stream",
     "text": [
      "Calculated Heat Exchanger Area: 99185.13829987208 m²\n"
     ]
    }
   ],
   "source": [
    "# Print the calculated heat exchanger area\n",
    "print(f\"Calculated Heat Exchanger Area: {A_calculated.value} m²\")"
   ]
  },
  {
   "cell_type": "code",
   "execution_count": null,
   "metadata": {},
   "outputs": [],
   "source": [
    "\n",
    "# Compute heat exchanger area\n",
    "A = Q / (U * LMTD)"
   ]
  },
  {
   "cell_type": "code",
   "execution_count": null,
   "metadata": {},
   "outputs": [
    {
     "name": "stdout",
     "output_type": "stream",
     "text": [
      "Computed Heat Exchanger Area: 26.97 m²\n"
     ]
    }
   ],
   "source": [
    "print(f\"Computed Heat Exchanger Area: {A:.2f} m²\")"
   ]
  },
  {
   "cell_type": "code",
   "execution_count": null,
   "metadata": {},
   "outputs": [
    {
     "name": "stdout",
     "output_type": "stream",
     "text": [
      "Stored 'A' (float64)\n"
     ]
    }
   ],
   "source": [
    "%store A"
   ]
  },
  {
   "cell_type": "markdown",
   "metadata": {},
   "source": [
    "UP UNTIL HERE JUST CALCULATION, FROM HERE DOWN INFO TO VISUALIZE THE FLOWSHEET WITH UI"
   ]
  },
  {
   "cell_type": "code",
   "execution_count": null,
   "metadata": {},
   "outputs": [
    {
     "name": "stdout",
     "output_type": "stream",
     "text": [
      "WARNING: Implicitly replacing the Component attribute heat_duty (type=<class\n",
      "'pyomo.core.base.param.ScalarParam'>) on block fs with a new Component\n",
      "(type=<class 'pyomo.core.base.param.ScalarParam'>). This is usually indicative\n",
      "of a modelling error. To avoid this warning, use block.del_component() and\n",
      "block.add_component().\n",
      "WARNING: Implicitly replacing the Component attribute LMTD (type=<class\n",
      "'pyomo.core.base.param.ScalarParam'>) on block fs with a new Component\n",
      "(type=<class 'pyomo.core.base.param.ScalarParam'>). This is usually indicative\n",
      "of a modelling error. To avoid this warning, use block.del_component() and\n",
      "block.add_component().\n",
      "WARNING: Implicitly replacing the Component attribute area_calculated\n",
      "(type=<class 'pyomo.core.base.param.ScalarParam'>) on block fs with a new\n",
      "Component (type=<class 'pyomo.core.base.param.ScalarParam'>). This is usually\n",
      "indicative of a modelling error. To avoid this warning, use\n",
      "block.del_component() and block.add_component().\n"
     ]
    }
   ],
   "source": [
    "# **Store these values as variables for visualization**\n",
    "model.fs.heat_duty = pe.Param(initialize=Q, doc=\"Heat Duty (W)\")  # Heat Duty\n",
    "model.fs.LMTD = pe.Param(initialize=LMTD, doc=\"Log Mean Temperature Difference (K)\")  # LMTD\n",
    "model.fs.area_calculated = pe.Param(initialize=A, doc=\"Calculated Heat Exchanger Area (m²)\")"
   ]
  },
  {
   "cell_type": "code",
   "execution_count": null,
   "metadata": {},
   "outputs": [],
   "source": [
    "import idaes_ui\n",
    "import idaes_ui.fv\n",
    "dir(idaes_ui.fv)\n",
    "from idaes_ui.fv import visualize \n",
    "\n"
   ]
  },
  {
   "cell_type": "code",
   "execution_count": null,
   "metadata": {},
   "outputs": [
    {
     "name": "stdout",
     "output_type": "stream",
     "text": [
      "2025-04-10 09:35:32 [INFO] idaes.idaes_ui.fv.fsvis: Started visualization server\n",
      "2025-04-10 09:35:32 [INFO] idaes.idaes_ui.fv.fsvis: Saving flowsheet to default file 'HeatExchangerAreaCalculation.json' in current directory (c:\\Users\\Sara\\Desktop\\IDAES)\n",
      "2025-04-10 09:35:33 [INFO] idaes.idaes_ui.fv.fsvis: Flowsheet visualization at: http://localhost:51026/app?id=HeatExchangerAreaCalculation\n"
     ]
    },
    {
     "data": {
      "text/plain": [
       "VisualizeResult(store=<idaes_ui.fv.persist.FileDataStore object at 0x0000020574E557E0>, port=51026, server=<idaes_ui.fv.model_server.FlowsheetServer object at 0x0000020573E6E380>)"
      ]
     },
     "execution_count": 36,
     "metadata": {},
     "output_type": "execute_result"
    }
   ],
   "source": [
    "\n",
    "# Visualize the model\n",
    "visualize(model.fs, \"HeatExchangerAreaCalculation\")"
   ]
  },
  {
   "cell_type": "code",
   "execution_count": null,
   "metadata": {},
   "outputs": [
    {
     "name": "stdout",
     "output_type": "stream",
     "text": [
      "Heat Duty (Q): 136.71 kW\n",
      "LMTD: 168.95 K\n",
      "Calculated Heat Exchanger Area: 26.97 m²\n"
     ]
    }
   ],
   "source": [
    "# Print results\n",
    "print(f\"Heat Duty (Q): {Q / 1000:.2f} kW\")\n",
    "print(f\"LMTD: {LMTD:.2f} K\")\n",
    "print(f\"Calculated Heat Exchanger Area: {A:.2f} m²\")"
   ]
  }
 ],
 "metadata": {
  "kernelspec": {
   "display_name": "my-idaes-env",
   "language": "python",
   "name": "python3"
  },
  "language_info": {
   "codemirror_mode": {
    "name": "ipython",
    "version": 3
   },
   "file_extension": ".py",
   "mimetype": "text/x-python",
   "name": "python",
   "nbconvert_exporter": "python",
   "pygments_lexer": "ipython3",
   "version": "3.10.16"
  }
 },
 "nbformat": 4,
 "nbformat_minor": 2
}

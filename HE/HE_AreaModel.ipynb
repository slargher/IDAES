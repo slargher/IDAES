{
 "cells": [
  {
   "cell_type": "code",
   "execution_count": 23,
   "metadata": {},
   "outputs": [
    {
     "name": "stdout",
     "output_type": "stream",
     "text": [
      "2025-03-28 12:06:14 [INFO] idaes.init.fs.heat_exchanger: Initialization Completed, optimal - <undefined>\n",
      "Hot Stream Inlet Enthalpy: 688.792 kJ/mol\n",
      "Cold Stream Inlet Enthalpy: 20.099999999999998 kJ/mol\n",
      "Hot Stream Outlet Enthalpy: 0.9048712431338026 kJ/mol\n",
      "Cold Stream Outlet Enthalpy: 8.49325608546755 kJ/mol\n",
      "Hot Stream Inlet Temperature: 662.3 °C\n",
      "Hot Stream Outlet Temperature: 192.6 °C\n",
      "Cold Stream Inlet Temperature: 20.0 °C\n",
      "Cold Stream Outlet Temperature: 496.94 °C\n"
     ]
    }
   ],
   "source": [
    "import pyomo.environ as pe  # Pyomo environment\n",
    "from idaes.core import FlowsheetBlock, StateBlock\n",
    "from idaes.models.unit_models import HeatExchanger\n",
    "from idaes.models.unit_models.heat_exchanger import HX0DInitializer\n",
    "from idaes.models.unit_models.heat_exchanger import delta_temperature_amtd_callback\n",
    "from idaes.models.properties import iapws95\n",
    "\n",
    "# Create an empty flowsheet and steam property parameter block.\n",
    "model = pe.ConcreteModel()\n",
    "model.fs = FlowsheetBlock(dynamic=False)\n",
    "model.fs.properties = iapws95.Iapws95ParameterBlock()\n",
    "\n",
    "# Provided data in Celsius, convert to Kelvin\n",
    "T_hot_inlet_C = 662.30\n",
    "T_hot_outlet_C = 192.60\n",
    "T_cold_inlet_C = 20.00\n",
    "T_cold_outlet_C = 496.94\n",
    "\n",
    "T_hot_inlet = T_hot_inlet_C + 273.15  # Convert to Kelvin\n",
    "T_hot_outlet = T_hot_outlet_C + 273.15  # Convert to Kelvin\n",
    "T_cold_inlet = T_cold_inlet_C + 273.15  # Convert to Kelvin\n",
    "T_cold_outlet = T_cold_outlet_C + 273.15  # Convert to Kelvin\n",
    "\n",
    "# Assume constant Cp for gases (ideal gas assumption)\n",
    "Cp_hot = 1.04  # Specific heat of nitrogen (N2) in kJ/kg·K\n",
    "Cp_cold = 1.005  # Specific heat of air in kJ/kg·K\n",
    "Cp_steam = 4.18  # Specific heat of steam in kJ/kg·K (assumed for the example)\n",
    "\n",
    "# Reference temperature (for simplicity, assume 0°C = 273.15 K)\n",
    "T_ref = 273.15\n",
    "\n",
    "# Calculate enthalpy using Cp (simplified)\n",
    "def calc_enthalpy(Cp, T):\n",
    "    return Cp * (T - T_ref)\n",
    "\n",
    "# Calculate enthalpy for the hot and cold streams\n",
    "h_hot_inlet = calc_enthalpy(Cp_hot, T_hot_inlet)  # Inlet enthalpy for the hot stream (N2/steam)\n",
    "h_cold_inlet = calc_enthalpy(Cp_cold, T_cold_inlet)  # Inlet enthalpy for the cold stream (air)\n",
    "\n",
    "# Create the Heat Exchanger model\n",
    "model.fs.heat_exchanger = HeatExchanger(\n",
    "    delta_temperature_callback=delta_temperature_amtd_callback,\n",
    "    hot_side_name=\"shell\",\n",
    "    cold_side_name=\"tube\",\n",
    "    shell={\"property_package\": model.fs.properties},\n",
    "    tube={\"property_package\": model.fs.properties}\n",
    ")\n",
    "\n",
    "# Fixing inlet flow and pressure values (assuming standard conditions)\n",
    "model.fs.heat_exchanger.shell_inlet.flow_mol.fix(100)  # Hot stream flow rate (mol/s)\n",
    "model.fs.heat_exchanger.shell_inlet.pressure.fix(101325)  # Standard atmospheric pressure\n",
    "model.fs.heat_exchanger.tube_inlet.flow_mol.fix(100)  # Cold stream flow rate (mol/s)\n",
    "model.fs.heat_exchanger.tube_inlet.pressure.fix(101325)  # Standard atmospheric pressure\n",
    "\n",
    "# Fixing enthalpies for the heat exchanger (we are using simplified calculation)\n",
    "model.fs.heat_exchanger.shell_inlet.enth_mol[0].set_value(h_hot_inlet)\n",
    "model.fs.heat_exchanger.tube_inlet.enth_mol[0].set_value(h_cold_inlet)\n",
    "\n",
    "# Fixing heat exchanger parameters\n",
    "model.fs.heat_exchanger.area.fix(1000)  # Heat exchanger area (m², fixed for now)\n",
    "model.fs.heat_exchanger.overall_heat_transfer_coefficient[0].fix(100)  # Overall heat transfer coefficient (W/m²·K)\n",
    "\n",
    "# Initialize the model\n",
    "initializer = HX0DInitializer()\n",
    "initializer.initialize(model.fs.heat_exchanger)\n",
    "\n",
    "# Now we can calculate the outlet temperatures and enthalpies after solving the model.\n",
    "# Calculate the outlet enthalpy for hot and cold streams\n",
    "T_hot_outlet_optimized = pe.value(model.fs.heat_exchanger.shell.properties_out[0].temperature)\n",
    "h_hot_outlet = calc_enthalpy(Cp_hot, T_hot_outlet_optimized)\n",
    "\n",
    "T_cold_outlet_optimized = pe.value(model.fs.heat_exchanger.tube.properties_out[0].temperature)\n",
    "h_cold_outlet = calc_enthalpy(Cp_cold, T_cold_outlet_optimized)\n",
    "\n",
    "# Output the enthalpies and temperatures\n",
    "print(f\"Hot Stream Inlet Enthalpy: {h_hot_inlet} kJ/mol\")\n",
    "print(f\"Cold Stream Inlet Enthalpy: {h_cold_inlet} kJ/mol\")\n",
    "print(f\"Hot Stream Outlet Enthalpy: {h_hot_outlet} kJ/mol\")\n",
    "print(f\"Cold Stream Outlet Enthalpy: {h_cold_outlet} kJ/mol\")\n",
    "print(f\"Hot Stream Inlet Temperature: {T_hot_inlet_C} °C\")\n",
    "print(f\"Hot Stream Outlet Temperature: {T_hot_outlet_C} °C\")\n",
    "print(f\"Cold Stream Inlet Temperature: {T_cold_inlet_C} °C\")\n",
    "print(f\"Cold Stream Outlet Temperature: {T_cold_outlet_C} °C\")\n"
   ]
  },
  {
   "cell_type": "code",
   "execution_count": 25,
   "metadata": {},
   "outputs": [
    {
     "name": "stdout",
     "output_type": "stream",
     "text": [
      "2025-03-28 12:07:29 [INFO] idaes.idaes_ui.fv.fsvis: Started visualization server\n",
      "2025-03-28 12:07:29 [INFO] idaes.idaes_ui.fv.fsvis: Loading saved flowsheet from 'HeatExchangerAreaMinimization.json'\n",
      "2025-03-28 12:07:29 [INFO] idaes.idaes_ui.fv.fsvis: Saving flowsheet to default file 'HeatExchangerAreaMinimization.json' in current directory (c:\\Users\\Sara\\Desktop\\IDAES)\n",
      "2025-03-28 12:07:30 [INFO] idaes.idaes_ui.fv.fsvis: Flowsheet visualization at: http://localhost:57304/app?id=HeatExchangerAreaMinimization\n"
     ]
    },
    {
     "data": {
      "text/plain": [
       "VisualizeResult(store=<idaes_ui.fv.persist.FileDataStore object at 0x000002217E6B7070>, port=57304, server=<idaes_ui.fv.model_server.FlowsheetServer object at 0x000002217E6B6350>)"
      ]
     },
     "execution_count": 25,
     "metadata": {},
     "output_type": "execute_result"
    }
   ],
   "source": [
    "import idaes_ui\n",
    "import idaes_ui.fv\n",
    "dir(idaes_ui.fv)\n",
    "from idaes_ui.fv import visualize \n",
    "\n",
    "# Assign a value to the heat exchanger area before visualization\n",
    "model.fs.heat_exchanger.area.set_value(pe.value(model.fs.heat_exchanger.area))\n",
    "\n",
    "# Visualize the model\n",
    "visualize(model.fs, \"HeatExchangerAreaMinimization\")"
   ]
  }
 ],
 "metadata": {
  "kernelspec": {
   "display_name": "my-idaes-env",
   "language": "python",
   "name": "python3"
  },
  "language_info": {
   "codemirror_mode": {
    "name": "ipython",
    "version": 3
   },
   "file_extension": ".py",
   "mimetype": "text/x-python",
   "name": "python",
   "nbconvert_exporter": "python",
   "pygments_lexer": "ipython3",
   "version": "3.10.16"
  }
 },
 "nbformat": 4,
 "nbformat_minor": 2
}

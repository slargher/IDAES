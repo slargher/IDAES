{
 "cells": [
  {
   "cell_type": "code",
   "execution_count": null,
   "metadata": {},
   "outputs": [],
   "source": [
    "import pyomo.environ as pe\n",
    "from idaes.core import FlowsheetBlock, StateBlock\n",
    "from idaes.models.unit_models import HeatExchanger\n",
    "from idaes.models.unit_models import HeatExchanger1D\n",
    "from idaes.models.unit_models.heat_exchanger import delta_temperature_amtd_callback\n",
    "from idaes.models.properties import iapws95\n",
    "import math"
   ]
  },
  {
   "cell_type": "code",
   "execution_count": 45,
   "metadata": {},
   "outputs": [],
   "source": [
    "# Create an empty flowsheet and steam property parameter block\n",
    "model = pe.ConcreteModel()\n",
    "model.fs = FlowsheetBlock(dynamic=False)\n",
    "model.fs.properties = iapws95.Iapws95ParameterBlock()"
   ]
  },
  {
   "cell_type": "code",
   "execution_count": 51,
   "metadata": {},
   "outputs": [],
   "source": [
    "# Import necessary libraries\n",
    "import pyomo.environ as pyo\n",
    "from idaes.models.unit_models import HeatExchanger1D\n",
    "from idaes.core import FlowsheetBlock\n",
    "from idaes.core.solvers import get_solver\n",
    "from idaes.models.properties import iapws95\n",
    "\n",
    "# Create the flowsheet block\n",
    "model = FlowsheetBlock(default={\"dynamic\": False})\n",
    "\n",
    "# Add the HeatExchanger1D unit operation\n",
    "model.add_component(\"HX\", HeatExchanger1D(default={\n",
    "    \"property_package\": iapws95,\n",
    "    \"tube_side\": {\"flow_type\": \"counter\"},\n",
    "    \"shell_side\": {\"flow_type\": \"counter\"}\n",
    "}))"
   ]
  },
  {
   "cell_type": "code",
   "execution_count": 1,
   "metadata": {},
   "outputs": [
    {
     "name": "stdout",
     "output_type": "stream",
     "text": [
      "26.971917334619782\n"
     ]
    },
    {
     "ename": "NameError",
     "evalue": "name 'model' is not defined",
     "output_type": "error",
     "traceback": [
      "\u001b[1;31m---------------------------------------------------------------------------\u001b[0m",
      "\u001b[1;31mNameError\u001b[0m                                 Traceback (most recent call last)",
      "Cell \u001b[1;32mIn[1], line 6\u001b[0m\n\u001b[0;32m      4\u001b[0m \u001b[38;5;66;03m# Now you can use the area variable\u001b[39;00m\n\u001b[0;32m      5\u001b[0m \u001b[38;5;28mprint\u001b[39m(A)\n\u001b[1;32m----> 6\u001b[0m \u001b[43mmodel\u001b[49m\u001b[38;5;241m.\u001b[39mfs\u001b[38;5;241m.\u001b[39mheat_exchanger\u001b[38;5;241m.\u001b[39marea\u001b[38;5;241m.\u001b[39mfix(A)\n",
      "\u001b[1;31mNameError\u001b[0m: name 'model' is not defined"
     ]
    }
   ],
   "source": [
    "# Load the area variable that was stored in HE_AreaCalculation.ipynb\n",
    "%store -r A\n",
    "\n",
    "# Now you can use the area variable\n",
    "print(A)\n",
    "model.fs.heat_exchanger.area.fix(A)"
   ]
  },
  {
   "cell_type": "code",
   "execution_count": 21,
   "metadata": {},
   "outputs": [],
   "source": [
    "%store -r h_cold_inlet\n",
    "%store  -r h_cold_outlet\n",
    "%store  -r h_hot_inlet\n",
    "%store  -r h_hot_outlet"
   ]
  },
  {
   "cell_type": "code",
   "execution_count": null,
   "metadata": {},
   "outputs": [],
   "source": [
    "\n",
    "model.fs.heat_exchanger.shell_inlet.enth_mol.fix(h_cold_inlet)\n",
    "model.fs.heat_exchanger.tube_inlet.enth_mol.fix(h_hot_inlet)"
   ]
  },
  {
   "cell_type": "code",
   "execution_count": 24,
   "metadata": {},
   "outputs": [],
   "source": [
    "# Fix the parameters of the heat exchanger (inlets, pressures, and enthalpies)\n",
    "model.fs.heat_exchanger.overall_heat_transfer_coefficient[0].fix(100)\n",
    "model.fs.heat_exchanger.shell_inlet.pressure.fix(101325)\n",
    "model.fs.heat_exchanger.shell_inlet.flow_mol.fix(10)\n",
    "model.fs.heat_exchanger.tube_inlet.flow_mol.fix(10)\n",
    "model.fs.heat_exchanger.tube_inlet.pressure.fix(101325)\n"
   ]
  },
  {
   "cell_type": "code",
   "execution_count": 27,
   "metadata": {},
   "outputs": [
    {
     "name": "stdout",
     "output_type": "stream",
     "text": [
      "WARNING: Implicitly replacing the Component attribute heat_exchanger_area\n",
      "(type=<class 'pyomo.core.base.var.ScalarVar'>) on block fs with a new\n",
      "Component (type=<class 'pyomo.core.base.var.AbstractScalarVar'>). This is\n",
      "usually indicative of a modelling error. To avoid this warning, use\n",
      "block.del_component() and block.add_component().\n"
     ]
    }
   ],
   "source": [
    "# Create a variable to minimize the heat exchanger area\n",
    "model.fs.heat_exchanger_area = pe.Var(within=pe.NonNegativeReals, initialize=A)"
   ]
  },
  {
   "cell_type": "code",
   "execution_count": 28,
   "metadata": {},
   "outputs": [],
   "source": [
    "# Assume the heat duty is already calculated or predefined (simplified for this example)\n",
    "# Heat duty calculation: Hot side = Cold side (m_dot_h * (h_h_in - h_h_out) = m_dot_c * (h_c_out - h_c_in))\n",
    "m_dot_h = model.fs.heat_exchanger.shell_inlet.flow_mol\n",
    "m_dot_c = model.fs.heat_exchanger.tube_inlet.flow_mol"
   ]
  },
  {
   "cell_type": "code",
   "execution_count": 29,
   "metadata": {},
   "outputs": [],
   "source": [
    "# Hot side inlet and outlet enthalpies\n",
    "h_h_in = model.fs.heat_exchanger.shell_inlet.enth_mol\n",
    "h_h_out = model.fs.heat_exchanger.shell_outlet.enth_mol\n",
    "\n",
    "# Cold side inlet and outlet enthalpies\n",
    "h_c_in = model.fs.heat_exchanger.tube_inlet.enth_mol\n",
    "h_c_out = model.fs.heat_exchanger.tube_outlet.enth_mol"
   ]
  },
  {
   "cell_type": "code",
   "execution_count": 30,
   "metadata": {},
   "outputs": [
    {
     "name": "stdout",
     "output_type": "stream",
     "text": [
      "WARNING: Implicitly replacing the Component attribute area (type=<class\n",
      "'pyomo.core.base.var.ScalarVar'>) on block fs.heat_exchanger with a new\n",
      "Component (type=<class 'pyomo.core.base.var.AbstractScalarVar'>). This is\n",
      "usually indicative of a modelling error. To avoid this warning, use\n",
      "block.del_component() and block.add_component().\n"
     ]
    }
   ],
   "source": [
    "\n",
    "# Define area as a decision variable to be optimized\n",
    "model.fs.heat_exchanger.area = pe.Var(within=pe.NonNegativeReals)"
   ]
  },
  {
   "cell_type": "code",
   "execution_count": 31,
   "metadata": {},
   "outputs": [
    {
     "name": "stdout",
     "output_type": "stream",
     "text": [
      "WARNING: Implicitly replacing the Component attribute obj (type=<class\n",
      "'pyomo.core.base.objective.ScalarObjective'>) on block unknown with a new\n",
      "Component (type=<class 'pyomo.core.base.objective.ScalarObjective'>). This is\n",
      "usually indicative of a modelling error. To avoid this warning, use\n",
      "block.del_component() and block.add_component().\n"
     ]
    }
   ],
   "source": [
    "# Set the objective to minimize the heat exchanger area\n",
    "model.obj = pe.Objective(expr=model.fs.heat_exchanger_area)"
   ]
  },
  {
   "cell_type": "code",
   "execution_count": 32,
   "metadata": {},
   "outputs": [
    {
     "name": "stdout",
     "output_type": "stream",
     "text": [
      "2025-04-07 16:29:45 [INFO] idaes.init.fs.heat_exchanger: Initialization Completed, optimal - <undefined>\n"
     ]
    },
    {
     "data": {
      "text/plain": [
       "<InitializationStatus.Ok: 1>"
      ]
     },
     "execution_count": 32,
     "metadata": {},
     "output_type": "execute_result"
    }
   ],
   "source": [
    "\n",
    "# Initialize the model\n",
    "from idaes.models.unit_models.heat_exchanger import HX0DInitializer\n",
    "initializer = HX0DInitializer()\n",
    "initializer.initialize(model.fs.heat_exchanger)"
   ]
  },
  {
   "cell_type": "code",
   "execution_count": 33,
   "metadata": {},
   "outputs": [
    {
     "name": "stdout",
     "output_type": "stream",
     "text": [
      "Ipopt 3.13.2: \n",
      "\n",
      "******************************************************************************\n",
      "This program contains Ipopt, a library for large-scale nonlinear optimization.\n",
      " Ipopt is released as open source code under the Eclipse Public License (EPL).\n",
      "         For more information visit http://projects.coin-or.org/Ipopt\n",
      "\n",
      "This version of Ipopt was compiled from source code available at\n",
      "    https://github.com/IDAES/Ipopt as part of the Institute for the Design of\n",
      "    Advanced Energy Systems Process Systems Engineering Framework (IDAES PSE\n",
      "    Framework) Copyright (c) 2018-2019. See https://github.com/IDAES/idaes-pse.\n",
      "\n",
      "This version of Ipopt was compiled using HSL, a collection of Fortran codes\n",
      "    for large-scale scientific computation.  All technical papers, sales and\n",
      "    publicity material resulting from use of the HSL codes within IPOPT must\n",
      "    contain the following acknowledgement:\n",
      "        HSL, a collection of Fortran codes for large-scale scientific\n",
      "        computation. See http://www.hsl.rl.ac.uk.\n",
      "******************************************************************************\n",
      "\n",
      "This is Ipopt version 3.13.2, running with linear solver ma27.\n",
      "\n",
      "Number of nonzeros in equality constraint Jacobian...:       21\n",
      "Number of nonzeros in inequality constraint Jacobian.:        0\n",
      "Number of nonzeros in Lagrangian Hessian.............:       10\n",
      "\n",
      "Total number of variables............................:       11\n",
      "                     variables with only lower bounds:        1\n",
      "                variables with lower and upper bounds:        4\n",
      "                     variables with only upper bounds:        0\n",
      "Total number of equality constraints.................:       10\n",
      "Total number of inequality constraints...............:        0\n",
      "        inequality constraints with only lower bounds:        0\n",
      "   inequality constraints with lower and upper bounds:        0\n",
      "        inequality constraints with only upper bounds:        0\n",
      "\n",
      "iter    objective    inf_pr   inf_du lg(mu)  ||d||  lg(rg) alpha_du alpha_pr  ls\n",
      "   0  2.6971917e+01 3.57e-10 0.00e+00  -1.0 0.00e+00    -  0.00e+00 0.00e+00   0\n",
      "   1  2.6971916e-01 3.41e-12 1.47e-05  -1.0 2.69e+01    -  9.90e-01 9.94e-01f  1\n",
      "   2  9.9999888e-02 1.82e-12 1.00e-06  -1.0 1.70e-01    -  9.90e-01 1.00e+00f  1\n",
      "   3  9.9999890e-02 6.37e-12 1.00e-06  -1.0 1.70e-09    -  9.90e-01 1.00e+00h  1\n",
      "   4  9.9999890e-02 5.57e-12 1.00e-06  -1.0 2.44e-09    -  9.90e-01 1.00e+00h  1\n",
      "   5  9.9999890e-02 5.57e-12 1.00e-06  -1.0 2.44e-09    -  9.99e-01 1.00e+00h  1\n",
      "   6  2.8285115e-03 5.57e-12 2.83e-08  -2.5 9.72e-02    -  1.00e+00 1.00e+00f  1\n",
      "   7  1.5041420e-04 5.57e-12 1.50e-09  -3.8 2.68e-03    -  1.00e+00 1.00e+00f  1\n",
      "   8  1.8349147e-06 5.57e-12 1.84e-11  -5.7 1.49e-04    -  1.00e+00 1.00e+00f  1\n",
      "   9 -7.4940964e-09 5.57e-12 2.51e-14  -8.6 1.84e-06    -  1.00e+00 1.00e+00h  1\n",
      "\n",
      "Number of Iterations....: 9\n",
      "\n",
      "                                   (scaled)                 (unscaled)\n",
      "Objective...............:  -7.4940964063749669e-09   -7.4940964063749669e-09\n",
      "Dual infeasibility......:   2.5091040356528538e-14    2.5091040356528538e-14\n",
      "Constraint violation....:   5.5706550483591855e-12    5.5706550483591855e-12\n",
      "Complementarity.........:   2.5059035936250962e-09    2.5059035936250962e-09\n",
      "Overall NLP error.......:   2.5059035936250962e-09    2.5059035936250962e-09\n",
      "\n",
      "\n",
      "Number of objective function evaluations             = 10\n",
      "Number of objective gradient evaluations             = 10\n",
      "Number of equality constraint evaluations            = 10\n",
      "Number of inequality constraint evaluations          = 0\n",
      "Number of equality constraint Jacobian evaluations   = 10\n",
      "Number of inequality constraint Jacobian evaluations = 0\n",
      "Number of Lagrangian Hessian evaluations             = 9\n",
      "Total CPU secs in IPOPT (w/o function evaluations)   =      0.028\n",
      "Total CPU secs in NLP function evaluations           =      0.074\n",
      "\n",
      "EXIT: Optimal Solution Found.\n"
     ]
    },
    {
     "data": {
      "text/plain": [
       "{'Problem': [{'Lower bound': -inf, 'Upper bound': inf, 'Number of objectives': 1, 'Number of constraints': 10, 'Number of variables': 11, 'Sense': 'unknown'}], 'Solver': [{'Status': 'ok', 'Message': 'Ipopt 3.13.2\\\\x3a Optimal Solution Found', 'Termination condition': 'optimal', 'Id': 0, 'Error rc': 0, 'Time': 0.1304616928100586}], 'Solution': [OrderedDict([('number of solutions', 0), ('number of solutions displayed', 0)])]}"
      ]
     },
     "execution_count": 33,
     "metadata": {},
     "output_type": "execute_result"
    }
   ],
   "source": [
    "# Solve the model using a solver (e.g., IPOPT)\n",
    "solver = pe.SolverFactory('ipopt')\n",
    "solver.solve(model, tee=True)"
   ]
  },
  {
   "cell_type": "code",
   "execution_count": 35,
   "metadata": {},
   "outputs": [
    {
     "name": "stdout",
     "output_type": "stream",
     "text": [
      "Optimized Heat Exchanger Area: 0.0 m^2\n",
      "Optimized Heat Duty: -6.630040546265966 kJ/mol\n"
     ]
    }
   ],
   "source": [
    "# Output the results\n",
    "print(f\"Optimized Heat Exchanger Area: {pe.value(model.fs.heat_exchanger_area)} m^2\")\n",
    "# Calculate the heat duty based on the hot side\n",
    "heat_duty = pe.value(m_dot_h[0] * (h_h_in[0] - h_h_out[0]))\n",
    "print(f\"Optimized Heat Duty: {heat_duty/1000} kJ/mol\")"
   ]
  },
  {
   "cell_type": "code",
   "execution_count": 36,
   "metadata": {},
   "outputs": [
    {
     "name": "stdout",
     "output_type": "stream",
     "text": [
      "2025-04-07 16:29:56 [INFO] idaes.idaes_ui.fv.fsvis: Using HTTP server on localhost, port 56445\n",
      "2025-04-07 16:29:56 [INFO] idaes.idaes_ui.fv.fsvis: Loading saved flowsheet from 'HeatExchangerAreaMinimization.json'\n",
      "2025-04-07 16:29:56 [INFO] idaes.idaes_ui.fv.fsvis: Saving flowsheet to default file 'HeatExchangerAreaMinimization.json' in current directory (c:\\Users\\Sara\\Desktop\\IDAES\\HE)\n",
      "2025-04-07 16:29:56 [INFO] idaes.idaes_ui.fv.fsvis: Flowsheet visualization at: http://localhost:56445/app?id=HeatExchangerAreaMinimization\n"
     ]
    },
    {
     "data": {
      "text/plain": [
       "VisualizeResult(store=<idaes_ui.fv.persist.FileDataStore object at 0x0000028C5F6B6650>, port=56445, server=<idaes_ui.fv.model_server.FlowsheetServer object at 0x0000028C5F6B5E40>)"
      ]
     },
     "execution_count": 36,
     "metadata": {},
     "output_type": "execute_result"
    }
   ],
   "source": [
    "import idaes_ui\n",
    "import idaes_ui.fv\n",
    "dir(idaes_ui.fv)\n",
    "from idaes_ui.fv import visualize \n",
    "\n",
    "# Assign a value to the heat exchanger area before visualization\n",
    "model.fs.heat_exchanger.area.set_value(pe.value(model.fs.heat_exchanger_area))\n",
    "\n",
    "# Visualize the model\n",
    "visualize(model.fs, \"HeatExchangerAreaMinimization\")"
   ]
  }
 ],
 "metadata": {
  "kernelspec": {
   "display_name": "my-idaes-env",
   "language": "python",
   "name": "python3"
  },
  "language_info": {
   "codemirror_mode": {
    "name": "ipython",
    "version": 3
   },
   "file_extension": ".py",
   "mimetype": "text/x-python",
   "name": "python",
   "nbconvert_exporter": "python",
   "pygments_lexer": "ipython3",
   "version": "3.10.16"
  }
 },
 "nbformat": 4,
 "nbformat_minor": 2
}

{
 "cells": [
  {
   "cell_type": "code",
   "execution_count": 1,
   "metadata": {},
   "outputs": [
    {
     "name": "stdout",
     "output_type": "stream",
     "text": [
      "2025-03-28 14:59:16 [INFO] idaes.init.fs.heat_exchanger: Initialization Completed, optimal - <undefined>\n",
      "Hot Stream Inlet Enthalpy: 688.792 kJ/mol\n",
      "Cold Stream Inlet Enthalpy: 20.099999999999998 kJ/mol\n",
      "Hot Stream Outlet Enthalpy: 0.9048712431338026 kJ/mol\n",
      "Cold Stream Outlet Enthalpy: 8.49325608546755 kJ/mol\n",
      "Hot Stream Inlet Temperature: 662.3 °C\n",
      "Hot Stream Outlet Temperature: 192.6 °C\n",
      "Cold Stream Inlet Temperature: 20.0 °C\n",
      "Cold Stream Outlet Temperature: 496.94 °C\n"
     ]
    }
   ],
   "source": [
    "import pyomo.environ as pe  # Pyomo environment\n",
    "from idaes.core import FlowsheetBlock, StateBlock\n",
    "from idaes.models.unit_models import HeatExchanger\n",
    "from idaes.models.unit_models.heat_exchanger import HX0DInitializer\n",
    "from idaes.models.unit_models.heat_exchanger import delta_temperature_amtd_callback\n",
    "from idaes.models.properties import iapws95\n",
    "\n",
    "# Create an empty flowsheet and steam property parameter block.\n",
    "model = pe.ConcreteModel()\n",
    "model.fs = FlowsheetBlock(dynamic=False)\n",
    "model.fs.properties = iapws95.Iapws95ParameterBlock()\n",
    "\n",
    "# Provided data in Celsius, convert to Kelvin\n",
    "T_hot_inlet_C = 662.30\n",
    "T_hot_outlet_C = 192.60\n",
    "T_cold_inlet_C = 20.00\n",
    "T_cold_outlet_C = 496.94\n",
    "\n",
    "T_hot_inlet = T_hot_inlet_C + 273.15  # Convert to Kelvin\n",
    "T_hot_outlet = T_hot_outlet_C + 273.15  # Convert to Kelvin\n",
    "T_cold_inlet = T_cold_inlet_C + 273.15  # Convert to Kelvin\n",
    "T_cold_outlet = T_cold_outlet_C + 273.15  # Convert to Kelvin\n",
    "\n",
    "# Assume constant Cp for gases (ideal gas assumption)\n",
    "Cp_hot = 1.04  # Specific heat of nitrogen (N2) in kJ/kg·K\n",
    "Cp_cold = 1.005  # Specific heat of air in kJ/kg·K\n",
    "Cp_steam = 4.18  # Specific heat of steam in kJ/kg·K (assumed for the example)\n",
    "\n",
    "# Reference temperature (for simplicity, assume 0°C = 273.15 K)\n",
    "T_ref = 273.15\n",
    "\n",
    "# Calculate enthalpy using Cp (simplified)\n",
    "def calc_enthalpy(Cp, T):\n",
    "    return Cp * (T - T_ref)\n",
    "\n",
    "# Calculate enthalpy for the hot and cold streams\n",
    "h_hot_inlet = calc_enthalpy(Cp_hot, T_hot_inlet)  # Inlet enthalpy for the hot stream (N2/steam)\n",
    "h_cold_inlet = calc_enthalpy(Cp_cold, T_cold_inlet)  # Inlet enthalpy for the cold stream (air)\n",
    "\n",
    "# Create the Heat Exchanger model\n",
    "model.fs.heat_exchanger = HeatExchanger(\n",
    "    delta_temperature_callback=delta_temperature_amtd_callback,\n",
    "    hot_side_name=\"shell\",\n",
    "    cold_side_name=\"tube\",\n",
    "    shell={\"property_package\": model.fs.properties},\n",
    "    tube={\"property_package\": model.fs.properties}\n",
    ")\n",
    "\n",
    "# Fixing inlet flow and pressure values (assuming standard conditions)\n",
    "model.fs.heat_exchanger.shell_inlet.flow_mol.fix(100)  # Hot stream flow rate (mol/s)\n",
    "model.fs.heat_exchanger.shell_inlet.pressure.fix(101325)  # Standard atmospheric pressure\n",
    "model.fs.heat_exchanger.tube_inlet.flow_mol.fix(100)  # Cold stream flow rate (mol/s)\n",
    "model.fs.heat_exchanger.tube_inlet.pressure.fix(101325)  # Standard atmospheric pressure\n",
    "\n",
    "# Fixing enthalpies for the heat exchanger (we are using simplified calculation)\n",
    "model.fs.heat_exchanger.shell_inlet.enth_mol[0].set_value(h_hot_inlet)\n",
    "model.fs.heat_exchanger.tube_inlet.enth_mol[0].set_value(h_cold_inlet)\n",
    "\n",
    "# Fixing heat exchanger parameters\n",
    "model.fs.heat_exchanger.area.fix(1000)  # Heat exchanger area (m², fixed for now)\n",
    "model.fs.heat_exchanger.overall_heat_transfer_coefficient[0].fix(100)  # Overall heat transfer coefficient (W/m²·K)\n",
    "\n",
    "# Initialize the model\n",
    "initializer = HX0DInitializer()\n",
    "initializer.initialize(model.fs.heat_exchanger)\n",
    "\n",
    "# Now we can calculate the outlet temperatures and enthalpies after solving the model.\n",
    "# Calculate the outlet enthalpy for hot and cold streams\n",
    "T_hot_outlet_optimized = pe.value(model.fs.heat_exchanger.shell.properties_out[0].temperature)\n",
    "h_hot_outlet = calc_enthalpy(Cp_hot, T_hot_outlet_optimized)\n",
    "\n",
    "T_cold_outlet_optimized = pe.value(model.fs.heat_exchanger.tube.properties_out[0].temperature)\n",
    "h_cold_outlet = calc_enthalpy(Cp_cold, T_cold_outlet_optimized)\n",
    "\n",
    "# Output the enthalpies and temperatures\n",
    "print(f\"Hot Stream Inlet Enthalpy: {h_hot_inlet} kJ/mol\")\n",
    "print(f\"Cold Stream Inlet Enthalpy: {h_cold_inlet} kJ/mol\")\n",
    "print(f\"Hot Stream Outlet Enthalpy: {h_hot_outlet} kJ/mol\")\n",
    "print(f\"Cold Stream Outlet Enthalpy: {h_cold_outlet} kJ/mol\")\n",
    "print(f\"Hot Stream Inlet Temperature: {T_hot_inlet_C} °C\")\n",
    "print(f\"Hot Stream Outlet Temperature: {T_hot_outlet_C} °C\")\n",
    "print(f\"Cold Stream Inlet Temperature: {T_cold_inlet_C} °C\")\n",
    "print(f\"Cold Stream Outlet Temperature: {T_cold_outlet_C} °C\")"
   ]
  },
  {
   "cell_type": "code",
   "execution_count": 2,
   "metadata": {
    "vscode": {
     "languageId": "markdown"
    }
   },
   "outputs": [],
   "source": [
    "# Delete the existing 'area' component before redefining it\n",
    "model.fs.heat_exchanger.del_component(model.fs.heat_exchanger.area)\n",
    "\n",
    "# Define area as a decision variable to be optimized\n",
    "model.fs.heat_exchanger.area = pe.Var(within=pe.NonNegativeReals)"
   ]
  },
  {
   "cell_type": "code",
   "execution_count": 3,
   "metadata": {
    "vscode": {
     "languageId": "markdown"
    }
   },
   "outputs": [],
   "source": [
    "# Set the objective to minimize the heat exchanger area\n",
    "model.obj = pe.Objective(expr=model.fs.heat_exchanger.area)"
   ]
  },
  {
   "cell_type": "code",
   "execution_count": 4,
   "metadata": {
    "vscode": {
     "languageId": "markdown"
    }
   },
   "outputs": [
    {
     "name": "stdout",
     "output_type": "stream",
     "text": [
      "2025-03-28 14:59:16 [INFO] idaes.init.fs.heat_exchanger: Initialization Completed, optimal - <undefined>\n"
     ]
    },
    {
     "data": {
      "text/plain": [
       "<InitializationStatus.Ok: 1>"
      ]
     },
     "execution_count": 4,
     "metadata": {},
     "output_type": "execute_result"
    }
   ],
   "source": [
    "# Initialize the model\n",
    "from idaes.models.unit_models.heat_exchanger import HX0DInitializer\n",
    "initializer = HX0DInitializer()\n",
    "initializer.initialize(model.fs.heat_exchanger)"
   ]
  },
  {
   "cell_type": "code",
   "execution_count": 5,
   "metadata": {
    "vscode": {
     "languageId": "markdown"
    }
   },
   "outputs": [
    {
     "name": "stdout",
     "output_type": "stream",
     "text": [
      "Ipopt 3.13.2: \n",
      "\n",
      "******************************************************************************\n",
      "This program contains Ipopt, a library for large-scale nonlinear optimization.\n",
      " Ipopt is released as open source code under the Eclipse Public License (EPL).\n",
      "         For more information visit http://projects.coin-or.org/Ipopt\n",
      "\n",
      "This version of Ipopt was compiled from source code available at\n",
      "    https://github.com/IDAES/Ipopt as part of the Institute for the Design of\n",
      "    Advanced Energy Systems Process Systems Engineering Framework (IDAES PSE\n",
      "    Framework) Copyright (c) 2018-2019. See https://github.com/IDAES/idaes-pse.\n",
      "\n",
      "This version of Ipopt was compiled using HSL, a collection of Fortran codes\n",
      "    for large-scale scientific computation.  All technical papers, sales and\n",
      "    publicity material resulting from use of the HSL codes within IPOPT must\n",
      "    contain the following acknowledgement:\n",
      "        HSL, a collection of Fortran codes for large-scale scientific\n",
      "        computation. See http://www.hsl.rl.ac.uk.\n",
      "******************************************************************************\n",
      "\n",
      "This is Ipopt version 3.13.2, running with linear solver ma27.\n",
      "\n",
      "Number of nonzeros in equality constraint Jacobian...:       25\n",
      "Number of nonzeros in inequality constraint Jacobian.:        0\n",
      "Number of nonzeros in Lagrangian Hessian.............:       12\n",
      "\n",
      "Total number of variables............................:       13\n",
      "                     variables with only lower bounds:        1\n",
      "                variables with lower and upper bounds:        6\n",
      "                     variables with only upper bounds:        0\n",
      "Total number of equality constraints.................:       10\n",
      "Total number of inequality constraints...............:        0\n",
      "        inequality constraints with only lower bounds:        0\n",
      "   inequality constraints with lower and upper bounds:        0\n",
      "        inequality constraints with only upper bounds:        0\n",
      "\n",
      "iter    objective    inf_pr   inf_du lg(mu)  ||d||  lg(rg) alpha_du alpha_pr  ls\n",
      "   0  9.9999900e-03 1.65e-09 0.00e+00  -1.0 0.00e+00    -  0.00e+00 0.00e+00   0\n",
      "   1  9.9999980e-02 3.67e-11 9.90e-07  -1.0 1.52e-01    -  9.90e-01 1.00e+00f  1\n",
      "   2  9.9999890e-02 3.28e-07 1.00e-06  -1.0 1.52e+01    -  9.90e-01 1.00e+00f  1\n",
      "   3  9.9999890e-02 2.34e-03 2.85e-05  -1.0 1.73e+03    -  9.63e-01 1.00e+00f  1\n",
      "   4  9.9999890e-02 8.98e-01 6.69e-03  -1.0 2.85e+04    -  1.35e-01 1.00e+00f  1\n",
      "   5  9.9999890e-02 4.80e-10 6.42e-03  -1.0 8.89e+04    -  9.90e-01 1.00e+00h  1\n",
      "   6  9.9999890e-02 2.74e-43 4.46e-04  -1.0 1.78e+04    -  9.93e-01 1.00e+00f  1\n",
      "   7  2.0000050e-02 0.00e+00 3.29e-06  -1.7 3.22e+02    -  1.00e+00 1.00e+00f  1\n",
      "   8  1.5041806e-04 0.00e+00 1.50e-09  -3.8 9.66e+00    -  1.00e+00 1.00e+00f  1\n",
      "   9  1.8349147e-06 0.00e+00 1.84e-11  -5.7 1.56e+01    -  1.00e+00 1.00e+00f  1\n",
      "iter    objective    inf_pr   inf_du lg(mu)  ||d||  lg(rg) alpha_du alpha_pr  ls\n",
      "  10 -7.4940964e-09 0.00e+00 2.51e-14  -8.6 1.71e+00    -  1.00e+00 1.00e+00f  1\n",
      "\n",
      "Number of Iterations....: 10\n",
      "\n",
      "                                   (scaled)                 (unscaled)\n",
      "Objective...............:  -7.4940964063749669e-09   -7.4940964063749669e-09\n",
      "Dual infeasibility......:   2.5091040356528538e-14    2.5091040356528538e-14\n",
      "Constraint violation....:   0.0000000000000000e+00    0.0000000000000000e+00\n",
      "Complementarity.........:   2.5838889297526989e-09    2.5838889297526989e-09\n",
      "Overall NLP error.......:   2.5838889297526989e-09    2.5838889297526989e-09\n",
      "\n",
      "\n",
      "Number of objective function evaluations             = 11\n",
      "Number of objective gradient evaluations             = 11\n",
      "Number of equality constraint evaluations            = 11\n",
      "Number of inequality constraint evaluations          = 0\n",
      "Number of equality constraint Jacobian evaluations   = 11\n",
      "Number of inequality constraint Jacobian evaluations = 0\n",
      "Number of Lagrangian Hessian evaluations             = 10\n",
      "Total CPU secs in IPOPT (w/o function evaluations)   =      0.127\n",
      "Total CPU secs in NLP function evaluations           =      0.247\n",
      "\n",
      "EXIT: Optimal Solution Found.\n"
     ]
    },
    {
     "data": {
      "text/plain": [
       "{'Problem': [{'Lower bound': -inf, 'Upper bound': inf, 'Number of objectives': 1, 'Number of constraints': 10, 'Number of variables': 13, 'Sense': 'unknown'}], 'Solver': [{'Status': 'ok', 'Message': 'Ipopt 3.13.2\\\\x3a Optimal Solution Found', 'Termination condition': 'optimal', 'Id': 0, 'Error rc': 0, 'Time': 0.45131635665893555}], 'Solution': [OrderedDict([('number of solutions', 0), ('number of solutions displayed', 0)])]}"
      ]
     },
     "execution_count": 5,
     "metadata": {},
     "output_type": "execute_result"
    }
   ],
   "source": [
    "# Solve the model using a solver (e.g., IPOPT)\n",
    "solver = pe.SolverFactory('ipopt')\n",
    "solver.solve(model, tee=True)"
   ]
  },
  {
   "cell_type": "code",
   "execution_count": 6,
   "metadata": {
    "vscode": {
     "languageId": "markdown"
    }
   },
   "outputs": [
    {
     "name": "stdout",
     "output_type": "stream",
     "text": [
      "Optimized Heat Exchanger Area: 0.0 m^2\n",
      "Optimized Heat Duty: 68788.71287568662 J/mol\n"
     ]
    }
   ],
   "source": [
    "# Output the results\n",
    "print(f\"Optimized Heat Exchanger Area: {pe.value(model.fs.heat_exchanger.area)} m^2\")\n",
    "# Calculate the heat duty based on the hot side\n",
    "heat_duty = pe.value(model.fs.heat_exchanger.shell_inlet.flow_mol[0] * (h_hot_inlet - h_hot_outlet))\n",
    "print(f\"Optimized Heat Duty: {heat_duty} J/mol\")"
   ]
  },
  {
   "cell_type": "code",
   "execution_count": 7,
   "metadata": {
    "vscode": {
     "languageId": "markdown"
    }
   },
   "outputs": [
    {
     "name": "stdout",
     "output_type": "stream",
     "text": [
      "2025-03-28 14:59:18 [INFO] idaes.idaes_ui.fv.fsvis: Started visualization server\n",
      "2025-03-28 14:59:18 [INFO] idaes.idaes_ui.fv.fsvis: Loading saved flowsheet from 'HeatExchangerAreaMinimization.json'\n",
      "2025-03-28 14:59:18 [INFO] idaes.idaes_ui.fv.fsvis: Saving flowsheet to default file 'HeatExchangerAreaMinimization.json' in current directory (c:\\Users\\Sara\\Desktop\\IDAES)\n",
      "2025-03-28 14:59:19 [INFO] idaes.idaes_ui.fv.fsvis: Flowsheet visualization at: http://localhost:62889/app?id=HeatExchangerAreaMinimization\n"
     ]
    },
    {
     "data": {
      "text/plain": [
       "VisualizeResult(store=<idaes_ui.fv.persist.FileDataStore object at 0x000001B6E0FA47C0>, port=62889, server=<idaes_ui.fv.model_server.FlowsheetServer object at 0x000001B6D8ED9F90>)"
      ]
     },
     "execution_count": 7,
     "metadata": {},
     "output_type": "execute_result"
    }
   ],
   "source": [
    "import idaes_ui\n",
    "import idaes_ui.fv\n",
    "dir(idaes_ui.fv)\n",
    "from idaes_ui.fv import visualize \n",
    "\n",
    "# Assign a value to the heat exchanger area before visualization\n",
    "model.fs.heat_exchanger.area.set_value(pe.value(model.fs.heat_exchanger.area))\n",
    "\n",
    "# Visualize the model\n",
    "visualize(model.fs, \"HeatExchangerAreaMinimization\")"
   ]
  }
 ],
 "metadata": {
  "kernelspec": {
   "display_name": "my-idaes-env",
   "language": "python",
   "name": "python3"
  },
  "language_info": {
   "codemirror_mode": {
    "name": "ipython",
    "version": 3
   },
   "file_extension": ".py",
   "mimetype": "text/x-python",
   "name": "python",
   "nbconvert_exporter": "python",
   "pygments_lexer": "ipython3",
   "version": "3.10.16"
  }
 },
 "nbformat": 4,
 "nbformat_minor": 2
}

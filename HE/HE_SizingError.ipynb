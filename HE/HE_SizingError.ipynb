{
 "cells": [
  {
   "cell_type": "code",
   "execution_count": 3,
   "id": "a62b6625",
   "metadata": {},
   "outputs": [
    {
     "ename": "ImportError",
     "evalue": "cannot import name 'BlockData' from 'pyomo.core.base.block' (c:\\Users\\Sara\\miniforge3\\envs\\my-idaes-env\\lib\\site-packages\\pyomo\\core\\base\\block.py)",
     "output_type": "error",
     "traceback": [
      "\u001b[1;31m---------------------------------------------------------------------------\u001b[0m",
      "\u001b[1;31mImportError\u001b[0m                               Traceback (most recent call last)",
      "Cell \u001b[1;32mIn[3], line 2\u001b[0m\n\u001b[0;32m      1\u001b[0m \u001b[38;5;28;01mimport\u001b[39;00m\u001b[38;5;250m \u001b[39m\u001b[38;5;21;01mpyomo\u001b[39;00m\u001b[38;5;21;01m.\u001b[39;00m\u001b[38;5;21;01menviron\u001b[39;00m\u001b[38;5;250m \u001b[39m\u001b[38;5;28;01mas\u001b[39;00m\u001b[38;5;250m \u001b[39m\u001b[38;5;21;01mpyo\u001b[39;00m\n\u001b[1;32m----> 2\u001b[0m \u001b[38;5;28;01mfrom\u001b[39;00m\u001b[38;5;250m \u001b[39m\u001b[38;5;21;01midaes\u001b[39;00m\u001b[38;5;21;01m.\u001b[39;00m\u001b[38;5;21;01mcore\u001b[39;00m\u001b[38;5;250m \u001b[39m\u001b[38;5;28;01mimport\u001b[39;00m FlowsheetBlock\n\u001b[0;32m      3\u001b[0m \u001b[38;5;28;01mfrom\u001b[39;00m\u001b[38;5;250m \u001b[39m\u001b[38;5;21;01midaes\u001b[39;00m\u001b[38;5;21;01m.\u001b[39;00m\u001b[38;5;21;01mmodels\u001b[39;00m\u001b[38;5;21;01m.\u001b[39;00m\u001b[38;5;21;01munit_models\u001b[39;00m\u001b[38;5;250m \u001b[39m\u001b[38;5;28;01mimport\u001b[39;00m HeatExchanger\n\u001b[0;32m      4\u001b[0m \u001b[38;5;28;01mfrom\u001b[39;00m\u001b[38;5;250m \u001b[39m\u001b[38;5;21;01midaes\u001b[39;00m\u001b[38;5;21;01m.\u001b[39;00m\u001b[38;5;21;01mmodels\u001b[39;00m\u001b[38;5;21;01m.\u001b[39;00m\u001b[38;5;21;01mproperties\u001b[39;00m\u001b[38;5;250m \u001b[39m\u001b[38;5;28;01mimport\u001b[39;00m iapws95\n",
      "File \u001b[1;32mc:\\Users\\Sara\\miniforge3\\envs\\my-idaes-env\\lib\\site-packages\\idaes\\core\\__init__.py:16\u001b[0m\n\u001b[0;32m      1\u001b[0m \u001b[38;5;66;03m#################################################################################\u001b[39;00m\n\u001b[0;32m      2\u001b[0m \u001b[38;5;66;03m# The Institute for the Design of Advanced Energy Systems Integrated Platform\u001b[39;00m\n\u001b[0;32m      3\u001b[0m \u001b[38;5;66;03m# Framework (IDAES IP) was produced under the DOE Institute for the\u001b[39;00m\n\u001b[1;32m   (...)\u001b[0m\n\u001b[0;32m     13\u001b[0m \u001b[38;5;66;03m# TODO: Missing doc strings\u001b[39;00m\n\u001b[0;32m     14\u001b[0m \u001b[38;5;66;03m# pylint: disable=missing-module-docstring\u001b[39;00m\n\u001b[1;32m---> 16\u001b[0m \u001b[38;5;28;01mfrom\u001b[39;00m\u001b[38;5;250m \u001b[39m\u001b[38;5;21;01m.\u001b[39;00m\u001b[38;5;21;01mbase\u001b[39;00m\u001b[38;5;21;01m.\u001b[39;00m\u001b[38;5;21;01mprocess_base\u001b[39;00m\u001b[38;5;250m \u001b[39m\u001b[38;5;28;01mimport\u001b[39;00m ProcessBlockData, useDefault, MaterialFlowBasis\n\u001b[0;32m     17\u001b[0m \u001b[38;5;28;01mfrom\u001b[39;00m\u001b[38;5;250m \u001b[39m\u001b[38;5;21;01m.\u001b[39;00m\u001b[38;5;21;01mbase\u001b[39;00m\u001b[38;5;21;01m.\u001b[39;00m\u001b[38;5;21;01mprocess_block\u001b[39;00m\u001b[38;5;250m \u001b[39m\u001b[38;5;28;01mimport\u001b[39;00m ProcessBlock, declare_process_block_class\n\u001b[0;32m     18\u001b[0m \u001b[38;5;28;01mfrom\u001b[39;00m\u001b[38;5;250m \u001b[39m\u001b[38;5;21;01m.\u001b[39;00m\u001b[38;5;21;01mbase\u001b[39;00m\u001b[38;5;21;01m.\u001b[39;00m\u001b[38;5;21;01munit_model\u001b[39;00m\u001b[38;5;250m \u001b[39m\u001b[38;5;28;01mimport\u001b[39;00m UnitModelBlockData, UnitModelBlock\n",
      "File \u001b[1;32mc:\\Users\\Sara\\miniforge3\\envs\\my-idaes-env\\lib\\site-packages\\idaes\\core\\base\\process_base.py:29\u001b[0m\n\u001b[0;32m     25\u001b[0m \u001b[38;5;28;01mfrom\u001b[39;00m\u001b[38;5;250m \u001b[39m\u001b[38;5;21;01menum\u001b[39;00m\u001b[38;5;250m \u001b[39m\u001b[38;5;28;01mimport\u001b[39;00m Enum\n\u001b[0;32m     27\u001b[0m \u001b[38;5;28;01mfrom\u001b[39;00m\u001b[38;5;250m \u001b[39m\u001b[38;5;21;01mpandas\u001b[39;00m\u001b[38;5;250m \u001b[39m\u001b[38;5;28;01mimport\u001b[39;00m DataFrame\n\u001b[1;32m---> 29\u001b[0m \u001b[38;5;28;01mfrom\u001b[39;00m\u001b[38;5;250m \u001b[39m\u001b[38;5;21;01mpyomo\u001b[39;00m\u001b[38;5;21;01m.\u001b[39;00m\u001b[38;5;21;01mcore\u001b[39;00m\u001b[38;5;21;01m.\u001b[39;00m\u001b[38;5;21;01mbase\u001b[39;00m\u001b[38;5;21;01m.\u001b[39;00m\u001b[38;5;21;01mblock\u001b[39;00m\u001b[38;5;250m \u001b[39m\u001b[38;5;28;01mimport\u001b[39;00m BlockData\n\u001b[0;32m     30\u001b[0m \u001b[38;5;28;01mfrom\u001b[39;00m\u001b[38;5;250m \u001b[39m\u001b[38;5;21;01mpyomo\u001b[39;00m\u001b[38;5;21;01m.\u001b[39;00m\u001b[38;5;21;01mcommon\u001b[39;00m\u001b[38;5;21;01m.\u001b[39;00m\u001b[38;5;21;01mformatting\u001b[39;00m\u001b[38;5;250m \u001b[39m\u001b[38;5;28;01mimport\u001b[39;00m tabular_writer\n\u001b[0;32m     31\u001b[0m \u001b[38;5;28;01mfrom\u001b[39;00m\u001b[38;5;250m \u001b[39m\u001b[38;5;21;01mpyomo\u001b[39;00m\u001b[38;5;21;01m.\u001b[39;00m\u001b[38;5;21;01menviron\u001b[39;00m\u001b[38;5;250m \u001b[39m\u001b[38;5;28;01mimport\u001b[39;00m Block\n",
      "\u001b[1;31mImportError\u001b[0m: cannot import name 'BlockData' from 'pyomo.core.base.block' (c:\\Users\\Sara\\miniforge3\\envs\\my-idaes-env\\lib\\site-packages\\pyomo\\core\\base\\block.py)"
     ]
    }
   ],
   "source": [
    "import pyomo.environ as pyo\n",
    "from idaes.core import FlowsheetBlock\n",
    "from idaes.models.unit_models import HeatExchanger\n",
    "from idaes.models.properties import iapws95\n",
    "from idaes.models.unit_models.heat_exchanger import HX0DInitializer\n",
    "from idaes.models.unit_models.heat_exchanger import delta_temperature_lmtd_callback\n"
   ]
  },
  {
   "cell_type": "code",
   "execution_count": 18,
   "id": "2188b5ec",
   "metadata": {},
   "outputs": [],
   "source": [
    "\n",
    "# Create a Pyomo model\n",
    "model = pyo.ConcreteModel()\n",
    "\n",
    "# Create a flowsheet block in the model\n",
    "model.fs = FlowsheetBlock(dynamic=False)\n",
    "\n",
    "# Set up the property package (IAPWS95 for water properties in this case)\n",
    "model.fs.properties = iapws95.Iapws95ParameterBlock()\n"
   ]
  },
  {
   "cell_type": "code",
   "execution_count": 1,
   "id": "6da69e49",
   "metadata": {},
   "outputs": [
    {
     "ename": "NameError",
     "evalue": "name 'HeatExchanger' is not defined",
     "output_type": "error",
     "traceback": [
      "\u001b[1;31m---------------------------------------------------------------------------\u001b[0m",
      "\u001b[1;31mNameError\u001b[0m                                 Traceback (most recent call last)",
      "Cell \u001b[1;32mIn[1], line 2\u001b[0m\n\u001b[0;32m      1\u001b[0m \u001b[38;5;66;03m# Add a hx model to the flowsheet.\u001b[39;00m\n\u001b[1;32m----> 2\u001b[0m model\u001b[38;5;241m.\u001b[39mfs\u001b[38;5;241m.\u001b[39mH101 \u001b[38;5;241m=\u001b[39m \u001b[43mHeatExchanger\u001b[49m(\n\u001b[0;32m      3\u001b[0m     delta_temperature_callback\u001b[38;5;241m=\u001b[39mdelta_temperature_lmtd_callback,\n\u001b[0;32m      4\u001b[0m     hot_side_name\u001b[38;5;241m=\u001b[39m\u001b[38;5;124m\"\u001b[39m\u001b[38;5;124mshell\u001b[39m\u001b[38;5;124m\"\u001b[39m,\n\u001b[0;32m      5\u001b[0m     cold_side_name\u001b[38;5;241m=\u001b[39m\u001b[38;5;124m\"\u001b[39m\u001b[38;5;124mtube\u001b[39m\u001b[38;5;124m\"\u001b[39m,\n\u001b[0;32m      6\u001b[0m     shell\u001b[38;5;241m=\u001b[39m{\u001b[38;5;124m\"\u001b[39m\u001b[38;5;124mproperty_package\u001b[39m\u001b[38;5;124m\"\u001b[39m: model\u001b[38;5;241m.\u001b[39mfs\u001b[38;5;241m.\u001b[39mproperties},\n\u001b[0;32m      7\u001b[0m     tube\u001b[38;5;241m=\u001b[39m{\u001b[38;5;124m\"\u001b[39m\u001b[38;5;124mproperty_package\u001b[39m\u001b[38;5;124m\"\u001b[39m: model\u001b[38;5;241m.\u001b[39mfs\u001b[38;5;241m.\u001b[39mproperties}\n\u001b[0;32m      8\u001b[0m )\n",
      "\u001b[1;31mNameError\u001b[0m: name 'HeatExchanger' is not defined"
     ]
    }
   ],
   "source": [
    "\n",
    "# Add a hx model to the flowsheet.\n",
    "model.fs.H101 = HeatExchanger(\n",
    "    delta_temperature_callback=delta_temperature_lmtd_callback,\n",
    "    hot_side_name=\"shell\",\n",
    "    cold_side_name=\"tube\",\n",
    "    shell={\"property_package\": model.fs.properties},\n",
    "    tube={\"property_package\": model.fs.properties}\n",
    ")"
   ]
  },
  {
   "cell_type": "code",
   "execution_count": 23,
   "id": "5611c046",
   "metadata": {},
   "outputs": [
    {
     "ename": "AttributeError",
     "evalue": "'_ScalarControlVolume0DBlock' object has no attribute 'inlet'",
     "output_type": "error",
     "traceback": [
      "\u001b[1;31m---------------------------------------------------------------------------\u001b[0m",
      "\u001b[1;31mAttributeError\u001b[0m                            Traceback (most recent call last)",
      "Cell \u001b[1;32mIn[23], line 3\u001b[0m\n\u001b[0;32m      1\u001b[0m \u001b[38;5;66;03m# Set some example conditions for the heat exchanger (inlet flow rates, temperatures, etc.)\u001b[39;00m\n\u001b[0;32m      2\u001b[0m \u001b[38;5;66;03m# Example: Set up inlet and outlet conditions for hot side (shell) and cold side (tube)\u001b[39;00m\n\u001b[1;32m----> 3\u001b[0m \u001b[43mmodel\u001b[49m\u001b[38;5;241;43m.\u001b[39;49m\u001b[43mfs\u001b[49m\u001b[38;5;241;43m.\u001b[39;49m\u001b[43mH101\u001b[49m\u001b[38;5;241;43m.\u001b[39;49m\u001b[43mshell\u001b[49m\u001b[38;5;241;43m.\u001b[39;49m\u001b[43minlet\u001b[49m\u001b[38;5;241m.\u001b[39mflow_mol[\u001b[38;5;241m0\u001b[39m]\u001b[38;5;241m.\u001b[39mfix(\u001b[38;5;241m10\u001b[39m)  \u001b[38;5;66;03m# Hot fluid flow in mol/s (shell side)\u001b[39;00m\n",
      "File \u001b[1;32mc:\\Users\\Sara\\miniforge3\\envs\\my-idaes-env\\lib\\site-packages\\pyomo\\core\\base\\block.py:550\u001b[0m, in \u001b[0;36mBlockData.__getattr__\u001b[1;34m(self, val)\u001b[0m\n\u001b[0;32m    547\u001b[0m     \u001b[38;5;28;01mreturn\u001b[39;00m _component_decorator(\u001b[38;5;28mself\u001b[39m, ModelComponentFactory\u001b[38;5;241m.\u001b[39mget_class(val))\n\u001b[0;32m    548\u001b[0m \u001b[38;5;66;03m# Since the base classes don't support getattr, we can just\u001b[39;00m\n\u001b[0;32m    549\u001b[0m \u001b[38;5;66;03m# throw the \"normal\" AttributeError\u001b[39;00m\n\u001b[1;32m--> 550\u001b[0m \u001b[38;5;28;01mraise\u001b[39;00m \u001b[38;5;167;01mAttributeError\u001b[39;00m(\n\u001b[0;32m    551\u001b[0m     \u001b[38;5;124m\"\u001b[39m\u001b[38;5;124m'\u001b[39m\u001b[38;5;132;01m%s\u001b[39;00m\u001b[38;5;124m'\u001b[39m\u001b[38;5;124m object has no attribute \u001b[39m\u001b[38;5;124m'\u001b[39m\u001b[38;5;132;01m%s\u001b[39;00m\u001b[38;5;124m'\u001b[39m\u001b[38;5;124m\"\u001b[39m \u001b[38;5;241m%\u001b[39m (\u001b[38;5;28mself\u001b[39m\u001b[38;5;241m.\u001b[39m\u001b[38;5;18m__class__\u001b[39m\u001b[38;5;241m.\u001b[39m\u001b[38;5;18m__name__\u001b[39m, val)\n\u001b[0;32m    552\u001b[0m )\n",
      "\u001b[1;31mAttributeError\u001b[0m: '_ScalarControlVolume0DBlock' object has no attribute 'inlet'"
     ]
    }
   ],
   "source": [
    "\n",
    "# Set some example conditions for the heat exchanger (inlet flow rates, temperatures, etc.)\n",
    "# Example: Set up inlet and outlet conditions for hot side (shell) and cold side (tube)\n",
    "model.fs.H101.shell.inlet.flow_mol[0].fix(10)  # Hot fluid flow in mol/s (shell side)\n"
   ]
  },
  {
   "cell_type": "code",
   "execution_count": null,
   "id": "b08faa26",
   "metadata": {},
   "outputs": [],
   "source": [
    "\n",
    "model.fs.H101.shell.inlet.temperature[0].fix(662.30+273.15)  # Inlet temperature (K)\n",
    "model.fs.H101.tube.inlet.flow_mol[0].fix(10)  # Cold fluid flow in mol/s (tube side)\n",
    "model.fs.H101.tube.inlet.temperature[0].fix(20.00+273.15)  # Inlet temperature (K)\n"
   ]
  },
  {
   "cell_type": "code",
   "execution_count": null,
   "id": "09296349",
   "metadata": {},
   "outputs": [],
   "source": [
    "\n",
    "\n",
    "# Fix the overall heat transfer coefficient (U)\n",
    "m.fs.H102.U.fix(30)  # Fixed overall heat transfer coefficient [W/m²·K]\n",
    "\n",
    "# Initialize the model (this is an essential step before solving)\n",
    "m.fs.H101.initialize()\n",
    "\n",
    "# Solve the model to calculate the area\n",
    "solver = pyo.SolverFactory('ipopt')\n",
    "solver.options = {'tol': 1e-6}\n",
    "results = solver.solve(m, tee=True)\n",
    "\n",
    "# Extract the calculated area from the heat exchanger model\n",
    "calculated_area = m.fs.H101.area\n",
    "\n",
    "# Print the calculated area\n",
    "print(f\"Calculated Heat Exchanger Area: {calculated_area.value} m²\")\n"
   ]
  }
 ],
 "metadata": {
  "kernelspec": {
   "display_name": "my-idaes-env",
   "language": "python",
   "name": "python3"
  },
  "language_info": {
   "codemirror_mode": {
    "name": "ipython",
    "version": 3
   },
   "file_extension": ".py",
   "mimetype": "text/x-python",
   "name": "python",
   "nbconvert_exporter": "python",
   "pygments_lexer": "ipython3",
   "version": "3.10.16"
  }
 },
 "nbformat": 4,
 "nbformat_minor": 5
}

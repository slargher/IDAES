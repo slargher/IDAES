{
 "cells": [
  {
   "cell_type": "code",
   "execution_count": 1,
   "metadata": {},
   "outputs": [],
   "source": [
    "import pyomo.environ as pe  # Pyomo environment\n"
   ]
  },
  {
   "cell_type": "code",
   "execution_count": 2,
   "metadata": {},
   "outputs": [],
   "source": [
    "\n",
    "from idaes.core import FlowsheetBlock\n",
    "from idaes.models.unit_models import HeatExchanger\n",
    "from idaes.models.unit_models.heat_exchanger import HX0DInitializer\n",
    "from idaes.models.unit_models.heat_exchanger import delta_temperature_lmtd_callback\n",
    "from idaes.models.properties import iapws95\n",
    "import numpy as np\n"
   ]
  },
  {
   "cell_type": "code",
   "execution_count": 3,
   "metadata": {},
   "outputs": [],
   "source": [
    "# Create an empty flowsheet and steam property parameter block.\n",
    "model = pe.ConcreteModel()\n",
    "model.fs = FlowsheetBlock(dynamic=False)\n",
    "model.fs.params = iapws95.Iapws95ParameterBlock()"
   ]
  },
  {
   "cell_type": "markdown",
   "metadata": {},
   "source": [
    "temperatures taken from Cinti\n",
    ",2020"
   ]
  },
  {
   "cell_type": "code",
   "execution_count": 4,
   "metadata": {},
   "outputs": [],
   "source": [
    "# Provided data in Celsius, convert to Kelvin\n",
    "T_hot_inlet_C = 662.30\n",
    "T_hot_outlet_C = 192.60\n",
    "T_cold_inlet_C = 20.00\n",
    "T_cold_outlet_C = 496.94\n",
    "\n",
    "\n",
    "T_hot_inlet = T_hot_inlet_C + 273.15  # Convert to Kelvin\n",
    "T_hot_outlet = T_hot_outlet_C + 273.15  # Convert to Kelvin\n",
    "T_cold_inlet = T_cold_inlet_C + 273.15  # Convert to Kelvin\n",
    "T_cold_outlet = T_cold_outlet_C + 273.15  # Convert to Kelvin\n"
   ]
  },
  {
   "cell_type": "markdown",
   "metadata": {},
   "source": [
    "Check these!"
   ]
  },
  {
   "cell_type": "code",
   "execution_count": 5,
   "metadata": {},
   "outputs": [],
   "source": [
    "\n",
    "# Assume constant Cp for gases (ideal gas assumption)\n",
    "Cp_hot = 1.039  # Specific heat of nitrogen (N2) in kJ/kg·K\n",
    "Cp_cold = 1.005  # Specific heat of air at constant pressure in kJ/kg·K\n"
   ]
  },
  {
   "cell_type": "code",
   "execution_count": 6,
   "metadata": {},
   "outputs": [],
   "source": [
    "\n",
    "# Reference temperature (for simplicity, assume 0°C = 273.15 K)\n",
    "T_ref = 273.15"
   ]
  },
  {
   "cell_type": "markdown",
   "metadata": {},
   "source": [
    "Look into molar flow rates"
   ]
  },
  {
   "cell_type": "code",
   "execution_count": 7,
   "metadata": {},
   "outputs": [],
   "source": [
    "# Flow rate (Assuming constant flow rate of 10 mol/s)\n",
    "flow_mol_hot = 10  # mol/s\n",
    "flow_mol_cold = 10  # mol/s"
   ]
  },
  {
   "cell_type": "code",
   "execution_count": 8,
   "metadata": {},
   "outputs": [],
   "source": [
    "# Convert molar flow to mass flow (assuming ideal gas behavior)\n",
    "M_hot = 28.0134  # Molar mass of N2 (kg/kmol)\n",
    "M_cold = 28.97  # Molar mass of air (kg/kmol)"
   ]
  },
  {
   "cell_type": "code",
   "execution_count": 9,
   "metadata": {},
   "outputs": [],
   "source": [
    "mass_flow_hot = flow_mol_hot * M_hot / 1000  # Convert to kg/s\n",
    "mass_flow_cold = flow_mol_cold * M_cold / 1000  # Convert to kg/s"
   ]
  },
  {
   "cell_type": "code",
   "execution_count": 10,
   "metadata": {},
   "outputs": [
    {
     "name": "stdout",
     "output_type": "stream",
     "text": [
      "Mass flow rate of hot stream: 0.2801 kg/s\n",
      "Mass flow rate of cold stream: 0.2897 kg/s\n"
     ]
    }
   ],
   "source": [
    "# Print the mass flow rates for hot and cold streams\n",
    "print(f\"Mass flow rate of hot stream: {mass_flow_hot:.4f} kg/s\")\n",
    "print(f\"Mass flow rate of cold stream: {mass_flow_cold:.4f} kg/s\")"
   ]
  },
  {
   "cell_type": "markdown",
   "metadata": {},
   "source": [
    "air flow rate in line with Cinti 2020 = 228.28 Nl/s ca. 295.2 g/s"
   ]
  },
  {
   "cell_type": "code",
   "execution_count": 12,
   "metadata": {},
   "outputs": [],
   "source": [
    "# Compute heat duty (Q)\n",
    "Q_hot = mass_flow_hot * Cp_hot * (T_hot_inlet - T_hot_outlet)  # kJ/s = kW\n",
    "Q_cold = mass_flow_cold * Cp_cold * (T_cold_outlet - T_cold_inlet)  # kJ/s = kW"
   ]
  },
  {
   "cell_type": "code",
   "execution_count": 13,
   "metadata": {},
   "outputs": [
    {
     "name": "stdout",
     "output_type": "stream",
     "text": [
      "Q_hot: 136.71 kW\n",
      "Q_cold: 138.86 kW\n"
     ]
    }
   ],
   "source": [
    "# Print Q_hot and Q_cold values\n",
    "print(f\"Q_hot: {Q_hot:.2f} kW\")\n",
    "print(f\"Q_cold: {Q_cold:.2f} kW\")"
   ]
  },
  {
   "cell_type": "code",
   "execution_count": 14,
   "metadata": {},
   "outputs": [],
   "source": [
    "# Ensure heat balance is satisfied\n",
    "Q = min(Q_hot, Q_cold) * 1000  # Convert kW to W"
   ]
  },
  {
   "cell_type": "code",
   "execution_count": 15,
   "metadata": {},
   "outputs": [
    {
     "name": "stdout",
     "output_type": "stream",
     "text": [
      "Computed Q: 136.71 kW\n"
     ]
    }
   ],
   "source": [
    "# Print the computed Q value\n",
    "print(f\"Computed Q: {Q/1000:.2f} kW\")"
   ]
  },
  {
   "cell_type": "code",
   "execution_count": 16,
   "metadata": {},
   "outputs": [
    {
     "name": "stdout",
     "output_type": "stream",
     "text": [
      "Computed LMTD: 168.95 K\n"
     ]
    }
   ],
   "source": [
    "# Compute LMTD\n",
    "delta_T1 = T_hot_inlet - T_cold_outlet\n",
    "delta_T2 = T_hot_outlet - T_cold_inlet\n",
    "LMTD = (delta_T1 - delta_T2) / np.log(delta_T1 / delta_T2)\n",
    "# Print the computed LMTD\n",
    "print(f\"Computed LMTD: {LMTD:.2f} K\")"
   ]
  },
  {
   "cell_type": "code",
   "execution_count": 17,
   "metadata": {},
   "outputs": [],
   "source": [
    "# Fixed overall heat transfer coefficient from Cinti et al 2020\n",
    "U = 30  # W/m²·K"
   ]
  },
  {
   "cell_type": "code",
   "execution_count": 18,
   "metadata": {},
   "outputs": [
    {
     "name": "stdout",
     "output_type": "stream",
     "text": [
      "Computed Heat Exchanger Area: 26.97 m²\n"
     ]
    }
   ],
   "source": [
    "\n",
    "# Compute heat exchanger area\n",
    "A = Q / (U * LMTD)\n",
    "print(f\"Computed Heat Exchanger Area: {A:.2f} m²\")"
   ]
  },
  {
   "cell_type": "markdown",
   "metadata": {},
   "source": [
    "From here down cost calculation"
   ]
  },
  {
   "cell_type": "markdown",
   "metadata": {},
   "source": [
    "Using cost function from Denver Chaddie 2011"
   ]
  },
  {
   "cell_type": "code",
   "execution_count": 19,
   "metadata": {},
   "outputs": [
    {
     "name": "stdout",
     "output_type": "stream",
     "text": [
      "Computed Cost using 2011 cost function: EUR 10830.23\n"
     ]
    }
   ],
   "source": [
    "# Assuming A is already defined as the heat exchanger area in m²\n",
    "cost_2011 = 130 * (A / 0.093) ** 0.78\n",
    "print(f\"Computed Cost using 2011 cost function: EUR {cost_2011:.2f}\")\n"
   ]
  },
  {
   "cell_type": "markdown",
   "metadata": {},
   "source": [
    "We are doing this to follow the 5 years rule!!!!!"
   ]
  },
  {
   "cell_type": "markdown",
   "metadata": {},
   "source": [
    "Price 2020 from market value alfa laval AlfaNova 76-100H"
   ]
  },
  {
   "cell_type": "code",
   "execution_count": 20,
   "metadata": {},
   "outputs": [],
   "source": [
    "price_2020=9608 # EUR"
   ]
  },
  {
   "cell_type": "code",
   "execution_count": 21,
   "metadata": {},
   "outputs": [],
   "source": [
    "price_ratio = price_2020/cost_2011"
   ]
  },
  {
   "cell_type": "code",
   "execution_count": 22,
   "metadata": {},
   "outputs": [
    {
     "name": "stdout",
     "output_type": "stream",
     "text": [
      "Updated parameter 115.33\n"
     ]
    }
   ],
   "source": [
    "cost_2020=(130*price_ratio) * (A / 0.093) ** 0.78\n",
    "print(f\"Updated parameter {130*price_ratio:.2f}\")"
   ]
  },
  {
   "cell_type": "code",
   "execution_count": 23,
   "metadata": {},
   "outputs": [
    {
     "name": "stdout",
     "output_type": "stream",
     "text": [
      "Updated Cost to 2024: EUR 12742.44\n"
     ]
    }
   ],
   "source": [
    "# CEPCI values\n",
    "CEPCI_base = 596.2  #2020  \n",
    "CEPCI_current = 790.7 #2024\n",
    "\n",
    "# Updated cost with CEPCI scaling\n",
    "updated_cost = cost_2020 * (CEPCI_current / CEPCI_base)\n",
    "print(f\"Updated Cost to 2024: EUR {updated_cost:.2f}\")\n"
   ]
  }
 ],
 "metadata": {
  "kernelspec": {
   "display_name": "my-idaes-env",
   "language": "python",
   "name": "python3"
  },
  "language_info": {
   "codemirror_mode": {
    "name": "ipython",
    "version": 3
   },
   "file_extension": ".py",
   "mimetype": "text/x-python",
   "name": "python",
   "nbconvert_exporter": "python",
   "pygments_lexer": "ipython3",
   "version": "3.10.16"
  }
 },
 "nbformat": 4,
 "nbformat_minor": 2
}

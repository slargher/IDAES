{
 "cells": [
  {
   "cell_type": "code",
   "execution_count": 21,
   "metadata": {},
   "outputs": [],
   "source": [
    "import pyomo.environ as pe  # Pyomo environment\n"
   ]
  },
  {
   "cell_type": "code",
   "execution_count": 22,
   "metadata": {},
   "outputs": [],
   "source": [
    "\n",
    "from idaes.core import FlowsheetBlock\n",
    "from idaes.models.unit_models import HeatExchanger, HeatExchangerFlowPattern\n",
    "from idaes.models.unit_models.heat_exchanger import HX0DInitializer\n",
    "from idaes.models.unit_models.heat_exchanger import delta_temperature_lmtd_callback\n",
    "from idaes.models.properties import iapws95\n",
    "import numpy as np\n"
   ]
  },
  {
   "cell_type": "code",
   "execution_count": 23,
   "metadata": {},
   "outputs": [],
   "source": [
    "from pyomo.environ import (ConcreteModel, SolverFactory)\n",
    "from pyomo.util.calc_var_value import calculate_variable_from_constraint\n",
    "from idaes.core import FlowsheetBlock\n",
    "\n",
    "from idaes.core.util.model_statistics import degrees_of_freedom"
   ]
  },
  {
   "cell_type": "code",
   "execution_count": 24,
   "metadata": {},
   "outputs": [],
   "source": [
    "# Create an empty flowsheet and steam property parameter block.\n",
    "model = pe.ConcreteModel()\n",
    "model.fs = FlowsheetBlock(dynamic=False)\n",
    "model.fs.params = iapws95.Iapws95ParameterBlock()\n"
   ]
  },
  {
   "cell_type": "code",
   "execution_count": 25,
   "metadata": {},
   "outputs": [],
   "source": [
    "\n",
    "\n",
    "# Heat exchanger unit model\n",
    "model.fs.heat_exchanger = HeatExchanger(\n",
    "    hot_side_name=\"shell\",\n",
    "    cold_side_name=\"tube\",\n",
    "    shell={\"property_package\": model.fs.params},\n",
    "    tube={\"property_package\": model.fs.params},\n",
    "    flow_pattern=HeatExchangerFlowPattern.countercurrent\n",
    ")"
   ]
  },
  {
   "cell_type": "markdown",
   "metadata": {},
   "source": [
    "temperatures taken from Cinti\n",
    ",2020"
   ]
  },
  {
   "cell_type": "code",
   "execution_count": 26,
   "metadata": {},
   "outputs": [],
   "source": [
    "# Provided data in Celsius, convert to Kelvin\n",
    "T_hot_inlet_C = 662.30\n",
    "T_hot_outlet_C = 192.60\n",
    "T_cold_inlet_C = 20.00\n",
    "T_cold_outlet_C = 496.94\n",
    "\n",
    "\n",
    "T_hot_inlet = T_hot_inlet_C + 273.15  # Convert to Kelvin\n",
    "T_hot_outlet = T_hot_outlet_C + 273.15  # Convert to Kelvin\n",
    "T_cold_inlet = T_cold_inlet_C + 273.15  # Convert to Kelvin\n",
    "T_cold_outlet = T_cold_outlet_C + 273.15  # Convert to Kelvin\n"
   ]
  },
  {
   "cell_type": "markdown",
   "metadata": {},
   "source": [
    "Check these!"
   ]
  },
  {
   "cell_type": "code",
   "execution_count": 27,
   "metadata": {},
   "outputs": [],
   "source": [
    "\n",
    "# Assume constant Cp for gases (ideal gas assumption)\n",
    "Cp_hot = 1.039  # Specific heat of nitrogen (N2) in kJ/kg·K\n",
    "Cp_cold = 1.005  # Specific heat of air at constant pressure in kJ/kg·K\n"
   ]
  },
  {
   "cell_type": "code",
   "execution_count": 28,
   "metadata": {},
   "outputs": [],
   "source": [
    "\n",
    "# Reference temperature (for simplicity, assume 0°C = 273.15 K)\n",
    "T_ref = 273.15"
   ]
  },
  {
   "cell_type": "markdown",
   "metadata": {},
   "source": [
    "Look into molar flow rates"
   ]
  },
  {
   "cell_type": "code",
   "execution_count": 29,
   "metadata": {},
   "outputs": [],
   "source": [
    "# Flow rate (Assuming constant flow rate of 10 mol/s)\n",
    "flow_mol_hot = 10  # mol/s\n",
    "flow_mol_cold = 10  # mol/s"
   ]
  },
  {
   "cell_type": "code",
   "execution_count": 30,
   "metadata": {},
   "outputs": [],
   "source": [
    "# Convert molar flow to mass flow (assuming ideal gas behavior)\n",
    "M_hot = 28.0134  # Molar mass of N2 (kg/kmol)\n",
    "M_cold = 28.97  # Molar mass of air (kg/kmol)"
   ]
  },
  {
   "cell_type": "code",
   "execution_count": 31,
   "metadata": {},
   "outputs": [],
   "source": [
    "mass_flow_hot = flow_mol_hot * M_hot / 1000  # Convert to kg/s\n",
    "mass_flow_cold = flow_mol_cold * M_cold / 1000  # Convert to kg/s"
   ]
  },
  {
   "cell_type": "code",
   "execution_count": 32,
   "metadata": {},
   "outputs": [
    {
     "name": "stdout",
     "output_type": "stream",
     "text": [
      "Mass flow rate of hot stream: 0.2801 kg/s\n",
      "Mass flow rate of cold stream: 0.2897 kg/s\n"
     ]
    }
   ],
   "source": [
    "# Print the mass flow rates for hot and cold streams\n",
    "print(f\"Mass flow rate of hot stream: {mass_flow_hot:.4f} kg/s\")\n",
    "print(f\"Mass flow rate of cold stream: {mass_flow_cold:.4f} kg/s\")"
   ]
  },
  {
   "cell_type": "markdown",
   "metadata": {},
   "source": [
    "air flow rate in line with Cinti 2020 = 228.28 Nl/s ca. 295.2 g/s"
   ]
  },
  {
   "cell_type": "code",
   "execution_count": 33,
   "metadata": {},
   "outputs": [],
   "source": [
    "# Compute heat duty (Q)\n",
    "Q_hot = mass_flow_hot * Cp_hot * (T_hot_inlet - T_hot_outlet)  # kJ/s = kW\n",
    "Q_cold = mass_flow_cold * Cp_cold * (T_cold_outlet - T_cold_inlet)  # kJ/s = kW"
   ]
  },
  {
   "cell_type": "code",
   "execution_count": 34,
   "metadata": {},
   "outputs": [
    {
     "name": "stdout",
     "output_type": "stream",
     "text": [
      "Q_hot: 136.71 kW\n",
      "Q_cold: 138.86 kW\n"
     ]
    }
   ],
   "source": [
    "# Print Q_hot and Q_cold values\n",
    "print(f\"Q_hot: {Q_hot:.2f} kW\")\n",
    "print(f\"Q_cold: {Q_cold:.2f} kW\")"
   ]
  },
  {
   "cell_type": "code",
   "execution_count": 35,
   "metadata": {},
   "outputs": [],
   "source": [
    "# Ensure heat balance is satisfied\n",
    "Q = min(Q_hot, Q_cold) * 1000  # Convert kW to W"
   ]
  },
  {
   "cell_type": "code",
   "execution_count": 36,
   "metadata": {},
   "outputs": [
    {
     "name": "stdout",
     "output_type": "stream",
     "text": [
      "Computed Q: 136.71 kW\n"
     ]
    }
   ],
   "source": [
    "# Print the computed Q value\n",
    "print(f\"Computed Q: {Q/1000:.2f} kW\")"
   ]
  },
  {
   "cell_type": "code",
   "execution_count": 37,
   "metadata": {},
   "outputs": [
    {
     "name": "stdout",
     "output_type": "stream",
     "text": [
      "Computed LMTD: 168.95 K\n"
     ]
    }
   ],
   "source": [
    "# Compute LMTD\n",
    "delta_T1 = T_hot_inlet - T_cold_outlet\n",
    "delta_T2 = T_hot_outlet - T_cold_inlet\n",
    "LMTD = (delta_T1 - delta_T2) / np.log(delta_T1 / delta_T2)\n",
    "# Print the computed LMTD\n",
    "print(f\"Computed LMTD: {LMTD:.2f} K\")"
   ]
  },
  {
   "cell_type": "code",
   "execution_count": 38,
   "metadata": {},
   "outputs": [],
   "source": [
    "# Fixed overall heat transfer coefficient from Cinti et al 2020\n",
    "U = 30  # W/m²·K"
   ]
  },
  {
   "cell_type": "code",
   "execution_count": 39,
   "metadata": {},
   "outputs": [
    {
     "name": "stdout",
     "output_type": "stream",
     "text": [
      "Computed Heat Exchanger Area: 26.97 m²\n"
     ]
    }
   ],
   "source": [
    "\n",
    "# Compute heat exchanger area\n",
    "A = Q / (U * LMTD)\n",
    "print(f\"Computed Heat Exchanger Area: {A:.2f} m²\")"
   ]
  },
  {
   "cell_type": "code",
   "execution_count": 40,
   "metadata": {},
   "outputs": [],
   "source": [
    "# set inputs\n",
    "model.fs.heat_exchanger.shell_inlet.flow_mol.fix(flow_mol_hot)\n",
    "model.fs.heat_exchanger.tube_inlet.flow_mol.fix(flow_mol_cold)\n"
   ]
  },
  {
   "cell_type": "code",
   "execution_count": 41,
   "metadata": {},
   "outputs": [],
   "source": [
    "# Define a function to calculate enthalpy\n",
    "def calc_enthalpy(Cp, T):\n",
    "\treturn Cp * T  # Assuming enthalpy is Cp * T\n",
    "\n",
    "# Fix enthalpies (based on Cp and temperatures)\n",
    "model.fs.heat_exchanger.shell_inlet.enth_mol.fix(calc_enthalpy(Cp_hot, T_hot_inlet))\n",
    "model.fs.heat_exchanger.tube_inlet.enth_mol.fix(calc_enthalpy(Cp_cold, T_cold_inlet))"
   ]
  },
  {
   "cell_type": "code",
   "execution_count": 42,
   "metadata": {},
   "outputs": [],
   "source": [
    "model.fs.heat_exchanger.shell_inlet.pressure[0].fix(101325)  # Pa\n",
    "model.fs.heat_exchanger.tube_inlet.pressure[0].fix(101325.0)\n"
   ]
  },
  {
   "cell_type": "code",
   "execution_count": 43,
   "metadata": {},
   "outputs": [],
   "source": [
    "model.fs.heat_exchanger.area.fix(A)  # m2"
   ]
  },
  {
   "cell_type": "code",
   "execution_count": 44,
   "metadata": {},
   "outputs": [],
   "source": [
    "\n",
    "model.fs.heat_exchanger.overall_heat_transfer_coefficient.fix(30)  # W/m2K"
   ]
  },
  {
   "cell_type": "code",
   "execution_count": 50,
   "metadata": {},
   "outputs": [
    {
     "name": "stdout",
     "output_type": "stream",
     "text": [
      "2.8.0\n"
     ]
    }
   ],
   "source": [
    "import idaes\n",
    "print(idaes.__version__)"
   ]
  },
  {
   "cell_type": "code",
   "execution_count": 49,
   "metadata": {},
   "outputs": [
    {
     "ename": "ModuleNotFoundError",
     "evalue": "No module named 'idaes.core.util.costing_base'",
     "output_type": "error",
     "traceback": [
      "\u001b[1;31m---------------------------------------------------------------------------\u001b[0m",
      "\u001b[1;31mModuleNotFoundError\u001b[0m                       Traceback (most recent call last)",
      "Cell \u001b[1;32mIn[49], line 1\u001b[0m\n\u001b[1;32m----> 1\u001b[0m \u001b[38;5;28;01mfrom\u001b[39;00m\u001b[38;5;250m \u001b[39m\u001b[38;5;21;01midaes\u001b[39;00m\u001b[38;5;21;01m.\u001b[39;00m\u001b[38;5;21;01mcore\u001b[39;00m\u001b[38;5;21;01m.\u001b[39;00m\u001b[38;5;21;01mutil\u001b[39;00m\u001b[38;5;21;01m.\u001b[39;00m\u001b[38;5;21;01mcosting_base\u001b[39;00m\u001b[38;5;250m \u001b[39m\u001b[38;5;28;01mimport\u001b[39;00m UnitModelCostingBlock\n\u001b[0;32m      3\u001b[0m \u001b[38;5;66;03m# Add costing block to the heat exchanger\u001b[39;00m\n\u001b[0;32m      4\u001b[0m model\u001b[38;5;241m.\u001b[39mfs\u001b[38;5;241m.\u001b[39mheat_exchanger\u001b[38;5;241m.\u001b[39mcosting \u001b[38;5;241m=\u001b[39m UnitModelCostingBlock()\n",
      "\u001b[1;31mModuleNotFoundError\u001b[0m: No module named 'idaes.core.util.costing_base'"
     ]
    }
   ],
   "source": [
    "from idaes.core.util.costing_base import UnitModelCostingBlock\n",
    "\n",
    "# Add costing block to the heat exchanger\n",
    "model.fs.heat_exchanger.costing = UnitModelCostingBlock()"
   ]
  },
  {
   "cell_type": "code",
   "execution_count": 20,
   "metadata": {},
   "outputs": [],
   "source": [
    "price_2020=9608 # EUR"
   ]
  },
  {
   "cell_type": "code",
   "execution_count": 21,
   "metadata": {},
   "outputs": [],
   "source": [
    "price_ratio = price_2020/cost_2011"
   ]
  },
  {
   "cell_type": "code",
   "execution_count": 22,
   "metadata": {},
   "outputs": [
    {
     "name": "stdout",
     "output_type": "stream",
     "text": [
      "Updated parameter 115.33\n"
     ]
    }
   ],
   "source": [
    "cost_2020=(130*price_ratio) * (A / 0.093) ** 0.78\n",
    "print(f\"Updated parameter {130*price_ratio:.2f}\")"
   ]
  },
  {
   "cell_type": "code",
   "execution_count": 23,
   "metadata": {},
   "outputs": [
    {
     "name": "stdout",
     "output_type": "stream",
     "text": [
      "Updated Cost to 2024: EUR 12742.44\n"
     ]
    }
   ],
   "source": [
    "# CEPCI values\n",
    "CEPCI_base = 596.2  #2020  \n",
    "CEPCI_current = 790.7 #2024\n",
    "\n",
    "# Updated cost with CEPCI scaling\n",
    "updated_cost = cost_2020 * (CEPCI_current / CEPCI_base)\n",
    "print(f\"Updated Cost to 2024: EUR {updated_cost:.2f}\")\n"
   ]
  },
  {
   "cell_type": "code",
   "execution_count": null,
   "metadata": {},
   "outputs": [
    {
     "name": "stdout",
     "output_type": "stream",
     "text": [
      "Updated Cost to 2024: EUR 12742.44\n"
     ]
    }
   ],
   "source": [
    "# CEPCI values\n",
    "CEPCI_base = 596.2  #2020  \n",
    "CEPCI_current = 790.7 #2024\n",
    "\n",
    "# Updated cost with CEPCI scaling\n",
    "updated_cost = cost_2020 * (CEPCI_current / CEPCI_base)\n",
    "print(f\"Updated Cost to 2024: EUR {updated_cost:.2f}\")\n"
   ]
  }
 ],
 "metadata": {
  "kernelspec": {
   "display_name": "my-idaes-env",
   "language": "python",
   "name": "python3"
  },
  "language_info": {
   "codemirror_mode": {
    "name": "ipython",
    "version": 3
   },
   "file_extension": ".py",
   "mimetype": "text/x-python",
   "name": "python",
   "nbconvert_exporter": "python",
   "pygments_lexer": "ipython3",
   "version": "3.10.16"
  }
 },
 "nbformat": 4,
 "nbformat_minor": 2
}

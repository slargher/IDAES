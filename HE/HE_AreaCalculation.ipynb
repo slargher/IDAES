{
 "cells": [
  {
   "cell_type": "code",
   "execution_count": 42,
   "metadata": {},
   "outputs": [],
   "source": [
    "import pyomo.environ as pe  # Pyomo environment\n",
    "from idaes.core import FlowsheetBlock\n",
    "from idaes.models.unit_models import HeatExchanger\n",
    "from idaes.models.unit_models.heat_exchanger import HX0DInitializer\n",
    "from idaes.models.unit_models.heat_exchanger import delta_temperature_amtd_callback\n",
    "from idaes.models.properties import iapws95\n",
    "import numpy as np\n"
   ]
  },
  {
   "cell_type": "code",
   "execution_count": 43,
   "metadata": {},
   "outputs": [],
   "source": [
    "# Create an empty flowsheet and steam property parameter block.\n",
    "model = pe.ConcreteModel()\n",
    "model.fs = FlowsheetBlock(dynamic=False)\n",
    "model.fs.properties = iapws95.Iapws95ParameterBlock()"
   ]
  },
  {
   "cell_type": "markdown",
   "metadata": {},
   "source": [
    "temperatures taken from Cinti\n",
    ",2020"
   ]
  },
  {
   "cell_type": "code",
   "execution_count": 44,
   "metadata": {},
   "outputs": [],
   "source": [
    "# Provided data in Celsius, convert to Kelvin\n",
    "T_hot_inlet_C = 662.30\n",
    "T_hot_outlet_C = 192.60\n",
    "T_cold_inlet_C = 20.00\n",
    "T_cold_outlet_C = 496.94\n",
    "\n",
    "\n",
    "T_hot_inlet = T_hot_inlet_C + 273.15  # Convert to Kelvin\n",
    "T_hot_outlet = T_hot_outlet_C + 273.15  # Convert to Kelvin\n",
    "T_cold_inlet = T_cold_inlet_C + 273.15  # Convert to Kelvin\n",
    "T_cold_outlet = T_cold_outlet_C + 273.15  # Convert to Kelvin\n"
   ]
  },
  {
   "cell_type": "markdown",
   "metadata": {},
   "source": [
    "Check these!"
   ]
  },
  {
   "cell_type": "code",
   "execution_count": 45,
   "metadata": {},
   "outputs": [],
   "source": [
    "\n",
    "# Assume constant Cp for gases (ideal gas assumption)\n",
    "Cp_hot = 1.039  # Specific heat of nitrogen (N2) in kJ/kg·K\n",
    "Cp_cold = 1.005  # Specific heat of air at constant pressure in kJ/kg·K\n"
   ]
  },
  {
   "cell_type": "markdown",
   "metadata": {},
   "source": [
    "Understand where we use this ref temperature"
   ]
  },
  {
   "cell_type": "code",
   "execution_count": 46,
   "metadata": {},
   "outputs": [],
   "source": [
    "\n",
    "# Reference temperature (for simplicity, assume 0°C = 273.15 K)\n",
    "T_ref = 273.15"
   ]
  },
  {
   "cell_type": "code",
   "execution_count": 47,
   "metadata": {},
   "outputs": [],
   "source": [
    "# Calculate enthalpy using Cp (simplified)\n",
    "def calc_enthalpy(Cp, T):\n",
    "    return Cp * (T - T_ref)"
   ]
  },
  {
   "cell_type": "code",
   "execution_count": 48,
   "metadata": {},
   "outputs": [],
   "source": [
    "# Calculate enthalpy for the hot and cold streams\n",
    "h_hot_inlet = calc_enthalpy(Cp_hot, T_hot_inlet)  # Inlet enthalpy for the hot stream (N2/steam)\n",
    "h_hot_outlet = calc_enthalpy(Cp_hot, T_hot_outlet)\n",
    "h_cold_inlet = calc_enthalpy(Cp_cold, T_cold_inlet)  # Inlet enthalpy for the cold stream (air)\n",
    "h_cold_outlet = calc_enthalpy(Cp_cold, T_cold_outlet)"
   ]
  },
  {
   "cell_type": "code",
   "execution_count": 49,
   "metadata": {},
   "outputs": [],
   "source": [
    "# Mass flow rate (Assuming constant flow rate of 100 mol/s)\n",
    "flow_mol_hot = 100  # mol/s\n",
    "flow_mol_cold = 100  # mol/s"
   ]
  },
  {
   "cell_type": "code",
   "execution_count": 50,
   "metadata": {},
   "outputs": [],
   "source": [
    "# Convert molar flow to mass flow (assuming ideal gas behavior)\n",
    "M_hot = 28.0134  # Molar mass of N2 (kg/kmol)\n",
    "M_cold = 28.97  # Molar mass of air (kg/kmol)"
   ]
  },
  {
   "cell_type": "code",
   "execution_count": 51,
   "metadata": {},
   "outputs": [],
   "source": [
    "mass_flow_hot = flow_mol_hot * M_hot / 1000  # Convert to kg/s\n",
    "mass_flow_cold = flow_mol_cold * M_cold / 1000  # Convert to kg/s"
   ]
  },
  {
   "cell_type": "code",
   "execution_count": 52,
   "metadata": {},
   "outputs": [],
   "source": [
    "# Compute heat duty (Q)\n",
    "Q_hot = mass_flow_hot * Cp_hot * (T_hot_inlet - T_hot_outlet)  # kJ/s = kW\n",
    "Q_cold = mass_flow_cold * Cp_cold * (T_cold_outlet - T_cold_inlet)  # kJ/s = kW"
   ]
  },
  {
   "cell_type": "code",
   "execution_count": 53,
   "metadata": {},
   "outputs": [],
   "source": [
    "# Ensure heat balance is satisfied\n",
    "Q = min(Q_hot, Q_cold) * 1000  # Convert kW to W"
   ]
  },
  {
   "cell_type": "code",
   "execution_count": 54,
   "metadata": {},
   "outputs": [],
   "source": [
    "# Compute LMTD\n",
    "delta_T1 = T_hot_inlet - T_cold_outlet\n",
    "delta_T2 = T_hot_outlet - T_cold_inlet\n",
    "LMTD = (delta_T1 - delta_T2) / np.log(delta_T1 / delta_T2)"
   ]
  },
  {
   "cell_type": "code",
   "execution_count": 55,
   "metadata": {},
   "outputs": [],
   "source": [
    "# Fixed overall heat transfer coefficient\n",
    "U = 100  # W/m²·K"
   ]
  },
  {
   "cell_type": "code",
   "execution_count": 56,
   "metadata": {},
   "outputs": [],
   "source": [
    "\n",
    "# Compute heat exchanger area\n",
    "A = Q / (U * LMTD)"
   ]
  },
  {
   "cell_type": "code",
   "execution_count": 57,
   "metadata": {},
   "outputs": [],
   "source": [
    "# **Store these values as variables for visualization**\n",
    "model.fs.heat_duty = pe.Param(initialize=Q, doc=\"Heat Duty (W)\")  # Heat Duty\n",
    "model.fs.LMTD = pe.Param(initialize=LMTD, doc=\"Log Mean Temperature Difference (K)\")  # LMTD\n",
    "model.fs.area_calculated = pe.Param(initialize=A, doc=\"Calculated Heat Exchanger Area (m²)\")"
   ]
  },
  {
   "cell_type": "code",
   "execution_count": 70,
   "metadata": {},
   "outputs": [],
   "source": [
    "model.fs.heat_exchanger.area = A  # Set the calculated area to the heat exchanger model"
   ]
  },
  {
   "cell_type": "code",
   "execution_count": 71,
   "metadata": {},
   "outputs": [
    {
     "name": "stdout",
     "output_type": "stream",
     "text": [
      "WARNING: Implicitly replacing the Component attribute heat_exchanger\n",
      "(type=<class 'idaes.core.base.process_block._ScalarHeatExchanger'>) on block\n",
      "fs with a new Component (type=<class\n",
      "'idaes.core.base.process_block._ScalarHeatExchanger'>). This is usually\n",
      "indicative of a modelling error. To avoid this warning, use\n",
      "block.del_component() and block.add_component().\n"
     ]
    }
   ],
   "source": [
    "# Create the Heat Exchanger model\n",
    "model.fs.heat_exchanger = HeatExchanger(\n",
    "    delta_temperature_callback=delta_temperature_amtd_callback,\n",
    "    hot_side_name=\"shell\",\n",
    "    cold_side_name=\"tube\",\n",
    "    shell={\"property_package\": model.fs.properties},\n",
    "    tube={\"property_package\": model.fs.properties}\n",
    ")"
   ]
  },
  {
   "cell_type": "code",
   "execution_count": 72,
   "metadata": {},
   "outputs": [],
   "source": [
    "# Fixing inlet flow and pressure values (assuming standard conditions)\n",
    "model.fs.heat_exchanger.shell_inlet.flow_mol.fix(100)  # Hot stream flow rate (mol/s)\n",
    "model.fs.heat_exchanger.shell_inlet.pressure.fix(101325)  # Standard atmospheric pressure\n",
    "model.fs.heat_exchanger.tube_inlet.flow_mol.fix(100)  # Cold stream flow rate (mol/s)\n",
    "model.fs.heat_exchanger.tube_inlet.pressure.fix(101325)  # Standard atmospheric pressure"
   ]
  },
  {
   "cell_type": "code",
   "execution_count": 77,
   "metadata": {},
   "outputs": [],
   "source": [
    "# Fixing enthalpies for the heat exchanger\n",
    "model.fs.heat_exchanger.shell_inlet.enth_mol[0].set_value(h_hot_inlet)  # Hot stream inlet enthalpy\n",
    "model.fs.heat_exchanger.shell_outlet.enth_mol[0].set_value(h_hot_outlet)  # Hot stream outlet enthalpy\n",
    "model.fs.heat_exchanger.tube_inlet.enth_mol[0].set_value(h_cold_inlet)  # Cold stream inlet enthalpy\n",
    "model.fs.heat_exchanger.tube_outlet.enth_mol[0].set_value(h_cold_outlet)  # Cold stream outlet enthalpy"
   ]
  },
  {
   "cell_type": "code",
   "execution_count": 79,
   "metadata": {},
   "outputs": [
    {
     "name": "stdout",
     "output_type": "stream",
     "text": [
      "WARNING: Implicitly replacing the Component attribute heat_duty (type=<class\n",
      "'pyomo.core.base.param.ScalarParam'>) on block fs with a new Component\n",
      "(type=<class 'pyomo.core.base.param.ScalarParam'>). This is usually indicative\n",
      "of a modelling error. To avoid this warning, use block.del_component() and\n",
      "block.add_component().\n",
      "WARNING: Implicitly replacing the Component attribute LMTD (type=<class\n",
      "'pyomo.core.base.param.ScalarParam'>) on block fs with a new Component\n",
      "(type=<class 'pyomo.core.base.param.ScalarParam'>). This is usually indicative\n",
      "of a modelling error. To avoid this warning, use block.del_component() and\n",
      "block.add_component().\n",
      "WARNING: Implicitly replacing the Component attribute area_calculated\n",
      "(type=<class 'pyomo.core.base.param.ScalarParam'>) on block fs with a new\n",
      "Component (type=<class 'pyomo.core.base.param.ScalarParam'>). This is usually\n",
      "indicative of a modelling error. To avoid this warning, use\n",
      "block.del_component() and block.add_component().\n"
     ]
    }
   ],
   "source": [
    "# **Store these values as variables for visualization**\n",
    "model.fs.heat_duty = pe.Param(initialize=Q, doc=\"Heat Duty (W)\")  # Heat Duty\n",
    "model.fs.LMTD = pe.Param(initialize=LMTD, doc=\"Log Mean Temperature Difference (K)\")  # LMTD\n",
    "model.fs.area_calculated = pe.Param(initialize=A, mutable=True, doc=\"Calculated Heat Exchanger Area (m²)\")  # Area\n"
   ]
  },
  {
   "cell_type": "code",
   "execution_count": 84,
   "metadata": {},
   "outputs": [],
   "source": [
    "# **Assign the calculated area to the Heat Exchanger's area**\n",
    "model.fs.heat_exchanger.area = A  # Set the calculated area to the heat exchanger model"
   ]
  },
  {
   "cell_type": "code",
   "execution_count": 86,
   "metadata": {},
   "outputs": [
    {
     "ename": "InitializationError",
     "evalue": "Degrees of freedom for fs.heat_exchanger were not equal to zero during initialization (DoF = 2).",
     "output_type": "error",
     "traceback": [
      "\u001b[1;31m---------------------------------------------------------------------------\u001b[0m",
      "\u001b[1;31mInitializationError\u001b[0m                       Traceback (most recent call last)",
      "Cell \u001b[1;32mIn[86], line 3\u001b[0m\n\u001b[0;32m      1\u001b[0m \u001b[38;5;66;03m# Initialize the model\u001b[39;00m\n\u001b[0;32m      2\u001b[0m initializer \u001b[38;5;241m=\u001b[39m HX0DInitializer()\n\u001b[1;32m----> 3\u001b[0m \u001b[43minitializer\u001b[49m\u001b[38;5;241;43m.\u001b[39;49m\u001b[43minitialize\u001b[49m\u001b[43m(\u001b[49m\u001b[43mmodel\u001b[49m\u001b[38;5;241;43m.\u001b[39;49m\u001b[43mfs\u001b[49m\u001b[38;5;241;43m.\u001b[39;49m\u001b[43mheat_exchanger\u001b[49m\u001b[43m)\u001b[49m\n",
      "File \u001b[1;32mc:\\Users\\Sara\\miniforge3\\envs\\my-idaes-env\\lib\\site-packages\\idaes\\core\\initialization\\initializer_base.py:185\u001b[0m, in \u001b[0;36mInitializerBase.initialize\u001b[1;34m(self, model, initial_guesses, json_file, output_level, exclude_unused_vars)\u001b[0m\n\u001b[0;32m    182\u001b[0m \u001b[38;5;28mself\u001b[39m\u001b[38;5;241m.\u001b[39mfix_initialization_states(model)\n\u001b[0;32m    184\u001b[0m \u001b[38;5;66;03m# 4. Prechecks\u001b[39;00m\n\u001b[1;32m--> 185\u001b[0m \u001b[38;5;28;43mself\u001b[39;49m\u001b[38;5;241;43m.\u001b[39;49m\u001b[43mprecheck\u001b[49m\u001b[43m(\u001b[49m\u001b[43mmodel\u001b[49m\u001b[43m)\u001b[49m\n\u001b[0;32m    187\u001b[0m \u001b[38;5;66;03m# 5. try: Call specified initialization routine\u001b[39;00m\n\u001b[0;32m    188\u001b[0m \u001b[38;5;28;01mtry\u001b[39;00m:\n\u001b[0;32m    189\u001b[0m     \u001b[38;5;66;03m# Base method does not have a return (NotImplementedError),\u001b[39;00m\n\u001b[0;32m    190\u001b[0m     \u001b[38;5;66;03m# but we expect this to be overloaded, disable pylint warning\u001b[39;00m\n\u001b[0;32m    191\u001b[0m     \u001b[38;5;66;03m# pylint: disable=E1111\u001b[39;00m\n",
      "File \u001b[1;32mc:\\Users\\Sara\\miniforge3\\envs\\my-idaes-env\\lib\\site-packages\\idaes\\core\\initialization\\initializer_base.py:302\u001b[0m, in \u001b[0;36mInitializerBase.precheck\u001b[1;34m(self, model)\u001b[0m\n\u001b[0;32m    300\u001b[0m \u001b[38;5;28;01mif\u001b[39;00m \u001b[38;5;129;01mnot\u001b[39;00m dof \u001b[38;5;241m==\u001b[39m \u001b[38;5;241m0\u001b[39m:\n\u001b[0;32m    301\u001b[0m     \u001b[38;5;28mself\u001b[39m\u001b[38;5;241m.\u001b[39m_update_summary(model, \u001b[38;5;124m\"\u001b[39m\u001b[38;5;124mstatus\u001b[39m\u001b[38;5;124m\"\u001b[39m, InitializationStatus\u001b[38;5;241m.\u001b[39mDoF)\n\u001b[1;32m--> 302\u001b[0m     \u001b[38;5;28;01mraise\u001b[39;00m InitializationError(\n\u001b[0;32m    303\u001b[0m         \u001b[38;5;124mf\u001b[39m\u001b[38;5;124m\"\u001b[39m\u001b[38;5;124mDegrees of freedom for \u001b[39m\u001b[38;5;132;01m{\u001b[39;00mmodel\u001b[38;5;241m.\u001b[39mname\u001b[38;5;132;01m}\u001b[39;00m\u001b[38;5;124m were not equal to zero during \u001b[39m\u001b[38;5;124m\"\u001b[39m\n\u001b[0;32m    304\u001b[0m         \u001b[38;5;124mf\u001b[39m\u001b[38;5;124m\"\u001b[39m\u001b[38;5;124minitialization (DoF = \u001b[39m\u001b[38;5;132;01m{\u001b[39;00mdegrees_of_freedom(model)\u001b[38;5;132;01m}\u001b[39;00m\u001b[38;5;124m).\u001b[39m\u001b[38;5;124m\"\u001b[39m\n\u001b[0;32m    305\u001b[0m     )\n",
      "\u001b[1;31mInitializationError\u001b[0m: Degrees of freedom for fs.heat_exchanger were not equal to zero during initialization (DoF = 2)."
     ]
    }
   ],
   "source": [
    "\n",
    "# Initialize the model\n",
    "initializer = HX0DInitializer()\n",
    "initializer.initialize(model.fs.heat_exchanger)"
   ]
  },
  {
   "cell_type": "code",
   "execution_count": 83,
   "metadata": {},
   "outputs": [
    {
     "name": "stdout",
     "output_type": "stream",
     "text": [
      "2025-03-28 15:52:56 [INFO] idaes.idaes_ui.fv.fsvis: Using HTTP server on localhost, port 63203\n",
      "2025-03-28 15:52:56 [INFO] idaes.idaes_ui.fv.fsvis: Loading saved flowsheet from 'HeatExchangerAreaCalculation.json'\n",
      "2025-03-28 15:52:56 [INFO] idaes.idaes_ui.fv.fsvis: Saving flowsheet to default file 'HeatExchangerAreaCalculation.json' in current directory (c:\\Users\\Sara\\Desktop\\IDAES\\HE)\n",
      "2025-03-28 15:52:56 [INFO] idaes.idaes_ui.fv.fsvis: Flowsheet visualization at: http://localhost:63203/app?id=HeatExchangerAreaCalculation\n"
     ]
    },
    {
     "data": {
      "text/plain": [
       "VisualizeResult(store=<idaes_ui.fv.persist.FileDataStore object at 0x000001731896A6B0>, port=63203, server=<idaes_ui.fv.model_server.FlowsheetServer object at 0x000001732216C460>)"
      ]
     },
     "execution_count": 83,
     "metadata": {},
     "output_type": "execute_result"
    }
   ],
   "source": [
    "import idaes_ui\n",
    "import idaes_ui.fv\n",
    "dir(idaes_ui.fv)\n",
    "from idaes_ui.fv import visualize \n",
    "\n",
    "\n",
    "# Visualize the model\n",
    "visualize(model.fs, \"HeatExchangerAreaCalculation\")"
   ]
  },
  {
   "cell_type": "code",
   "execution_count": 87,
   "metadata": {},
   "outputs": [
    {
     "name": "stdout",
     "output_type": "stream",
     "text": [
      "Heat Duty (Q): 1367.11 kW\n",
      "LMTD: 168.95 K\n",
      "Calculated Heat Exchanger Area: 80.92 m²\n"
     ]
    }
   ],
   "source": [
    "# Print results\n",
    "print(f\"Heat Duty (Q): {Q / 1000:.2f} kW\")\n",
    "print(f\"LMTD: {LMTD:.2f} K\")\n",
    "print(f\"Calculated Heat Exchanger Area: {A:.2f} m²\")"
   ]
  }
 ],
 "metadata": {
  "kernelspec": {
   "display_name": "my-idaes-env",
   "language": "python",
   "name": "python3"
  },
  "language_info": {
   "codemirror_mode": {
    "name": "ipython",
    "version": 3
   },
   "file_extension": ".py",
   "mimetype": "text/x-python",
   "name": "python",
   "nbconvert_exporter": "python",
   "pygments_lexer": "ipython3",
   "version": "3.10.16"
  }
 },
 "nbformat": 4,
 "nbformat_minor": 2
}

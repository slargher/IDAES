{
 "cells": [
  {
   "cell_type": "code",
   "execution_count": 164,
   "id": "247874ee",
   "metadata": {},
   "outputs": [],
   "source": [
    "\n",
    "\n",
    "from pyomo.environ import (Constraint,\n",
    "                           Var,\n",
    "                           ConcreteModel,\n",
    "                           Expression,\n",
    "                           Objective,\n",
    "                           SolverFactory,\n",
    "                           TransformationFactory,\n",
    "                           value)\n",
    "from pyomo.network import Arc, SequentialDecomposition\n",
    "\n"
   ]
  },
  {
   "cell_type": "code",
   "execution_count": 165,
   "id": "ec5a0427",
   "metadata": {},
   "outputs": [],
   "source": [
    "\n",
    "\n",
    "from idaes.core import FlowsheetBlock\n",
    "\n"
   ]
  },
  {
   "cell_type": "code",
   "execution_count": 166,
   "id": "fa795597",
   "metadata": {},
   "outputs": [],
   "source": [
    "\n",
    "\n",
    "from idaes.models.unit_models import (PressureChanger,\n",
    "                                      Mixer,\n",
    "                                      Separator as Splitter,\n",
    "                                      Heater,\n",
    "                                      StoichiometricReactor,\n",
    "                                      HeatExchanger, Compressor)\n"
   ]
  },
  {
   "cell_type": "code",
   "execution_count": 167,
   "id": "a580561a",
   "metadata": {},
   "outputs": [],
   "source": [
    "from idaes.models.unit_models.pressure_changer import ThermodynamicAssumption\n",
    "from idaes.core.util.model_statistics import degrees_of_freedom\n",
    "\n",
    "# Import idaes logger to set output levels\n",
    "import idaes.logger as idaeslog"
   ]
  },
  {
   "cell_type": "code",
   "execution_count": 168,
   "id": "82ffa4d1",
   "metadata": {},
   "outputs": [],
   "source": [
    "model = ConcreteModel()\n",
    "model.fs = FlowsheetBlock(dynamic=False)"
   ]
  },
  {
   "cell_type": "code",
   "execution_count": 169,
   "id": "894a0859",
   "metadata": {},
   "outputs": [],
   "source": [
    "model.fs.properties = iapws95.Iapws95ParameterBlock()"
   ]
  },
  {
   "cell_type": "markdown",
   "id": "7145b721",
   "metadata": {},
   "source": [
    "import hda_ideal_VLE as thermo_props\n",
    "import hda_reaction as reaction_props"
   ]
  },
  {
   "cell_type": "markdown",
   "id": "64844dbe",
   "metadata": {},
   "source": [
    "\n",
    "\n",
    "model.fs.thermo_params = thermo_props.HDAParameterBlock()\n",
    "model.fs.reaction_params = reaction_props.HDAReactionParameterBlock(\n",
    "        property_package=model.fs.thermo_params)\n",
    "\n"
   ]
  },
  {
   "cell_type": "markdown",
   "id": "731f5da8",
   "metadata": {},
   "source": [
    "model.fs.heater = Heater(property_package=m.fs.thermo_params,\n",
    "                   has_pressure_change=False,\n",
    "                   has_phase_equilibrium=True)"
   ]
  },
  {
   "cell_type": "markdown",
   "id": "bb7ef2da",
   "metadata": {},
   "source": [
    "model.fs.C101 = Compressor(property_package=model.fs.properties)"
   ]
  },
  {
   "cell_type": "code",
   "execution_count": 170,
   "id": "1640a70a",
   "metadata": {},
   "outputs": [],
   "source": [
    "# Add a HX model to the flowsheet.\n",
    "model.fs.H101 = HeatExchanger(\n",
    "    delta_temperature_callback=delta_temperature_amtd_callback,\n",
    "    hot_side_name=\"shell\",\n",
    "    cold_side_name=\"tube\",\n",
    "    shell={\"property_package\": model.fs.properties},\n",
    "    tube={\"property_package\": model.fs.properties}\n",
    ")\n"
   ]
  },
  {
   "cell_type": "code",
   "execution_count": 171,
   "id": "cef7a42a",
   "metadata": {},
   "outputs": [],
   "source": [
    "# Add a HX model to the flowsheet.\n",
    "model.fs.H102 = HeatExchanger(\n",
    "    delta_temperature_callback=delta_temperature_amtd_callback,\n",
    "    hot_side_name=\"shell\",\n",
    "    cold_side_name=\"tube\",\n",
    "    shell={\"property_package\": model.fs.properties},\n",
    "    tube={\"property_package\": model.fs.properties}\n",
    ")"
   ]
  },
  {
   "cell_type": "code",
   "execution_count": 172,
   "id": "6cf4cc14",
   "metadata": {},
   "outputs": [],
   "source": [
    "# Add a HX model to the flowsheet.\n",
    "model.fs.H103 = HeatExchanger(\n",
    "    delta_temperature_callback=delta_temperature_amtd_callback,\n",
    "    hot_side_name=\"shell\",\n",
    "    cold_side_name=\"tube\",\n",
    "    shell={\"property_package\": model.fs.properties},\n",
    "    tube={\"property_package\": model.fs.properties}\n",
    ")"
   ]
  },
  {
   "cell_type": "code",
   "execution_count": 173,
   "id": "b9a4d0fa",
   "metadata": {},
   "outputs": [],
   "source": [
    "# Add a HX model to the flowsheet.\n",
    "model.fs.H104 = HeatExchanger(\n",
    "    delta_temperature_callback=delta_temperature_amtd_callback,\n",
    "    hot_side_name=\"shell\",\n",
    "    cold_side_name=\"tube\",\n",
    "    shell={\"property_package\": model.fs.properties},\n",
    "    tube={\"property_package\": model.fs.properties}\n",
    ")"
   ]
  },
  {
   "cell_type": "code",
   "execution_count": 174,
   "id": "a5f20d10",
   "metadata": {},
   "outputs": [],
   "source": [
    "\n",
    "# Air stream (tube side): H101 → H102\n",
    "model.fs.a01 = Arc(source=model.fs.H101.tube_outlet, destination=model.fs.H102.tube_inlet)\n",
    "\n",
    "# Product gas stream (shell side): H104 → H103 (flowing right to left)\n",
    "model.fs.a02 = Arc(source=model.fs.H104.shell_outlet, destination=model.fs.H103.shell_inlet)"
   ]
  },
  {
   "cell_type": "code",
   "execution_count": 175,
   "id": "59829722",
   "metadata": {},
   "outputs": [],
   "source": [
    "\n",
    "\n",
    "TransformationFactory(\"network.expand_arcs\").apply_to(m)\n",
    "\n"
   ]
  },
  {
   "cell_type": "code",
   "execution_count": 176,
   "id": "e1f9ff6e",
   "metadata": {},
   "outputs": [],
   "source": [
    "# ---- PROPAGATE STATE (Optional) ----\n",
    "from idaes.core.util.initialization import propagate_state\n",
    "propagate_state(model.fs.a01)\n",
    "propagate_state(model.fs.a02)"
   ]
  },
  {
   "cell_type": "code",
   "execution_count": 181,
   "id": "fd0f42e5",
   "metadata": {},
   "outputs": [
    {
     "name": "stdout",
     "output_type": "stream",
     "text": [
      "32\n"
     ]
    }
   ],
   "source": [
    "print(degrees_of_freedom(model))"
   ]
  },
  {
   "cell_type": "code",
   "execution_count": null,
   "id": "c4e8f228",
   "metadata": {},
   "outputs": [],
   "source": [
    "# ---- FIXING VARIABLES ----\n",
    "# Fix the flow rates for the heat exchangers\n",
    "model.fs.H101.shell_inlet.flow_mol.fix(10)  # Molar flow rate in mol/s\n",
    "model.fs.H102.tube_inlet.flow_mol.fix(10)   # Molar flow rate in mol/s"
   ]
  },
  {
   "cell_type": "code",
   "execution_count": 186,
   "id": "4821576b",
   "metadata": {},
   "outputs": [
    {
     "ename": "AttributeError",
     "evalue": "'ScalarPort' object has no attribute 'temperature'",
     "output_type": "error",
     "traceback": [
      "\u001b[1;31m---------------------------------------------------------------------------\u001b[0m",
      "\u001b[1;31mAttributeError\u001b[0m                            Traceback (most recent call last)",
      "Cell \u001b[1;32mIn[186], line 1\u001b[0m\n\u001b[1;32m----> 1\u001b[0m \u001b[43mmodel\u001b[49m\u001b[38;5;241;43m.\u001b[39;49m\u001b[43mfs\u001b[49m\u001b[38;5;241;43m.\u001b[39;49m\u001b[43mH101\u001b[49m\u001b[38;5;241;43m.\u001b[39;49m\u001b[43mshell_outlet\u001b[49m\u001b[38;5;241;43m.\u001b[39;49m\u001b[43mtemperature\u001b[49m\u001b[38;5;241m.\u001b[39mfix(\u001b[38;5;241m192.60\u001b[39m)  \u001b[38;5;66;03m# Temperature in C\u001b[39;00m\n\u001b[0;32m      2\u001b[0m model\u001b[38;5;241m.\u001b[39mfs\u001b[38;5;241m.\u001b[39mH101\u001b[38;5;241m.\u001b[39mtube_outlet\u001b[38;5;241m.\u001b[39mtemperature\u001b[38;5;241m.\u001b[39mfix(\u001b[38;5;241m496.94\u001b[39m)   \u001b[38;5;66;03m# Temperature in C\u001b[39;00m\n",
      "File \u001b[1;32mc:\\Users\\Sara\\miniforge3\\envs\\my-idaes-env\\lib\\site-packages\\pyomo\\network\\port.py:78\u001b[0m, in \u001b[0;36mPortData.__getattr__\u001b[1;34m(self, name)\u001b[0m\n\u001b[0;32m     75\u001b[0m     \u001b[38;5;28;01mreturn\u001b[39;00m \u001b[38;5;28mself\u001b[39m\u001b[38;5;241m.\u001b[39mvars[name]\n\u001b[0;32m     76\u001b[0m \u001b[38;5;66;03m# Since the base classes don't support getattr, we can just\u001b[39;00m\n\u001b[0;32m     77\u001b[0m \u001b[38;5;66;03m# throw the \"normal\" AttributeError\u001b[39;00m\n\u001b[1;32m---> 78\u001b[0m \u001b[38;5;28;01mraise\u001b[39;00m \u001b[38;5;167;01mAttributeError\u001b[39;00m(\n\u001b[0;32m     79\u001b[0m     \u001b[38;5;124m\"\u001b[39m\u001b[38;5;124m'\u001b[39m\u001b[38;5;132;01m%s\u001b[39;00m\u001b[38;5;124m'\u001b[39m\u001b[38;5;124m object has no attribute \u001b[39m\u001b[38;5;124m'\u001b[39m\u001b[38;5;132;01m%s\u001b[39;00m\u001b[38;5;124m'\u001b[39m\u001b[38;5;124m\"\u001b[39m \u001b[38;5;241m%\u001b[39m (\u001b[38;5;28mself\u001b[39m\u001b[38;5;241m.\u001b[39m\u001b[38;5;18m__class__\u001b[39m\u001b[38;5;241m.\u001b[39m\u001b[38;5;18m__name__\u001b[39m, name)\n\u001b[0;32m     80\u001b[0m )\n",
      "\u001b[1;31mAttributeError\u001b[0m: 'ScalarPort' object has no attribute 'temperature'"
     ]
    }
   ],
   "source": [
    "\n",
    "model.fs.H101.shell_outlet.temperature.fix(192.60)  # Temperature in C\n",
    "model.fs.H101.tube_outlet.temperature.fix(496.94)   # Temperature in C"
   ]
  },
  {
   "cell_type": "code",
   "execution_count": 177,
   "id": "4f714256",
   "metadata": {},
   "outputs": [],
   "source": [
    "import idaes_ui"
   ]
  },
  {
   "cell_type": "code",
   "execution_count": 178,
   "id": "08a86ec7",
   "metadata": {},
   "outputs": [
    {
     "data": {
      "text/plain": [
       "['VisualizeResult',\n",
       " '__builtins__',\n",
       " '__cached__',\n",
       " '__doc__',\n",
       " '__file__',\n",
       " '__loader__',\n",
       " '__name__',\n",
       " '__package__',\n",
       " '__path__',\n",
       " '__spec__',\n",
       " 'errors',\n",
       " 'flowsheet',\n",
       " 'fsvis',\n",
       " 'icons',\n",
       " 'model_server',\n",
       " 'models',\n",
       " 'persist',\n",
       " 'validate_flowsheet',\n",
       " 'visualize']"
      ]
     },
     "execution_count": 178,
     "metadata": {},
     "output_type": "execute_result"
    }
   ],
   "source": [
    "import idaes_ui.fv\n",
    "dir(idaes_ui.fv)"
   ]
  },
  {
   "cell_type": "code",
   "execution_count": 179,
   "id": "3eaecd10",
   "metadata": {},
   "outputs": [],
   "source": [
    "from idaes_ui.fv import visualize "
   ]
  },
  {
   "cell_type": "code",
   "execution_count": 180,
   "id": "6c4e5eef",
   "metadata": {},
   "outputs": [
    {
     "name": "stdout",
     "output_type": "stream",
     "text": [
      "2025-04-09 10:36:18 [INFO] idaes.idaes_ui.fv.fsvis: Using HTTP server on localhost, port 50189\n",
      "2025-04-09 10:36:18 [INFO] idaes.idaes_ui.fv.fsvis: Loading saved flowsheet from 'HeatExchangerNetwork.json'\n",
      "2025-04-09 10:36:18 [INFO] idaes.idaes_ui.fv.fsvis: Saving flowsheet to default file 'HeatExchangerNetwork.json' in current directory (c:\\Users\\Sara\\Desktop\\IDAES)\n",
      "2025-04-09 10:36:20 [INFO] idaes.idaes_ui.fv.fsvis: Flowsheet visualization at: http://localhost:50189/app?id=HeatExchangerNetwork\n"
     ]
    },
    {
     "data": {
      "text/plain": [
       "VisualizeResult(store=<idaes_ui.fv.persist.FileDataStore object at 0x0000029D1B70A680>, port=50189, server=<idaes_ui.fv.model_server.FlowsheetServer object at 0x0000029D187AD720>)"
      ]
     },
     "execution_count": 180,
     "metadata": {},
     "output_type": "execute_result"
    }
   ],
   "source": [
    "visualize(model.fs, \"HeatExchangerNetwork\")"
   ]
  }
 ],
 "metadata": {
  "kernelspec": {
   "display_name": "my-idaes-env",
   "language": "python",
   "name": "python3"
  },
  "language_info": {
   "codemirror_mode": {
    "name": "ipython",
    "version": 3
   },
   "file_extension": ".py",
   "mimetype": "text/x-python",
   "name": "python",
   "nbconvert_exporter": "python",
   "pygments_lexer": "ipython3",
   "version": "3.10.16"
  }
 },
 "nbformat": 4,
 "nbformat_minor": 5
}

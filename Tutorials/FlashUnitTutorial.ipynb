{
 "cells": [
  {
   "cell_type": "code",
   "execution_count": 4,
   "metadata": {},
   "outputs": [],
   "source": [
    "from pyomo.environ import ConcreteModel, SolverFactory, Constraint, value\n",
    "from idaes.core import FlowsheetBlock\n",
    "\n",
    "# Import idaes logger to set output levels\n",
    "import idaes.logger as idaeslog\n",
    "\n",
    "\n"
   ]
  },
  {
   "cell_type": "code",
   "execution_count": 5,
   "metadata": {},
   "outputs": [],
   "source": [
    "m = ConcreteModel()\n",
    "m.fs = FlowsheetBlock(dynamic=False)"
   ]
  },
  {
   "cell_type": "code",
   "execution_count": 6,
   "metadata": {},
   "outputs": [
    {
     "name": "stdout",
     "output_type": "stream",
     "text": [
      "1 Block Declarations\n",
      "    fs : Size=1, Index=None, Active=True\n",
      "        1 Set Declarations\n",
      "            _time : Size=1, Index=None, Ordered=Insertion\n",
      "                Key  : Dimen : Domain : Size : Members\n",
      "                None :     1 :    Any :    1 :  {0.0,}\n",
      "\n",
      "        1 Declarations: _time\n",
      "\n",
      "1 Declarations: fs\n"
     ]
    }
   ],
   "source": [
    "m.pprint()"
   ]
  },
  {
   "cell_type": "code",
   "execution_count": 7,
   "metadata": {},
   "outputs": [],
   "source": [
    "from idaes.models.properties.activity_coeff_models.BTX_activity_coeff_VLE \\\n",
    "    import BTXParameterBlock"
   ]
  },
  {
   "cell_type": "code",
   "execution_count": 8,
   "metadata": {},
   "outputs": [],
   "source": [
    "m.fs.properties = BTXParameterBlock(valid_phase=('Liq', 'Vap'),\n",
    "                                    activity_coeff_model=\"Ideal\",\n",
    "                                    state_vars=\"FTPz\")"
   ]
  },
  {
   "cell_type": "code",
   "execution_count": 9,
   "metadata": {},
   "outputs": [],
   "source": [
    "from idaes.models.unit_models import Flash"
   ]
  },
  {
   "cell_type": "code",
   "execution_count": 10,
   "metadata": {},
   "outputs": [],
   "source": [
    "\n",
    "\n",
    "m.fs.flash = Flash(property_package=m.fs.properties)\n",
    "\n"
   ]
  },
  {
   "cell_type": "code",
   "execution_count": 11,
   "metadata": {},
   "outputs": [
    {
     "name": "stdout",
     "output_type": "stream",
     "text": [
      "Help on function degrees_of_freedom in module idaes.core.util.model_statistics:\n",
      "\n",
      "degrees_of_freedom(block)\n",
      "    Method to return the degrees of freedom of a model.\n",
      "    \n",
      "    Args:\n",
      "        block : model to be studied\n",
      "    \n",
      "    Returns:\n",
      "        Number of degrees of freedom in block.\n",
      "\n"
     ]
    }
   ],
   "source": [
    "# Todo: import the degrees_of_freedom function from the idaes.core.util.model_statistics package\n",
    "from idaes.core.util.model_statistics import degrees_of_freedom\n",
    "\n",
    "# Todo: Call the python help on the degrees_of_freedom function\n",
    "help(degrees_of_freedom)"
   ]
  },
  {
   "cell_type": "code",
   "execution_count": 12,
   "metadata": {},
   "outputs": [
    {
     "name": "stdout",
     "output_type": "stream",
     "text": [
      "Degrees of Freedom = 7\n"
     ]
    }
   ],
   "source": [
    "# Todo: print the degrees of freedom for your model\n",
    "print(\"Degrees of Freedom =\", degrees_of_freedom(m))"
   ]
  },
  {
   "cell_type": "code",
   "execution_count": 13,
   "metadata": {},
   "outputs": [],
   "source": [
    "m.fs.flash.inlet.flow_mol.fix(1.0)"
   ]
  },
  {
   "cell_type": "code",
   "execution_count": 14,
   "metadata": {},
   "outputs": [],
   "source": [
    "m.fs.flash.inlet.mole_frac_comp[0, \"benzene\"].fix(0.5)"
   ]
  },
  {
   "cell_type": "code",
   "execution_count": 15,
   "metadata": {},
   "outputs": [],
   "source": [
    "m.fs.flash.heat_duty.fix(0)"
   ]
  },
  {
   "cell_type": "code",
   "execution_count": 16,
   "metadata": {},
   "outputs": [],
   "source": [
    "# Todo: Add inlet specifications given above\n",
    "m.fs.flash.inlet.flow_mol.fix(1)\n",
    "m.fs.flash.inlet.temperature.fix(368)\n",
    "m.fs.flash.inlet.pressure.fix(101325)\n",
    "m.fs.flash.inlet.mole_frac_comp[0, \"benzene\"].fix(0.5)\n",
    "m.fs.flash.inlet.mole_frac_comp[0, \"toluene\"].fix(0.5)\n",
    "\n",
    "# Todo: Add 2 flash unit specifications given above\n",
    "m.fs.flash.heat_duty.fix(0)\n",
    "m.fs.flash.deltaP.fix(0)"
   ]
  },
  {
   "cell_type": "code",
   "execution_count": 17,
   "metadata": {},
   "outputs": [
    {
     "name": "stdout",
     "output_type": "stream",
     "text": [
      "Degrees of Freedom = 0\n"
     ]
    }
   ],
   "source": [
    "\n",
    "\n",
    "# Todo: print the degrees of freedom for your model\n",
    "print(\"Degrees of Freedom =\", degrees_of_freedom(m))\n",
    "\n"
   ]
  },
  {
   "cell_type": "code",
   "execution_count": 18,
   "metadata": {},
   "outputs": [
    {
     "name": "stdout",
     "output_type": "stream",
     "text": [
      "2025-03-26 09:53:49 [INFO] idaes.init.fs.flash.control_volume.properties_in: Initialization Step 1 optimal - Optimal Solution Found.\n",
      "2025-03-26 09:53:49 [INFO] idaes.init.fs.flash.control_volume.properties_in: Initialization Step 2 optimal - Optimal Solution Found.\n",
      "2025-03-26 09:53:50 [INFO] idaes.init.fs.flash.control_volume.properties_in: Initialization Step 3 optimal - Optimal Solution Found.\n",
      "2025-03-26 09:53:50 [INFO] idaes.init.fs.flash.control_volume.properties_in: Initialization Step 4 optimal - Optimal Solution Found.\n",
      "2025-03-26 09:53:50 [INFO] idaes.init.fs.flash.control_volume.properties_in: Initialization Step 5 optimal - Optimal Solution Found.\n",
      "2025-03-26 09:53:50 [INFO] idaes.init.fs.flash.control_volume.properties_out: Initialization Step 1 optimal - Optimal Solution Found.\n",
      "2025-03-26 09:53:50 [INFO] idaes.init.fs.flash.control_volume.properties_out: Initialization Step 2 optimal - Optimal Solution Found.\n",
      "2025-03-26 09:53:50 [INFO] idaes.init.fs.flash.control_volume.properties_out: Initialization Step 3 optimal - Optimal Solution Found.\n",
      "2025-03-26 09:53:50 [INFO] idaes.init.fs.flash.control_volume.properties_out: Initialization Step 4 optimal - Optimal Solution Found.\n",
      "2025-03-26 09:53:50 [INFO] idaes.init.fs.flash.control_volume.properties_out: Initialization Step 5 optimal - Optimal Solution Found.\n",
      "2025-03-26 09:53:50 [INFO] idaes.init.fs.flash.control_volume.properties_out: State Released.\n",
      "2025-03-26 09:53:50 [INFO] idaes.init.fs.flash.control_volume: Initialization Complete\n",
      "2025-03-26 09:53:50 [INFO] idaes.init.fs.flash.control_volume.properties_in: State Released.\n",
      "2025-03-26 09:53:50 [INFO] idaes.init.fs.flash: Initialization Complete: optimal - Optimal Solution Found\n"
     ]
    }
   ],
   "source": [
    "# Todo: initialize the flash unit\n",
    "m.fs.flash.initialize(outlvl=idaeslog.INFO)"
   ]
  },
  {
   "cell_type": "code",
   "execution_count": 19,
   "metadata": {},
   "outputs": [
    {
     "name": "stdout",
     "output_type": "stream",
     "text": [
      "Ipopt 3.13.2: \n",
      "\n",
      "******************************************************************************\n",
      "This program contains Ipopt, a library for large-scale nonlinear optimization.\n",
      " Ipopt is released as open source code under the Eclipse Public License (EPL).\n",
      "         For more information visit http://projects.coin-or.org/Ipopt\n",
      "\n",
      "This version of Ipopt was compiled from source code available at\n",
      "    https://github.com/IDAES/Ipopt as part of the Institute for the Design of\n",
      "    Advanced Energy Systems Process Systems Engineering Framework (IDAES PSE\n",
      "    Framework) Copyright (c) 2018-2019. See https://github.com/IDAES/idaes-pse.\n",
      "\n",
      "This version of Ipopt was compiled using HSL, a collection of Fortran codes\n",
      "    for large-scale scientific computation.  All technical papers, sales and\n",
      "    publicity material resulting from use of the HSL codes within IPOPT must\n",
      "    contain the following acknowledgement:\n",
      "        HSL, a collection of Fortran codes for large-scale scientific\n",
      "        computation. See http://www.hsl.rl.ac.uk.\n",
      "******************************************************************************\n",
      "\n",
      "This is Ipopt version 3.13.2, running with linear solver ma27.\n",
      "\n",
      "Number of nonzeros in equality constraint Jacobian...:      135\n",
      "Number of nonzeros in inequality constraint Jacobian.:        0\n",
      "Number of nonzeros in Lagrangian Hessian.............:       72\n",
      "\n",
      "Total number of variables............................:       41\n",
      "                     variables with only lower bounds:        3\n",
      "                variables with lower and upper bounds:       10\n",
      "                     variables with only upper bounds:        0\n",
      "Total number of equality constraints.................:       41\n",
      "Total number of inequality constraints...............:        0\n",
      "        inequality constraints with only lower bounds:        0\n",
      "   inequality constraints with lower and upper bounds:        0\n",
      "        inequality constraints with only upper bounds:        0\n",
      "\n",
      "iter    objective    inf_pr   inf_du lg(mu)  ||d||  lg(rg) alpha_du alpha_pr  ls\n",
      "   0  0.0000000e+00 1.46e-11 1.00e+00  -1.0 0.00e+00    -  0.00e+00 0.00e+00   0\n",
      "\n",
      "Number of Iterations....: 0\n",
      "\n",
      "                                   (scaled)                 (unscaled)\n",
      "Objective...............:   0.0000000000000000e+00    0.0000000000000000e+00\n",
      "Dual infeasibility......:   0.0000000000000000e+00    0.0000000000000000e+00\n",
      "Constraint violation....:   5.6292494973376915e-12    1.4551915228366852e-11\n",
      "Complementarity.........:   0.0000000000000000e+00    0.0000000000000000e+00\n",
      "Overall NLP error.......:   5.6292494973376915e-12    1.4551915228366852e-11\n",
      "\n",
      "\n",
      "Number of objective function evaluations             = 1\n",
      "Number of objective gradient evaluations             = 1\n",
      "Number of equality constraint evaluations            = 1\n",
      "Number of inequality constraint evaluations          = 0\n",
      "Number of equality constraint Jacobian evaluations   = 1\n",
      "Number of inequality constraint Jacobian evaluations = 0\n",
      "Number of Lagrangian Hessian evaluations             = 0\n",
      "Total CPU secs in IPOPT (w/o function evaluations)   =      0.001\n",
      "Total CPU secs in NLP function evaluations           =      0.000\n",
      "\n",
      "EXIT: Optimal Solution Found.\n"
     ]
    }
   ],
   "source": [
    "\n",
    "\n",
    "# Todo: create the ipopt solver\n",
    "solver = SolverFactory('ipopt')\n",
    "\n",
    "# Todo: solve the model\n",
    "status = solver.solve(m, tee=True)\n",
    "\n"
   ]
  },
  {
   "cell_type": "code",
   "execution_count": 20,
   "metadata": {},
   "outputs": [
    {
     "name": "stdout",
     "output_type": "stream",
     "text": [
      "Vap. Outlet Temperature =  368.0\n",
      "_Vap_temperature_ref : Size=1, Index=fs._time, ReferenceTo=fs.flash.control_volume.properties_out[:].component('temperature')\n",
      "    Key : Lower : Value : Upper : Fixed : Stale : Domain\n",
      "    0.0 :     0 : 368.0 :  None : False : False : NonNegativeReals\n",
      "vap_outlet : Size=1\n",
      "    Key  : Name           : Value\n",
      "    None :       flow_mol : {0.0: 0.3961181748774178}\n",
      "         : mole_frac_comp : {(0.0, 'benzene'): 0.6339766485081293, (0.0, 'toluene'): 0.3660233514918707}\n",
      "         :       pressure : {0.0: 101325.0}\n",
      "         :    temperature : {0.0: 368.0}\n"
     ]
    }
   ],
   "source": [
    "print('Vap. Outlet Temperature = ', value(m.fs.flash.vap_outlet.temperature[0]))\n",
    "m.fs.flash.vap_outlet.temperature.display()\n",
    "m.fs.flash.vap_outlet.display()"
   ]
  },
  {
   "cell_type": "code",
   "execution_count": 21,
   "metadata": {},
   "outputs": [
    {
     "name": "stdout",
     "output_type": "stream",
     "text": [
      "Pressure = 101325.0\n",
      "\n",
      "Output from display:\n",
      "vap_outlet : Size=1\n",
      "    Key  : Name           : Value\n",
      "    None :       flow_mol : {0.0: 0.3961181748774178}\n",
      "         : mole_frac_comp : {(0.0, 'benzene'): 0.6339766485081293, (0.0, 'toluene'): 0.3660233514918707}\n",
      "         :       pressure : {0.0: 101325.0}\n",
      "         :    temperature : {0.0: 368.0}\n",
      "liq_outlet : Size=1\n",
      "    Key  : Name           : Value\n",
      "    None :       flow_mol : {0.0: 0.6038818251225821}\n",
      "         : mole_frac_comp : {(0.0, 'benzene'): 0.41211759772293083, (0.0, 'toluene'): 0.5878824022770692}\n",
      "         :       pressure : {0.0: 101325.0}\n",
      "         :    temperature : {0.0: 368.0}\n"
     ]
    }
   ],
   "source": [
    "\n",
    "\n",
    "# Print the pressure of the flash vapor outlet\n",
    "print('Pressure =', value(m.fs.flash.vap_outlet.pressure[0]))\n",
    "\n",
    "print()\n",
    "print('Output from display:')\n",
    "# Call display on vap_outlet and liq_outlet of the flash\n",
    "m.fs.flash.vap_outlet.display()\n",
    "m.fs.flash.liq_outlet.display()\n",
    "\n"
   ]
  },
  {
   "cell_type": "code",
   "execution_count": 22,
   "metadata": {},
   "outputs": [
    {
     "name": "stdout",
     "output_type": "stream",
     "text": [
      "\n",
      "====================================================================================\n",
      "Unit : fs.flash                                                            Time: 0.0\n",
      "------------------------------------------------------------------------------------\n",
      "    Unit Performance\n",
      "\n",
      "    Variables: \n",
      "\n",
      "    Key             : Value  : Units  : Fixed : Bounds\n",
      "          Heat Duty : 0.0000 :   watt :  True : (None, None)\n",
      "    Pressure Change : 0.0000 : pascal :  True : (None, None)\n",
      "\n",
      "------------------------------------------------------------------------------------\n",
      "    Stream Table\n",
      "                               Units         Inlet    Vapor Outlet  Liquid Outlet\n",
      "    flow_mol                mole / second     1.0000      0.39612       0.60388  \n",
      "    mole_frac_comp benzene  dimensionless    0.50000      0.63398       0.41212  \n",
      "    mole_frac_comp toluene  dimensionless    0.50000      0.36602       0.58788  \n",
      "    temperature                    kelvin     368.00       368.00        368.00  \n",
      "    pressure                       pascal 1.0132e+05   1.0132e+05    1.0132e+05  \n",
      "====================================================================================\n"
     ]
    }
   ],
   "source": [
    "m.fs.flash.report()"
   ]
  },
  {
   "cell_type": "code",
   "execution_count": 23,
   "metadata": {},
   "outputs": [],
   "source": [
    "\n",
    "\n",
    "import matplotlib.pyplot as plt\n",
    "\n"
   ]
  },
  {
   "cell_type": "code",
   "execution_count": 24,
   "metadata": {},
   "outputs": [
    {
     "name": "stdout",
     "output_type": "stream",
     "text": [
      "Simulating with Q = -17000.0\n",
      "... solve successful.\n",
      "Simulating with Q = -16142.857142857143\n",
      "... solve successful.\n",
      "Simulating with Q = -15285.714285714286\n",
      "... solve successful.\n",
      "Simulating with Q = -14428.571428571428\n",
      "... solve successful.\n",
      "Simulating with Q = -13571.428571428572\n",
      "... solve successful.\n",
      "Simulating with Q = -12714.285714285714\n",
      "... solve successful.\n",
      "Simulating with Q = -11857.142857142857\n",
      "... solve successful.\n",
      "Simulating with Q = -11000.0\n",
      "... solve successful.\n",
      "Simulating with Q = -10142.857142857143\n",
      "... solve successful.\n",
      "Simulating with Q = -9285.714285714286\n",
      "... solve successful.\n",
      "Simulating with Q = -8428.57142857143\n",
      "... solve successful.\n",
      "Simulating with Q = -7571.4285714285725\n",
      "... solve successful.\n",
      "Simulating with Q = -6714.285714285714\n",
      "... solve successful.\n",
      "Simulating with Q = -5857.142857142857\n",
      "... solve successful.\n",
      "Simulating with Q = -5000.0\n",
      "... solve successful.\n",
      "Simulating with Q = -4142.857142857143\n",
      "... solve successful.\n",
      "Simulating with Q = -3285.7142857142862\n",
      "... solve successful.\n",
      "Simulating with Q = -2428.5714285714294\n",
      "... solve successful.\n",
      "Simulating with Q = -1571.4285714285725\n",
      "... solve successful.\n",
      "Simulating with Q = -714.2857142857156\n",
      "... solve successful.\n",
      "Simulating with Q = 142.8571428571413\n",
      "... solve successful.\n",
      "Simulating with Q = 1000.0\n",
      "... solve successful.\n",
      "Simulating with Q = 1857.142857142855\n",
      "... solve successful.\n",
      "Simulating with Q = 2714.2857142857138\n",
      "... solve successful.\n",
      "Simulating with Q = 3571.4285714285725\n",
      "... solve successful.\n",
      "Simulating with Q = 4428.5714285714275\n",
      "... solve successful.\n",
      "Simulating with Q = 5285.714285714286\n",
      "... solve successful.\n",
      "Simulating with Q = 6142.857142857141\n",
      "... solve successful.\n",
      "Simulating with Q = 7000.0\n",
      "... solve successful.\n",
      "Simulating with Q = 7857.142857142855\n",
      "... solve successful.\n",
      "Simulating with Q = 8714.285714285714\n",
      "... solve successful.\n",
      "Simulating with Q = 9571.428571428569\n",
      "... solve successful.\n",
      "Simulating with Q = 10428.571428571428\n",
      "... solve successful.\n",
      "Simulating with Q = 11285.714285714286\n",
      "... solve successful.\n",
      "Simulating with Q = 12142.857142857141\n",
      "... solve successful.\n",
      "Simulating with Q = 13000.0\n",
      "... solve successful.\n",
      "Simulating with Q = 13857.142857142855\n",
      "... solve successful.\n",
      "Simulating with Q = 14714.285714285714\n",
      "... solve successful.\n",
      "Simulating with Q = 15571.428571428569\n",
      "... solve successful.\n",
      "Simulating with Q = 16428.571428571428\n",
      "... solve successful.\n",
      "Simulating with Q = 17285.714285714283\n",
      "... solve successful.\n",
      "Simulating with Q = 18142.857142857145\n",
      "... solve successful.\n",
      "Simulating with Q = 19000.0\n",
      "... solve successful.\n",
      "Simulating with Q = 19857.142857142855\n",
      "... solve successful.\n",
      "Simulating with Q = 20714.28571428571\n",
      "... solve successful.\n",
      "Simulating with Q = 21571.428571428572\n",
      "... solve successful.\n",
      "Simulating with Q = 22428.571428571428\n",
      "... solve successful.\n",
      "Simulating with Q = 23285.714285714283\n",
      "... solve successful.\n",
      "Simulating with Q = 24142.857142857145\n",
      "... solve successful.\n",
      "Simulating with Q = 25000.0\n",
      "... solve successful.\n"
     ]
    },
    {
     "data": {
      "image/png": "[encoded data removed]",
      "text/plain": [
       "<Figure size 640x480 with 1 Axes>"
      ]
     },
     "metadata": {},
     "output_type": "display_data"
    }
   ],
   "source": [
    "# Import necessary libraries\n",
    "import numpy as np\n",
    "import matplotlib.pyplot as plt\n",
    "from pyomo.environ import value  # Ensure you can extract values from Pyomo models\n",
    "\n",
    "# Create empty lists to store results\n",
    "Q = []\n",
    "V = []\n",
    "\n",
    "# Re-initialize the model\n",
    "m.fs.flash.initialize(outlvl=idaeslog.WARNING)\n",
    "\n",
    "# Loop through heat duty values using numpy's linspace\n",
    "for duty in np.linspace(-17000, 25000, 50):\n",
    "    # Fix the heat duty\n",
    "    m.fs.flash.heat_duty.fix(duty)\n",
    "    \n",
    "    # Store the duty value in Q\n",
    "    Q.append(duty)\n",
    "    \n",
    "    # Print current simulation step\n",
    "    print(f\"Simulating with Q = {duty}\")\n",
    "\n",
    "    # Solve the model\n",
    "    status = solver.solve(m)\n",
    "    \n",
    "    # Check solver status (this may need adjustment depending on your solver)\n",
    "    if status.solver.status == 'ok':\n",
    "        V.append(value(m.fs.flash.vap_outlet.flow_mol[0]))\n",
    "        print('... solve successful.')\n",
    "    else:\n",
    "        V.append(np.nan)  # Use NaN to avoid misleading zero values in the plot\n",
    "        print('... solve failed.')\n",
    "    \n",
    "# Create and show the figure\n",
    "plt.figure(\"Vapor Flowrate vs. Heat Duty\")\n",
    "plt.plot(Q, V, marker='o', linestyle='-')\n",
    "plt.grid()\n",
    "plt.xlabel(\"Heat Duty [J]\")\n",
    "plt.ylabel(\"Vapor Flowrate [mol/s]\")\n",
    "plt.title(\"Flash Tank Heat Duty vs. Vapor Flowrate\")\n",
    "plt.show()\n"
   ]
  },
  {
   "cell_type": "code",
   "execution_count": 25,
   "metadata": {},
   "outputs": [
    {
     "name": "stdout",
     "output_type": "stream",
     "text": [
      "Ipopt 3.13.2: \n",
      "\n",
      "******************************************************************************\n",
      "This program contains Ipopt, a library for large-scale nonlinear optimization.\n",
      " Ipopt is released as open source code under the Eclipse Public License (EPL).\n",
      "         For more information visit http://projects.coin-or.org/Ipopt\n",
      "\n",
      "This version of Ipopt was compiled from source code available at\n",
      "    https://github.com/IDAES/Ipopt as part of the Institute for the Design of\n",
      "    Advanced Energy Systems Process Systems Engineering Framework (IDAES PSE\n",
      "    Framework) Copyright (c) 2018-2019. See https://github.com/IDAES/idaes-pse.\n",
      "\n",
      "This version of Ipopt was compiled using HSL, a collection of Fortran codes\n",
      "    for large-scale scientific computation.  All technical papers, sales and\n",
      "    publicity material resulting from use of the HSL codes within IPOPT must\n",
      "    contain the following acknowledgement:\n",
      "        HSL, a collection of Fortran codes for large-scale scientific\n",
      "        computation. See http://www.hsl.rl.ac.uk.\n",
      "******************************************************************************\n",
      "\n",
      "This is Ipopt version 3.13.2, running with linear solver ma27.\n",
      "\n",
      "Number of nonzeros in equality constraint Jacobian...:      137\n",
      "Number of nonzeros in inequality constraint Jacobian.:        0\n",
      "Number of nonzeros in Lagrangian Hessian.............:       72\n",
      "\n",
      "Total number of variables............................:       42\n",
      "                     variables with only lower bounds:        3\n",
      "                variables with lower and upper bounds:       10\n",
      "                     variables with only upper bounds:        0\n",
      "Total number of equality constraints.................:       42\n",
      "Total number of inequality constraints...............:        0\n",
      "        inequality constraints with only lower bounds:        0\n",
      "   inequality constraints with lower and upper bounds:        0\n",
      "        inequality constraints with only upper bounds:        0\n",
      "\n",
      "iter    objective    inf_pr   inf_du lg(mu)  ||d||  lg(rg) alpha_du alpha_pr  ls\n",
      "   0  0.0000000e+00 3.40e-02 1.00e+00  -1.0 0.00e+00    -  0.00e+00 0.00e+00   0\n",
      "   1  0.0000000e+00 1.64e+02 7.01e-02  -1.0 5.15e+03    -  9.87e-01 1.00e+00h  1\n",
      "   2  0.0000000e+00 9.59e-02 2.03e-03  -1.0 7.07e+01    -  9.90e-01 1.00e+00h  1\n",
      "   3  0.0000000e+00 6.96e-08 2.50e-06  -1.0 4.13e-01    -  9.98e-01 1.00e+00h  1\n",
      "\n",
      "Number of Iterations....: 3\n",
      "\n",
      "                                   (scaled)                 (unscaled)\n",
      "Objective...............:   0.0000000000000000e+00    0.0000000000000000e+00\n",
      "Dual infeasibility......:   0.0000000000000000e+00    0.0000000000000000e+00\n",
      "Constraint violation....:   8.9162230495846995e-11    6.9559064286295325e-08\n",
      "Complementarity.........:   0.0000000000000000e+00    0.0000000000000000e+00\n",
      "Overall NLP error.......:   8.9162230495846995e-11    6.9559064286295325e-08\n",
      "\n",
      "\n",
      "Number of objective function evaluations             = 4\n",
      "Number of objective gradient evaluations             = 4\n",
      "Number of equality constraint evaluations            = 4\n",
      "Number of inequality constraint evaluations          = 0\n",
      "Number of equality constraint Jacobian evaluations   = 4\n",
      "Number of inequality constraint Jacobian evaluations = 0\n",
      "Number of Lagrangian Hessian evaluations             = 3\n",
      "Total CPU secs in IPOPT (w/o function evaluations)   =      0.002\n",
      "Total CPU secs in NLP function evaluations           =      0.000\n",
      "\n",
      "EXIT: Optimal Solution Found.\n",
      "\n",
      "====================================================================================\n",
      "Unit : fs.flash                                                            Time: 0.0\n",
      "------------------------------------------------------------------------------------\n",
      "    Unit Performance\n",
      "\n",
      "    Variables: \n",
      "\n",
      "    Key             : Value  : Units  : Fixed : Bounds\n",
      "          Heat Duty : 5083.6 :   watt : False : (None, None)\n",
      "    Pressure Change : 0.0000 : pascal :  True : (None, None)\n",
      "\n",
      "------------------------------------------------------------------------------------\n",
      "    Stream Table\n",
      "                               Units         Inlet    Vapor Outlet  Liquid Outlet\n",
      "    flow_mol                mole / second     1.0000      0.54833       0.45167  \n",
      "    mole_frac_comp benzene  dimensionless    0.50000      0.60000       0.37860  \n",
      "    mole_frac_comp toluene  dimensionless    0.50000      0.40000       0.62140  \n",
      "    temperature                    kelvin     368.00       369.07        369.07  \n",
      "    pressure                       pascal 1.0132e+05   1.0132e+05    1.0132e+05  \n",
      "====================================================================================\n"
     ]
    }
   ],
   "source": [
    "\n",
    "\n",
    "# re-initialize the model - this may or may not be required depending on current state but safe to initialize\n",
    "m.fs.flash.heat_duty.fix(0)\n",
    "m.fs.flash.initialize(outlvl=idaeslog.WARNING)\n",
    "\n",
    "# Unfix the heat_duty variable\n",
    "m.fs.flash.heat_duty.unfix()\n",
    "\n",
    "# Todo: Add a new constraint (benzene mole fraction to 0.6)\n",
    "m.benz_purity_con = Constraint(expr= m.fs.flash.vap_outlet.mole_frac_comp[0, \"benzene\"] == 0.6)\n",
    "\n",
    "# solve the problem\n",
    "status = solver.solve(m, tee=True)\n",
    "\n",
    "# Check stream condition\n",
    "m.fs.flash.report()\n",
    "\n"
   ]
  },
  {
   "cell_type": "code",
   "execution_count": 26,
   "metadata": {},
   "outputs": [],
   "source": [
    "from idaes_ui.fv import visualize  "
   ]
  },
  {
   "cell_type": "code",
   "execution_count": null,
   "metadata": {},
   "outputs": [
    {
     "name": "stdout",
     "output_type": "stream",
     "text": [
      "2025-03-26 09:54:03 [INFO] idaes.idaes_ui.fv.fsvis: Started visualization server\n",
      "2025-03-26 09:54:03 [INFO] idaes.idaes_ui.fv.fsvis: Loading saved flowsheet from 'My Process Flowsheet.json'\n",
      "2025-03-26 09:54:03 [INFO] idaes.idaes_ui.fv.fsvis: Saving flowsheet to default file 'My Process Flowsheet.json' in current directory (c:\\Users\\Sara\\Desktop\\IDAES)\n",
      "2025-03-26 09:54:03 [WARNING] idaes.idaes_ui.fv.flowsheet: Cannot extract state block from Port: name=liq_outlet. Please add Feed & Product blocks with Arcs to show inlet and outlet stream values in the Stream Table\n",
      "2025-03-26 09:54:03 [WARNING] idaes.idaes_ui.fv.flowsheet: Cannot extract state block from Port: name=vap_outlet. Please add Feed & Product blocks with Arcs to show inlet and outlet stream values in the Stream Table\n",
      "2025-03-26 09:54:03 [WARNING] idaes.idaes_ui.fv.fsvis: Flowsheet name changed: old='My Process Flowsheet' new='My-Process-Flowsheet'\n",
      "Flowsheet name changed to 'My-Process-Flowsheet'\n",
      "2025-03-26 09:54:04 [INFO] idaes.idaes_ui.fv.fsvis: Flowsheet visualization at: http://localhost:64718/app?id=My-Process-Flowsheet\n"
     ]
    },
    {
     "data": {
      "text/plain": [
       "VisualizeResult(store=<idaes_ui.fv.persist.FileDataStore object at 0x0000024C7229E710>, port=64718, server=<idaes_ui.fv.model_server.FlowsheetServer object at 0x0000024C7229CA60>)"
      ]
     },
     "execution_count": 27,
     "metadata": {},
     "output_type": "execute_result"
    },
    {
     "name": "stdout",
     "output_type": "stream",
     "text": [
      "2025-03-26 09:54:04 [WARNING] idaes.idaes_ui.fv.flowsheet: Cannot extract state block from Port: name=liq_outlet. Please add Feed & Product blocks with Arcs to show inlet and outlet stream values in the Stream Table\n",
      "2025-03-26 09:54:04 [WARNING] idaes.idaes_ui.fv.flowsheet: Cannot extract state block from Port: name=vap_outlet. Please add Feed & Product blocks with Arcs to show inlet and outlet stream values in the Stream Table\n",
      "2025-03-26 10:03:33 [WARNING] idaes.core.util.scaling: Nonsquare Jacobian using pseudo inverse\n",
      "2025-03-26 10:03:33 [WARNING] idaes.idaes_ui.fv.flowsheet: Cannot extract state block from Port: name=liq_outlet. Please add Feed & Product blocks with Arcs to show inlet and outlet stream values in the Stream Table\n",
      "2025-03-26 10:03:33 [WARNING] idaes.idaes_ui.fv.flowsheet: Cannot extract state block from Port: name=vap_outlet. Please add Feed & Product blocks with Arcs to show inlet and outlet stream values in the Stream Table\n",
      "2025-03-26 10:03:52 [WARNING] idaes.idaes_ui.fv.flowsheet: Cannot extract state block from Port: name=liq_outlet. Please add Feed & Product blocks with Arcs to show inlet and outlet stream values in the Stream Table\n",
      "2025-03-26 10:03:52 [WARNING] idaes.idaes_ui.fv.flowsheet: Cannot extract state block from Port: name=vap_outlet. Please add Feed & Product blocks with Arcs to show inlet and outlet stream values in the Stream Table\n"
     ]
    }
   ],
   "source": [
    "visualize(m.fs, \"My Process Flowsheet\")"
   ]
  }
 ],
 "metadata": {
  "kernelspec": {
   "display_name": "my-idaes-env",
   "language": "python",
   "name": "python3"
  },
  "language_info": {
   "codemirror_mode": {
    "name": "ipython",
    "version": 3
   },
   "file_extension": ".py",
   "mimetype": "text/x-python",
   "name": "python",
   "nbconvert_exporter": "python",
   "pygments_lexer": "ipython3",
   "version": "3.10.16"
  }
 },
 "nbformat": 4,
 "nbformat_minor": 2
}
